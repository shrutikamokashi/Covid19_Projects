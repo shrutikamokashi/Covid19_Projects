{
  "nbformat": 4,
  "nbformat_minor": 0,
  "metadata": {
    "colab": {
      "name": "Covid-19_Chatbot_updt.ipynb",
      "provenance": [],
      "collapsed_sections": [],
      "include_colab_link": true
    },
    "kernelspec": {
      "display_name": "Python 3",
      "language": "python",
      "name": "python3"
    },
    "language_info": {
      "codemirror_mode": {
        "name": "ipython",
        "version": 3
      },
      "file_extension": ".py",
      "mimetype": "text/x-python",
      "name": "python",
      "nbconvert_exporter": "python",
      "pygments_lexer": "ipython3",
      "version": "3.7.7"
    }
  },
  "cells": [
    {
      "cell_type": "markdown",
      "metadata": {
        "id": "view-in-github",
        "colab_type": "text"
      },
      "source": [
        "<a href=\"https://colab.research.google.com/github/shrutikamokashi/Covid19_Projects/blob/master/Covid_19_Chatbot_updt.ipynb\" target=\"_parent\"><img src=\"https://colab.research.google.com/assets/colab-badge.svg\" alt=\"Open In Colab\"/></a>"
      ]
    },
    {
      "cell_type": "markdown",
      "metadata": {
        "id": "0Hb58SWdzViR"
      },
      "source": [
        "# Basic Covid-19 Chatbot & spread of the coronavirus in United States\n",
        "\n",
        "* This notebook tracks and Analyse the spread of the coronavirus in world and mostly in US.\n",
        "\n",
        "\n",
        "* Down the line using various data resources we have created a Chatbot.\n",
        "\n"
      ]
    },
    {
      "cell_type": "markdown",
      "metadata": {
        "id": "rSXpcuBV6Ta7"
      },
      "source": [
        "Content :\n",
        "*  Data preprocessing\n",
        "*  Data visualization with Plotly and folium to track and analyze the spread of the virus\n",
        "*  Chatbot which takes data from various sources and responds user."
      ]
    },
    {
      "cell_type": "markdown",
      "metadata": {
        "id": "Q5Mdvn2x0Xr9"
      },
      "source": [
        "## Spread of Corona virus across United States"
      ]
    },
    {
      "cell_type": "markdown",
      "metadata": {
        "id": "n2W8SSuk_8dT"
      },
      "source": [
        "Install below packages to use them in this notebook. "
      ]
    },
    {
      "cell_type": "code",
      "metadata": {
        "id": "UrdrUbS8fZX7"
      },
      "source": [
        "#!pip install folium --user\n",
        "#!pip install keras==2.3.0\n",
        "\n",
        "# Installing below two packages as it is if the OS is Windows OS.\n",
        "#!pip install tensorflow==1.15\n",
        "#!pip install tensorflow-gpu==1.15\n",
        "\n",
        "# For all other OS, below installation would suffice \n",
        "#!pip install tensorflow"
      ],
      "execution_count": null,
      "outputs": []
    },
    {
      "cell_type": "markdown",
      "metadata": {
        "id": "uWfiOhsryaD9"
      },
      "source": [
        "Import all the necessary libraries needed for the analysis and computation. Libraries imported are,\n",
        "\n",
        "\n",
        "*   pandas: To deal with dataframes.\n",
        "*   numpy: For scientific computing with Python\n",
        "*   KMeans: For an unsupervised ML algorithm; to classify data without having first been trained with labeled data\n",
        "*   MinMaxScaler: To transform features by scaling each feature to a given range\n",
        "*   folium: To visualize geospatial data using latitude and longitude (provided in world-countries.json)\n",
        "*   graph_objects: To create beautiful interactive web-based visualizations\n",
        "*   make_subplots: Return an instance of plotly.graph_objs.Figure with the subplots domain set in 'layout'.\n",
        "*   warnings: To supress any unwanted warnings."
      ]
    },
    {
      "cell_type": "code",
      "metadata": {
        "id": "f0t372xAlVaM"
      },
      "source": [
        "import pandas as pd \n",
        "import numpy as np \n",
        "from sklearn.cluster import KMeans\n",
        "from sklearn.preprocessing import MinMaxScaler\n",
        "import folium\n",
        "import plotly.graph_objects as go\n",
        "from plotly.subplots import make_subplots\n",
        "\n",
        "import warnings\n",
        "warnings.filterwarnings(\"ignore\")\n",
        "mms = MinMaxScaler()"
      ],
      "execution_count": null,
      "outputs": []
    },
    {
      "cell_type": "markdown",
      "metadata": {
        "id": "Tn0uChV0z-vj"
      },
      "source": [
        "Data Sources:\n",
        "\n",
        "\n",
        "*   world-countries.json is taken from : https://www.kaggle.com/ktochylin/world-countries\n",
        "\n",
        "This dataset contains, countries and all the latitute and longitude.\n",
        "\n",
        "*   Countries_usefulFeatures.csv is taken from : https://www.kaggle.com/ishivinal/covid19-useful-features-by-country\n",
        "\n",
        "This dataset contains, various features of contries like population, tourism, first death date, first confimed case, mean age, type of lockdown, etc.\n",
        "\n",
        "*   train_w4.csv is taken from : https://www.kaggle.com/c/covid19-global-forecasting-week-4\n",
        "\n",
        "This dataset contains, various features of contries with respect to date like Confirmed cases, deaths etc.\n",
        "\n",
        "*   train_w5.csv is taken from : https://www.kaggle.com/c/covid19-global-forecasting-week-5\n",
        "\n",
        "This dataset contains, various features of contries with respect to date like Population, weight, Target i.e. Confirmed cases/deaths and it's number.\n",
        "\n",
        "*   tested_worldwide.csv is taken from : https://www.kaggle.com/lin0li/covid19testing\n",
        "\n",
        "This dataset contains, various features of contries with respect to date like positive cases, active cases, recovered cases, deaths, daily tested, etc.\n"
      ]
    },
    {
      "cell_type": "markdown",
      "metadata": {
        "id": "jkbeAljAGfFX"
      },
      "source": [
        "Read all the files mentioned above in dataframes.\n",
        "train_w5 is most latest file which was updated on 10th May 2020.\n",
        "\n",
        "Create a data frame named 'max_d_test' which contains max daily tested for every country."
      ]
    },
    {
      "cell_type": "code",
      "metadata": {
        "id": "Ve2NBZHXmhmu"
      },
      "source": [
        "Cntry_uf = pd.read_csv(\"Countries_usefulFeatures.csv\")\n",
        "train_w4 = pd.read_csv(\"train_w4.csv\")\n",
        "train_w5 = pd.read_csv(\"train_w5.csv\")\n",
        "country_geo = \"world-countries.json\"\n",
        "testing = pd.read_csv(\"tested_worldwide.csv\")\n",
        "max_d_test=testing.groupby([\"Country_Region\"]).agg({\"daily_tested\":\"max\"}).reset_index()"
      ],
      "execution_count": null,
      "outputs": []
    },
    {
      "cell_type": "markdown",
      "metadata": {
        "id": "5VDNn91a6wYC"
      },
      "source": [
        "\n",
        "*   Replaces names of few countries which are mentioned below in dictionary named 'r'.\n",
        "*   Replace these countries mentioned in max_d_test using 'r'\n",
        "\n"
      ]
    },
    {
      "cell_type": "code",
      "metadata": {
        "id": "Gxp5jXqnmrv0",
        "outputId": "dd7836bf-d925-4765-8078-88abbe4ae864",
        "colab": {
          "base_uri": "https://localhost:8080/",
          "height": 87
        }
      },
      "source": [
        "r = {'Czech Republic': 'Czechia','DR Congo': 'Congo (Brazzaville)','Democratic Republic of the Congo': 'Congo (Kinshasa)','Ivory Coast': \"Cote d'Ivoire\",'Palestine': 'West Bank and Gaza','South Korea': 'Korea, South','Taiwan': 'Taiwan*','United States': 'US',}\n",
        "max_d_test.Country_Region=max_d_test.Country_Region.replace(to_replace=r)\n",
        "Cntry_uf.columns"
      ],
      "execution_count": null,
      "outputs": [
        {
          "output_type": "execute_result",
          "data": {
            "text/plain": [
              "Index(['Country_Region', 'Population_Size', 'Tourism', 'Date_FirstFatality',\n",
              "       'Date_FirstConfirmedCase', 'Latitude', 'Longtitude', 'Mean_Age',\n",
              "       'Lockdown_Date', 'Lockdown_Type', 'Country_Code'],\n",
              "      dtype='object')"
            ]
          },
          "metadata": {
            "tags": []
          },
          "execution_count": 4
        }
      ]
    },
    {
      "cell_type": "markdown",
      "metadata": {
        "id": "llpCPMIznuPN"
      },
      "source": [
        "* Copy Countries_usefulFeatures.csv to dataframe named 'df_cluster'\n",
        "* Keep only those 7 columns 'Population_Size', 'Tourism', 'Date_FirstFatality','Date_FirstConfirmedCase', 'Latitude', 'Longtitude', 'Mean_Age' in df_cluster.\n",
        "* Check for null values if any."
      ]
    },
    {
      "cell_type": "code",
      "metadata": {
        "id": "hhgxFPYZnkm8",
        "outputId": "ab2263e6-3637-4aef-f40e-60e3309f984a",
        "colab": {
          "base_uri": "https://localhost:8080/",
          "height": 173
        }
      },
      "source": [
        "df_cluster = Cntry_uf.copy()\n",
        "df_cluster = df_cluster[[\"Country_Region\",\"Population_Size\",\"Tourism\",\"Date_FirstFatality\",\"Date_FirstConfirmedCase\",\"Latitude\",\"Longtitude\",\"Mean_Age\"]]\n",
        "df_cluster.isnull().sum()"
      ],
      "execution_count": null,
      "outputs": [
        {
          "output_type": "execute_result",
          "data": {
            "text/plain": [
              "Country_Region              0\n",
              "Population_Size             0\n",
              "Tourism                     0\n",
              "Date_FirstFatality         28\n",
              "Date_FirstConfirmedCase     0\n",
              "Latitude                    0\n",
              "Longtitude                  0\n",
              "Mean_Age                    0\n",
              "dtype: int64"
            ]
          },
          "metadata": {
            "tags": []
          },
          "execution_count": 5
        }
      ]
    },
    {
      "cell_type": "markdown",
      "metadata": {
        "id": "eJ67ZOkOKwFx"
      },
      "source": [
        "* Replace Null values in df_cluster in Date_FirstFatality column with '2222-11-11'. Then convert the same column into Python Date time object. Later covert that Python Date time object to integer.\n",
        "* Convert the Date_FirstConfirmedCase column into Python Date time object. Later covert that Python Date time object to integer.\n",
        "* Drom columnnamed \"Country_Region\" from data_to_cluser.\n",
        "* Compute the minimum and maximum to be used for later scaling for the dataframe.\n",
        "* Scale features of data_to_cluser according to feature_range."
      ]
    },
    {
      "cell_type": "code",
      "metadata": {
        "id": "5gtD7IO4n7GE"
      },
      "source": [
        "df_cluster.Date_FirstFatality.fillna(\"2222-11-11\",inplace=True)\n",
        "df_cluster.Date_FirstFatality=pd.to_datetime(df_cluster.Date_FirstFatality)\n",
        "df_cluster.Date_FirstFatality = df_cluster.Date_FirstFatality.astype(np.int64)\n",
        "df_cluster.Date_FirstConfirmedCase=pd.to_datetime(df_cluster.Date_FirstConfirmedCase)\n",
        "df_cluster.Date_FirstConfirmedCase = df_cluster.Date_FirstConfirmedCase.astype(np.int64)\n",
        "df_cluster.drop([\"Country_Region\"],axis=1,inplace=True)\n",
        "mms.fit(df_cluster)\n",
        "data_transformed = mms.transform(df_cluster)"
      ],
      "execution_count": null,
      "outputs": []
    },
    {
      "cell_type": "markdown",
      "metadata": {
        "id": "bCj5ExsWMsrN"
      },
      "source": [
        "* Set the range of 'K' from 1 - 90.\n",
        "* For every 'K' in above range, do below things,\n",
        "* Form clusters, where number of clusters = value of 'K' at that iteration.\n",
        "* Train multiple models using a different number of clusters and storing the value of the inertia_ property (Sum_of_sd) every time."
      ]
    },
    {
      "cell_type": "code",
      "metadata": {
        "id": "cI8VYZEOJuHV"
      },
      "source": [
        "Sum_of_sd = []\n",
        "K = range(1,90)\n",
        "for k in K:\n",
        "    km = KMeans(n_clusters=k)\n",
        "    km = km.fit(data_transformed)\n",
        "    Sum_of_sd.append(km.inertia_)"
      ],
      "execution_count": null,
      "outputs": []
    },
    {
      "cell_type": "markdown",
      "metadata": {
        "id": "s9yor0yeoTAj"
      },
      "source": [
        "* Next, we’ll categorize the data using the optimum number of clusters (55) we determined in the last step.\n",
        "* Train multiple models using data_transformed\n",
        "* Save Labels of each point in column name \"cluster\" of dataframe named \"Cntry_uf\".\n",
        "* Drop \"Province_State\" column of train_w4 dataframe.\n",
        "* Then merge, train_w4 and Cntry_uf on column named \"Country_Region\" and save it in train_w4 itself.\n",
        "\n"
      ]
    },
    {
      "cell_type": "code",
      "metadata": {
        "id": "yC8lSQLUoNct"
      },
      "source": [
        "km = KMeans(n_clusters=55,random_state=1995)\n",
        "km = km.fit(data_transformed)\n",
        "Cntry_uf[\"cluster\"] = km.labels_\n",
        "train_w4.drop(\"Province_State\",axis=1,inplace=True)\n",
        "train_w4 = pd.merge(train_w4,Cntry_uf,on='Country_Region',how=\"left\")"
      ],
      "execution_count": null,
      "outputs": []
    },
    {
      "cell_type": "markdown",
      "metadata": {
        "id": "OiuQaS8rSoFb"
      },
      "source": [
        "* Create a dataframe with name sel_data, which created by using train_w4 dataframe, gouped using columns \"Country_Region\" & \"Date\" which has sum of \"ConfirmedCases\" & \"Fatalities\". \n",
        "* Give column names to the columns of sel_data.\n",
        "* Drop duplicates from train_w4 from \"Country_Region\" & \"Date\" columns.\n",
        "* Drop \"Province_State\" column of train_w4 dataframe.\n",
        "* Then merge, train_w4 and sel_data on columns named \n",
        "\"Country_Region\" & \"Date\" and save it in train_w4 itself.\n",
        "* Drop \"ConfirmedCases\" & \"Fatalities\" columns of train_w4 dataframe.\n",
        "* Then rename few columns given below,\n",
        "> * \"ConfirmedCases_i\":\"ConfirmedCases\"\n",
        "> * \"Fatalities_i\":\"Fatalities\"\n",
        "> * \"clusters\":\"cluster\"\n",
        "\n"
      ]
    },
    {
      "cell_type": "code",
      "metadata": {
        "id": "WHfaEFoNoT6I"
      },
      "source": [
        "sel_data = train_w4.groupby([\"Country_Region\",\"Date\"]).agg({\"ConfirmedCases\":\"sum\",\"Fatalities\":\"sum\"}).reset_index()\n",
        "sel_data.columns = [\"Country_Region\",\"Date\",\"ConfirmedCases_i\",\"Fatalities_i\"]\n",
        "train_w4.drop_duplicates([\"Country_Region\",\"Date\"],inplace=True)\n",
        "train_w4 = pd.merge(train_w4,sel_data,on=['Country_Region',\"Date\"],how=\"left\")\n",
        "train_w4.drop([\"ConfirmedCases\",\"Fatalities\"],axis=1,inplace=True)\n",
        "train_w4.rename(columns={\"ConfirmedCases_i\":\"ConfirmedCases\",\"Fatalities_i\":\"Fatalities\",\"clusters\":\"cluster\"},inplace=True)"
      ],
      "execution_count": null,
      "outputs": []
    },
    {
      "cell_type": "markdown",
      "metadata": {
        "id": "tLxU0hGhWx4B"
      },
      "source": [
        "* Replace Null values in train_w4 in Date_FirstFatality column with '2222-11-11'. \n",
        "* And check for null values in train_w4 if any."
      ]
    },
    {
      "cell_type": "code",
      "metadata": {
        "id": "7ZU8eadCoYI2",
        "outputId": "861da10f-4ea5-45c5-bd45-a2b601090317",
        "colab": {
          "base_uri": "https://localhost:8080/",
          "height": 312
        }
      },
      "source": [
        "train_w4.Date_FirstFatality.fillna(\"2222-11-11\",inplace=True)\n",
        "train_w4.isnull().sum()"
      ],
      "execution_count": null,
      "outputs": [
        {
          "output_type": "execute_result",
          "data": {
            "text/plain": [
              "Id                            0\n",
              "Country_Region                0\n",
              "Date                          0\n",
              "Population_Size               0\n",
              "Tourism                       0\n",
              "Date_FirstFatality            0\n",
              "Date_FirstConfirmedCase       0\n",
              "Latitude                      0\n",
              "Longtitude                    0\n",
              "Mean_Age                      0\n",
              "Lockdown_Date              3630\n",
              "Lockdown_Type              3630\n",
              "Country_Code                  0\n",
              "cluster                       0\n",
              "ConfirmedCases                0\n",
              "Fatalities                    0\n",
              "dtype: int64"
            ]
          },
          "metadata": {
            "tags": []
          },
          "execution_count": 10
        }
      ]
    },
    {
      "cell_type": "markdown",
      "metadata": {
        "id": "VjQ6Z4byXL9L"
      },
      "source": [
        "* In cell below, Calculate 'Fatalities_rate' by dividing value of Fatalities column of train_w4 dataframe by value of ConfirmedCases column of train_w4 and multiply by 100.\n",
        "* Calculate Difference between Lockdown Date and First Confirmed Case Date by subtracting value of Lockdown_Date column of train_w4 dataframe by value of Date_FirstConfirmedCase column of train_w4. Save it to column named \"diff_FC_LD\"."
      ]
    },
    {
      "cell_type": "code",
      "metadata": {
        "id": "3EOuM0sjocju"
      },
      "source": [
        "train_w4.Date_FirstFatality.fillna(\"2222-11-11\",inplace=True)\n",
        "train_w4.isnull().sum()\n",
        "train_w4[\"Fatalities_rate\"]=(train_w4.Fatalities * 100) / train_w4.ConfirmedCases\n",
        "#Difference between Lockdown Date and First Confirmed Case Date\n",
        "train_w4[\"diff_FC_LD\"]=(train_w4.Lockdown_Date.astype('datetime64') - train_w4.Date_FirstConfirmedCase.astype('datetime64'))\n",
        "#Difference between Lockdown Date and First Confirmed Fatality\n",
        "train_w4[\"diff_FF_LD\"]=(train_w4.Lockdown_Date.astype('datetime64') - train_w4.Date_FirstFatality.astype('datetime64'))"
      ],
      "execution_count": null,
      "outputs": []
    },
    {
      "cell_type": "markdown",
      "metadata": {
        "id": "8U6V3KYeYTpn"
      },
      "source": [
        "* In cell below, Calculate Difference between Lockdown Date and First Confirmed Fatality by subtracting value of Lockdown_Date column of train_w4 dataframe from value of Date_FirstFatality column of train_w4. Save it to column named \"diff_FF_LD\"."
      ]
    },
    {
      "cell_type": "code",
      "metadata": {
        "id": "V65Uaivlojz6"
      },
      "source": [
        ""
      ],
      "execution_count": null,
      "outputs": []
    },
    {
      "cell_type": "markdown",
      "metadata": {
        "id": "SfHSAf-5Yv65"
      },
      "source": [
        "In the cell below, we would be dealing with train_w5.\n",
        "\n",
        "* Create a dataframe with name tempd2, which created by using train_w5 dataframe, using columns \"Country_Region\" & \"Weight\" with Target as \"ConfirmedCases\". \n",
        "* Craete a column named \"Weight_F\" which has value of Column \"Weight\" of train_w5 with Target as \"Fatalities\". \n",
        "* Give column names to the columns of tempd2.\n",
        "* Drop duplicates from tempd2 from \"Country_Region\" column.\n",
        "* Then merge, train_w4 and tempd2 on columns named \n",
        "\"Country_Region\" withe the columns \"Country_Region\", \"Weight_C\" & \"Weight_F\" of tempd2 and save it in train_w4 itself.\n",
        "*  Then merge, train_w4 and max_d_test on columns named \"Country_Region\" withe the columns \"Country_Region\" & \"daily_tested\" of max_d_test and save it in train_w4 itself.\n",
        "* Replace Null values in train_w4 in daily_tested column with values of daily_tested column which are greater than 100 atleast. "
      ]
    },
    {
      "cell_type": "code",
      "metadata": {
        "id": "tUwZbWjsoodQ"
      },
      "source": [
        "tempd2=train_w5.loc[(train_w5.Target==\"ConfirmedCases\"),[\"Country_Region\",\"Weight\"]]\n",
        "tempd2[\"Weight_F\"] =  train_w5.loc[(train_w5.Target==\"Fatalities\"),[\"Weight\"]].values\n",
        "tempd2.columns = [\"Country_Region\",\"Weight_C\",\"Weight_F\"]\n",
        "tempd2=tempd2.drop_duplicates([\"Country_Region\"])\n",
        "train_w4 = pd.merge(train_w4,tempd2[[\"Country_Region\",\"Weight_C\",\"Weight_F\"]],on=['Country_Region'],how=\"left\")\n",
        "train_w4 = pd.merge(train_w4,max_d_test[[\"Country_Region\",\"daily_tested\"]],on=['Country_Region'],how=\"left\")\n",
        "train_w4.daily_tested.fillna(train_w4.loc[train_w4.daily_tested>100,\"daily_tested\"].min(),inplace=True)"
      ],
      "execution_count": null,
      "outputs": []
    },
    {
      "cell_type": "code",
      "metadata": {
        "id": "3wigbOcNSJua",
        "outputId": "413ccaee-f2f9-4c17-b655-8ec98042be37",
        "colab": {
          "base_uri": "https://localhost:8080/",
          "height": 609
        }
      },
      "source": [
        "train_w4"
      ],
      "execution_count": null,
      "outputs": [
        {
          "output_type": "execute_result",
          "data": {
            "text/html": [
              "<div>\n",
              "<style scoped>\n",
              "    .dataframe tbody tr th:only-of-type {\n",
              "        vertical-align: middle;\n",
              "    }\n",
              "\n",
              "    .dataframe tbody tr th {\n",
              "        vertical-align: top;\n",
              "    }\n",
              "\n",
              "    .dataframe thead th {\n",
              "        text-align: right;\n",
              "    }\n",
              "</style>\n",
              "<table border=\"1\" class=\"dataframe\">\n",
              "  <thead>\n",
              "    <tr style=\"text-align: right;\">\n",
              "      <th></th>\n",
              "      <th>Id</th>\n",
              "      <th>Country_Region</th>\n",
              "      <th>Date</th>\n",
              "      <th>Population_Size</th>\n",
              "      <th>Tourism</th>\n",
              "      <th>Date_FirstFatality</th>\n",
              "      <th>Date_FirstConfirmedCase</th>\n",
              "      <th>Latitude</th>\n",
              "      <th>Longtitude</th>\n",
              "      <th>Mean_Age</th>\n",
              "      <th>Lockdown_Date</th>\n",
              "      <th>Lockdown_Type</th>\n",
              "      <th>Country_Code</th>\n",
              "      <th>cluster</th>\n",
              "      <th>ConfirmedCases</th>\n",
              "      <th>Fatalities</th>\n",
              "      <th>Fatalities_rate</th>\n",
              "      <th>diff_FC_LD</th>\n",
              "      <th>diff_FF_LD</th>\n",
              "      <th>Weight_C</th>\n",
              "      <th>Weight_F</th>\n",
              "      <th>daily_tested</th>\n",
              "    </tr>\n",
              "  </thead>\n",
              "  <tbody>\n",
              "    <tr>\n",
              "      <th>0</th>\n",
              "      <td>1</td>\n",
              "      <td>Afghanistan</td>\n",
              "      <td>2020-01-22</td>\n",
              "      <td>37172386</td>\n",
              "      <td>14000</td>\n",
              "      <td>2020-03-23</td>\n",
              "      <td>2020-02-25</td>\n",
              "      <td>33.939110</td>\n",
              "      <td>67.709953</td>\n",
              "      <td>17.3</td>\n",
              "      <td>2020-03-24</td>\n",
              "      <td>Full</td>\n",
              "      <td>AFG</td>\n",
              "      <td>31</td>\n",
              "      <td>0.0</td>\n",
              "      <td>0.0</td>\n",
              "      <td>NaN</td>\n",
              "      <td>28 days</td>\n",
              "      <td>1 days</td>\n",
              "      <td>0.058359</td>\n",
              "      <td>0.583587</td>\n",
              "      <td>104.0</td>\n",
              "    </tr>\n",
              "    <tr>\n",
              "      <th>1</th>\n",
              "      <td>2</td>\n",
              "      <td>Afghanistan</td>\n",
              "      <td>2020-01-23</td>\n",
              "      <td>37172386</td>\n",
              "      <td>14000</td>\n",
              "      <td>2020-03-23</td>\n",
              "      <td>2020-02-25</td>\n",
              "      <td>33.939110</td>\n",
              "      <td>67.709953</td>\n",
              "      <td>17.3</td>\n",
              "      <td>2020-03-24</td>\n",
              "      <td>Full</td>\n",
              "      <td>AFG</td>\n",
              "      <td>31</td>\n",
              "      <td>0.0</td>\n",
              "      <td>0.0</td>\n",
              "      <td>NaN</td>\n",
              "      <td>28 days</td>\n",
              "      <td>1 days</td>\n",
              "      <td>0.058359</td>\n",
              "      <td>0.583587</td>\n",
              "      <td>104.0</td>\n",
              "    </tr>\n",
              "    <tr>\n",
              "      <th>2</th>\n",
              "      <td>3</td>\n",
              "      <td>Afghanistan</td>\n",
              "      <td>2020-01-24</td>\n",
              "      <td>37172386</td>\n",
              "      <td>14000</td>\n",
              "      <td>2020-03-23</td>\n",
              "      <td>2020-02-25</td>\n",
              "      <td>33.939110</td>\n",
              "      <td>67.709953</td>\n",
              "      <td>17.3</td>\n",
              "      <td>2020-03-24</td>\n",
              "      <td>Full</td>\n",
              "      <td>AFG</td>\n",
              "      <td>31</td>\n",
              "      <td>0.0</td>\n",
              "      <td>0.0</td>\n",
              "      <td>NaN</td>\n",
              "      <td>28 days</td>\n",
              "      <td>1 days</td>\n",
              "      <td>0.058359</td>\n",
              "      <td>0.583587</td>\n",
              "      <td>104.0</td>\n",
              "    </tr>\n",
              "    <tr>\n",
              "      <th>3</th>\n",
              "      <td>4</td>\n",
              "      <td>Afghanistan</td>\n",
              "      <td>2020-01-25</td>\n",
              "      <td>37172386</td>\n",
              "      <td>14000</td>\n",
              "      <td>2020-03-23</td>\n",
              "      <td>2020-02-25</td>\n",
              "      <td>33.939110</td>\n",
              "      <td>67.709953</td>\n",
              "      <td>17.3</td>\n",
              "      <td>2020-03-24</td>\n",
              "      <td>Full</td>\n",
              "      <td>AFG</td>\n",
              "      <td>31</td>\n",
              "      <td>0.0</td>\n",
              "      <td>0.0</td>\n",
              "      <td>NaN</td>\n",
              "      <td>28 days</td>\n",
              "      <td>1 days</td>\n",
              "      <td>0.058359</td>\n",
              "      <td>0.583587</td>\n",
              "      <td>104.0</td>\n",
              "    </tr>\n",
              "    <tr>\n",
              "      <th>4</th>\n",
              "      <td>5</td>\n",
              "      <td>Afghanistan</td>\n",
              "      <td>2020-01-26</td>\n",
              "      <td>37172386</td>\n",
              "      <td>14000</td>\n",
              "      <td>2020-03-23</td>\n",
              "      <td>2020-02-25</td>\n",
              "      <td>33.939110</td>\n",
              "      <td>67.709953</td>\n",
              "      <td>17.3</td>\n",
              "      <td>2020-03-24</td>\n",
              "      <td>Full</td>\n",
              "      <td>AFG</td>\n",
              "      <td>31</td>\n",
              "      <td>0.0</td>\n",
              "      <td>0.0</td>\n",
              "      <td>NaN</td>\n",
              "      <td>28 days</td>\n",
              "      <td>1 days</td>\n",
              "      <td>0.058359</td>\n",
              "      <td>0.583587</td>\n",
              "      <td>104.0</td>\n",
              "    </tr>\n",
              "    <tr>\n",
              "      <th>...</th>\n",
              "      <td>...</td>\n",
              "      <td>...</td>\n",
              "      <td>...</td>\n",
              "      <td>...</td>\n",
              "      <td>...</td>\n",
              "      <td>...</td>\n",
              "      <td>...</td>\n",
              "      <td>...</td>\n",
              "      <td>...</td>\n",
              "      <td>...</td>\n",
              "      <td>...</td>\n",
              "      <td>...</td>\n",
              "      <td>...</td>\n",
              "      <td>...</td>\n",
              "      <td>...</td>\n",
              "      <td>...</td>\n",
              "      <td>...</td>\n",
              "      <td>...</td>\n",
              "      <td>...</td>\n",
              "      <td>...</td>\n",
              "      <td>...</td>\n",
              "      <td>...</td>\n",
              "    </tr>\n",
              "    <tr>\n",
              "      <th>20345</th>\n",
              "      <td>35674</td>\n",
              "      <td>Zimbabwe</td>\n",
              "      <td>2020-05-06</td>\n",
              "      <td>14439018</td>\n",
              "      <td>2580000</td>\n",
              "      <td>2020-03-24</td>\n",
              "      <td>2020-03-21</td>\n",
              "      <td>-19.015438</td>\n",
              "      <td>29.154857</td>\n",
              "      <td>19.0</td>\n",
              "      <td>2020-03-30</td>\n",
              "      <td>Full</td>\n",
              "      <td>ZWE</td>\n",
              "      <td>23</td>\n",
              "      <td>34.0</td>\n",
              "      <td>4.0</td>\n",
              "      <td>11.764706</td>\n",
              "      <td>9 days</td>\n",
              "      <td>6 days</td>\n",
              "      <td>0.060711</td>\n",
              "      <td>0.607106</td>\n",
              "      <td>104.0</td>\n",
              "    </tr>\n",
              "    <tr>\n",
              "      <th>20346</th>\n",
              "      <td>35675</td>\n",
              "      <td>Zimbabwe</td>\n",
              "      <td>2020-05-07</td>\n",
              "      <td>14439018</td>\n",
              "      <td>2580000</td>\n",
              "      <td>2020-03-24</td>\n",
              "      <td>2020-03-21</td>\n",
              "      <td>-19.015438</td>\n",
              "      <td>29.154857</td>\n",
              "      <td>19.0</td>\n",
              "      <td>2020-03-30</td>\n",
              "      <td>Full</td>\n",
              "      <td>ZWE</td>\n",
              "      <td>23</td>\n",
              "      <td>34.0</td>\n",
              "      <td>4.0</td>\n",
              "      <td>11.764706</td>\n",
              "      <td>9 days</td>\n",
              "      <td>6 days</td>\n",
              "      <td>0.060711</td>\n",
              "      <td>0.607106</td>\n",
              "      <td>104.0</td>\n",
              "    </tr>\n",
              "    <tr>\n",
              "      <th>20347</th>\n",
              "      <td>35676</td>\n",
              "      <td>Zimbabwe</td>\n",
              "      <td>2020-05-08</td>\n",
              "      <td>14439018</td>\n",
              "      <td>2580000</td>\n",
              "      <td>2020-03-24</td>\n",
              "      <td>2020-03-21</td>\n",
              "      <td>-19.015438</td>\n",
              "      <td>29.154857</td>\n",
              "      <td>19.0</td>\n",
              "      <td>2020-03-30</td>\n",
              "      <td>Full</td>\n",
              "      <td>ZWE</td>\n",
              "      <td>23</td>\n",
              "      <td>34.0</td>\n",
              "      <td>4.0</td>\n",
              "      <td>11.764706</td>\n",
              "      <td>9 days</td>\n",
              "      <td>6 days</td>\n",
              "      <td>0.060711</td>\n",
              "      <td>0.607106</td>\n",
              "      <td>104.0</td>\n",
              "    </tr>\n",
              "    <tr>\n",
              "      <th>20348</th>\n",
              "      <td>35677</td>\n",
              "      <td>Zimbabwe</td>\n",
              "      <td>2020-05-09</td>\n",
              "      <td>14439018</td>\n",
              "      <td>2580000</td>\n",
              "      <td>2020-03-24</td>\n",
              "      <td>2020-03-21</td>\n",
              "      <td>-19.015438</td>\n",
              "      <td>29.154857</td>\n",
              "      <td>19.0</td>\n",
              "      <td>2020-03-30</td>\n",
              "      <td>Full</td>\n",
              "      <td>ZWE</td>\n",
              "      <td>23</td>\n",
              "      <td>35.0</td>\n",
              "      <td>4.0</td>\n",
              "      <td>11.428571</td>\n",
              "      <td>9 days</td>\n",
              "      <td>6 days</td>\n",
              "      <td>0.060711</td>\n",
              "      <td>0.607106</td>\n",
              "      <td>104.0</td>\n",
              "    </tr>\n",
              "    <tr>\n",
              "      <th>20349</th>\n",
              "      <td>35678</td>\n",
              "      <td>Zimbabwe</td>\n",
              "      <td>2020-05-10</td>\n",
              "      <td>14439018</td>\n",
              "      <td>2580000</td>\n",
              "      <td>2020-03-24</td>\n",
              "      <td>2020-03-21</td>\n",
              "      <td>-19.015438</td>\n",
              "      <td>29.154857</td>\n",
              "      <td>19.0</td>\n",
              "      <td>2020-03-30</td>\n",
              "      <td>Full</td>\n",
              "      <td>ZWE</td>\n",
              "      <td>23</td>\n",
              "      <td>36.0</td>\n",
              "      <td>4.0</td>\n",
              "      <td>11.111111</td>\n",
              "      <td>9 days</td>\n",
              "      <td>6 days</td>\n",
              "      <td>0.060711</td>\n",
              "      <td>0.607106</td>\n",
              "      <td>104.0</td>\n",
              "    </tr>\n",
              "  </tbody>\n",
              "</table>\n",
              "<p>20350 rows × 22 columns</p>\n",
              "</div>"
            ],
            "text/plain": [
              "          Id Country_Region        Date  ...  Weight_C  Weight_F daily_tested\n",
              "0          1    Afghanistan  2020-01-22  ...  0.058359  0.583587        104.0\n",
              "1          2    Afghanistan  2020-01-23  ...  0.058359  0.583587        104.0\n",
              "2          3    Afghanistan  2020-01-24  ...  0.058359  0.583587        104.0\n",
              "3          4    Afghanistan  2020-01-25  ...  0.058359  0.583587        104.0\n",
              "4          5    Afghanistan  2020-01-26  ...  0.058359  0.583587        104.0\n",
              "...      ...            ...         ...  ...       ...       ...          ...\n",
              "20345  35674       Zimbabwe  2020-05-06  ...  0.060711  0.607106        104.0\n",
              "20346  35675       Zimbabwe  2020-05-07  ...  0.060711  0.607106        104.0\n",
              "20347  35676       Zimbabwe  2020-05-08  ...  0.060711  0.607106        104.0\n",
              "20348  35677       Zimbabwe  2020-05-09  ...  0.060711  0.607106        104.0\n",
              "20349  35678       Zimbabwe  2020-05-10  ...  0.060711  0.607106        104.0\n",
              "\n",
              "[20350 rows x 22 columns]"
            ]
          },
          "metadata": {
            "tags": []
          },
          "execution_count": 13
        }
      ]
    },
    {
      "cell_type": "markdown",
      "metadata": {
        "id": "Cxff7xRhdpFL"
      },
      "source": [
        "* Drop column named County & Province_State from train_w5 and set it's index in column 'Id'.\n",
        "* Create two datasets, df1 & df2. df1 has all the data of train where Target = 'ConfirmedCases'. And df2 has all the data of train where Target not equal to 'ConfirmedCases'.\n",
        "* Set index of df1 & df2 on column 'Date'.\n",
        "* Create df3 by concatinating df1 & df2. Drop columns with indices equal to 3, 5, 6, 7, 8.\n",
        "* Rename columns of df3.\n"
      ]
    },
    {
      "cell_type": "code",
      "metadata": {
        "id": "_FuzDL7WkKfL"
      },
      "source": [
        "train_w5.drop('County',axis=1,inplace=True)\n",
        "train_w5.drop('Province_State',axis=1,inplace=True)\n",
        "train_w5.set_index('Id',inplace=True)\n",
        "\n",
        "#ANALYSING TRENDS IN US\n",
        "df1=train_w5[train_w5['Target']=='ConfirmedCases']\n",
        "df2=train_w5[train_w5['Target']!='ConfirmedCases']\n",
        "df1.set_index('Date',inplace=True)\n",
        "df2.set_index('Date',inplace=True)\n",
        "df3=pd.concat([df1,df2],axis=1,ignore_index=True)\n",
        "df3.drop([3,5,6,7,8],inplace=True,axis=1)\n",
        "df3.rename(columns={0:'Country_Region',1:'Population',2:'Weight',4:'Confirmed',9:'Fatalities'},inplace=True)\n"
      ],
      "execution_count": null,
      "outputs": []
    },
    {
      "cell_type": "markdown",
      "metadata": {
        "id": "gfPErVYGfjqY"
      },
      "source": [
        "* Create dataframe df_US from df3 which has all data only for United States. And then reset the index.\n",
        "* Create dataframe final_US from df_US by grouping on the basis of 'Date', which has columns 'Date','Population','Weight','Confirmed','Fatalities'. And then reset the index."
      ]
    },
    {
      "cell_type": "code",
      "metadata": {
        "id": "s9aowNWa-yOi"
      },
      "source": [
        ""
      ],
      "execution_count": null,
      "outputs": []
    },
    {
      "cell_type": "markdown",
      "metadata": {
        "id": "ZrBDSppagPNg"
      },
      "source": [
        "In cell below, we are plotting the Spread of Corona Virus over time in US.\n",
        "Using make_subplots we divide the figure in two plots.\n",
        "First plot has Confirmed cases v/s Date in US.\n",
        "\n",
        "Second plot has Deaths v/s Date in US."
      ]
    },
    {
      "cell_type": "code",
      "metadata": {
        "id": "k3J_ABCuFHM6",
        "outputId": "aba13950-6249-4580-a5dc-bc4bbfda4e1a",
        "colab": {
          "base_uri": "https://localhost:8080/",
          "height": 542
        }
      },
      "source": [
        "df_US = df3[df3['Country_Region'] == \"US\"].reset_index()\n",
        "final_US = df_US.groupby('Date')['Date','Population','Weight','Confirmed','Fatalities'].sum().reset_index()\n",
        "figure = make_subplots(rows = 1, cols = 2, subplot_titles = (\"Confirmed\",\"Fatalities\"))\n",
        "a1 = go.Scatter(x=final_US['Date'],y=final_US['Confirmed'], name = \"Confirmed\", line_color = 'firebrick', mode = 'lines+markers')\n",
        "a2 = go.Scatter(x=final_US['Date'],y=final_US['Fatalities'], name = \"Deaths\", line_color = 'green', mode = 'lines+markers')\n",
        "figure.append_trace(a1, 1, 1)\n",
        "figure.append_trace(a2, 1, 2)\n",
        "figure.update_layout(template=\"plotly\",title_text = 'Spread of Corona Virus over time in US')\n",
        "figure.show()"
      ],
      "execution_count": null,
      "outputs": [
        {
          "output_type": "display_data",
          "data": {
            "text/html": [
              "<html>\n",
              "<head><meta charset=\"utf-8\" /></head>\n",
              "<body>\n",
              "    <div>\n",
              "            <script src=\"https://cdnjs.cloudflare.com/ajax/libs/mathjax/2.7.5/MathJax.js?config=TeX-AMS-MML_SVG\"></script><script type=\"text/javascript\">if (window.MathJax) {MathJax.Hub.Config({SVG: {font: \"STIX-Web\"}});}</script>\n",
              "                <script type=\"text/javascript\">window.PlotlyConfig = {MathJaxConfig: 'local'};</script>\n",
              "        <script src=\"https://cdn.plot.ly/plotly-latest.min.js\"></script>    \n",
              "            <div id=\"8cb7baf0-3e67-4ce1-8e50-2382a8550155\" class=\"plotly-graph-div\" style=\"height:525px; width:100%;\"></div>\n",
              "            <script type=\"text/javascript\">\n",
              "                \n",
              "                    window.PLOTLYENV=window.PLOTLYENV || {};\n",
              "                    \n",
              "                if (document.getElementById(\"8cb7baf0-3e67-4ce1-8e50-2382a8550155\")) {\n",
              "                    Plotly.newPlot(\n",
              "                        '8cb7baf0-3e67-4ce1-8e50-2382a8550155',\n",
              "                        [{\"line\": {\"color\": \"firebrick\"}, \"mode\": \"lines+markers\", \"name\": \"Confirmed\", \"type\": \"scatter\", \"x\": [\"2020-01-23\", \"2020-01-24\", \"2020-01-25\", \"2020-01-26\", \"2020-01-27\", \"2020-01-28\", \"2020-01-29\", \"2020-01-30\", \"2020-01-31\", \"2020-02-01\", \"2020-02-02\", \"2020-02-03\", \"2020-02-04\", \"2020-02-05\", \"2020-02-06\", \"2020-02-07\", \"2020-02-08\", \"2020-02-09\", \"2020-02-10\", \"2020-02-11\", \"2020-02-12\", \"2020-02-13\", \"2020-02-14\", \"2020-02-15\", \"2020-02-16\", \"2020-02-17\", \"2020-02-18\", \"2020-02-19\", \"2020-02-20\", \"2020-02-21\", \"2020-02-22\", \"2020-02-23\", \"2020-02-24\", \"2020-02-25\", \"2020-02-26\", \"2020-02-27\", \"2020-02-28\", \"2020-02-29\", \"2020-03-01\", \"2020-03-02\", \"2020-03-03\", \"2020-03-04\", \"2020-03-05\", \"2020-03-06\", \"2020-03-07\", \"2020-03-08\", \"2020-03-09\", \"2020-03-10\", \"2020-03-11\", \"2020-03-12\", \"2020-03-13\", \"2020-03-14\", \"2020-03-15\", \"2020-03-16\", \"2020-03-17\", \"2020-03-18\", \"2020-03-19\", \"2020-03-20\", \"2020-03-21\", \"2020-03-22\", \"2020-03-23\", \"2020-03-24\", \"2020-03-25\", \"2020-03-26\", \"2020-03-27\", \"2020-03-28\", \"2020-03-29\", \"2020-03-30\", \"2020-03-31\", \"2020-04-01\", \"2020-04-02\", \"2020-04-03\", \"2020-04-04\", \"2020-04-05\", \"2020-04-06\", \"2020-04-07\", \"2020-04-08\", \"2020-04-09\", \"2020-04-10\", \"2020-04-11\", \"2020-04-12\", \"2020-04-13\", \"2020-04-14\", \"2020-04-15\", \"2020-04-16\", \"2020-04-17\", \"2020-04-18\", \"2020-04-19\", \"2020-04-20\", \"2020-04-21\", \"2020-04-22\", \"2020-04-23\", \"2020-04-24\", \"2020-04-25\", \"2020-04-26\", \"2020-04-27\", \"2020-04-28\", \"2020-04-29\", \"2020-04-30\", \"2020-05-01\", \"2020-05-02\", \"2020-05-03\", \"2020-05-04\", \"2020-05-05\", \"2020-05-06\", \"2020-05-07\", \"2020-05-08\", \"2020-05-09\", \"2020-05-10\"], \"xaxis\": \"x\", \"y\": [0.0, 1.0, 0.0, 3.0, 0.0, 0.0, 0.0, 0.0, 2.0, 1.0, 0.0, 3.0, 0.0, 0.0, 0.0, 0.0, 0.0, 0.0, 0.0, 1.0, 0.0, 1.0, 0.0, 0.0, 0.0, 0.0, 0.0, 0.0, 0.0, 2.0, 0.0, 0.0, 0.0, 0.0, 0.0, 1.0, 0.0, 8.0, 6.0, 23.0, 20.0, 31.0, 68.0, 45.0, 119.0, 114.0, 64.0, 1972.0, 1046.0, 1180.0, 1546.0, 1808.0, 1714.0, 3626.0, 5314.0, 5503.0, 16426.0, 15588.0, 19633.0, 24422.0, 29183.0, 30179.0, 35667.0, 52618.0, 53230.0, 58554.0, 57328.0, 61452.0, 79448.0, 73853.0, 90472.0, 95518.0, 100966.0, 84374.0, 88463.0, 90853.0, 97365.0, 99013.0, 103958.0, 88968.0, 86372.0, 75688.0, 80226.0, 87271.0, 94163.0, 95737.0, 92930.0, 80363.0, 75805.0, 79365.0, 86804.0, 91978.0, 108733.0, 97918.0, 82452.0, 67156.0, 73395.0, 82083.0, 88772.0, 101532.0, 86612.0, 75837.0, 67140.0, 71884.0, 73667.0, 83990.0, 80402.0, 76759.0, 58349.0], \"yaxis\": \"y\"}, {\"line\": {\"color\": \"green\"}, \"mode\": \"lines+markers\", \"name\": \"Deaths\", \"type\": \"scatter\", \"x\": [\"2020-01-23\", \"2020-01-24\", \"2020-01-25\", \"2020-01-26\", \"2020-01-27\", \"2020-01-28\", \"2020-01-29\", \"2020-01-30\", \"2020-01-31\", \"2020-02-01\", \"2020-02-02\", \"2020-02-03\", \"2020-02-04\", \"2020-02-05\", \"2020-02-06\", \"2020-02-07\", \"2020-02-08\", \"2020-02-09\", \"2020-02-10\", \"2020-02-11\", \"2020-02-12\", \"2020-02-13\", \"2020-02-14\", \"2020-02-15\", \"2020-02-16\", \"2020-02-17\", \"2020-02-18\", \"2020-02-19\", \"2020-02-20\", \"2020-02-21\", \"2020-02-22\", \"2020-02-23\", \"2020-02-24\", \"2020-02-25\", \"2020-02-26\", \"2020-02-27\", \"2020-02-28\", \"2020-02-29\", \"2020-03-01\", \"2020-03-02\", \"2020-03-03\", \"2020-03-04\", \"2020-03-05\", \"2020-03-06\", \"2020-03-07\", \"2020-03-08\", \"2020-03-09\", \"2020-03-10\", \"2020-03-11\", \"2020-03-12\", \"2020-03-13\", \"2020-03-14\", \"2020-03-15\", \"2020-03-16\", \"2020-03-17\", \"2020-03-18\", \"2020-03-19\", \"2020-03-20\", \"2020-03-21\", \"2020-03-22\", \"2020-03-23\", \"2020-03-24\", \"2020-03-25\", \"2020-03-26\", \"2020-03-27\", \"2020-03-28\", \"2020-03-29\", \"2020-03-30\", \"2020-03-31\", \"2020-04-01\", \"2020-04-02\", \"2020-04-03\", \"2020-04-04\", \"2020-04-05\", \"2020-04-06\", \"2020-04-07\", \"2020-04-08\", \"2020-04-09\", \"2020-04-10\", \"2020-04-11\", \"2020-04-12\", \"2020-04-13\", \"2020-04-14\", \"2020-04-15\", \"2020-04-16\", \"2020-04-17\", \"2020-04-18\", \"2020-04-19\", \"2020-04-20\", \"2020-04-21\", \"2020-04-22\", \"2020-04-23\", \"2020-04-24\", \"2020-04-25\", \"2020-04-26\", \"2020-04-27\", \"2020-04-28\", \"2020-04-29\", \"2020-04-30\", \"2020-05-01\", \"2020-05-02\", \"2020-05-03\", \"2020-05-04\", \"2020-05-05\", \"2020-05-06\", \"2020-05-07\", \"2020-05-08\", \"2020-05-09\", \"2020-05-10\"], \"xaxis\": \"x2\", \"y\": [0.0, 0.0, 0.0, 0.0, 0.0, 0.0, 0.0, 0.0, 0.0, 0.0, 0.0, 0.0, 0.0, 0.0, 0.0, 0.0, 0.0, 0.0, 0.0, 0.0, 0.0, 0.0, 0.0, 0.0, 0.0, 0.0, 0.0, 0.0, 0.0, 0.0, 0.0, 0.0, 0.0, 0.0, 0.0, 0.0, 0.0, 1.0, 0.0, 5.0, 1.0, 4.0, 1.0, 2.0, 3.0, 4.0, 1.0, 62.0, 20.0, 17.0, 23.0, 20.0, 32.0, 72.0, 80.0, 77.0, 225.0, 183.0, 225.0, 329.0, 426.0, 499.0, 765.0, 897.0, 1193.0, 1519.0, 1487.0, 1643.0, 2635.0, 3088.0, 3755.0, 3662.0, 4086.0, 3910.0, 3977.0, 6302.0, 6004.0, 5560.0, 6168.0, 5938.0, 4868.0, 4765.0, 6923.0, 7549.0, 11273.0, 9690.0, 5620.0, 5807.0, 4819.0, 6881.0, 6824.0, 8732.0, 5531.0, 6425.0, 3212.0, 4281.0, 6305.0, 7837.0, 6010.0, 5898.0, 4289.0, 3887.0, 3639.0, 6427.0, 6998.0, 6621.0, 4529.0, 4797.0, 2195.0], \"yaxis\": \"y2\"}],\n",
              "                        {\"annotations\": [{\"font\": {\"size\": 16}, \"showarrow\": false, \"text\": \"Confirmed\", \"x\": 0.225, \"xanchor\": \"center\", \"xref\": \"paper\", \"y\": 1.0, \"yanchor\": \"bottom\", \"yref\": \"paper\"}, {\"font\": {\"size\": 16}, \"showarrow\": false, \"text\": \"Fatalities\", \"x\": 0.775, \"xanchor\": \"center\", \"xref\": \"paper\", \"y\": 1.0, \"yanchor\": \"bottom\", \"yref\": \"paper\"}], \"template\": {\"data\": {\"bar\": [{\"error_x\": {\"color\": \"#2a3f5f\"}, \"error_y\": {\"color\": \"#2a3f5f\"}, \"marker\": {\"line\": {\"color\": \"#E5ECF6\", \"width\": 0.5}}, \"type\": \"bar\"}], \"barpolar\": [{\"marker\": {\"line\": {\"color\": \"#E5ECF6\", \"width\": 0.5}}, \"type\": \"barpolar\"}], \"carpet\": [{\"aaxis\": {\"endlinecolor\": \"#2a3f5f\", \"gridcolor\": \"white\", \"linecolor\": \"white\", \"minorgridcolor\": \"white\", \"startlinecolor\": \"#2a3f5f\"}, \"baxis\": {\"endlinecolor\": \"#2a3f5f\", \"gridcolor\": \"white\", \"linecolor\": \"white\", \"minorgridcolor\": \"white\", \"startlinecolor\": \"#2a3f5f\"}, \"type\": \"carpet\"}], \"choropleth\": [{\"colorbar\": {\"outlinewidth\": 0, \"ticks\": \"\"}, \"type\": \"choropleth\"}], \"contour\": [{\"colorbar\": {\"outlinewidth\": 0, \"ticks\": \"\"}, \"colorscale\": [[0.0, \"#0d0887\"], [0.1111111111111111, \"#46039f\"], [0.2222222222222222, \"#7201a8\"], [0.3333333333333333, \"#9c179e\"], [0.4444444444444444, \"#bd3786\"], [0.5555555555555556, \"#d8576b\"], [0.6666666666666666, \"#ed7953\"], [0.7777777777777778, \"#fb9f3a\"], [0.8888888888888888, \"#fdca26\"], [1.0, \"#f0f921\"]], \"type\": \"contour\"}], \"contourcarpet\": [{\"colorbar\": {\"outlinewidth\": 0, \"ticks\": \"\"}, \"type\": \"contourcarpet\"}], \"heatmap\": [{\"colorbar\": {\"outlinewidth\": 0, \"ticks\": \"\"}, \"colorscale\": [[0.0, \"#0d0887\"], [0.1111111111111111, \"#46039f\"], [0.2222222222222222, \"#7201a8\"], [0.3333333333333333, \"#9c179e\"], [0.4444444444444444, \"#bd3786\"], [0.5555555555555556, \"#d8576b\"], [0.6666666666666666, \"#ed7953\"], [0.7777777777777778, \"#fb9f3a\"], [0.8888888888888888, \"#fdca26\"], [1.0, \"#f0f921\"]], \"type\": \"heatmap\"}], \"heatmapgl\": [{\"colorbar\": {\"outlinewidth\": 0, \"ticks\": \"\"}, \"colorscale\": [[0.0, \"#0d0887\"], [0.1111111111111111, \"#46039f\"], [0.2222222222222222, \"#7201a8\"], [0.3333333333333333, \"#9c179e\"], [0.4444444444444444, \"#bd3786\"], [0.5555555555555556, \"#d8576b\"], [0.6666666666666666, \"#ed7953\"], [0.7777777777777778, \"#fb9f3a\"], [0.8888888888888888, \"#fdca26\"], [1.0, \"#f0f921\"]], \"type\": \"heatmapgl\"}], \"histogram\": [{\"marker\": {\"colorbar\": {\"outlinewidth\": 0, \"ticks\": \"\"}}, \"type\": \"histogram\"}], \"histogram2d\": [{\"colorbar\": {\"outlinewidth\": 0, \"ticks\": \"\"}, \"colorscale\": [[0.0, \"#0d0887\"], [0.1111111111111111, \"#46039f\"], [0.2222222222222222, \"#7201a8\"], [0.3333333333333333, \"#9c179e\"], [0.4444444444444444, \"#bd3786\"], [0.5555555555555556, \"#d8576b\"], [0.6666666666666666, \"#ed7953\"], [0.7777777777777778, \"#fb9f3a\"], [0.8888888888888888, \"#fdca26\"], [1.0, \"#f0f921\"]], \"type\": \"histogram2d\"}], \"histogram2dcontour\": [{\"colorbar\": {\"outlinewidth\": 0, \"ticks\": \"\"}, \"colorscale\": [[0.0, \"#0d0887\"], [0.1111111111111111, \"#46039f\"], [0.2222222222222222, \"#7201a8\"], [0.3333333333333333, \"#9c179e\"], [0.4444444444444444, \"#bd3786\"], [0.5555555555555556, \"#d8576b\"], [0.6666666666666666, \"#ed7953\"], [0.7777777777777778, \"#fb9f3a\"], [0.8888888888888888, \"#fdca26\"], [1.0, \"#f0f921\"]], \"type\": \"histogram2dcontour\"}], \"mesh3d\": [{\"colorbar\": {\"outlinewidth\": 0, \"ticks\": \"\"}, \"type\": \"mesh3d\"}], \"parcoords\": [{\"line\": {\"colorbar\": {\"outlinewidth\": 0, \"ticks\": \"\"}}, \"type\": \"parcoords\"}], \"pie\": [{\"automargin\": true, \"type\": \"pie\"}], \"scatter\": [{\"marker\": {\"colorbar\": {\"outlinewidth\": 0, \"ticks\": \"\"}}, \"type\": \"scatter\"}], \"scatter3d\": [{\"line\": {\"colorbar\": {\"outlinewidth\": 0, \"ticks\": \"\"}}, \"marker\": {\"colorbar\": {\"outlinewidth\": 0, \"ticks\": \"\"}}, \"type\": \"scatter3d\"}], \"scattercarpet\": [{\"marker\": {\"colorbar\": {\"outlinewidth\": 0, \"ticks\": \"\"}}, \"type\": \"scattercarpet\"}], \"scattergeo\": [{\"marker\": {\"colorbar\": {\"outlinewidth\": 0, \"ticks\": \"\"}}, \"type\": \"scattergeo\"}], \"scattergl\": [{\"marker\": {\"colorbar\": {\"outlinewidth\": 0, \"ticks\": \"\"}}, \"type\": \"scattergl\"}], \"scattermapbox\": [{\"marker\": {\"colorbar\": {\"outlinewidth\": 0, \"ticks\": \"\"}}, \"type\": \"scattermapbox\"}], \"scatterpolar\": [{\"marker\": {\"colorbar\": {\"outlinewidth\": 0, \"ticks\": \"\"}}, \"type\": \"scatterpolar\"}], \"scatterpolargl\": [{\"marker\": {\"colorbar\": {\"outlinewidth\": 0, \"ticks\": \"\"}}, \"type\": \"scatterpolargl\"}], \"scatterternary\": [{\"marker\": {\"colorbar\": {\"outlinewidth\": 0, \"ticks\": \"\"}}, \"type\": \"scatterternary\"}], \"surface\": [{\"colorbar\": {\"outlinewidth\": 0, \"ticks\": \"\"}, \"colorscale\": [[0.0, \"#0d0887\"], [0.1111111111111111, \"#46039f\"], [0.2222222222222222, \"#7201a8\"], [0.3333333333333333, \"#9c179e\"], [0.4444444444444444, \"#bd3786\"], [0.5555555555555556, \"#d8576b\"], [0.6666666666666666, \"#ed7953\"], [0.7777777777777778, \"#fb9f3a\"], [0.8888888888888888, \"#fdca26\"], [1.0, \"#f0f921\"]], \"type\": \"surface\"}], \"table\": [{\"cells\": {\"fill\": {\"color\": \"#EBF0F8\"}, \"line\": {\"color\": \"white\"}}, \"header\": {\"fill\": {\"color\": \"#C8D4E3\"}, \"line\": {\"color\": \"white\"}}, \"type\": \"table\"}]}, \"layout\": {\"annotationdefaults\": {\"arrowcolor\": \"#2a3f5f\", \"arrowhead\": 0, \"arrowwidth\": 1}, \"coloraxis\": {\"colorbar\": {\"outlinewidth\": 0, \"ticks\": \"\"}}, \"colorscale\": {\"diverging\": [[0, \"#8e0152\"], [0.1, \"#c51b7d\"], [0.2, \"#de77ae\"], [0.3, \"#f1b6da\"], [0.4, \"#fde0ef\"], [0.5, \"#f7f7f7\"], [0.6, \"#e6f5d0\"], [0.7, \"#b8e186\"], [0.8, \"#7fbc41\"], [0.9, \"#4d9221\"], [1, \"#276419\"]], \"sequential\": [[0.0, \"#0d0887\"], [0.1111111111111111, \"#46039f\"], [0.2222222222222222, \"#7201a8\"], [0.3333333333333333, \"#9c179e\"], [0.4444444444444444, \"#bd3786\"], [0.5555555555555556, \"#d8576b\"], [0.6666666666666666, \"#ed7953\"], [0.7777777777777778, \"#fb9f3a\"], [0.8888888888888888, \"#fdca26\"], [1.0, \"#f0f921\"]], \"sequentialminus\": [[0.0, \"#0d0887\"], [0.1111111111111111, \"#46039f\"], [0.2222222222222222, \"#7201a8\"], [0.3333333333333333, \"#9c179e\"], [0.4444444444444444, \"#bd3786\"], [0.5555555555555556, \"#d8576b\"], [0.6666666666666666, \"#ed7953\"], [0.7777777777777778, \"#fb9f3a\"], [0.8888888888888888, \"#fdca26\"], [1.0, \"#f0f921\"]]}, \"colorway\": [\"#636efa\", \"#EF553B\", \"#00cc96\", \"#ab63fa\", \"#FFA15A\", \"#19d3f3\", \"#FF6692\", \"#B6E880\", \"#FF97FF\", \"#FECB52\"], \"font\": {\"color\": \"#2a3f5f\"}, \"geo\": {\"bgcolor\": \"white\", \"lakecolor\": \"white\", \"landcolor\": \"#E5ECF6\", \"showlakes\": true, \"showland\": true, \"subunitcolor\": \"white\"}, \"hoverlabel\": {\"align\": \"left\"}, \"hovermode\": \"closest\", \"mapbox\": {\"style\": \"light\"}, \"paper_bgcolor\": \"white\", \"plot_bgcolor\": \"#E5ECF6\", \"polar\": {\"angularaxis\": {\"gridcolor\": \"white\", \"linecolor\": \"white\", \"ticks\": \"\"}, \"bgcolor\": \"#E5ECF6\", \"radialaxis\": {\"gridcolor\": \"white\", \"linecolor\": \"white\", \"ticks\": \"\"}}, \"scene\": {\"xaxis\": {\"backgroundcolor\": \"#E5ECF6\", \"gridcolor\": \"white\", \"gridwidth\": 2, \"linecolor\": \"white\", \"showbackground\": true, \"ticks\": \"\", \"zerolinecolor\": \"white\"}, \"yaxis\": {\"backgroundcolor\": \"#E5ECF6\", \"gridcolor\": \"white\", \"gridwidth\": 2, \"linecolor\": \"white\", \"showbackground\": true, \"ticks\": \"\", \"zerolinecolor\": \"white\"}, \"zaxis\": {\"backgroundcolor\": \"#E5ECF6\", \"gridcolor\": \"white\", \"gridwidth\": 2, \"linecolor\": \"white\", \"showbackground\": true, \"ticks\": \"\", \"zerolinecolor\": \"white\"}}, \"shapedefaults\": {\"line\": {\"color\": \"#2a3f5f\"}}, \"ternary\": {\"aaxis\": {\"gridcolor\": \"white\", \"linecolor\": \"white\", \"ticks\": \"\"}, \"baxis\": {\"gridcolor\": \"white\", \"linecolor\": \"white\", \"ticks\": \"\"}, \"bgcolor\": \"#E5ECF6\", \"caxis\": {\"gridcolor\": \"white\", \"linecolor\": \"white\", \"ticks\": \"\"}}, \"title\": {\"x\": 0.05}, \"xaxis\": {\"automargin\": true, \"gridcolor\": \"white\", \"linecolor\": \"white\", \"ticks\": \"\", \"title\": {\"standoff\": 15}, \"zerolinecolor\": \"white\", \"zerolinewidth\": 2}, \"yaxis\": {\"automargin\": true, \"gridcolor\": \"white\", \"linecolor\": \"white\", \"ticks\": \"\", \"title\": {\"standoff\": 15}, \"zerolinecolor\": \"white\", \"zerolinewidth\": 2}}}, \"title\": {\"text\": \"Spread of Corona Virus over time in US\"}, \"xaxis\": {\"anchor\": \"y\", \"domain\": [0.0, 0.45]}, \"xaxis2\": {\"anchor\": \"y2\", \"domain\": [0.55, 1.0]}, \"yaxis\": {\"anchor\": \"x\", \"domain\": [0.0, 1.0]}, \"yaxis2\": {\"anchor\": \"x2\", \"domain\": [0.0, 1.0]}},\n",
              "                        {\"responsive\": true}\n",
              "                    ).then(function(){\n",
              "                            \n",
              "var gd = document.getElementById('8cb7baf0-3e67-4ce1-8e50-2382a8550155');\n",
              "var x = new MutationObserver(function (mutations, observer) {{\n",
              "        var display = window.getComputedStyle(gd).display;\n",
              "        if (!display || display === 'none') {{\n",
              "            console.log([gd, 'removed!']);\n",
              "            Plotly.purge(gd);\n",
              "            observer.disconnect();\n",
              "        }}\n",
              "}});\n",
              "\n",
              "// Listen for the removal of the full notebook cells\n",
              "var notebookContainer = gd.closest('#notebook-container');\n",
              "if (notebookContainer) {{\n",
              "    x.observe(notebookContainer, {childList: true});\n",
              "}}\n",
              "\n",
              "// Listen for the clearing of the current output cell\n",
              "var outputEl = gd.closest('.output');\n",
              "if (outputEl) {{\n",
              "    x.observe(outputEl, {childList: true});\n",
              "}}\n",
              "\n",
              "                        })\n",
              "                };\n",
              "                \n",
              "            </script>\n",
              "        </div>\n",
              "</body>\n",
              "</html>"
            ]
          },
          "metadata": {
            "tags": []
          }
        }
      ]
    },
    {
      "cell_type": "markdown",
      "metadata": {
        "id": "3yQbDspPhYFO"
      },
      "source": [
        "In cell below, we are trying to extract the list of dates in US after sorting the final_US on the column of 'Fatalities' which would give us the date of max deaths and minimum deaths in United states.\n",
        "\n",
        "We even are creating a dataframe named 'tempdf1' using train_w4 depending on Date column of train_w4."
      ]
    },
    {
      "cell_type": "code",
      "metadata": {
        "id": "VlJy283gL8h9"
      },
      "source": [
        "fatalities_US = []\n",
        "for x in final_US.sort_values('Fatalities')['Date']:\n",
        "    fatalities_US.append(x)\n",
        "tempdf1 =train_w4[(train_w4.Date == max(train_w4.Date)) ]"
      ],
      "execution_count": null,
      "outputs": []
    },
    {
      "cell_type": "markdown",
      "metadata": {
        "id": "Zs5lof9-qBYA"
      },
      "source": [
        "In Map below, with the help of folium, we are ploting to Fatalities_rate. Where for every country we would display a circle. Which would have all below parameters if we hower over it,\n",
        "* Country Name\n",
        "* Confirmed cases\n",
        "* Fatality rate\n",
        "* Lockdown date\n",
        "* Date of first confirmed case\n",
        "* Mean age\n",
        "\n",
        "The radius of circle would be dependant on Fatalities_rate."
      ]
    },
    {
      "cell_type": "code",
      "metadata": {
        "id": "5btPo1Eqp-u4",
        "outputId": "f74461bd-4d88-426a-81a7-45ca7893ef7e",
        "colab": {
          "base_uri": "https://localhost:8080/",
          "height": 712
        }
      },
      "source": [
        "m = folium.Map(location=[0, 0], tiles='cartodbpositron',min_zoom=1, max_zoom=8, zoom_start=1.5)\n",
        "\n",
        "for i in range(0, len(tempdf1)):\n",
        "    folium.Circle(\n",
        "        location=[tempdf1.iloc[i]['Latitude'], tempdf1.iloc[i]['Longtitude']],\n",
        "        color='blue', fill='blue',\n",
        "        tooltip =   '<li><bold>Country : '+str(tempdf1.iloc[i]['Country_Region'])+\n",
        "                    '<li><bold>Confirmed : '+str(tempdf1.iloc[i]['ConfirmedCases'])+\n",
        "                    '<li><bold>Death_rate : '+str(tempdf1.iloc[i]['Fatalities_rate'])+\n",
        "                    '<li><bold>Deaths : '+str(tempdf1.iloc[i]['Fatalities'])+\n",
        "                    '<li><bold>lockdown date : '+str(tempdf1.iloc[i]['Lockdown_Date'])+\n",
        "                    '<li><bold>first case date : '+str(tempdf1.iloc[i]['Date_FirstConfirmedCase'])+\n",
        "                    '<li><bold>mean age : '+str(tempdf1.iloc[i]['Mean_Age'])\n",
        "        ,\n",
        "        radius=int(tempdf1.iloc[i]['Fatalities_rate']*10000)).add_to(m)\n",
        "\n",
        "m"
      ],
      "execution_count": null,
      "outputs": [
        {
          "output_type": "execute_result",
          "data": {
            "text/html": [
              "<div style=\"width:100%;\"><div style=\"position:relative;width:100%;height:0;padding-bottom:60%;\"><span style=\"color:#565656\">Make this Notebook Trusted to load map: File -> Trust Notebook</span><iframe src=\"about:blank\" style=\"position:absolute;width:100%;height:100%;left:0;top:0;border:none !important;\" data-html=PCFET0NUWVBFIGh0bWw+CjxoZWFkPiAgICAKICAgIDxtZXRhIGh0dHAtZXF1aXY9ImNvbnRlbnQtdHlwZSIgY29udGVudD0idGV4dC9odG1sOyBjaGFyc2V0PVVURi04IiAvPgogICAgPHNjcmlwdD5MX1BSRUZFUl9DQU5WQVM9ZmFsc2U7IExfTk9fVE9VQ0g9ZmFsc2U7IExfRElTQUJMRV8zRD1mYWxzZTs8L3NjcmlwdD4KICAgIDxzY3JpcHQgc3JjPSJodHRwczovL2Nkbi5qc2RlbGl2ci5uZXQvbnBtL2xlYWZsZXRAMS40LjAvZGlzdC9sZWFmbGV0LmpzIj48L3NjcmlwdD4KICAgIDxzY3JpcHQgc3JjPSJodHRwczovL2NvZGUuanF1ZXJ5LmNvbS9qcXVlcnktMS4xMi40Lm1pbi5qcyI+PC9zY3JpcHQ+CiAgICA8c2NyaXB0IHNyYz0iaHR0cHM6Ly9tYXhjZG4uYm9vdHN0cmFwY2RuLmNvbS9ib290c3RyYXAvMy4yLjAvanMvYm9vdHN0cmFwLm1pbi5qcyI+PC9zY3JpcHQ+CiAgICA8c2NyaXB0IHNyYz0iaHR0cHM6Ly9jZG5qcy5jbG91ZGZsYXJlLmNvbS9hamF4L2xpYnMvTGVhZmxldC5hd2Vzb21lLW1hcmtlcnMvMi4wLjIvbGVhZmxldC5hd2Vzb21lLW1hcmtlcnMuanMiPjwvc2NyaXB0PgogICAgPGxpbmsgcmVsPSJzdHlsZXNoZWV0IiBocmVmPSJodHRwczovL2Nkbi5qc2RlbGl2ci5uZXQvbnBtL2xlYWZsZXRAMS40LjAvZGlzdC9sZWFmbGV0LmNzcyIvPgogICAgPGxpbmsgcmVsPSJzdHlsZXNoZWV0IiBocmVmPSJodHRwczovL21heGNkbi5ib290c3RyYXBjZG4uY29tL2Jvb3RzdHJhcC8zLjIuMC9jc3MvYm9vdHN0cmFwLm1pbi5jc3MiLz4KICAgIDxsaW5rIHJlbD0ic3R5bGVzaGVldCIgaHJlZj0iaHR0cHM6Ly9tYXhjZG4uYm9vdHN0cmFwY2RuLmNvbS9ib290c3RyYXAvMy4yLjAvY3NzL2Jvb3RzdHJhcC10aGVtZS5taW4uY3NzIi8+CiAgICA8bGluayByZWw9InN0eWxlc2hlZXQiIGhyZWY9Imh0dHBzOi8vbWF4Y2RuLmJvb3RzdHJhcGNkbi5jb20vZm9udC1hd2Vzb21lLzQuNi4zL2Nzcy9mb250LWF3ZXNvbWUubWluLmNzcyIvPgogICAgPGxpbmsgcmVsPSJzdHlsZXNoZWV0IiBocmVmPSJodHRwczovL2NkbmpzLmNsb3VkZmxhcmUuY29tL2FqYXgvbGlicy9MZWFmbGV0LmF3ZXNvbWUtbWFya2Vycy8yLjAuMi9sZWFmbGV0LmF3ZXNvbWUtbWFya2Vycy5jc3MiLz4KICAgIDxsaW5rIHJlbD0ic3R5bGVzaGVldCIgaHJlZj0iaHR0cHM6Ly9yYXdjZG4uZ2l0aGFjay5jb20vcHl0aG9uLXZpc3VhbGl6YXRpb24vZm9saXVtL21hc3Rlci9mb2xpdW0vdGVtcGxhdGVzL2xlYWZsZXQuYXdlc29tZS5yb3RhdGUuY3NzIi8+CiAgICA8c3R5bGU+aHRtbCwgYm9keSB7d2lkdGg6IDEwMCU7aGVpZ2h0OiAxMDAlO21hcmdpbjogMDtwYWRkaW5nOiAwO308L3N0eWxlPgogICAgPHN0eWxlPiNtYXAge3Bvc2l0aW9uOmFic29sdXRlO3RvcDowO2JvdHRvbTowO3JpZ2h0OjA7bGVmdDowO308L3N0eWxlPgogICAgCiAgICA8bWV0YSBuYW1lPSJ2aWV3cG9ydCIgY29udGVudD0id2lkdGg9ZGV2aWNlLXdpZHRoLAogICAgICAgIGluaXRpYWwtc2NhbGU9MS4wLCBtYXhpbXVtLXNjYWxlPTEuMCwgdXNlci1zY2FsYWJsZT1ubyIgLz4KICAgIDxzdHlsZT4jbWFwX2RkYjAzMTZjYWQ3MzRmNzZhNTIwZTc2NzYxY2Q0ZDc4IHsKICAgICAgICBwb3NpdGlvbjogcmVsYXRpdmU7CiAgICAgICAgd2lkdGg6IDEwMC4wJTsKICAgICAgICBoZWlnaHQ6IDEwMC4wJTsKICAgICAgICBsZWZ0OiAwLjAlOwogICAgICAgIHRvcDogMC4wJTsKICAgICAgICB9CiAgICA8L3N0eWxlPgo8L2hlYWQ+Cjxib2R5PiAgICAKICAgIAogICAgPGRpdiBjbGFzcz0iZm9saXVtLW1hcCIgaWQ9Im1hcF9kZGIwMzE2Y2FkNzM0Zjc2YTUyMGU3Njc2MWNkNGQ3OCIgPjwvZGl2Pgo8L2JvZHk+CjxzY3JpcHQ+ICAgIAogICAgCiAgICAKICAgICAgICB2YXIgYm91bmRzID0gbnVsbDsKICAgIAoKICAgIHZhciBtYXBfZGRiMDMxNmNhZDczNGY3NmE1MjBlNzY3NjFjZDRkNzggPSBMLm1hcCgKICAgICAgICAnbWFwX2RkYjAzMTZjYWQ3MzRmNzZhNTIwZTc2NzYxY2Q0ZDc4JywgewogICAgICAgIGNlbnRlcjogWzAsIDBdLAogICAgICAgIHpvb206IDEuNSwKICAgICAgICBtYXhCb3VuZHM6IGJvdW5kcywKICAgICAgICBsYXllcnM6IFtdLAogICAgICAgIHdvcmxkQ29weUp1bXA6IGZhbHNlLAogICAgICAgIGNyczogTC5DUlMuRVBTRzM4NTcsCiAgICAgICAgem9vbUNvbnRyb2w6IHRydWUsCiAgICAgICAgfSk7CgoKICAgIAogICAgdmFyIHRpbGVfbGF5ZXJfMjIxMDQxZThiOTY0NGE4N2JhODQ1Y2FlOGIzOWQzYzIgPSBMLnRpbGVMYXllcigKICAgICAgICAnaHR0cHM6Ly9jYXJ0b2RiLWJhc2VtYXBzLXtzfS5nbG9iYWwuc3NsLmZhc3RseS5uZXQvbGlnaHRfYWxsL3t6fS97eH0ve3l9LnBuZycsCiAgICAgICAgewogICAgICAgICJhdHRyaWJ1dGlvbiI6IG51bGwsCiAgICAgICAgImRldGVjdFJldGluYSI6IGZhbHNlLAogICAgICAgICJtYXhOYXRpdmVab29tIjogOCwKICAgICAgICAibWF4Wm9vbSI6IDgsCiAgICAgICAgIm1pblpvb20iOiAxLAogICAgICAgICJub1dyYXAiOiBmYWxzZSwKICAgICAgICAib3BhY2l0eSI6IDEsCiAgICAgICAgInN1YmRvbWFpbnMiOiAiYWJjIiwKICAgICAgICAidG1zIjogZmFsc2UKfSkuYWRkVG8obWFwX2RkYjAzMTZjYWQ3MzRmNzZhNTIwZTc2NzYxY2Q0ZDc4KTsKICAgIAoKICAgICAgICAgICAgdmFyIGNpcmNsZV9lOWMzZmQ2ZGMyYzQ0ZDAxYTg4MGUzYmQ0MDdjYTk2ZCA9IEwuY2lyY2xlKAogICAgICAgICAgICAgICAgWzMzLjkzOTExLCA2Ny43MDk5NTNdLAogICAgICAgICAgICAgICAgewogICJidWJibGluZ01vdXNlRXZlbnRzIjogdHJ1ZSwKICAiY29sb3IiOiAiYmx1ZSIsCiAgImRhc2hBcnJheSI6IG51bGwsCiAgImRhc2hPZmZzZXQiOiBudWxsLAogICJmaWxsIjogImJsdWUiLAogICJmaWxsQ29sb3IiOiAiYmx1ZSIsCiAgImZpbGxPcGFjaXR5IjogMC4yLAogICJmaWxsUnVsZSI6ICJldmVub2RkIiwKICAibGluZUNhcCI6ICJyb3VuZCIsCiAgImxpbmVKb2luIjogInJvdW5kIiwKICAib3BhY2l0eSI6IDEuMCwKICAicmFkaXVzIjogMjcyNjAsCiAgInN0cm9rZSI6IHRydWUsCiAgIndlaWdodCI6IDMKfQogICAgICAgICAgICAgICAgKQogICAgICAgICAgICAgICAgLmFkZFRvKG1hcF9kZGIwMzE2Y2FkNzM0Zjc2YTUyMGU3Njc2MWNkNGQ3OCk7CiAgICAgICAgICAgIAogICAgCiAgICAgICAgY2lyY2xlX2U5YzNmZDZkYzJjNDRkMDFhODgwZTNiZDQwN2NhOTZkLmJpbmRUb29sdGlwKAogICAgICAgICAgICBgPGRpdj5gCiAgICAgICAgICAgICsgYDxsaT48Ym9sZD5Db3VudHJ5IDogQWZnaGFuaXN0YW48bGk+PGJvbGQ+Q29uZmlybWVkIDogNDQwMi4wPGxpPjxib2xkPkRlYXRoX3JhdGUgOiAyLjcyNjAzMzYyMTA4MTMyNjU8bGk+PGJvbGQ+RGVhdGhzIDogMTIwLjA8bGk+PGJvbGQ+bG9ja2Rvd24gZGF0ZSA6IDIwMjAtMDMtMjQ8bGk+PGJvbGQ+Zmlyc3QgY2FzZSBkYXRlIDogMjAyMC0wMi0yNTxsaT48Ym9sZD5tZWFuIGFnZSA6IDE3LjNgICsgYDwvZGl2PmAsCiAgICAgICAgICAgIHsic3RpY2t5IjogdHJ1ZX0KICAgICAgICApOwogICAgICAgIAogICAgCgogICAgICAgICAgICB2YXIgY2lyY2xlX2IzMTNjODFmYzQ4ODQ1MTY4ZTI5YmVhYjM0ZTJhOTI1ID0gTC5jaXJjbGUoCiAgICAgICAgICAgICAgICBbNDEuMTUzMzMyLCAyMC4xNjgzMzFdLAogICAgICAgICAgICAgICAgewogICJidWJibGluZ01vdXNlRXZlbnRzIjogdHJ1ZSwKICAiY29sb3IiOiAiYmx1ZSIsCiAgImRhc2hBcnJheSI6IG51bGwsCiAgImRhc2hPZmZzZXQiOiBudWxsLAogICJmaWxsIjogImJsdWUiLAogICJmaWxsQ29sb3IiOiAiYmx1ZSIsCiAgImZpbGxPcGFjaXR5IjogMC4yLAogICJmaWxsUnVsZSI6ICJldmVub2RkIiwKICAibGluZUNhcCI6ICJyb3VuZCIsCiAgImxpbmVKb2luIjogInJvdW5kIiwKICAib3BhY2l0eSI6IDEuMCwKICAicmFkaXVzIjogMzU3MTQsCiAgInN0cm9rZSI6IHRydWUsCiAgIndlaWdodCI6IDMKfQogICAgICAgICAgICAgICAgKQogICAgICAgICAgICAgICAgLmFkZFRvKG1hcF9kZGIwMzE2Y2FkNzM0Zjc2YTUyMGU3Njc2MWNkNGQ3OCk7CiAgICAgICAgICAgIAogICAgCiAgICAgICAgY2lyY2xlX2IzMTNjODFmYzQ4ODQ1MTY4ZTI5YmVhYjM0ZTJhOTI1LmJpbmRUb29sdGlwKAogICAgICAgICAgICBgPGRpdj5gCiAgICAgICAgICAgICsgYDxsaT48Ym9sZD5Db3VudHJ5IDogQWxiYW5pYTxsaT48Ym9sZD5Db25maXJtZWQgOiA4NjguMDxsaT48Ym9sZD5EZWF0aF9yYXRlIDogMy41NzE0Mjg1NzE0Mjg1NzE2PGxpPjxib2xkPkRlYXRocyA6IDMxLjA8bGk+PGJvbGQ+bG9ja2Rvd24gZGF0ZSA6IDIwMjAtMDMtMDg8bGk+PGJvbGQ+Zmlyc3QgY2FzZSBkYXRlIDogMjAyMC0wMy0xMDxsaT48Ym9sZD5tZWFuIGFnZSA6IDM2LjJgICsgYDwvZGl2PmAsCiAgICAgICAgICAgIHsic3RpY2t5IjogdHJ1ZX0KICAgICAgICApOwogICAgICAgIAogICAgCgogICAgICAgICAgICB2YXIgY2lyY2xlXzZmZWVjYTM3ZWY4ZjRmMzU5YzVlODZmZTRiMjI2MTM1ID0gTC5jaXJjbGUoCiAgICAgICAgICAgICAgICBbMjguMDMzODg2LCAxLjY1OTYyNTk5OTk5OTk5OThdLAogICAgICAgICAgICAgICAgewogICJidWJibGluZ01vdXNlRXZlbnRzIjogdHJ1ZSwKICAiY29sb3IiOiAiYmx1ZSIsCiAgImRhc2hBcnJheSI6IG51bGwsCiAgImRhc2hPZmZzZXQiOiBudWxsLAogICJmaWxsIjogImJsdWUiLAogICJmaWxsQ29sb3IiOiAiYmx1ZSIsCiAgImZpbGxPcGFjaXR5IjogMC4yLAogICJmaWxsUnVsZSI6ICJldmVub2RkIiwKICAibGluZUNhcCI6ICJyb3VuZCIsCiAgImxpbmVKb2luIjogInJvdW5kIiwKICAib3BhY2l0eSI6IDEuMCwKICAicmFkaXVzIjogODc3MTYsCiAgInN0cm9rZSI6IHRydWUsCiAgIndlaWdodCI6IDMKfQogICAgICAgICAgICAgICAgKQogICAgICAgICAgICAgICAgLmFkZFRvKG1hcF9kZGIwMzE2Y2FkNzM0Zjc2YTUyMGU3Njc2MWNkNGQ3OCk7CiAgICAgICAgICAgIAogICAgCiAgICAgICAgY2lyY2xlXzZmZWVjYTM3ZWY4ZjRmMzU5YzVlODZmZTRiMjI2MTM1LmJpbmRUb29sdGlwKAogICAgICAgICAgICBgPGRpdj5gCiAgICAgICAgICAgICsgYDxsaT48Ym9sZD5Db3VudHJ5IDogQWxnZXJpYTxsaT48Ym9sZD5Db25maXJtZWQgOiA1NzIzLjA8bGk+PGJvbGQ+RGVhdGhfcmF0ZSA6IDguNzcxNjIzMjc0NTA2Mzc4PGxpPjxib2xkPkRlYXRocyA6IDUwMi4wPGxpPjxib2xkPmxvY2tkb3duIGRhdGUgOiAyMDIwLTAzLTI0PGxpPjxib2xkPmZpcnN0IGNhc2UgZGF0ZSA6IDIwMjAtMDItMjY8bGk+PGJvbGQ+bWVhbiBhZ2UgOiAyNy41YCArIGA8L2Rpdj5gLAogICAgICAgICAgICB7InN0aWNreSI6IHRydWV9CiAgICAgICAgKTsKICAgICAgICAKICAgIAoKICAgICAgICAgICAgdmFyIGNpcmNsZV8zNGFlNTc4NzNkMzY0YzY1YTdkMGMwMDdkYTFlN2RjOCA9IEwuY2lyY2xlKAogICAgICAgICAgICAgICAgWzQyLjU0NjI0NSwgMS42MDE1NTQwMDAwMDAwMDAxXSwKICAgICAgICAgICAgICAgIHsKICAiYnViYmxpbmdNb3VzZUV2ZW50cyI6IHRydWUsCiAgImNvbG9yIjogImJsdWUiLAogICJkYXNoQXJyYXkiOiBudWxsLAogICJkYXNoT2Zmc2V0IjogbnVsbCwKICAiZmlsbCI6ICJibHVlIiwKICAiZmlsbENvbG9yIjogImJsdWUiLAogICJmaWxsT3BhY2l0eSI6IDAuMiwKICAiZmlsbFJ1bGUiOiAiZXZlbm9kZCIsCiAgImxpbmVDYXAiOiAicm91bmQiLAogICJsaW5lSm9pbiI6ICJyb3VuZCIsCiAgIm9wYWNpdHkiOiAxLjAsCiAgInJhZGl1cyI6IDYzNTc2LAogICJzdHJva2UiOiB0cnVlLAogICJ3ZWlnaHQiOiAzCn0KICAgICAgICAgICAgICAgICkKICAgICAgICAgICAgICAgIC5hZGRUbyhtYXBfZGRiMDMxNmNhZDczNGY3NmE1MjBlNzY3NjFjZDRkNzgpOwogICAgICAgICAgICAKICAgIAogICAgICAgIGNpcmNsZV8zNGFlNTc4NzNkMzY0YzY1YTdkMGMwMDdkYTFlN2RjOC5iaW5kVG9vbHRpcCgKICAgICAgICAgICAgYDxkaXY+YAogICAgICAgICAgICArIGA8bGk+PGJvbGQ+Q291bnRyeSA6IEFuZG9ycmE8bGk+PGJvbGQ+Q29uZmlybWVkIDogNzU1LjA8bGk+PGJvbGQ+RGVhdGhfcmF0ZSA6IDYuMzU3NjE1ODk0MDM5NzM1PGxpPjxib2xkPkRlYXRocyA6IDQ4LjA8bGk+PGJvbGQ+bG9ja2Rvd24gZGF0ZSA6IDIwMjAtMDMtMTY8bGk+PGJvbGQ+Zmlyc3QgY2FzZSBkYXRlIDogMjAyMC0wMy0wMzxsaT48Ym9sZD5tZWFuIGFnZSA6IDM3LjBgICsgYDwvZGl2PmAsCiAgICAgICAgICAgIHsic3RpY2t5IjogdHJ1ZX0KICAgICAgICApOwogICAgICAgIAogICAgCgogICAgICAgICAgICB2YXIgY2lyY2xlXzZhYjc2ZjVjMDJiNDRiMTRhYzc2NDg1NzI2NzU2OTQ1ID0gTC5jaXJjbGUoCiAgICAgICAgICAgICAgICBbLTExLjIwMjY5MTk5OTk5OTk5OSwgMTcuODczODg3XSwKICAgICAgICAgICAgICAgIHsKICAiYnViYmxpbmdNb3VzZUV2ZW50cyI6IHRydWUsCiAgImNvbG9yIjogImJsdWUiLAogICJkYXNoQXJyYXkiOiBudWxsLAogICJkYXNoT2Zmc2V0IjogbnVsbCwKICAiZmlsbCI6ICJibHVlIiwKICAiZmlsbENvbG9yIjogImJsdWUiLAogICJmaWxsT3BhY2l0eSI6IDAuMiwKICAiZmlsbFJ1bGUiOiAiZXZlbm9kZCIsCiAgImxpbmVDYXAiOiAicm91bmQiLAogICJsaW5lSm9pbiI6ICJyb3VuZCIsCiAgIm9wYWNpdHkiOiAxLjAsCiAgInJhZGl1cyI6IDQ0NDQ0LAogICJzdHJva2UiOiB0cnVlLAogICJ3ZWlnaHQiOiAzCn0KICAgICAgICAgICAgICAgICkKICAgICAgICAgICAgICAgIC5hZGRUbyhtYXBfZGRiMDMxNmNhZDczNGY3NmE1MjBlNzY3NjFjZDRkNzgpOwogICAgICAgICAgICAKICAgIAogICAgICAgIGNpcmNsZV82YWI3NmY1YzAyYjQ0YjE0YWM3NjQ4NTcyNjc1Njk0NS5iaW5kVG9vbHRpcCgKICAgICAgICAgICAgYDxkaXY+YAogICAgICAgICAgICArIGA8bGk+PGJvbGQ+Q291bnRyeSA6IEFuZ29sYTxsaT48Ym9sZD5Db25maXJtZWQgOiA0NS4wPGxpPjxib2xkPkRlYXRoX3JhdGUgOiA0LjQ0NDQ0NDQ0NDQ0NDQ0NTxsaT48Ym9sZD5EZWF0aHMgOiAyLjA8bGk+PGJvbGQ+bG9ja2Rvd24gZGF0ZSA6IG5hbjxsaT48Ym9sZD5maXJzdCBjYXNlIGRhdGUgOiAyMDIwLTAzLTIxPGxpPjxib2xkPm1lYW4gYWdlIDogMTYuNGAgKyBgPC9kaXY+YCwKICAgICAgICAgICAgeyJzdGlja3kiOiB0cnVlfQogICAgICAgICk7CiAgICAgICAgCiAgICAKCiAgICAgICAgICAgIHZhciBjaXJjbGVfNDZiYTcxODAwOGE3NDAyM2FiMTkwMjZkZjJhNjk1MTkgPSBMLmNpcmNsZSgKICAgICAgICAgICAgICAgIFsxNy4wNjA4MTYsIC02MS43OTY0MjgwMDAwMDAwMV0sCiAgICAgICAgICAgICAgICB7CiAgImJ1YmJsaW5nTW91c2VFdmVudHMiOiB0cnVlLAogICJjb2xvciI6ICJibHVlIiwKICAiZGFzaEFycmF5IjogbnVsbCwKICAiZGFzaE9mZnNldCI6IG51bGwsCiAgImZpbGwiOiAiYmx1ZSIsCiAgImZpbGxDb2xvciI6ICJibHVlIiwKICAiZmlsbE9wYWNpdHkiOiAwLjIsCiAgImZpbGxSdWxlIjogImV2ZW5vZGQiLAogICJsaW5lQ2FwIjogInJvdW5kIiwKICAibGluZUpvaW4iOiAicm91bmQiLAogICJvcGFjaXR5IjogMS4wLAogICJyYWRpdXMiOiAxMjAwMDAsCiAgInN0cm9rZSI6IHRydWUsCiAgIndlaWdodCI6IDMKfQogICAgICAgICAgICAgICAgKQogICAgICAgICAgICAgICAgLmFkZFRvKG1hcF9kZGIwMzE2Y2FkNzM0Zjc2YTUyMGU3Njc2MWNkNGQ3OCk7CiAgICAgICAgICAgIAogICAgCiAgICAgICAgY2lyY2xlXzQ2YmE3MTgwMDhhNzQwMjNhYjE5MDI2ZGYyYTY5NTE5LmJpbmRUb29sdGlwKAogICAgICAgICAgICBgPGRpdj5gCiAgICAgICAgICAgICsgYDxsaT48Ym9sZD5Db3VudHJ5IDogQW50aWd1YSBhbmQgQmFyYnVkYTxsaT48Ym9sZD5Db25maXJtZWQgOiAyNS4wPGxpPjxib2xkPkRlYXRoX3JhdGUgOiAxMi4wPGxpPjxib2xkPkRlYXRocyA6IDMuMDxsaT48Ym9sZD5sb2NrZG93biBkYXRlIDogbmFuPGxpPjxib2xkPmZpcnN0IGNhc2UgZGF0ZSA6IDIwMjAtMDMtMTQ8bGk+PGJvbGQ+bWVhbiBhZ2UgOiAzMC43YCArIGA8L2Rpdj5gLAogICAgICAgICAgICB7InN0aWNreSI6IHRydWV9CiAgICAgICAgKTsKICAgICAgICAKICAgIAoKICAgICAgICAgICAgdmFyIGNpcmNsZV9kZDE3MTYzNTk0Mjc0MDMxOTNlY2UyNmVmMWE2ZTE4MCA9IEwuY2lyY2xlKAogICAgICAgICAgICAgICAgWy0zOC40MTYwOTcsIC02My42MTY2NzE5OTk5OTk5OTRdLAogICAgICAgICAgICAgICAgewogICJidWJibGluZ01vdXNlRXZlbnRzIjogdHJ1ZSwKICAiY29sb3IiOiAiYmx1ZSIsCiAgImRhc2hBcnJheSI6IG51bGwsCiAgImRhc2hPZmZzZXQiOiBudWxsLAogICJmaWxsIjogImJsdWUiLAogICJmaWxsQ29sb3IiOiAiYmx1ZSIsCiAgImZpbGxPcGFjaXR5IjogMC4yLAogICJmaWxsUnVsZSI6ICJldmVub2RkIiwKICAibGluZUNhcCI6ICJyb3VuZCIsCiAgImxpbmVKb2luIjogInJvdW5kIiwKICAib3BhY2l0eSI6IDEuMCwKICAicmFkaXVzIjogNTA1NDYsCiAgInN0cm9rZSI6IHRydWUsCiAgIndlaWdodCI6IDMKfQogICAgICAgICAgICAgICAgKQogICAgICAgICAgICAgICAgLmFkZFRvKG1hcF9kZGIwMzE2Y2FkNzM0Zjc2YTUyMGU3Njc2MWNkNGQ3OCk7CiAgICAgICAgICAgIAogICAgCiAgICAgICAgY2lyY2xlX2RkMTcxNjM1OTQyNzQwMzE5M2VjZTI2ZWYxYTZlMTgwLmJpbmRUb29sdGlwKAogICAgICAgICAgICBgPGRpdj5gCiAgICAgICAgICAgICsgYDxsaT48Ym9sZD5Db3VudHJ5IDogQXJnZW50aW5hPGxpPjxib2xkPkNvbmZpcm1lZCA6IDYwMzQuMDxsaT48Ym9sZD5EZWF0aF9yYXRlIDogNS4wNTQ2OTAwODk0OTI4NzM1PGxpPjxib2xkPkRlYXRocyA6IDMwNS4wPGxpPjxib2xkPmxvY2tkb3duIGRhdGUgOiAyMDIwLTAzLTIwPGxpPjxib2xkPmZpcnN0IGNhc2UgZGF0ZSA6IDIwMjAtMDMtMDQ8bGk+PGJvbGQ+bWVhbiBhZ2UgOiAzMC44YCArIGA8L2Rpdj5gLAogICAgICAgICAgICB7InN0aWNreSI6IHRydWV9CiAgICAgICAgKTsKICAgICAgICAKICAgIAoKICAgICAgICAgICAgdmFyIGNpcmNsZV8yN2IwNGMwYTVlZTU0MzYwYTA1YWFiOWNhMWQ1MDM1OCA9IEwuY2lyY2xlKAogICAgICAgICAgICAgICAgWzQwLjA2OTA5OSwgNDUuMDM4MTg5XSwKICAgICAgICAgICAgICAgIHsKICAiYnViYmxpbmdNb3VzZUV2ZW50cyI6IHRydWUsCiAgImNvbG9yIjogImJsdWUiLAogICJkYXNoQXJyYXkiOiBudWxsLAogICJkYXNoT2Zmc2V0IjogbnVsbCwKICAiZmlsbCI6ICJibHVlIiwKICAiZmlsbENvbG9yIjogImJsdWUiLAogICJmaWxsT3BhY2l0eSI6IDAuMiwKICAiZmlsbFJ1bGUiOiAiZXZlbm9kZCIsCiAgImxpbmVDYXAiOiAicm91bmQiLAogICJsaW5lSm9pbiI6ICJyb3VuZCIsCiAgIm9wYWNpdHkiOiAxLjAsCiAgInJhZGl1cyI6IDEzNTgyLAogICJzdHJva2UiOiB0cnVlLAogICJ3ZWlnaHQiOiAzCn0KICAgICAgICAgICAgICAgICkKICAgICAgICAgICAgICAgIC5hZGRUbyhtYXBfZGRiMDMxNmNhZDczNGY3NmE1MjBlNzY3NjFjZDRkNzgpOwogICAgICAgICAgICAKICAgIAogICAgICAgIGNpcmNsZV8yN2IwNGMwYTVlZTU0MzYwYTA1YWFiOWNhMWQ1MDM1OC5iaW5kVG9vbHRpcCgKICAgICAgICAgICAgYDxkaXY+YAogICAgICAgICAgICArIGA8bGk+PGJvbGQ+Q291bnRyeSA6IEFybWVuaWE8bGk+PGJvbGQ+Q29uZmlybWVkIDogMzMxMy4wPGxpPjxib2xkPkRlYXRoX3JhdGUgOiAxLjM1ODI4NTU0MTgwNTAxMDY8bGk+PGJvbGQ+RGVhdGhzIDogNDUuMDxsaT48Ym9sZD5sb2NrZG93biBkYXRlIDogMjAyMC0wMy0yNDxsaT48Ym9sZD5maXJzdCBjYXNlIGRhdGUgOiAyMDIwLTAzLTAyPGxpPjxib2xkPm1lYW4gYWdlIDogMzMuOWAgKyBgPC9kaXY+YCwKICAgICAgICAgICAgeyJzdGlja3kiOiB0cnVlfQogICAgICAgICk7CiAgICAgICAgCiAgICAKCiAgICAgICAgICAgIHZhciBjaXJjbGVfY2RkMjBlNjcyNDk0NGY5ZmFkMGFmOWVkNzEwNzBkMTAgPSBMLmNpcmNsZSgKICAgICAgICAgICAgICAgIFstMjUuMjc0Mzk4LCAxMzMuNzc1MTM2XSwKICAgICAgICAgICAgICAgIHsKICAiYnViYmxpbmdNb3VzZUV2ZW50cyI6IHRydWUsCiAgImNvbG9yIjogImJsdWUiLAogICJkYXNoQXJyYXkiOiBudWxsLAogICJkYXNoT2Zmc2V0IjogbnVsbCwKICAiZmlsbCI6ICJibHVlIiwKICAiZmlsbENvbG9yIjogImJsdWUiLAogICJmaWxsT3BhY2l0eSI6IDAuMiwKICAiZmlsbFJ1bGUiOiAiZXZlbm9kZCIsCiAgImxpbmVDYXAiOiAicm91bmQiLAogICJsaW5lSm9pbiI6ICJyb3VuZCIsCiAgIm9wYWNpdHkiOiAxLjAsCiAgInJhZGl1cyI6IDEzOTYwLAogICJzdHJva2UiOiB0cnVlLAogICJ3ZWlnaHQiOiAzCn0KICAgICAgICAgICAgICAgICkKICAgICAgICAgICAgICAgIC5hZGRUbyhtYXBfZGRiMDMxNmNhZDczNGY3NmE1MjBlNzY3NjFjZDRkNzgpOwogICAgICAgICAgICAKICAgIAogICAgICAgIGNpcmNsZV9jZGQyMGU2NzI0OTQ0ZjlmYWQwYWY5ZWQ3MTA3MGQxMC5iaW5kVG9vbHRpcCgKICAgICAgICAgICAgYDxkaXY+YAogICAgICAgICAgICArIGA8bGk+PGJvbGQ+Q291bnRyeSA6IEF1c3RyYWxpYTxsaT48Ym9sZD5Db25maXJtZWQgOiA2OTQ4LjA8bGk+PGJvbGQ+RGVhdGhfcmF0ZSA6IDEuMzk2MDg1MjA0Mzc1MzU5ODxsaT48Ym9sZD5EZWF0aHMgOiA5Ny4wPGxpPjxib2xkPmxvY2tkb3duIGRhdGUgOiAyMDIwLTAzLTI1PGxpPjxib2xkPmZpcnN0IGNhc2UgZGF0ZSA6IDIwMjAtMDEtMjY8bGk+PGJvbGQ+bWVhbiBhZ2UgOiAzNy40YCArIGA8L2Rpdj5gLAogICAgICAgICAgICB7InN0aWNreSI6IHRydWV9CiAgICAgICAgKTsKICAgICAgICAKICAgIAoKICAgICAgICAgICAgdmFyIGNpcmNsZV8yZWU2NWM5MTMyNTQ0Nzg3YTZlNmI1MTlmYmVkYmJmYyA9IEwuY2lyY2xlKAogICAgICAgICAgICAgICAgWzQ3LjUxNjIzMSwgMTQuNTUwMDcyXSwKICAgICAgICAgICAgICAgIHsKICAiYnViYmxpbmdNb3VzZUV2ZW50cyI6IHRydWUsCiAgImNvbG9yIjogImJsdWUiLAogICJkYXNoQXJyYXkiOiBudWxsLAogICJkYXNoT2Zmc2V0IjogbnVsbCwKICAiZmlsbCI6ICJibHVlIiwKICAiZmlsbENvbG9yIjogImJsdWUiLAogICJmaWxsT3BhY2l0eSI6IDAuMiwKICAiZmlsbFJ1bGUiOiAiZXZlbm9kZCIsCiAgImxpbmVDYXAiOiAicm91bmQiLAogICJsaW5lSm9pbiI6ICJyb3VuZCIsCiAgIm9wYWNpdHkiOiAxLjAsCiAgInJhZGl1cyI6IDM4OTM4LAogICJzdHJva2UiOiB0cnVlLAogICJ3ZWlnaHQiOiAzCn0KICAgICAgICAgICAgICAgICkKICAgICAgICAgICAgICAgIC5hZGRUbyhtYXBfZGRiMDMxNmNhZDczNGY3NmE1MjBlNzY3NjFjZDRkNzgpOwogICAgICAgICAgICAKICAgIAogICAgICAgIGNpcmNsZV8yZWU2NWM5MTMyNTQ0Nzg3YTZlNmI1MTlmYmVkYmJmYy5iaW5kVG9vbHRpcCgKICAgICAgICAgICAgYDxkaXY+YAogICAgICAgICAgICArIGA8bGk+PGJvbGQ+Q291bnRyeSA6IEF1c3RyaWE8bGk+PGJvbGQ+Q29uZmlybWVkIDogMTU4NzEuMDxsaT48Ym9sZD5EZWF0aF9yYXRlIDogMy44OTM4OTQ1MjQ2MDQ2MjQ2PGxpPjxib2xkPkRlYXRocyA6IDYxOC4wPGxpPjxib2xkPmxvY2tkb3duIGRhdGUgOiAyMDIwLTAzLTE2PGxpPjxib2xkPmZpcnN0IGNhc2UgZGF0ZSA6IDIwMjAtMDItMjY8bGk+PGJvbGQ+bWVhbiBhZ2UgOiA0My4yYCArIGA8L2Rpdj5gLAogICAgICAgICAgICB7InN0aWNreSI6IHRydWV9CiAgICAgICAgKTsKICAgICAgICAKICAgIAoKICAgICAgICAgICAgdmFyIGNpcmNsZV82ZGFhMTk4NzMwYTk0MTE0OWZmMWJkNTBkNGIyNTljYiA9IEwuY2lyY2xlKAogICAgICAgICAgICAgICAgWzQwLjE0MzEwNSwgNDcuNTc2OTI3MDAwMDAwMDFdLAogICAgICAgICAgICAgICAgewogICJidWJibGluZ01vdXNlRXZlbnRzIjogdHJ1ZSwKICAiY29sb3IiOiAiYmx1ZSIsCiAgImRhc2hBcnJheSI6IG51bGwsCiAgImRhc2hPZmZzZXQiOiBudWxsLAogICJmaWxsIjogImJsdWUiLAogICJmaWxsQ29sb3IiOiAiYmx1ZSIsCiAgImZpbGxPcGFjaXR5IjogMC4yLAogICJmaWxsUnVsZSI6ICJldmVub2RkIiwKICAibGluZUNhcCI6ICJyb3VuZCIsCiAgImxpbmVKb2luIjogInJvdW5kIiwKICAib3BhY2l0eSI6IDEuMCwKICAicmFkaXVzIjogMTI3MDMsCiAgInN0cm9rZSI6IHRydWUsCiAgIndlaWdodCI6IDMKfQogICAgICAgICAgICAgICAgKQogICAgICAgICAgICAgICAgLmFkZFRvKG1hcF9kZGIwMzE2Y2FkNzM0Zjc2YTUyMGU3Njc2MWNkNGQ3OCk7CiAgICAgICAgICAgIAogICAgCiAgICAgICAgY2lyY2xlXzZkYWExOTg3MzBhOTQxMTQ5ZmYxYmQ1MGQ0YjI1OWNiLmJpbmRUb29sdGlwKAogICAgICAgICAgICBgPGRpdj5gCiAgICAgICAgICAgICsgYDxsaT48Ym9sZD5Db3VudHJ5IDogQXplcmJhaWphbjxsaT48Ym9sZD5Db25maXJtZWQgOiAyNTE5LjA8bGk+PGJvbGQ+RGVhdGhfcmF0ZSA6IDEuMjcwMzQ1Mzc1MTQ4ODY4NzxsaT48Ym9sZD5EZWF0aHMgOiAzMi4wPGxpPjxib2xkPmxvY2tkb3duIGRhdGUgOiAyMDIwLTAzLTAyPGxpPjxib2xkPmZpcnN0IGNhc2UgZGF0ZSA6IDIwMjAtMDMtMDI8bGk+PGJvbGQ+bWVhbiBhZ2UgOiAzMC4zYCArIGA8L2Rpdj5gLAogICAgICAgICAgICB7InN0aWNreSI6IHRydWV9CiAgICAgICAgKTsKICAgICAgICAKICAgIAoKICAgICAgICAgICAgdmFyIGNpcmNsZV9kZjZkNDRjYTdkOTA0MDgxYjRjMjlkOWFjMTM1MDY3YyA9IEwuY2lyY2xlKAogICAgICAgICAgICAgICAgWzI1LjAzNDI4LCAtNzcuMzk2MjhdLAogICAgICAgICAgICAgICAgewogICJidWJibGluZ01vdXNlRXZlbnRzIjogdHJ1ZSwKICAiY29sb3IiOiAiYmx1ZSIsCiAgImRhc2hBcnJheSI6IG51bGwsCiAgImRhc2hPZmZzZXQiOiBudWxsLAogICJmaWxsIjogImJsdWUiLAogICJmaWxsQ29sb3IiOiAiYmx1ZSIsCiAgImZpbGxPcGFjaXR5IjogMC4yLAogICJmaWxsUnVsZSI6ICJldmVub2RkIiwKICAibGluZUNhcCI6ICJyb3VuZCIsCiAgImxpbmVKb2luIjogInJvdW5kIiwKICAib3BhY2l0eSI6IDEuMCwKICAicmFkaXVzIjogMTE5NTY1LAogICJzdHJva2UiOiB0cnVlLAogICJ3ZWlnaHQiOiAzCn0KICAgICAgICAgICAgICAgICkKICAgICAgICAgICAgICAgIC5hZGRUbyhtYXBfZGRiMDMxNmNhZDczNGY3NmE1MjBlNzY3NjFjZDRkNzgpOwogICAgICAgICAgICAKICAgIAogICAgICAgIGNpcmNsZV9kZjZkNDRjYTdkOTA0MDgxYjRjMjlkOWFjMTM1MDY3Yy5iaW5kVG9vbHRpcCgKICAgICAgICAgICAgYDxkaXY+YAogICAgICAgICAgICArIGA8bGk+PGJvbGQ+Q291bnRyeSA6IEJhaGFtYXM8bGk+PGJvbGQ+Q29uZmlybWVkIDogOTIuMDxsaT48Ym9sZD5EZWF0aF9yYXRlIDogMTEuOTU2NTIxNzM5MTMwNDM1PGxpPjxib2xkPkRlYXRocyA6IDExLjA8bGk+PGJvbGQ+bG9ja2Rvd24gZGF0ZSA6IDIwMjAtMDQtMTc8bGk+PGJvbGQ+Zmlyc3QgY2FzZSBkYXRlIDogMjAyMC0wMy0xNzxsaT48Ym9sZD5tZWFuIGFnZSA6IDMyLjVgICsgYDwvZGl2PmAsCiAgICAgICAgICAgIHsic3RpY2t5IjogdHJ1ZX0KICAgICAgICApOwogICAgICAgIAogICAgCgogICAgICAgICAgICB2YXIgY2lyY2xlX2U5YWU2YzgwYmJiZDRiODI5MjhjN2I5OGFjODg3YzE2ID0gTC5jaXJjbGUoCiAgICAgICAgICAgICAgICBbMjUuOTMwNDE0MDAwMDAwMDEsIDUwLjYzNzc3Ml0sCiAgICAgICAgICAgICAgICB7CiAgImJ1YmJsaW5nTW91c2VFdmVudHMiOiB0cnVlLAogICJjb2xvciI6ICJibHVlIiwKICAiZGFzaEFycmF5IjogbnVsbCwKICAiZGFzaE9mZnNldCI6IG51bGwsCiAgImZpbGwiOiAiYmx1ZSIsCiAgImZpbGxDb2xvciI6ICJibHVlIiwKICAiZmlsbE9wYWNpdHkiOiAwLjIsCiAgImZpbGxSdWxlIjogImV2ZW5vZGQiLAogICJsaW5lQ2FwIjogInJvdW5kIiwKICAibGluZUpvaW4iOiAicm91bmQiLAogICJvcGFjaXR5IjogMS4wLAogICJyYWRpdXMiOiAxNjE5LAogICJzdHJva2UiOiB0cnVlLAogICJ3ZWlnaHQiOiAzCn0KICAgICAgICAgICAgICAgICkKICAgICAgICAgICAgICAgIC5hZGRUbyhtYXBfZGRiMDMxNmNhZDczNGY3NmE1MjBlNzY3NjFjZDRkNzgpOwogICAgICAgICAgICAKICAgIAogICAgICAgIGNpcmNsZV9lOWFlNmM4MGJiYmQ0YjgyOTI4YzdiOThhYzg4N2MxNi5iaW5kVG9vbHRpcCgKICAgICAgICAgICAgYDxkaXY+YAogICAgICAgICAgICArIGA8bGk+PGJvbGQ+Q291bnRyeSA6IEJhaHJhaW48bGk+PGJvbGQ+Q29uZmlybWVkIDogNDk0MS4wPGxpPjxib2xkPkRlYXRoX3JhdGUgOiAwLjE2MTkxMDU0NDQyNDIwNTYzPGxpPjxib2xkPkRlYXRocyA6IDguMDxsaT48Ym9sZD5sb2NrZG93biBkYXRlIDogMjAyMC0wMi0yNTxsaT48Ym9sZD5maXJzdCBjYXNlIGRhdGUgOiAyMDIwLTAyLTI1PGxpPjxib2xkPm1lYW4gYWdlIDogMzEuMmAgKyBgPC9kaXY+YCwKICAgICAgICAgICAgeyJzdGlja3kiOiB0cnVlfQogICAgICAgICk7CiAgICAgICAgCiAgICAKCiAgICAgICAgICAgIHZhciBjaXJjbGVfMGQzNDBiYTZmYmE2NGVkNDk2NDhhMjVjNGRlMmYwMTUgPSBMLmNpcmNsZSgKICAgICAgICAgICAgICAgIFsyMy42ODQ5OTQsIDkwLjM1NjMzMTAwMDAwMDAxXSwKICAgICAgICAgICAgICAgIHsKICAiYnViYmxpbmdNb3VzZUV2ZW50cyI6IHRydWUsCiAgImNvbG9yIjogImJsdWUiLAogICJkYXNoQXJyYXkiOiBudWxsLAogICJkYXNoT2Zmc2V0IjogbnVsbCwKICAiZmlsbCI6ICJibHVlIiwKICAiZmlsbENvbG9yIjogImJsdWUiLAogICJmaWxsT3BhY2l0eSI6IDAuMiwKICAiZmlsbFJ1bGUiOiAiZXZlbm9kZCIsCiAgImxpbmVDYXAiOiAicm91bmQiLAogICJsaW5lSm9pbiI6ICJyb3VuZCIsCiAgIm9wYWNpdHkiOiAxLjAsCiAgInJhZGl1cyI6IDE1NTU1LAogICJzdHJva2UiOiB0cnVlLAogICJ3ZWlnaHQiOiAzCn0KICAgICAgICAgICAgICAgICkKICAgICAgICAgICAgICAgIC5hZGRUbyhtYXBfZGRiMDMxNmNhZDczNGY3NmE1MjBlNzY3NjFjZDRkNzgpOwogICAgICAgICAgICAKICAgIAogICAgICAgIGNpcmNsZV8wZDM0MGJhNmZiYTY0ZWQ0OTY0OGEyNWM0ZGUyZjAxNS5iaW5kVG9vbHRpcCgKICAgICAgICAgICAgYDxkaXY+YAogICAgICAgICAgICArIGA8bGk+PGJvbGQ+Q291bnRyeSA6IEJhbmdsYWRlc2g8bGk+PGJvbGQ+Q29uZmlybWVkIDogMTQ2NTcuMDxsaT48Ym9sZD5EZWF0aF9yYXRlIDogMS41NTU1NzA3MTcwNjM1MTkxPGxpPjxib2xkPkRlYXRocyA6IDIyOC4wPGxpPjxib2xkPmxvY2tkb3duIGRhdGUgOiAyMDIwLTAzLTE5PGxpPjxib2xkPmZpcnN0IGNhc2UgZGF0ZSA6IDIwMjAtMDMtMDk8bGk+PGJvbGQ+bWVhbiBhZ2UgOiAyNS42YCArIGA8L2Rpdj5gLAogICAgICAgICAgICB7InN0aWNreSI6IHRydWV9CiAgICAgICAgKTsKICAgICAgICAKICAgIAoKICAgICAgICAgICAgdmFyIGNpcmNsZV9mNWEzY2Y0MmE3OTI0MTA2YjZkNTM2N2MxNjVkM2VlYSA9IEwuY2lyY2xlKAogICAgICAgICAgICAgICAgWzEzLjE5Mzg4NywgLTU5LjU0MzE5OF0sCiAgICAgICAgICAgICAgICB7CiAgImJ1YmJsaW5nTW91c2VFdmVudHMiOiB0cnVlLAogICJjb2xvciI6ICJibHVlIiwKICAiZGFzaEFycmF5IjogbnVsbCwKICAiZGFzaE9mZnNldCI6IG51bGwsCiAgImZpbGwiOiAiYmx1ZSIsCiAgImZpbGxDb2xvciI6ICJibHVlIiwKICAiZmlsbE9wYWNpdHkiOiAwLjIsCiAgImZpbGxSdWxlIjogImV2ZW5vZGQiLAogICJsaW5lQ2FwIjogInJvdW5kIiwKICAibGluZUpvaW4iOiAicm91bmQiLAogICJvcGFjaXR5IjogMS4wLAogICJyYWRpdXMiOiA4MzMzMywKICAic3Ryb2tlIjogdHJ1ZSwKICAid2VpZ2h0IjogMwp9CiAgICAgICAgICAgICAgICApCiAgICAgICAgICAgICAgICAuYWRkVG8obWFwX2RkYjAzMTZjYWQ3MzRmNzZhNTIwZTc2NzYxY2Q0ZDc4KTsKICAgICAgICAgICAgCiAgICAKICAgICAgICBjaXJjbGVfZjVhM2NmNDJhNzkyNDEwNmI2ZDUzNjdjMTY1ZDNlZWEuYmluZFRvb2x0aXAoCiAgICAgICAgICAgIGA8ZGl2PmAKICAgICAgICAgICAgKyBgPGxpPjxib2xkPkNvdW50cnkgOiBCYXJiYWRvczxsaT48Ym9sZD5Db25maXJtZWQgOiA4NC4wPGxpPjxib2xkPkRlYXRoX3JhdGUgOiA4LjMzMzMzMzMzMzMzMzMzNDxsaT48Ym9sZD5EZWF0aHMgOiA3LjA8bGk+PGJvbGQ+bG9ja2Rvd24gZGF0ZSA6IDIwMjAtMDMtMjg8bGk+PGJvbGQ+Zmlyc3QgY2FzZSBkYXRlIDogMjAyMC0wMy0xODxsaT48Ym9sZD5tZWFuIGFnZSA6IDM4LjVgICsgYDwvZGl2PmAsCiAgICAgICAgICAgIHsic3RpY2t5IjogdHJ1ZX0KICAgICAgICApOwogICAgICAgIAogICAgCgogICAgICAgICAgICB2YXIgY2lyY2xlXzU4NWJkYTViZjRhOTRhNDFiNjBiNzczODJiYzNmZjgxID0gTC5jaXJjbGUoCiAgICAgICAgICAgICAgICBbNTMuNzA5ODA3LCAyNy45NTMzODldLAogICAgICAgICAgICAgICAgewogICJidWJibGluZ01vdXNlRXZlbnRzIjogdHJ1ZSwKICAiY29sb3IiOiAiYmx1ZSIsCiAgImRhc2hBcnJheSI6IG51bGwsCiAgImRhc2hPZmZzZXQiOiBudWxsLAogICJmaWxsIjogImJsdWUiLAogICJmaWxsQ29sb3IiOiAiYmx1ZSIsCiAgImZpbGxPcGFjaXR5IjogMC4yLAogICJmaWxsUnVsZSI6ICJldmVub2RkIiwKICAibGluZUNhcCI6ICJyb3VuZCIsCiAgImxpbmVKb2luIjogInJvdW5kIiwKICAib3BhY2l0eSI6IDEuMCwKICAicmFkaXVzIjogNTcwMiwKICAic3Ryb2tlIjogdHJ1ZSwKICAid2VpZ2h0IjogMwp9CiAgICAgICAgICAgICAgICApCiAgICAgICAgICAgICAgICAuYWRkVG8obWFwX2RkYjAzMTZjYWQ3MzRmNzZhNTIwZTc2NzYxY2Q0ZDc4KTsKICAgICAgICAgICAgCiAgICAKICAgICAgICBjaXJjbGVfNTg1YmRhNWJmNGE5NGE0MWI2MGI3NzM4MmJjM2ZmODEuYmluZFRvb2x0aXAoCiAgICAgICAgICAgIGA8ZGl2PmAKICAgICAgICAgICAgKyBgPGxpPjxib2xkPkNvdW50cnkgOiBCZWxhcnVzPGxpPjxib2xkPkNvbmZpcm1lZCA6IDIyOTczLjA8bGk+PGJvbGQ+RGVhdGhfcmF0ZSA6IDAuNTcwMjM0NjIzMjUzMzg0NDxsaT48Ym9sZD5EZWF0aHMgOiAxMzEuMDxsaT48Ym9sZD5sb2NrZG93biBkYXRlIDogMjAyMC0wNC0wNzxsaT48Ym9sZD5maXJzdCBjYXNlIGRhdGUgOiAyMDIwLTAyLTI5PGxpPjxib2xkPm1lYW4gYWdlIDogMzkuNmAgKyBgPC9kaXY+YCwKICAgICAgICAgICAgeyJzdGlja3kiOiB0cnVlfQogICAgICAgICk7CiAgICAgICAgCiAgICAKCiAgICAgICAgICAgIHZhciBjaXJjbGVfMmNhYjBkNTYzNWJjNGExOGJjMmNjYzVmNDdiYzg0MGYgPSBMLmNpcmNsZSgKICAgICAgICAgICAgICAgIFs1MC41MDM4ODcsIDQuNDY5OTM2XSwKICAgICAgICAgICAgICAgIHsKICAiYnViYmxpbmdNb3VzZUV2ZW50cyI6IHRydWUsCiAgImNvbG9yIjogImJsdWUiLAogICJkYXNoQXJyYXkiOiBudWxsLAogICJkYXNoT2Zmc2V0IjogbnVsbCwKICAiZmlsbCI6ICJibHVlIiwKICAiZmlsbENvbG9yIjogImJsdWUiLAogICJmaWxsT3BhY2l0eSI6IDAuMiwKICAiZmlsbFJ1bGUiOiAiZXZlbm9kZCIsCiAgImxpbmVDYXAiOiAicm91bmQiLAogICJsaW5lSm9pbiI6ICJyb3VuZCIsCiAgIm9wYWNpdHkiOiAxLjAsCiAgInJhZGl1cyI6IDE2MzA3MSwKICAic3Ryb2tlIjogdHJ1ZSwKICAid2VpZ2h0IjogMwp9CiAgICAgICAgICAgICAgICApCiAgICAgICAgICAgICAgICAuYWRkVG8obWFwX2RkYjAzMTZjYWQ3MzRmNzZhNTIwZTc2NzYxY2Q0ZDc4KTsKICAgICAgICAgICAgCiAgICAKICAgICAgICBjaXJjbGVfMmNhYjBkNTYzNWJjNGExOGJjMmNjYzVmNDdiYzg0MGYuYmluZFRvb2x0aXAoCiAgICAgICAgICAgIGA8ZGl2PmAKICAgICAgICAgICAgKyBgPGxpPjxib2xkPkNvdW50cnkgOiBCZWxnaXVtPGxpPjxib2xkPkNvbmZpcm1lZCA6IDUzMDgxLjA8bGk+PGJvbGQ+RGVhdGhfcmF0ZSA6IDE2LjMwNzE1MzIxODY2NTgxNDxsaT48Ym9sZD5EZWF0aHMgOiA4NjU2LjA8bGk+PGJvbGQ+bG9ja2Rvd24gZGF0ZSA6IDIwMjAtMDMtMTc8bGk+PGJvbGQ+Zmlyc3QgY2FzZSBkYXRlIDogMjAyMC0wMi0wNTxsaT48Ym9sZD5tZWFuIGFnZSA6IDQxLjNgICsgYDwvZGl2PmAsCiAgICAgICAgICAgIHsic3RpY2t5IjogdHJ1ZX0KICAgICAgICApOwogICAgICAgIAogICAgCgogICAgICAgICAgICB2YXIgY2lyY2xlXzU4YWY2OGZjNWFiMTRhNmE5Y2I1OGYyZDIwZjkzNjM5ID0gTC5jaXJjbGUoCiAgICAgICAgICAgICAgICBbMTcuMTg5ODc3LCAtODguNDk3NjVdLAogICAgICAgICAgICAgICAgewogICJidWJibGluZ01vdXNlRXZlbnRzIjogdHJ1ZSwKICAiY29sb3IiOiAiYmx1ZSIsCiAgImRhc2hBcnJheSI6IG51bGwsCiAgImRhc2hPZmZzZXQiOiBudWxsLAogICJmaWxsIjogImJsdWUiLAogICJmaWxsQ29sb3IiOiAiYmx1ZSIsCiAgImZpbGxPcGFjaXR5IjogMC4yLAogICJmaWxsUnVsZSI6ICJldmVub2RkIiwKICAibGluZUNhcCI6ICJyb3VuZCIsCiAgImxpbmVKb2luIjogInJvdW5kIiwKICAib3BhY2l0eSI6IDEuMCwKICAicmFkaXVzIjogMTExMTExLAogICJzdHJva2UiOiB0cnVlLAogICJ3ZWlnaHQiOiAzCn0KICAgICAgICAgICAgICAgICkKICAgICAgICAgICAgICAgIC5hZGRUbyhtYXBfZGRiMDMxNmNhZDczNGY3NmE1MjBlNzY3NjFjZDRkNzgpOwogICAgICAgICAgICAKICAgIAogICAgICAgIGNpcmNsZV81OGFmNjhmYzVhYjE0YTZhOWNiNThmMmQyMGY5MzYzOS5iaW5kVG9vbHRpcCgKICAgICAgICAgICAgYDxkaXY+YAogICAgICAgICAgICArIGA8bGk+PGJvbGQ+Q291bnRyeSA6IEJlbGl6ZTxsaT48Ym9sZD5Db25maXJtZWQgOiAxOC4wPGxpPjxib2xkPkRlYXRoX3JhdGUgOiAxMS4xMTExMTExMTExMTExMTxsaT48Ym9sZD5EZWF0aHMgOiAyLjA8bGk+PGJvbGQ+bG9ja2Rvd24gZGF0ZSA6IDIwMjAtMDQtMTY8bGk+PGJvbGQ+Zmlyc3QgY2FzZSBkYXRlIDogMjAyMC0wMy0yNDxsaT48Ym9sZD5tZWFuIGFnZSA6IDIzLjVgICsgYDwvZGl2PmAsCiAgICAgICAgICAgIHsic3RpY2t5IjogdHJ1ZX0KICAgICAgICApOwogICAgICAgIAogICAgCgogICAgICAgICAgICB2YXIgY2lyY2xlX2NlMTllMzNiNTA0MTQ5ZDdhN2ZjOTEyMmMyZGYwMzBhID0gTC5jaXJjbGUoCiAgICAgICAgICAgICAgICBbOS4zMDc2OSwgMi4zMTU4MzRdLAogICAgICAgICAgICAgICAgewogICJidWJibGluZ01vdXNlRXZlbnRzIjogdHJ1ZSwKICAiY29sb3IiOiAiYmx1ZSIsCiAgImRhc2hBcnJheSI6IG51bGwsCiAgImRhc2hPZmZzZXQiOiBudWxsLAogICJmaWxsIjogImJsdWUiLAogICJmaWxsQ29sb3IiOiAiYmx1ZSIsCiAgImZpbGxPcGFjaXR5IjogMC4yLAogICJmaWxsUnVsZSI6ICJldmVub2RkIiwKICAibGluZUNhcCI6ICJyb3VuZCIsCiAgImxpbmVKb2luIjogInJvdW5kIiwKICAib3BhY2l0eSI6IDEuMCwKICAicmFkaXVzIjogNjI2OSwKICAic3Ryb2tlIjogdHJ1ZSwKICAid2VpZ2h0IjogMwp9CiAgICAgICAgICAgICAgICApCiAgICAgICAgICAgICAgICAuYWRkVG8obWFwX2RkYjAzMTZjYWQ3MzRmNzZhNTIwZTc2NzYxY2Q0ZDc4KTsKICAgICAgICAgICAgCiAgICAKICAgICAgICBjaXJjbGVfY2UxOWUzM2I1MDQxNDlkN2E3ZmM5MTIyYzJkZjAzMGEuYmluZFRvb2x0aXAoCiAgICAgICAgICAgIGA8ZGl2PmAKICAgICAgICAgICAgKyBgPGxpPjxib2xkPkNvdW50cnkgOiBCZW5pbjxsaT48Ym9sZD5Db25maXJtZWQgOiAzMTkuMDxsaT48Ym9sZD5EZWF0aF9yYXRlIDogMC42MjY5NTkyNDc2NDg5MDI5PGxpPjxib2xkPkRlYXRocyA6IDIuMDxsaT48Ym9sZD5sb2NrZG93biBkYXRlIDogbmFuPGxpPjxib2xkPmZpcnN0IGNhc2UgZGF0ZSA6IDIwMjAtMDMtMTc8bGk+PGJvbGQ+bWVhbiBhZ2UgOiAxOC4yYCArIGA8L2Rpdj5gLAogICAgICAgICAgICB7InN0aWNreSI6IHRydWV9CiAgICAgICAgKTsKICAgICAgICAKICAgIAoKICAgICAgICAgICAgdmFyIGNpcmNsZV81YjBmZmIzZDQ2NGQ0YzlmOTMxNTBiNTg4M2JmM2Y5YSA9IEwuY2lyY2xlKAogICAgICAgICAgICAgICAgWzI3LjUxNDE2MiwgOTAuNDMzNjAxXSwKICAgICAgICAgICAgICAgIHsKICAiYnViYmxpbmdNb3VzZUV2ZW50cyI6IHRydWUsCiAgImNvbG9yIjogImJsdWUiLAogICJkYXNoQXJyYXkiOiBudWxsLAogICJkYXNoT2Zmc2V0IjogbnVsbCwKICAiZmlsbCI6ICJibHVlIiwKICAiZmlsbENvbG9yIjogImJsdWUiLAogICJmaWxsT3BhY2l0eSI6IDAuMiwKICAiZmlsbFJ1bGUiOiAiZXZlbm9kZCIsCiAgImxpbmVDYXAiOiAicm91bmQiLAogICJsaW5lSm9pbiI6ICJyb3VuZCIsCiAgIm9wYWNpdHkiOiAxLjAsCiAgInN0cm9rZSI6IHRydWUsCiAgIndlaWdodCI6IDMKfQogICAgICAgICAgICAgICAgKQogICAgICAgICAgICAgICAgLmFkZFRvKG1hcF9kZGIwMzE2Y2FkNzM0Zjc2YTUyMGU3Njc2MWNkNGQ3OCk7CiAgICAgICAgICAgIAogICAgCiAgICAgICAgY2lyY2xlXzViMGZmYjNkNDY0ZDRjOWY5MzE1MGI1ODgzYmYzZjlhLmJpbmRUb29sdGlwKAogICAgICAgICAgICBgPGRpdj5gCiAgICAgICAgICAgICsgYDxsaT48Ym9sZD5Db3VudHJ5IDogQmh1dGFuPGxpPjxib2xkPkNvbmZpcm1lZCA6IDcuMDxsaT48Ym9sZD5EZWF0aF9yYXRlIDogMC4wPGxpPjxib2xkPkRlYXRocyA6IDAuMDxsaT48Ym9sZD5sb2NrZG93biBkYXRlIDogMjAyMC0wMy0wNjxsaT48Ym9sZD5maXJzdCBjYXNlIGRhdGUgOiAyMDIwLTAzLTA3PGxpPjxib2xkPm1lYW4gYWdlIDogMjYuM2AgKyBgPC9kaXY+YCwKICAgICAgICAgICAgeyJzdGlja3kiOiB0cnVlfQogICAgICAgICk7CiAgICAgICAgCiAgICAKCiAgICAgICAgICAgIHZhciBjaXJjbGVfNTU3ZWEwZmVhNzk0NDNiMGFiN2QxMmQzOWM0NTk1NDEgPSBMLmNpcmNsZSgKICAgICAgICAgICAgICAgIFstMTYuMjkwMTU0LCAtNjMuNTg4NjUzXSwKICAgICAgICAgICAgICAgIHsKICAiYnViYmxpbmdNb3VzZUV2ZW50cyI6IHRydWUsCiAgImNvbG9yIjogImJsdWUiLAogICJkYXNoQXJyYXkiOiBudWxsLAogICJkYXNoT2Zmc2V0IjogbnVsbCwKICAiZmlsbCI6ICJibHVlIiwKICAiZmlsbENvbG9yIjogImJsdWUiLAogICJmaWxsT3BhY2l0eSI6IDAuMiwKICAiZmlsbFJ1bGUiOiAiZXZlbm9kZCIsCiAgImxpbmVDYXAiOiAicm91bmQiLAogICJsaW5lSm9pbiI6ICJyb3VuZCIsCiAgIm9wYWNpdHkiOiAxLjAsCiAgInJhZGl1cyI6IDQ2MTY1LAogICJzdHJva2UiOiB0cnVlLAogICJ3ZWlnaHQiOiAzCn0KICAgICAgICAgICAgICAgICkKICAgICAgICAgICAgICAgIC5hZGRUbyhtYXBfZGRiMDMxNmNhZDczNGY3NmE1MjBlNzY3NjFjZDRkNzgpOwogICAgICAgICAgICAKICAgIAogICAgICAgIGNpcmNsZV81NTdlYTBmZWE3OTQ0M2IwYWI3ZDEyZDM5YzQ1OTU0MS5iaW5kVG9vbHRpcCgKICAgICAgICAgICAgYDxkaXY+YAogICAgICAgICAgICArIGA8bGk+PGJvbGQ+Q291bnRyeSA6IEJvbGl2aWE8bGk+PGJvbGQ+Q29uZmlybWVkIDogMjU1Ni4wPGxpPjxib2xkPkRlYXRoX3JhdGUgOiA0LjYxNjU4ODQxOTQwNTMyPGxpPjxib2xkPkRlYXRocyA6IDExOC4wPGxpPjxib2xkPmxvY2tkb3duIGRhdGUgOiAyMDIwLTAzLTEyPGxpPjxib2xkPmZpcnN0IGNhc2UgZGF0ZSA6IDIwMjAtMDMtMTI8bGk+PGJvbGQ+bWVhbiBhZ2UgOiAzNy4wYCArIGA8L2Rpdj5gLAogICAgICAgICAgICB7InN0aWNreSI6IHRydWV9CiAgICAgICAgKTsKICAgICAgICAKICAgIAoKICAgICAgICAgICAgdmFyIGNpcmNsZV81OWNlZGMxYTQ0MTY0ZWJjYWQyZDAzNTg1OTEyMDkwNCA9IEwuY2lyY2xlKAogICAgICAgICAgICAgICAgWzQzLjkxNTg4NiwgMTcuNjc5MDc2MDAwMDAwMDA2XSwKICAgICAgICAgICAgICAgIHsKICAiYnViYmxpbmdNb3VzZUV2ZW50cyI6IHRydWUsCiAgImNvbG9yIjogImJsdWUiLAogICJkYXNoQXJyYXkiOiBudWxsLAogICJkYXNoT2Zmc2V0IjogbnVsbCwKICAiZmlsbCI6ICJibHVlIiwKICAiZmlsbENvbG9yIjogImJsdWUiLAogICJmaWxsT3BhY2l0eSI6IDAuMiwKICAiZmlsbFJ1bGUiOiAiZXZlbm9kZCIsCiAgImxpbmVDYXAiOiAicm91bmQiLAogICJsaW5lSm9pbiI6ICJyb3VuZCIsCiAgIm9wYWNpdHkiOiAxLjAsCiAgInJhZGl1cyI6IDUwNTQzLAogICJzdHJva2UiOiB0cnVlLAogICJ3ZWlnaHQiOiAzCn0KICAgICAgICAgICAgICAgICkKICAgICAgICAgICAgICAgIC5hZGRUbyhtYXBfZGRiMDMxNmNhZDczNGY3NmE1MjBlNzY3NjFjZDRkNzgpOwogICAgICAgICAgICAKICAgIAogICAgICAgIGNpcmNsZV81OWNlZGMxYTQ0MTY0ZWJjYWQyZDAzNTg1OTEyMDkwNC5iaW5kVG9vbHRpcCgKICAgICAgICAgICAgYDxkaXY+YAogICAgICAgICAgICArIGA8bGk+PGJvbGQ+Q291bnRyeSA6IEJvc25pYSBhbmQgSGVyemVnb3ZpbmE8bGk+PGJvbGQ+Q29uZmlybWVkIDogMjExNy4wPGxpPjxib2xkPkRlYXRoX3JhdGUgOiA1LjA1NDMyMjE1Mzk5MTQ5ODxsaT48Ym9sZD5EZWF0aHMgOiAxMDcuMDxsaT48Ym9sZD5sb2NrZG93biBkYXRlIDogMjAyMC0wMy0xMTxsaT48Ym9sZD5maXJzdCBjYXNlIGRhdGUgOiAyMDIwLTAzLTA2PGxpPjxib2xkPm1lYW4gYWdlIDogNDEuMGAgKyBgPC9kaXY+YCwKICAgICAgICAgICAgeyJzdGlja3kiOiB0cnVlfQogICAgICAgICk7CiAgICAgICAgCiAgICAKCiAgICAgICAgICAgIHZhciBjaXJjbGVfMTI2NzZkMjI2YWFiNDM4OTlhZTZiNWUwZWE0ZjUwYzYgPSBMLmNpcmNsZSgKICAgICAgICAgICAgICAgIFstMjIuMzI4NDc0LCAyNC42ODQ4NjZdLAogICAgICAgICAgICAgICAgewogICJidWJibGluZ01vdXNlRXZlbnRzIjogdHJ1ZSwKICAiY29sb3IiOiAiYmx1ZSIsCiAgImRhc2hBcnJheSI6IG51bGwsCiAgImRhc2hPZmZzZXQiOiBudWxsLAogICJmaWxsIjogImJsdWUiLAogICJmaWxsQ29sb3IiOiAiYmx1ZSIsCiAgImZpbGxPcGFjaXR5IjogMC4yLAogICJmaWxsUnVsZSI6ICJldmVub2RkIiwKICAibGluZUNhcCI6ICJyb3VuZCIsCiAgImxpbmVKb2luIjogInJvdW5kIiwKICAib3BhY2l0eSI6IDEuMCwKICAicmFkaXVzIjogNDM0NzgsCiAgInN0cm9rZSI6IHRydWUsCiAgIndlaWdodCI6IDMKfQogICAgICAgICAgICAgICAgKQogICAgICAgICAgICAgICAgLmFkZFRvKG1hcF9kZGIwMzE2Y2FkNzM0Zjc2YTUyMGU3Njc2MWNkNGQ3OCk7CiAgICAgICAgICAgIAogICAgCiAgICAgICAgY2lyY2xlXzEyNjc2ZDIyNmFhYjQzODk5YWU2YjVlMGVhNGY1MGM2LmJpbmRUb29sdGlwKAogICAgICAgICAgICBgPGRpdj5gCiAgICAgICAgICAgICsgYDxsaT48Ym9sZD5Db3VudHJ5IDogQm90c3dhbmE8bGk+PGJvbGQ+Q29uZmlybWVkIDogMjMuMDxsaT48Ym9sZD5EZWF0aF9yYXRlIDogNC4zNDc4MjYwODY5NTY1MjE1PGxpPjxib2xkPkRlYXRocyA6IDEuMDxsaT48Ym9sZD5sb2NrZG93biBkYXRlIDogMjAyMC0wNC0wMjxsaT48Ym9sZD5maXJzdCBjYXNlIGRhdGUgOiAyMDIwLTAzLTMxPGxpPjxib2xkPm1lYW4gYWdlIDogMjQuNGAgKyBgPC9kaXY+YCwKICAgICAgICAgICAgeyJzdGlja3kiOiB0cnVlfQogICAgICAgICk7CiAgICAgICAgCiAgICAKCiAgICAgICAgICAgIHZhciBjaXJjbGVfYTE0MDQwNTRkMGQ3NGM3YThjYmQ2Nzg2OTcyYzJhMDMgPSBMLmNpcmNsZSgKICAgICAgICAgICAgICAgIFstMTQuMjM1MDA0LCAtNTEuOTI1MjhdLAogICAgICAgICAgICAgICAgewogICJidWJibGluZ01vdXNlRXZlbnRzIjogdHJ1ZSwKICAiY29sb3IiOiAiYmx1ZSIsCiAgImRhc2hBcnJheSI6IG51bGwsCiAgImRhc2hPZmZzZXQiOiBudWxsLAogICJmaWxsIjogImJsdWUiLAogICJmaWxsQ29sb3IiOiAiYmx1ZSIsCiAgImZpbGxPcGFjaXR5IjogMC4yLAogICJmaWxsUnVsZSI6ICJldmVub2RkIiwKICAibGluZUNhcCI6ICJyb3VuZCIsCiAgImxpbmVKb2luIjogInJvdW5kIiwKICAib3BhY2l0eSI6IDEuMCwKICAicmFkaXVzIjogNjgzNjUsCiAgInN0cm9rZSI6IHRydWUsCiAgIndlaWdodCI6IDMKfQogICAgICAgICAgICAgICAgKQogICAgICAgICAgICAgICAgLmFkZFRvKG1hcF9kZGIwMzE2Y2FkNzM0Zjc2YTUyMGU3Njc2MWNkNGQ3OCk7CiAgICAgICAgICAgIAogICAgCiAgICAgICAgY2lyY2xlX2ExNDA0MDU0ZDBkNzRjN2E4Y2JkNjc4Njk3MmMyYTAzLmJpbmRUb29sdGlwKAogICAgICAgICAgICBgPGRpdj5gCiAgICAgICAgICAgICsgYDxsaT48Ym9sZD5Db3VudHJ5IDogQnJhemlsPGxpPjxib2xkPkNvbmZpcm1lZCA6IDE2MjY5OS4wPGxpPjxib2xkPkRlYXRoX3JhdGUgOiA2LjgzNjU1MDkzMTQ3NDY4NzxsaT48Ym9sZD5EZWF0aHMgOiAxMTEyMy4wPGxpPjxib2xkPmxvY2tkb3duIGRhdGUgOiAyMDIwLTAzLTE3PGxpPjxib2xkPmZpcnN0IGNhc2UgZGF0ZSA6IDIwMjAtMDItMjc8bGk+PGJvbGQ+bWVhbiBhZ2UgOiAzMS4zYCArIGA8L2Rpdj5gLAogICAgICAgICAgICB7InN0aWNreSI6IHRydWV9CiAgICAgICAgKTsKICAgICAgICAKICAgIAoKICAgICAgICAgICAgdmFyIGNpcmNsZV9lZDk0YTNmZjg0OTY0NTQ0OTg5ZDk2YjEyYjc4OGU4NCA9IEwuY2lyY2xlKAogICAgICAgICAgICAgICAgWzQuNTM1Mjc3LCAxMTQuNzI3NjY4OTk5OTk5OTldLAogICAgICAgICAgICAgICAgewogICJidWJibGluZ01vdXNlRXZlbnRzIjogdHJ1ZSwKICAiY29sb3IiOiAiYmx1ZSIsCiAgImRhc2hBcnJheSI6IG51bGwsCiAgImRhc2hPZmZzZXQiOiBudWxsLAogICJmaWxsIjogImJsdWUiLAogICJmaWxsQ29sb3IiOiAiYmx1ZSIsCiAgImZpbGxPcGFjaXR5IjogMC4yLAogICJmaWxsUnVsZSI6ICJldmVub2RkIiwKICAibGluZUNhcCI6ICJyb3VuZCIsCiAgImxpbmVKb2luIjogInJvdW5kIiwKICAib3BhY2l0eSI6IDEuMCwKICAicmFkaXVzIjogNzA5MiwKICAic3Ryb2tlIjogdHJ1ZSwKICAid2VpZ2h0IjogMwp9CiAgICAgICAgICAgICAgICApCiAgICAgICAgICAgICAgICAuYWRkVG8obWFwX2RkYjAzMTZjYWQ3MzRmNzZhNTIwZTc2NzYxY2Q0ZDc4KTsKICAgICAgICAgICAgCiAgICAKICAgICAgICBjaXJjbGVfZWQ5NGEzZmY4NDk2NDU0NDk4OWQ5NmIxMmI3ODhlODQuYmluZFRvb2x0aXAoCiAgICAgICAgICAgIGA8ZGl2PmAKICAgICAgICAgICAgKyBgPGxpPjxib2xkPkNvdW50cnkgOiBCcnVuZWk8bGk+PGJvbGQ+Q29uZmlybWVkIDogMTQxLjA8bGk+PGJvbGQ+RGVhdGhfcmF0ZSA6IDAuNzA5MjE5ODU4MTU2MDI4NDxsaT48Ym9sZD5EZWF0aHMgOiAxLjA8bGk+PGJvbGQ+bG9ja2Rvd24gZGF0ZSA6IG5hbjxsaT48Ym9sZD5maXJzdCBjYXNlIGRhdGUgOiAyMDIwLTAzLTEwPGxpPjxib2xkPm1lYW4gYWdlIDogMzcuMGAgKyBgPC9kaXY+YCwKICAgICAgICAgICAgeyJzdGlja3kiOiB0cnVlfQogICAgICAgICk7CiAgICAgICAgCiAgICAKCiAgICAgICAgICAgIHZhciBjaXJjbGVfYzc0NTQzOWE4NmM5NDMxNzkyM2EwOTIyZmY5ZjlmNjAgPSBMLmNpcmNsZSgKICAgICAgICAgICAgICAgIFs0Mi43MzM4ODMsIDI1LjQ4NTgzXSwKICAgICAgICAgICAgICAgIHsKICAiYnViYmxpbmdNb3VzZUV2ZW50cyI6IHRydWUsCiAgImNvbG9yIjogImJsdWUiLAogICJkYXNoQXJyYXkiOiBudWxsLAogICJkYXNoT2Zmc2V0IjogbnVsbCwKICAiZmlsbCI6ICJibHVlIiwKICAiZmlsbENvbG9yIjogImJsdWUiLAogICJmaWxsT3BhY2l0eSI6IDAuMiwKICAiZmlsbFJ1bGUiOiAiZXZlbm9kZCIsCiAgImxpbmVDYXAiOiAicm91bmQiLAogICJsaW5lSm9pbiI6ICJyb3VuZCIsCiAgIm9wYWNpdHkiOiAxLjAsCiAgInJhZGl1cyI6IDQ2MzEwLAogICJzdHJva2UiOiB0cnVlLAogICJ3ZWlnaHQiOiAzCn0KICAgICAgICAgICAgICAgICkKICAgICAgICAgICAgICAgIC5hZGRUbyhtYXBfZGRiMDMxNmNhZDczNGY3NmE1MjBlNzY3NjFjZDRkNzgpOwogICAgICAgICAgICAKICAgIAogICAgICAgIGNpcmNsZV9jNzQ1NDM5YTg2Yzk0MzE3OTIzYTA5MjJmZjlmOWY2MC5iaW5kVG9vbHRpcCgKICAgICAgICAgICAgYDxkaXY+YAogICAgICAgICAgICArIGA8bGk+PGJvbGQ+Q291bnRyeSA6IEJ1bGdhcmlhPGxpPjxib2xkPkNvbmZpcm1lZCA6IDE5NjUuMDxsaT48Ym9sZD5EZWF0aF9yYXRlIDogNC42MzEwNDMyNTY5OTc0NTU8bGk+PGJvbGQ+RGVhdGhzIDogOTEuMDxsaT48Ym9sZD5sb2NrZG93biBkYXRlIDogMjAyMC0wMy0xMzxsaT48Ym9sZD5maXJzdCBjYXNlIGRhdGUgOiAyMDIwLTAzLTA5PGxpPjxib2xkPm1lYW4gYWdlIDogNDMuNWAgKyBgPC9kaXY+YCwKICAgICAgICAgICAgeyJzdGlja3kiOiB0cnVlfQogICAgICAgICk7CiAgICAgICAgCiAgICAKCiAgICAgICAgICAgIHZhciBjaXJjbGVfYTNhYWViMzY4Yzk1NDA0YTgxMzQ3ZjU0Yjg2YWU2OWIgPSBMLmNpcmNsZSgKICAgICAgICAgICAgICAgIFsxMi4yMzgzMzMsIC0xLjU2MTU5M10sCiAgICAgICAgICAgICAgICB7CiAgImJ1YmJsaW5nTW91c2VFdmVudHMiOiB0cnVlLAogICJjb2xvciI6ICJibHVlIiwKICAiZGFzaEFycmF5IjogbnVsbCwKICAiZGFzaE9mZnNldCI6IG51bGwsCiAgImZpbGwiOiAiYmx1ZSIsCiAgImZpbGxDb2xvciI6ICJibHVlIiwKICAiZmlsbE9wYWNpdHkiOiAwLjIsCiAgImZpbGxSdWxlIjogImV2ZW5vZGQiLAogICJsaW5lQ2FwIjogInJvdW5kIiwKICAibGluZUpvaW4iOiAicm91bmQiLAogICJvcGFjaXR5IjogMS4wLAogICJyYWRpdXMiOiA2NTI0NiwKICAic3Ryb2tlIjogdHJ1ZSwKICAid2VpZ2h0IjogMwp9CiAgICAgICAgICAgICAgICApCiAgICAgICAgICAgICAgICAuYWRkVG8obWFwX2RkYjAzMTZjYWQ3MzRmNzZhNTIwZTc2NzYxY2Q0ZDc4KTsKICAgICAgICAgICAgCiAgICAKICAgICAgICBjaXJjbGVfYTNhYWViMzY4Yzk1NDA0YTgxMzQ3ZjU0Yjg2YWU2OWIuYmluZFRvb2x0aXAoCiAgICAgICAgICAgIGA8ZGl2PmAKICAgICAgICAgICAgKyBgPGxpPjxib2xkPkNvdW50cnkgOiBCdXJraW5hIEZhc288bGk+PGJvbGQ+Q29uZmlybWVkIDogNzUxLjA8bGk+PGJvbGQ+RGVhdGhfcmF0ZSA6IDYuNTI0NjMzODIxNTcxMjM4PGxpPjxib2xkPkRlYXRocyA6IDQ5LjA8bGk+PGJvbGQ+bG9ja2Rvd24gZGF0ZSA6IDIwMjAtMDMtMjE8bGk+PGJvbGQ+Zmlyc3QgY2FzZSBkYXRlIDogMjAyMC0wMy0xMTxsaT48Ym9sZD5tZWFuIGFnZSA6IDE3LjBgICsgYDwvZGl2PmAsCiAgICAgICAgICAgIHsic3RpY2t5IjogdHJ1ZX0KICAgICAgICApOwogICAgICAgIAogICAgCgogICAgICAgICAgICB2YXIgY2lyY2xlXzFhZjU5NWNlN2E0MjQ1OWQ4YmVkNjZhOTQ1MzFmNDVhID0gTC5jaXJjbGUoCiAgICAgICAgICAgICAgICBbMjEuOTE2MiwgOTUuOTU2XSwKICAgICAgICAgICAgICAgIHsKICAiYnViYmxpbmdNb3VzZUV2ZW50cyI6IHRydWUsCiAgImNvbG9yIjogImJsdWUiLAogICJkYXNoQXJyYXkiOiBudWxsLAogICJkYXNoT2Zmc2V0IjogbnVsbCwKICAiZmlsbCI6ICJibHVlIiwKICAiZmlsbENvbG9yIjogImJsdWUiLAogICJmaWxsT3BhY2l0eSI6IDAuMiwKICAiZmlsbFJ1bGUiOiAiZXZlbm9kZCIsCiAgImxpbmVDYXAiOiAicm91bmQiLAogICJsaW5lSm9pbiI6ICJyb3VuZCIsCiAgIm9wYWNpdHkiOiAxLjAsCiAgInJhZGl1cyI6IDMzMzMzLAogICJzdHJva2UiOiB0cnVlLAogICJ3ZWlnaHQiOiAzCn0KICAgICAgICAgICAgICAgICkKICAgICAgICAgICAgICAgIC5hZGRUbyhtYXBfZGRiMDMxNmNhZDczNGY3NmE1MjBlNzY3NjFjZDRkNzgpOwogICAgICAgICAgICAKICAgIAogICAgICAgIGNpcmNsZV8xYWY1OTVjZTdhNDI0NTlkOGJlZDY2YTk0NTMxZjQ1YS5iaW5kVG9vbHRpcCgKICAgICAgICAgICAgYDxkaXY+YAogICAgICAgICAgICArIGA8bGk+PGJvbGQ+Q291bnRyeSA6IEJ1cm1hPGxpPjxib2xkPkNvbmZpcm1lZCA6IDE4MC4wPGxpPjxib2xkPkRlYXRoX3JhdGUgOiAzLjMzMzMzMzMzMzMzMzMzMzU8bGk+PGJvbGQ+RGVhdGhzIDogNi4wPGxpPjxib2xkPmxvY2tkb3duIGRhdGUgOiBuYW48bGk+PGJvbGQ+Zmlyc3QgY2FzZSBkYXRlIDogMjAyMC0wMy0yODxsaT48Ym9sZD5tZWFuIGFnZSA6IDM3LjBgICsgYDwvZGl2PmAsCiAgICAgICAgICAgIHsic3RpY2t5IjogdHJ1ZX0KICAgICAgICApOwogICAgICAgIAogICAgCgogICAgICAgICAgICB2YXIgY2lyY2xlXzAzOWMxZmJkZGUyZDQ4NTBiMWU1NjhkMDI4OGVkNDJhID0gTC5jaXJjbGUoCiAgICAgICAgICAgICAgICBbLTMuMzczMDU1OTk5OTk5OTk5NiwgMjkuOTE4ODg1OTk5OTk5OTk3XSwKICAgICAgICAgICAgICAgIHsKICAiYnViYmxpbmdNb3VzZUV2ZW50cyI6IHRydWUsCiAgImNvbG9yIjogImJsdWUiLAogICJkYXNoQXJyYXkiOiBudWxsLAogICJkYXNoT2Zmc2V0IjogbnVsbCwKICAiZmlsbCI6ICJibHVlIiwKICAiZmlsbENvbG9yIjogImJsdWUiLAogICJmaWxsT3BhY2l0eSI6IDAuMiwKICAiZmlsbFJ1bGUiOiAiZXZlbm9kZCIsCiAgImxpbmVDYXAiOiAicm91bmQiLAogICJsaW5lSm9pbiI6ICJyb3VuZCIsCiAgIm9wYWNpdHkiOiAxLjAsCiAgInJhZGl1cyI6IDY2NjY2LAogICJzdHJva2UiOiB0cnVlLAogICJ3ZWlnaHQiOiAzCn0KICAgICAgICAgICAgICAgICkKICAgICAgICAgICAgICAgIC5hZGRUbyhtYXBfZGRiMDMxNmNhZDczNGY3NmE1MjBlNzY3NjFjZDRkNzgpOwogICAgICAgICAgICAKICAgIAogICAgICAgIGNpcmNsZV8wMzljMWZiZGRlMmQ0ODUwYjFlNTY4ZDAyODhlZDQyYS5iaW5kVG9vbHRpcCgKICAgICAgICAgICAgYDxkaXY+YAogICAgICAgICAgICArIGA8bGk+PGJvbGQ+Q291bnRyeSA6IEJ1cnVuZGk8bGk+PGJvbGQ+Q29uZmlybWVkIDogMTUuMDxsaT48Ym9sZD5EZWF0aF9yYXRlIDogNi42NjY2NjY2NjY2NjY2Njc8bGk+PGJvbGQ+RGVhdGhzIDogMS4wPGxpPjxib2xkPmxvY2tkb3duIGRhdGUgOiBuYW48bGk+PGJvbGQ+Zmlyc3QgY2FzZSBkYXRlIDogMjAyMC0wNC0wMTxsaT48Ym9sZD5tZWFuIGFnZSA6IDE3LjZgICsgYDwvZGl2PmAsCiAgICAgICAgICAgIHsic3RpY2t5IjogdHJ1ZX0KICAgICAgICApOwogICAgICAgIAogICAgCgogICAgICAgICAgICB2YXIgY2lyY2xlXzA1ZjJlNmI4ZDdiZDQ5ZGE4OTM3ZWVmM2QzNjYxNjkwID0gTC5jaXJjbGUoCiAgICAgICAgICAgICAgICBbMTYuNTM4OCwgLTIzLjA0MThdLAogICAgICAgICAgICAgICAgewogICJidWJibGluZ01vdXNlRXZlbnRzIjogdHJ1ZSwKICAiY29sb3IiOiAiYmx1ZSIsCiAgImRhc2hBcnJheSI6IG51bGwsCiAgImRhc2hPZmZzZXQiOiBudWxsLAogICJmaWxsIjogImJsdWUiLAogICJmaWxsQ29sb3IiOiAiYmx1ZSIsCiAgImZpbGxPcGFjaXR5IjogMC4yLAogICJmaWxsUnVsZSI6ICJldmVub2RkIiwKICAibGluZUNhcCI6ICJyb3VuZCIsCiAgImxpbmVKb2luIjogInJvdW5kIiwKICAib3BhY2l0eSI6IDEuMCwKICAicmFkaXVzIjogODEzMCwKICAic3Ryb2tlIjogdHJ1ZSwKICAid2VpZ2h0IjogMwp9CiAgICAgICAgICAgICAgICApCiAgICAgICAgICAgICAgICAuYWRkVG8obWFwX2RkYjAzMTZjYWQ3MzRmNzZhNTIwZTc2NzYxY2Q0ZDc4KTsKICAgICAgICAgICAgCiAgICAKICAgICAgICBjaXJjbGVfMDVmMmU2YjhkN2JkNDlkYTg5MzdlZWYzZDM2NjE2OTAuYmluZFRvb2x0aXAoCiAgICAgICAgICAgIGA8ZGl2PmAKICAgICAgICAgICAgKyBgPGxpPjxib2xkPkNvdW50cnkgOiBDYWJvIFZlcmRlPGxpPjxib2xkPkNvbmZpcm1lZCA6IDI0Ni4wPGxpPjxib2xkPkRlYXRoX3JhdGUgOiAwLjgxMzAwODEzMDA4MTMwMDg8bGk+PGJvbGQ+RGVhdGhzIDogMi4wPGxpPjxib2xkPmxvY2tkb3duIGRhdGUgOiBuYW48bGk+PGJvbGQ+Zmlyc3QgY2FzZSBkYXRlIDogMjAyMC0wMy0yMTxsaT48Ym9sZD5tZWFuIGFnZSA6IDIzLjhgICsgYDwvZGl2PmAsCiAgICAgICAgICAgIHsic3RpY2t5IjogdHJ1ZX0KICAgICAgICApOwogICAgICAgIAogICAgCgogICAgICAgICAgICB2YXIgY2lyY2xlXzA1ZmE0MWRjMTllOTQ3MmZhMjVkNmZjZDVjMDgzYjAzID0gTC5jaXJjbGUoCiAgICAgICAgICAgICAgICBbMTIuNTY1Njc5LCAxMDQuOTkwOTYzXSwKICAgICAgICAgICAgICAgIHsKICAiYnViYmxpbmdNb3VzZUV2ZW50cyI6IHRydWUsCiAgImNvbG9yIjogImJsdWUiLAogICJkYXNoQXJyYXkiOiBudWxsLAogICJkYXNoT2Zmc2V0IjogbnVsbCwKICAiZmlsbCI6ICJibHVlIiwKICAiZmlsbENvbG9yIjogImJsdWUiLAogICJmaWxsT3BhY2l0eSI6IDAuMiwKICAiZmlsbFJ1bGUiOiAiZXZlbm9kZCIsCiAgImxpbmVDYXAiOiAicm91bmQiLAogICJsaW5lSm9pbiI6ICJyb3VuZCIsCiAgIm9wYWNpdHkiOiAxLjAsCiAgInN0cm9rZSI6IHRydWUsCiAgIndlaWdodCI6IDMKfQogICAgICAgICAgICAgICAgKQogICAgICAgICAgICAgICAgLmFkZFRvKG1hcF9kZGIwMzE2Y2FkNzM0Zjc2YTUyMGU3Njc2MWNkNGQ3OCk7CiAgICAgICAgICAgIAogICAgCiAgICAgICAgY2lyY2xlXzA1ZmE0MWRjMTllOTQ3MmZhMjVkNmZjZDVjMDgzYjAzLmJpbmRUb29sdGlwKAogICAgICAgICAgICBgPGRpdj5gCiAgICAgICAgICAgICsgYDxsaT48Ym9sZD5Db3VudHJ5IDogQ2FtYm9kaWE8bGk+PGJvbGQ+Q29uZmlybWVkIDogMTIyLjA8bGk+PGJvbGQ+RGVhdGhfcmF0ZSA6IDAuMDxsaT48Ym9sZD5EZWF0aHMgOiAwLjA8bGk+PGJvbGQ+bG9ja2Rvd24gZGF0ZSA6IDIwMjAtMDMtMjg8bGk+PGJvbGQ+Zmlyc3QgY2FzZSBkYXRlIDogMjAyMC0wMS0yODxsaT48Ym9sZD5tZWFuIGFnZSA6IDI0LjBgICsgYDwvZGl2PmAsCiAgICAgICAgICAgIHsic3RpY2t5IjogdHJ1ZX0KICAgICAgICApOwogICAgICAgIAogICAgCgogICAgICAgICAgICB2YXIgY2lyY2xlX2ZkOGZmNmFlNzhlMDQ3NjdiZTU5ZGY2Yzk5OWI2ZWIwID0gTC5jaXJjbGUoCiAgICAgICAgICAgICAgICBbNy4zNjk3MjIsIDEyLjM1NDcyMl0sCiAgICAgICAgICAgICAgICB7CiAgImJ1YmJsaW5nTW91c2VFdmVudHMiOiB0cnVlLAogICJjb2xvciI6ICJibHVlIiwKICAiZGFzaEFycmF5IjogbnVsbCwKICAiZGFzaE9mZnNldCI6IG51bGwsCiAgImZpbGwiOiAiYmx1ZSIsCiAgImZpbGxDb2xvciI6ICJibHVlIiwKICAiZmlsbE9wYWNpdHkiOiAwLjIsCiAgImZpbGxSdWxlIjogImV2ZW5vZGQiLAogICJsaW5lQ2FwIjogInJvdW5kIiwKICAibGluZUpvaW4iOiAicm91bmQiLAogICJvcGFjaXR5IjogMS4wLAogICJyYWRpdXMiOiA0NDIwMywKICAic3Ryb2tlIjogdHJ1ZSwKICAid2VpZ2h0IjogMwp9CiAgICAgICAgICAgICAgICApCiAgICAgICAgICAgICAgICAuYWRkVG8obWFwX2RkYjAzMTZjYWQ3MzRmNzZhNTIwZTc2NzYxY2Q0ZDc4KTsKICAgICAgICAgICAgCiAgICAKICAgICAgICBjaXJjbGVfZmQ4ZmY2YWU3OGUwNDc2N2JlNTlkZjZjOTk5YjZlYjAuYmluZFRvb2x0aXAoCiAgICAgICAgICAgIGA8ZGl2PmAKICAgICAgICAgICAgKyBgPGxpPjxib2xkPkNvdW50cnkgOiBDYW1lcm9vbjxsaT48Ym9sZD5Db25maXJtZWQgOiAyNTc5LjA8bGk+PGJvbGQ+RGVhdGhfcmF0ZSA6IDQuNDIwMzE3OTUyNjk0ODQzPGxpPjxib2xkPkRlYXRocyA6IDExNC4wPGxpPjxib2xkPmxvY2tkb3duIGRhdGUgOiBuYW48bGk+PGJvbGQ+Zmlyc3QgY2FzZSBkYXRlIDogMjAyMC0wMy0wNzxsaT48Ym9sZD5tZWFuIGFnZSA6IDE4LjNgICsgYDwvZGl2PmAsCiAgICAgICAgICAgIHsic3RpY2t5IjogdHJ1ZX0KICAgICAgICApOwogICAgICAgIAogICAgCgogICAgICAgICAgICB2YXIgY2lyY2xlX2FjMjYzOWNiMDg5MzQ0MThhYjY1OWQwMjQzZjJhYTI0ID0gTC5jaXJjbGUoCiAgICAgICAgICAgICAgICBbNTYuMTMwMzY2LCAtMTA2LjM0Njc3MDk5OTk5OTk5XSwKICAgICAgICAgICAgICAgIHsKICAiYnViYmxpbmdNb3VzZUV2ZW50cyI6IHRydWUsCiAgImNvbG9yIjogImJsdWUiLAogICJkYXNoQXJyYXkiOiBudWxsLAogICJkYXNoT2Zmc2V0IjogbnVsbCwKICAiZmlsbCI6ICJibHVlIiwKICAiZmlsbENvbG9yIjogImJsdWUiLAogICJmaWxsT3BhY2l0eSI6IDAuMiwKICAiZmlsbFJ1bGUiOiAiZXZlbm9kZCIsCiAgImxpbmVDYXAiOiAicm91bmQiLAogICJsaW5lSm9pbiI6ICJyb3VuZCIsCiAgIm9wYWNpdHkiOiAxLjAsCiAgInJhZGl1cyI6IDcxMjA3LAogICJzdHJva2UiOiB0cnVlLAogICJ3ZWlnaHQiOiAzCn0KICAgICAgICAgICAgICAgICkKICAgICAgICAgICAgICAgIC5hZGRUbyhtYXBfZGRiMDMxNmNhZDczNGY3NmE1MjBlNzY3NjFjZDRkNzgpOwogICAgICAgICAgICAKICAgIAogICAgICAgIGNpcmNsZV9hYzI2MzljYjA4OTM0NDE4YWI2NTlkMDI0M2YyYWEyNC5iaW5kVG9vbHRpcCgKICAgICAgICAgICAgYDxkaXY+YAogICAgICAgICAgICArIGA8bGk+PGJvbGQ+Q291bnRyeSA6IENhbmFkYTxsaT48Ym9sZD5Db25maXJtZWQgOiA3MDA3Ny4wPGxpPjxib2xkPkRlYXRoX3JhdGUgOiA3LjEyMDczODYxNjA5MzcyNjxsaT48Ym9sZD5EZWF0aHMgOiA0OTkwLjA8bGk+PGJvbGQ+bG9ja2Rvd24gZGF0ZSA6IDIwMjAtMDMtMTY8bGk+PGJvbGQ+Zmlyc3QgY2FzZSBkYXRlIDogMjAyMC0wMS0yNzxsaT48Ym9sZD5tZWFuIGFnZSA6IDQwLjVgICsgYDwvZGl2PmAsCiAgICAgICAgICAgIHsic3RpY2t5IjogdHJ1ZX0KICAgICAgICApOwogICAgICAgIAogICAgCgogICAgICAgICAgICB2YXIgY2lyY2xlX2Y3ZjBlN2I2MDlhYzQ1YWU4ZTNiMGVkZTdlN2IyMWVlID0gTC5jaXJjbGUoCiAgICAgICAgICAgICAgICBbNi42MTExMTEsIDIwLjkzOTQ0NF0sCiAgICAgICAgICAgICAgICB7CiAgImJ1YmJsaW5nTW91c2VFdmVudHMiOiB0cnVlLAogICJjb2xvciI6ICJibHVlIiwKICAiZGFzaEFycmF5IjogbnVsbCwKICAiZGFzaE9mZnNldCI6IG51bGwsCiAgImZpbGwiOiAiYmx1ZSIsCiAgImZpbGxDb2xvciI6ICJibHVlIiwKICAiZmlsbE9wYWNpdHkiOiAwLjIsCiAgImZpbGxSdWxlIjogImV2ZW5vZGQiLAogICJsaW5lQ2FwIjogInJvdW5kIiwKICAibGluZUpvaW4iOiAicm91bmQiLAogICJvcGFjaXR5IjogMS4wLAogICJzdHJva2UiOiB0cnVlLAogICJ3ZWlnaHQiOiAzCn0KICAgICAgICAgICAgICAgICkKICAgICAgICAgICAgICAgIC5hZGRUbyhtYXBfZGRiMDMxNmNhZDczNGY3NmE1MjBlNzY3NjFjZDRkNzgpOwogICAgICAgICAgICAKICAgIAogICAgICAgIGNpcmNsZV9mN2YwZTdiNjA5YWM0NWFlOGUzYjBlZGU3ZTdiMjFlZS5iaW5kVG9vbHRpcCgKICAgICAgICAgICAgYDxkaXY+YAogICAgICAgICAgICArIGA8bGk+PGJvbGQ+Q291bnRyeSA6IENlbnRyYWwgQWZyaWNhbiBSZXB1YmxpYzxsaT48Ym9sZD5Db25maXJtZWQgOiAxNDMuMDxsaT48Ym9sZD5EZWF0aF9yYXRlIDogMC4wPGxpPjxib2xkPkRlYXRocyA6IDAuMDxsaT48Ym9sZD5sb2NrZG93biBkYXRlIDogbmFuPGxpPjxib2xkPmZpcnN0IGNhc2UgZGF0ZSA6IDIwMjAtMDMtMTY8bGk+PGJvbGQ+bWVhbiBhZ2UgOiAxNy44YCArIGA8L2Rpdj5gLAogICAgICAgICAgICB7InN0aWNreSI6IHRydWV9CiAgICAgICAgKTsKICAgICAgICAKICAgIAoKICAgICAgICAgICAgdmFyIGNpcmNsZV9jMDEzNWMwODkwZWY0NTY0ODcyYzAzYTRlOWUxMThkYSA9IEwuY2lyY2xlKAogICAgICAgICAgICAgICAgWzE1LjQ1NDE2NiwgMTguNzMyMjA3XSwKICAgICAgICAgICAgICAgIHsKICAiYnViYmxpbmdNb3VzZUV2ZW50cyI6IHRydWUsCiAgImNvbG9yIjogImJsdWUiLAogICJkYXNoQXJyYXkiOiBudWxsLAogICJkYXNoT2Zmc2V0IjogbnVsbCwKICAiZmlsbCI6ICJibHVlIiwKICAiZmlsbENvbG9yIjogImJsdWUiLAogICJmaWxsT3BhY2l0eSI6IDAuMiwKICAiZmlsbFJ1bGUiOiAiZXZlbm9kZCIsCiAgImxpbmVDYXAiOiAicm91bmQiLAogICJsaW5lSm9pbiI6ICJyb3VuZCIsCiAgIm9wYWNpdHkiOiAxLjAsCiAgInJhZGl1cyI6IDk2MjczLAogICJzdHJva2UiOiB0cnVlLAogICJ3ZWlnaHQiOiAzCn0KICAgICAgICAgICAgICAgICkKICAgICAgICAgICAgICAgIC5hZGRUbyhtYXBfZGRiMDMxNmNhZDczNGY3NmE1MjBlNzY3NjFjZDRkNzgpOwogICAgICAgICAgICAKICAgIAogICAgICAgIGNpcmNsZV9jMDEzNWMwODkwZWY0NTY0ODcyYzAzYTRlOWUxMThkYS5iaW5kVG9vbHRpcCgKICAgICAgICAgICAgYDxkaXY+YAogICAgICAgICAgICArIGA8bGk+PGJvbGQ+Q291bnRyeSA6IENoYWQ8bGk+PGJvbGQ+Q29uZmlybWVkIDogMzIyLjA8bGk+PGJvbGQ+RGVhdGhfcmF0ZSA6IDkuNjI3MzI5MTkyNTQ2NTg0PGxpPjxib2xkPkRlYXRocyA6IDMxLjA8bGk+PGJvbGQ+bG9ja2Rvd24gZGF0ZSA6IG5hbjxsaT48Ym9sZD5maXJzdCBjYXNlIGRhdGUgOiAyMDIwLTAzLTIwPGxpPjxib2xkPm1lYW4gYWdlIDogMTYuMWAgKyBgPC9kaXY+YCwKICAgICAgICAgICAgeyJzdGlja3kiOiB0cnVlfQogICAgICAgICk7CiAgICAgICAgCiAgICAKCiAgICAgICAgICAgIHZhciBjaXJjbGVfMmI0MDdiMTU0ZTVmNDQ1OThlZGUyYjQ2MzM4MDM5M2YgPSBMLmNpcmNsZSgKICAgICAgICAgICAgICAgIFstMzUuNjc1MTQ2OTk5OTk5OTk2LCAtNzEuNTQyOTY5XSwKICAgICAgICAgICAgICAgIHsKICAiYnViYmxpbmdNb3VzZUV2ZW50cyI6IHRydWUsCiAgImNvbG9yIjogImJsdWUiLAogICJkYXNoQXJyYXkiOiBudWxsLAogICJkYXNoT2Zmc2V0IjogbnVsbCwKICAiZmlsbCI6ICJibHVlIiwKICAiZmlsbENvbG9yIjogImJsdWUiLAogICJmaWxsT3BhY2l0eSI6IDAuMiwKICAiZmlsbFJ1bGUiOiAiZXZlbm9kZCIsCiAgImxpbmVDYXAiOiAicm91bmQiLAogICJsaW5lSm9pbiI6ICJyb3VuZCIsCiAgIm9wYWNpdHkiOiAxLjAsCiAgInJhZGl1cyI6IDEwODA4LAogICJzdHJva2UiOiB0cnVlLAogICJ3ZWlnaHQiOiAzCn0KICAgICAgICAgICAgICAgICkKICAgICAgICAgICAgICAgIC5hZGRUbyhtYXBfZGRiMDMxNmNhZDczNGY3NmE1MjBlNzY3NjFjZDRkNzgpOwogICAgICAgICAgICAKICAgIAogICAgICAgIGNpcmNsZV8yYjQwN2IxNTRlNWY0NDU5OGVkZTJiNDYzMzgwMzkzZi5iaW5kVG9vbHRpcCgKICAgICAgICAgICAgYDxkaXY+YAogICAgICAgICAgICArIGA8bGk+PGJvbGQ+Q291bnRyeSA6IENoaWxlPGxpPjxib2xkPkNvbmZpcm1lZCA6IDI4ODY2LjA8bGk+PGJvbGQ+RGVhdGhfcmF0ZSA6IDEuMDgwODU2MzcwODE2ODc4PGxpPjxib2xkPkRlYXRocyA6IDMxMi4wPGxpPjxib2xkPmxvY2tkb3duIGRhdGUgOiAyMDIwLTAzLTI2PGxpPjxib2xkPmZpcnN0IGNhc2UgZGF0ZSA6IDIwMjAtMDMtMDQ8bGk+PGJvbGQ+bWVhbiBhZ2UgOiAzMy43YCArIGA8L2Rpdj5gLAogICAgICAgICAgICB7InN0aWNreSI6IHRydWV9CiAgICAgICAgKTsKICAgICAgICAKICAgIAoKICAgICAgICAgICAgdmFyIGNpcmNsZV81ODhkZTliNGU0NDI0ZTE3YmI3ZmY0MjIwMDFkMjMxNyA9IEwuY2lyY2xlKAogICAgICAgICAgICAgICAgWzM1Ljg2MTY2LCAxMDQuMTk1Mzk3XSwKICAgICAgICAgICAgICAgIHsKICAiYnViYmxpbmdNb3VzZUV2ZW50cyI6IHRydWUsCiAgImNvbG9yIjogImJsdWUiLAogICJkYXNoQXJyYXkiOiBudWxsLAogICJkYXNoT2Zmc2V0IjogbnVsbCwKICAiZmlsbCI6ICJibHVlIiwKICAiZmlsbENvbG9yIjogImJsdWUiLAogICJmaWxsT3BhY2l0eSI6IDAuMiwKICAiZmlsbFJ1bGUiOiAiZXZlbm9kZCIsCiAgImxpbmVDYXAiOiAicm91bmQiLAogICJsaW5lSm9pbiI6ICJyb3VuZCIsCiAgIm9wYWNpdHkiOiAxLjAsCiAgInJhZGl1cyI6IDU1MTk1LAogICJzdHJva2UiOiB0cnVlLAogICJ3ZWlnaHQiOiAzCn0KICAgICAgICAgICAgICAgICkKICAgICAgICAgICAgICAgIC5hZGRUbyhtYXBfZGRiMDMxNmNhZDczNGY3NmE1MjBlNzY3NjFjZDRkNzgpOwogICAgICAgICAgICAKICAgIAogICAgICAgIGNpcmNsZV81ODhkZTliNGU0NDI0ZTE3YmI3ZmY0MjIwMDFkMjMxNy5iaW5kVG9vbHRpcCgKICAgICAgICAgICAgYDxkaXY+YAogICAgICAgICAgICArIGA8bGk+PGJvbGQ+Q291bnRyeSA6IENoaW5hPGxpPjxib2xkPkNvbmZpcm1lZCA6IDg0MDEwLjA8bGk+PGJvbGQ+RGVhdGhfcmF0ZSA6IDUuNTE5NTgxMDAyMjYxNjM2PGxpPjxib2xkPkRlYXRocyA6IDQ2MzcuMDxsaT48Ym9sZD5sb2NrZG93biBkYXRlIDogMjAyMC0wMS0yMzxsaT48Ym9sZD5maXJzdCBjYXNlIGRhdGUgOiAyMDIwLTAxLTIyPGxpPjxib2xkPm1lYW4gYWdlIDogMzcuMGAgKyBgPC9kaXY+YCwKICAgICAgICAgICAgeyJzdGlja3kiOiB0cnVlfQogICAgICAgICk7CiAgICAgICAgCiAgICAKCiAgICAgICAgICAgIHZhciBjaXJjbGVfZTVlNTZmNjMyOTIxNDliNjlmNzYyZGI2N2U0NjlmY2EgPSBMLmNpcmNsZSgKICAgICAgICAgICAgICAgIFs0LjU3MDg2OCwgLTc0LjI5NzMzM10sCiAgICAgICAgICAgICAgICB7CiAgImJ1YmJsaW5nTW91c2VFdmVudHMiOiB0cnVlLAogICJjb2xvciI6ICJibHVlIiwKICAiZGFzaEFycmF5IjogbnVsbCwKICAiZGFzaE9mZnNldCI6IG51bGwsCiAgImZpbGwiOiAiYmx1ZSIsCiAgImZpbGxDb2xvciI6ICJibHVlIiwKICAiZmlsbE9wYWNpdHkiOiAwLjIsCiAgImZpbGxSdWxlIjogImV2ZW5vZGQiLAogICJsaW5lQ2FwIjogInJvdW5kIiwKICAibGluZUpvaW4iOiAicm91bmQiLAogICJvcGFjaXR5IjogMS4wLAogICJyYWRpdXMiOiA0MTg1MSwKICAic3Ryb2tlIjogdHJ1ZSwKICAid2VpZ2h0IjogMwp9CiAgICAgICAgICAgICAgICApCiAgICAgICAgICAgICAgICAuYWRkVG8obWFwX2RkYjAzMTZjYWQ3MzRmNzZhNTIwZTc2NzYxY2Q0ZDc4KTsKICAgICAgICAgICAgCiAgICAKICAgICAgICBjaXJjbGVfZTVlNTZmNjMyOTIxNDliNjlmNzYyZGI2N2U0NjlmY2EuYmluZFRvb2x0aXAoCiAgICAgICAgICAgIGA8ZGl2PmAKICAgICAgICAgICAgKyBgPGxpPjxib2xkPkNvdW50cnkgOiBDb2xvbWJpYTxsaT48Ym9sZD5Db25maXJtZWQgOiAxMTA2My4wPGxpPjxib2xkPkRlYXRoX3JhdGUgOiA0LjE4NTEyMTU3NjQyNTkyNDxsaT48Ym9sZD5EZWF0aHMgOiA0NjMuMDxsaT48Ym9sZD5sb2NrZG93biBkYXRlIDogMjAyMC0wMy0yNTxsaT48Ym9sZD5maXJzdCBjYXNlIGRhdGUgOiAyMDIwLTAzLTA3PGxpPjxib2xkPm1lYW4gYWdlIDogMzAuMWAgKyBgPC9kaXY+YCwKICAgICAgICAgICAgeyJzdGlja3kiOiB0cnVlfQogICAgICAgICk7CiAgICAgICAgCiAgICAKCiAgICAgICAgICAgIHZhciBjaXJjbGVfNTU5M2YzYjRjNmY0NGFiYWFhM2VhMTRlZGE4MjNjYzUgPSBMLmNpcmNsZSgKICAgICAgICAgICAgICAgIFstNC41MjE2NjYwMDAwMDAwMDE1LCAyMS45NjQyNTVdLAogICAgICAgICAgICAgICAgewogICJidWJibGluZ01vdXNlRXZlbnRzIjogdHJ1ZSwKICAiY29sb3IiOiAiYmx1ZSIsCiAgImRhc2hBcnJheSI6IG51bGwsCiAgImRhc2hPZmZzZXQiOiBudWxsLAogICJmaWxsIjogImJsdWUiLAogICJmaWxsQ29sb3IiOiAiYmx1ZSIsCiAgImZpbGxPcGFjaXR5IjogMC4yLAogICJmaWxsUnVsZSI6ICJldmVub2RkIiwKICAibGluZUNhcCI6ICJyb3VuZCIsCiAgImxpbmVKb2luIjogInJvdW5kIiwKICAib3BhY2l0eSI6IDEuMCwKICAicmFkaXVzIjogMzY0OTYsCiAgInN0cm9rZSI6IHRydWUsCiAgIndlaWdodCI6IDMKfQogICAgICAgICAgICAgICAgKQogICAgICAgICAgICAgICAgLmFkZFRvKG1hcF9kZGIwMzE2Y2FkNzM0Zjc2YTUyMGU3Njc2MWNkNGQ3OCk7CiAgICAgICAgICAgIAogICAgCiAgICAgICAgY2lyY2xlXzU1OTNmM2I0YzZmNDRhYmFhYTNlYTE0ZWRhODIzY2M1LmJpbmRUb29sdGlwKAogICAgICAgICAgICBgPGRpdj5gCiAgICAgICAgICAgICsgYDxsaT48Ym9sZD5Db3VudHJ5IDogQ29uZ28gKEJyYXp6YXZpbGxlKTxsaT48Ym9sZD5Db25maXJtZWQgOiAyNzQuMDxsaT48Ym9sZD5EZWF0aF9yYXRlIDogMy42NDk2MzUwMzY0OTYzNTAzPGxpPjxib2xkPkRlYXRocyA6IDEwLjA8bGk+PGJvbGQ+bG9ja2Rvd24gZGF0ZSA6IDIwMjAtMDMtMjg8bGk+PGJvbGQ+Zmlyc3QgY2FzZSBkYXRlIDogMjAyMC0wMy0xNjxsaT48Ym9sZD5tZWFuIGFnZSA6IDM3LjBgICsgYDwvZGl2PmAsCiAgICAgICAgICAgIHsic3RpY2t5IjogdHJ1ZX0KICAgICAgICApOwogICAgICAgIAogICAgCgogICAgICAgICAgICB2YXIgY2lyY2xlXzNjN2E0NTFlMWYxMjQzYWJhMGUxMzE3YTFiMTFmMTY2ID0gTC5jaXJjbGUoCiAgICAgICAgICAgICAgICBbLTEuMTQyNTAyLCAxNS44NTI5NTFdLAogICAgICAgICAgICAgICAgewogICJidWJibGluZ01vdXNlRXZlbnRzIjogdHJ1ZSwKICAiY29sb3IiOiAiYmx1ZSIsCiAgImRhc2hBcnJheSI6IG51bGwsCiAgImRhc2hPZmZzZXQiOiBudWxsLAogICJmaWxsIjogImJsdWUiLAogICJmaWxsQ29sb3IiOiAiYmx1ZSIsCiAgImZpbGxPcGFjaXR5IjogMC4yLAogICJmaWxsUnVsZSI6ICJldmVub2RkIiwKICAibGluZUNhcCI6ICJyb3VuZCIsCiAgImxpbmVKb2luIjogInJvdW5kIiwKICAib3BhY2l0eSI6IDEuMCwKICAicmFkaXVzIjogNDEzNzIsCiAgInN0cm9rZSI6IHRydWUsCiAgIndlaWdodCI6IDMKfQogICAgICAgICAgICAgICAgKQogICAgICAgICAgICAgICAgLmFkZFRvKG1hcF9kZGIwMzE2Y2FkNzM0Zjc2YTUyMGU3Njc2MWNkNGQ3OCk7CiAgICAgICAgICAgIAogICAgCiAgICAgICAgY2lyY2xlXzNjN2E0NTFlMWYxMjQzYWJhMGUxMzE3YTFiMTFmMTY2LmJpbmRUb29sdGlwKAogICAgICAgICAgICBgPGRpdj5gCiAgICAgICAgICAgICsgYDxsaT48Ym9sZD5Db3VudHJ5IDogQ29uZ28gKEtpbnNoYXNhKTxsaT48Ym9sZD5Db25maXJtZWQgOiA5OTEuMDxsaT48Ym9sZD5EZWF0aF9yYXRlIDogNC4xMzcyMzUxMTYwNDQzOTk8bGk+PGJvbGQ+RGVhdGhzIDogNDEuMDxsaT48Ym9sZD5sb2NrZG93biBkYXRlIDogMjAyMC0wMy0zMTxsaT48Ym9sZD5maXJzdCBjYXNlIGRhdGUgOiAyMDIwLTAzLTEyPGxpPjxib2xkPm1lYW4gYWdlIDogMzcuMGAgKyBgPC9kaXY+YCwKICAgICAgICAgICAgeyJzdGlja3kiOiB0cnVlfQogICAgICAgICk7CiAgICAgICAgCiAgICAKCiAgICAgICAgICAgIHZhciBjaXJjbGVfNzVlYTRjNWY2MmQwNGRjNjg0ZGExZDQ5YTExNDBkYTYgPSBMLmNpcmNsZSgKICAgICAgICAgICAgICAgIFs5Ljc0ODkxNywgLTgzLjc1MzQyOF0sCiAgICAgICAgICAgICAgICB7CiAgImJ1YmJsaW5nTW91c2VFdmVudHMiOiB0cnVlLAogICJjb2xvciI6ICJibHVlIiwKICAiZGFzaEFycmF5IjogbnVsbCwKICAiZGFzaE9mZnNldCI6IG51bGwsCiAgImZpbGwiOiAiYmx1ZSIsCiAgImZpbGxDb2xvciI6ICJibHVlIiwKICAiZmlsbE9wYWNpdHkiOiAwLjIsCiAgImZpbGxSdWxlIjogImV2ZW5vZGQiLAogICJsaW5lQ2FwIjogInJvdW5kIiwKICAibGluZUpvaW4iOiAicm91bmQiLAogICJvcGFjaXR5IjogMS4wLAogICJyYWRpdXMiOiA4ODM4LAogICJzdHJva2UiOiB0cnVlLAogICJ3ZWlnaHQiOiAzCn0KICAgICAgICAgICAgICAgICkKICAgICAgICAgICAgICAgIC5hZGRUbyhtYXBfZGRiMDMxNmNhZDczNGY3NmE1MjBlNzY3NjFjZDRkNzgpOwogICAgICAgICAgICAKICAgIAogICAgICAgIGNpcmNsZV83NWVhNGM1ZjYyZDA0ZGM2ODRkYTFkNDlhMTE0MGRhNi5iaW5kVG9vbHRpcCgKICAgICAgICAgICAgYDxkaXY+YAogICAgICAgICAgICArIGA8bGk+PGJvbGQ+Q291bnRyeSA6IENvc3RhIFJpY2E8bGk+PGJvbGQ+Q29uZmlybWVkIDogNzkyLjA8bGk+PGJvbGQ+RGVhdGhfcmF0ZSA6IDAuODgzODM4MzgzODM4MzgzOTxsaT48Ym9sZD5EZWF0aHMgOiA3LjA8bGk+PGJvbGQ+bG9ja2Rvd24gZGF0ZSA6IDIwMjAtMDMtMTU8bGk+PGJvbGQ+Zmlyc3QgY2FzZSBkYXRlIDogMjAyMC0wMy0wNzxsaT48Ym9sZD5tZWFuIGFnZSA6IDMxLjRgICsgYDwvZGl2PmAsCiAgICAgICAgICAgIHsic3RpY2t5IjogdHJ1ZX0KICAgICAgICApOwogICAgICAgIAogICAgCgogICAgICAgICAgICB2YXIgY2lyY2xlXzRmYmZhMGY4MjNhZDQyYmE5NWMzZTJhZGRhYmJjOWMwID0gTC5jaXJjbGUoCiAgICAgICAgICAgICAgICBbNy41NCwgLTUuMzA1MzIzMDAwMDAwMDAwNV0sCiAgICAgICAgICAgICAgICB7CiAgImJ1YmJsaW5nTW91c2VFdmVudHMiOiB0cnVlLAogICJjb2xvciI6ICJibHVlIiwKICAiZGFzaEFycmF5IjogbnVsbCwKICAiZGFzaE9mZnNldCI6IG51bGwsCiAgImZpbGwiOiAiYmx1ZSIsCiAgImZpbGxDb2xvciI6ICJibHVlIiwKICAiZmlsbE9wYWNpdHkiOiAwLjIsCiAgImZpbGxSdWxlIjogImV2ZW5vZGQiLAogICJsaW5lQ2FwIjogInJvdW5kIiwKICAibGluZUpvaW4iOiAicm91bmQiLAogICJvcGFjaXR5IjogMS4wLAogICJyYWRpdXMiOiAxMjM1MiwKICAic3Ryb2tlIjogdHJ1ZSwKICAid2VpZ2h0IjogMwp9CiAgICAgICAgICAgICAgICApCiAgICAgICAgICAgICAgICAuYWRkVG8obWFwX2RkYjAzMTZjYWQ3MzRmNzZhNTIwZTc2NzYxY2Q0ZDc4KTsKICAgICAgICAgICAgCiAgICAKICAgICAgICBjaXJjbGVfNGZiZmEwZjgyM2FkNDJiYTk1YzNlMmFkZGFiYmM5YzAuYmluZFRvb2x0aXAoCiAgICAgICAgICAgIGA8ZGl2PmAKICAgICAgICAgICAgKyBgPGxpPjxib2xkPkNvdW50cnkgOiBDb3RlIGQnSXZvaXJlPGxpPjxib2xkPkNvbmZpcm1lZCA6IDE3MDAuMDxsaT48Ym9sZD5EZWF0aF9yYXRlIDogMS4yMzUyOTQxMTc2NDcwNTg5PGxpPjxib2xkPkRlYXRocyA6IDIxLjA8bGk+PGJvbGQ+bG9ja2Rvd24gZGF0ZSA6IG5hbjxsaT48Ym9sZD5maXJzdCBjYXNlIGRhdGUgOiAyMDIwLTAzLTEyPGxpPjxib2xkPm1lYW4gYWdlIDogMzcuMGAgKyBgPC9kaXY+YCwKICAgICAgICAgICAgeyJzdGlja3kiOiB0cnVlfQogICAgICAgICk7CiAgICAgICAgCiAgICAKCiAgICAgICAgICAgIHZhciBjaXJjbGVfYWFiOTdkOWI4YTdhNGU2YTg2YzMzNjJlNDIyNDM0MjIgPSBMLmNpcmNsZSgKICAgICAgICAgICAgICAgIFs0NS4xLCAxNS4yXSwKICAgICAgICAgICAgICAgIHsKICAiYnViYmxpbmdNb3VzZUV2ZW50cyI6IHRydWUsCiAgImNvbG9yIjogImJsdWUiLAogICJkYXNoQXJyYXkiOiBudWxsLAogICJkYXNoT2Zmc2V0IjogbnVsbCwKICAiZmlsbCI6ICJibHVlIiwKICAiZmlsbENvbG9yIjogImJsdWUiLAogICJmaWxsT3BhY2l0eSI6IDAuMiwKICAiZmlsbFJ1bGUiOiAiZXZlbm9kZCIsCiAgImxpbmVDYXAiOiAicm91bmQiLAogICJsaW5lSm9pbiI6ICJyb3VuZCIsCiAgIm9wYWNpdHkiOiAxLjAsCiAgInJhZGl1cyI6IDQxMTUyLAogICJzdHJva2UiOiB0cnVlLAogICJ3ZWlnaHQiOiAzCn0KICAgICAgICAgICAgICAgICkKICAgICAgICAgICAgICAgIC5hZGRUbyhtYXBfZGRiMDMxNmNhZDczNGY3NmE1MjBlNzY3NjFjZDRkNzgpOwogICAgICAgICAgICAKICAgIAogICAgICAgIGNpcmNsZV9hYWI5N2Q5YjhhN2E0ZTZhODZjMzM2MmU0MjI0MzQyMi5iaW5kVG9vbHRpcCgKICAgICAgICAgICAgYDxkaXY+YAogICAgICAgICAgICArIGA8bGk+PGJvbGQ+Q291bnRyeSA6IENyb2F0aWE8bGk+PGJvbGQ+Q29uZmlybWVkIDogMjE4Ny4wPGxpPjxib2xkPkRlYXRoX3JhdGUgOiA0LjExNTIyNjMzNzQ0ODU2PGxpPjxib2xkPkRlYXRocyA6IDkwLjA8bGk+PGJvbGQ+bG9ja2Rvd24gZGF0ZSA6IDIwMjAtMDMtMjI8bGk+PGJvbGQ+Zmlyc3QgY2FzZSBkYXRlIDogMjAyMC0wMi0yNjxsaT48Ym9sZD5tZWFuIGFnZSA6IDQyLjZgICsgYDwvZGl2PmAsCiAgICAgICAgICAgIHsic3RpY2t5IjogdHJ1ZX0KICAgICAgICApOwogICAgICAgIAogICAgCgogICAgICAgICAgICB2YXIgY2lyY2xlX2Y1OWIwZjJkNjA3NDQyM2ViMzQyMGMyYmU1ZWYwNTNkID0gTC5jaXJjbGUoCiAgICAgICAgICAgICAgICBbMjEuNTIxNzU3LCAtNzcuNzgxMTY3MDAwMDAwMDJdLAogICAgICAgICAgICAgICAgewogICJidWJibGluZ01vdXNlRXZlbnRzIjogdHJ1ZSwKICAiY29sb3IiOiAiYmx1ZSIsCiAgImRhc2hBcnJheSI6IG51bGwsCiAgImRhc2hPZmZzZXQiOiBudWxsLAogICJmaWxsIjogImJsdWUiLAogICJmaWxsQ29sb3IiOiAiYmx1ZSIsCiAgImZpbGxPcGFjaXR5IjogMC4yLAogICJmaWxsUnVsZSI6ICJldmVub2RkIiwKICAibGluZUNhcCI6ICJyb3VuZCIsCiAgImxpbmVKb2luIjogInJvdW5kIiwKICAib3BhY2l0eSI6IDEuMCwKICAicmFkaXVzIjogNDM2MDEsCiAgInN0cm9rZSI6IHRydWUsCiAgIndlaWdodCI6IDMKfQogICAgICAgICAgICAgICAgKQogICAgICAgICAgICAgICAgLmFkZFRvKG1hcF9kZGIwMzE2Y2FkNzM0Zjc2YTUyMGU3Njc2MWNkNGQ3OCk7CiAgICAgICAgICAgIAogICAgCiAgICAgICAgY2lyY2xlX2Y1OWIwZjJkNjA3NDQyM2ViMzQyMGMyYmU1ZWYwNTNkLmJpbmRUb29sdGlwKAogICAgICAgICAgICBgPGRpdj5gCiAgICAgICAgICAgICsgYDxsaT48Ym9sZD5Db3VudHJ5IDogQ3ViYTxsaT48Ym9sZD5Db25maXJtZWQgOiAxNzY2LjA8bGk+PGJvbGQ+RGVhdGhfcmF0ZSA6IDQuMzYwMTM1OTAwMzM5NzUxPGxpPjxib2xkPkRlYXRocyA6IDc3LjA8bGk+PGJvbGQ+bG9ja2Rvd24gZGF0ZSA6IDIwMjAtMDMtMjM8bGk+PGJvbGQ+Zmlyc3QgY2FzZSBkYXRlIDogMjAyMC0wMy0xMzxsaT48Ym9sZD5tZWFuIGFnZSA6IDQxLjFgICsgYDwvZGl2PmAsCiAgICAgICAgICAgIHsic3RpY2t5IjogdHJ1ZX0KICAgICAgICApOwogICAgICAgIAogICAgCgogICAgICAgICAgICB2YXIgY2lyY2xlX2QzNjMxYmIwNWNkNTQ1ZjI5ZjkzYThlMmJlMjA0YjNlID0gTC5jaXJjbGUoCiAgICAgICAgICAgICAgICBbMzUuMTI2NDEzLCAzMy40Mjk4NTldLAogICAgICAgICAgICAgICAgewogICJidWJibGluZ01vdXNlRXZlbnRzIjogdHJ1ZSwKICAiY29sb3IiOiAiYmx1ZSIsCiAgImRhc2hBcnJheSI6IG51bGwsCiAgImRhc2hPZmZzZXQiOiBudWxsLAogICJmaWxsIjogImJsdWUiLAogICJmaWxsQ29sb3IiOiAiYmx1ZSIsCiAgImZpbGxPcGFjaXR5IjogMC4yLAogICJmaWxsUnVsZSI6ICJldmVub2RkIiwKICAibGluZUNhcCI6ICJyb3VuZCIsCiAgImxpbmVKb2luIjogInJvdW5kIiwKICAib3BhY2l0eSI6IDEuMCwKICAicmFkaXVzIjogMTc4MTcsCiAgInN0cm9rZSI6IHRydWUsCiAgIndlaWdodCI6IDMKfQogICAgICAgICAgICAgICAgKQogICAgICAgICAgICAgICAgLmFkZFRvKG1hcF9kZGIwMzE2Y2FkNzM0Zjc2YTUyMGU3Njc2MWNkNGQ3OCk7CiAgICAgICAgICAgIAogICAgCiAgICAgICAgY2lyY2xlX2QzNjMxYmIwNWNkNTQ1ZjI5ZjkzYThlMmJlMjA0YjNlLmJpbmRUb29sdGlwKAogICAgICAgICAgICBgPGRpdj5gCiAgICAgICAgICAgICsgYDxsaT48Ym9sZD5Db3VudHJ5IDogQ3lwcnVzPGxpPjxib2xkPkNvbmZpcm1lZCA6IDg5OC4wPGxpPjxib2xkPkRlYXRoX3JhdGUgOiAxLjc4MTczNzE5Mzc2MzkyPGxpPjxib2xkPkRlYXRocyA6IDE2LjA8bGk+PGJvbGQ+bG9ja2Rvd24gZGF0ZSA6IDIwMjAtMDMtMjU8bGk+PGJvbGQ+Zmlyc3QgY2FzZSBkYXRlIDogMjAyMC0wMy0xMDxsaT48Ym9sZD5tZWFuIGFnZSA6IDM0LjlgICsgYDwvZGl2PmAsCiAgICAgICAgICAgIHsic3RpY2t5IjogdHJ1ZX0KICAgICAgICApOwogICAgICAgIAogICAgCgogICAgICAgICAgICB2YXIgY2lyY2xlX2U4N2VmMmViNTYwYzQ4MGFhMWU4M2MzZjgwOTdjMDJiID0gTC5jaXJjbGUoCiAgICAgICAgICAgICAgICBbNDkuODE3NSwgMTUuNDczXSwKICAgICAgICAgICAgICAgIHsKICAiYnViYmxpbmdNb3VzZUV2ZW50cyI6IHRydWUsCiAgImNvbG9yIjogImJsdWUiLAogICJkYXNoQXJyYXkiOiBudWxsLAogICJkYXNoT2Zmc2V0IjogbnVsbCwKICAiZmlsbCI6ICJibHVlIiwKICAiZmlsbENvbG9yIjogImJsdWUiLAogICJmaWxsT3BhY2l0eSI6IDAuMiwKICAiZmlsbFJ1bGUiOiAiZXZlbm9kZCIsCiAgImxpbmVDYXAiOiAicm91bmQiLAogICJsaW5lSm9pbiI6ICJyb3VuZCIsCiAgIm9wYWNpdHkiOiAxLjAsCiAgInJhZGl1cyI6IDM0NDcwLAogICJzdHJva2UiOiB0cnVlLAogICJ3ZWlnaHQiOiAzCn0KICAgICAgICAgICAgICAgICkKICAgICAgICAgICAgICAgIC5hZGRUbyhtYXBfZGRiMDMxNmNhZDczNGY3NmE1MjBlNzY3NjFjZDRkNzgpOwogICAgICAgICAgICAKICAgIAogICAgICAgIGNpcmNsZV9lODdlZjJlYjU2MGM0ODBhYTFlODNjM2Y4MDk3YzAyYi5iaW5kVG9vbHRpcCgKICAgICAgICAgICAgYDxkaXY+YAogICAgICAgICAgICArIGA8bGk+PGJvbGQ+Q291bnRyeSA6IEN6ZWNoaWE8bGk+PGJvbGQ+Q29uZmlybWVkIDogODEyMy4wPGxpPjxib2xkPkRlYXRoX3JhdGUgOiAzLjQ0NzAwMjMzOTAzNzMwMTc8bGk+PGJvbGQ+RGVhdGhzIDogMjgwLjA8bGk+PGJvbGQ+bG9ja2Rvd24gZGF0ZSA6IDIwMjAtMDMtMTY8bGk+PGJvbGQ+Zmlyc3QgY2FzZSBkYXRlIDogMjAyMC0wMy0wMjxsaT48Ym9sZD5tZWFuIGFnZSA6IDQxLjRgICsgYDwvZGl2PmAsCiAgICAgICAgICAgIHsic3RpY2t5IjogdHJ1ZX0KICAgICAgICApOwogICAgICAgIAogICAgCgogICAgICAgICAgICB2YXIgY2lyY2xlXzFjMTA5YjgzOTE0MTQ1OTJhZDQzOTczZTJiN2UyZWM1ID0gTC5jaXJjbGUoCiAgICAgICAgICAgICAgICBbNDkuODE3NSwgMTUuNDczXSwKICAgICAgICAgICAgICAgIHsKICAiYnViYmxpbmdNb3VzZUV2ZW50cyI6IHRydWUsCiAgImNvbG9yIjogImJsdWUiLAogICJkYXNoQXJyYXkiOiBudWxsLAogICJkYXNoT2Zmc2V0IjogbnVsbCwKICAiZmlsbCI6ICJibHVlIiwKICAiZmlsbENvbG9yIjogImJsdWUiLAogICJmaWxsT3BhY2l0eSI6IDAuMiwKICAiZmlsbFJ1bGUiOiAiZXZlbm9kZCIsCiAgImxpbmVDYXAiOiAicm91bmQiLAogICJsaW5lSm9pbiI6ICJyb3VuZCIsCiAgIm9wYWNpdHkiOiAxLjAsCiAgInJhZGl1cyI6IDM0NDcwLAogICJzdHJva2UiOiB0cnVlLAogICJ3ZWlnaHQiOiAzCn0KICAgICAgICAgICAgICAgICkKICAgICAgICAgICAgICAgIC5hZGRUbyhtYXBfZGRiMDMxNmNhZDczNGY3NmE1MjBlNzY3NjFjZDRkNzgpOwogICAgICAgICAgICAKICAgIAogICAgICAgIGNpcmNsZV8xYzEwOWI4MzkxNDE0NTkyYWQ0Mzk3M2UyYjdlMmVjNS5iaW5kVG9vbHRpcCgKICAgICAgICAgICAgYDxkaXY+YAogICAgICAgICAgICArIGA8bGk+PGJvbGQ+Q291bnRyeSA6IEN6ZWNoaWE8bGk+PGJvbGQ+Q29uZmlybWVkIDogODEyMy4wPGxpPjxib2xkPkRlYXRoX3JhdGUgOiAzLjQ0NzAwMjMzOTAzNzMwMTc8bGk+PGJvbGQ+RGVhdGhzIDogMjgwLjA8bGk+PGJvbGQ+bG9ja2Rvd24gZGF0ZSA6IDIwMjAtMDMtMTY8bGk+PGJvbGQ+Zmlyc3QgY2FzZSBkYXRlIDogMjAyMC0wMy0wMjxsaT48Ym9sZD5tZWFuIGFnZSA6IDQxLjRgICsgYDwvZGl2PmAsCiAgICAgICAgICAgIHsic3RpY2t5IjogdHJ1ZX0KICAgICAgICApOwogICAgICAgIAogICAgCgogICAgICAgICAgICB2YXIgY2lyY2xlXzkxNzlkM2E2MTYzNzQ1Y2E4MGE3NzUxOTUzMGIxZDU5ID0gTC5jaXJjbGUoCiAgICAgICAgICAgICAgICBbNTYuMjYzOTIsIDkuNTAxNzg1XSwKICAgICAgICAgICAgICAgIHsKICAiYnViYmxpbmdNb3VzZUV2ZW50cyI6IHRydWUsCiAgImNvbG9yIjogImJsdWUiLAogICJkYXNoQXJyYXkiOiBudWxsLAogICJkYXNoT2Zmc2V0IjogbnVsbCwKICAiZmlsbCI6ICJibHVlIiwKICAiZmlsbENvbG9yIjogImJsdWUiLAogICJmaWxsT3BhY2l0eSI6IDAuMiwKICAiZmlsbFJ1bGUiOiAiZXZlbm9kZCIsCiAgImxpbmVDYXAiOiAicm91bmQiLAogICJsaW5lSm9pbiI6ICJyb3VuZCIsCiAgIm9wYWNpdHkiOiAxLjAsCiAgInJhZGl1cyI6IDQ5Nzc4LAogICJzdHJva2UiOiB0cnVlLAogICJ3ZWlnaHQiOiAzCn0KICAgICAgICAgICAgICAgICkKICAgICAgICAgICAgICAgIC5hZGRUbyhtYXBfZGRiMDMxNmNhZDczNGY3NmE1MjBlNzY3NjFjZDRkNzgpOwogICAgICAgICAgICAKICAgIAogICAgICAgIGNpcmNsZV85MTc5ZDNhNjE2Mzc0NWNhODBhNzc1MTk1MzBiMWQ1OS5iaW5kVG9vbHRpcCgKICAgICAgICAgICAgYDxkaXY+YAogICAgICAgICAgICArIGA8bGk+PGJvbGQ+Q291bnRyeSA6IERlbm1hcms8bGk+PGJvbGQ+Q29uZmlybWVkIDogMTA2MjcuMDxsaT48Ym9sZD5EZWF0aF9yYXRlIDogNC45Nzc4ODY1MTU0Nzk0Mzk8bGk+PGJvbGQ+RGVhdGhzIDogNTI5LjA8bGk+PGJvbGQ+bG9ja2Rvd24gZGF0ZSA6IDIwMjAtMDMtMTE8bGk+PGJvbGQ+Zmlyc3QgY2FzZSBkYXRlIDogMjAyMC0wMi0yODxsaT48Ym9sZD5tZWFuIGFnZSA6IDQxLjZgICsgYDwvZGl2PmAsCiAgICAgICAgICAgIHsic3RpY2t5IjogdHJ1ZX0KICAgICAgICApOwogICAgICAgIAogICAgCgogICAgICAgICAgICB2YXIgY2lyY2xlX2E3NDhhZTg4OWU1YzRlNzNiMDgxYWU3ZTQzMDc4Yzg5ID0gTC5jaXJjbGUoCiAgICAgICAgICAgICAgICBbLTEwMC4wLCAtMTAwLjBdLAogICAgICAgICAgICAgICAgewogICJidWJibGluZ01vdXNlRXZlbnRzIjogdHJ1ZSwKICAiY29sb3IiOiAiYmx1ZSIsCiAgImRhc2hBcnJheSI6IG51bGwsCiAgImRhc2hPZmZzZXQiOiBudWxsLAogICJmaWxsIjogImJsdWUiLAogICJmaWxsQ29sb3IiOiAiYmx1ZSIsCiAgImZpbGxPcGFjaXR5IjogMC4yLAogICJmaWxsUnVsZSI6ICJldmVub2RkIiwKICAibGluZUNhcCI6ICJyb3VuZCIsCiAgImxpbmVKb2luIjogInJvdW5kIiwKICAib3BhY2l0eSI6IDEuMCwKICAicmFkaXVzIjogMTgyNTgsCiAgInN0cm9rZSI6IHRydWUsCiAgIndlaWdodCI6IDMKfQogICAgICAgICAgICAgICAgKQogICAgICAgICAgICAgICAgLmFkZFRvKG1hcF9kZGIwMzE2Y2FkNzM0Zjc2YTUyMGU3Njc2MWNkNGQ3OCk7CiAgICAgICAgICAgIAogICAgCiAgICAgICAgY2lyY2xlX2E3NDhhZTg4OWU1YzRlNzNiMDgxYWU3ZTQzMDc4Yzg5LmJpbmRUb29sdGlwKAogICAgICAgICAgICBgPGRpdj5gCiAgICAgICAgICAgICsgYDxsaT48Ym9sZD5Db3VudHJ5IDogRGlhbW9uZCBQcmluY2VzczxsaT48Ym9sZD5Db25maXJtZWQgOiA3MTIuMDxsaT48Ym9sZD5EZWF0aF9yYXRlIDogMS44MjU4NDI2OTY2MjkyMTM0PGxpPjxib2xkPkRlYXRocyA6IDEzLjA8bGk+PGJvbGQ+bG9ja2Rvd24gZGF0ZSA6IG5hbjxsaT48Ym9sZD5maXJzdCBjYXNlIGRhdGUgOiAyMDIwLTAyLTA4PGxpPjxib2xkPm1lYW4gYWdlIDogMzcuMGAgKyBgPC9kaXY+YCwKICAgICAgICAgICAgeyJzdGlja3kiOiB0cnVlfQogICAgICAgICk7CiAgICAgICAgCiAgICAKCiAgICAgICAgICAgIHZhciBjaXJjbGVfNTI1YjBkNWJlYTJhNGQ5NWJhYzZlZDhjMWU0NGQwZDIgPSBMLmNpcmNsZSgKICAgICAgICAgICAgICAgIFsxMS44MjUxMzgsIDQyLjU5MDI3NV0sCiAgICAgICAgICAgICAgICB7CiAgImJ1YmJsaW5nTW91c2VFdmVudHMiOiB0cnVlLAogICJjb2xvciI6ICJibHVlIiwKICAiZGFzaEFycmF5IjogbnVsbCwKICAiZGFzaE9mZnNldCI6IG51bGwsCiAgImZpbGwiOiAiYmx1ZSIsCiAgImZpbGxDb2xvciI6ICJibHVlIiwKICAiZmlsbE9wYWNpdHkiOiAwLjIsCiAgImZpbGxSdWxlIjogImV2ZW5vZGQiLAogICJsaW5lQ2FwIjogInJvdW5kIiwKICAibGluZUpvaW4iOiAicm91bmQiLAogICJvcGFjaXR5IjogMS4wLAogICJyYWRpdXMiOiAyNDc5LAogICJzdHJva2UiOiB0cnVlLAogICJ3ZWlnaHQiOiAzCn0KICAgICAgICAgICAgICAgICkKICAgICAgICAgICAgICAgIC5hZGRUbyhtYXBfZGRiMDMxNmNhZDczNGY3NmE1MjBlNzY3NjFjZDRkNzgpOwogICAgICAgICAgICAKICAgIAogICAgICAgIGNpcmNsZV81MjViMGQ1YmVhMmE0ZDk1YmFjNmVkOGMxZTQ0ZDBkMi5iaW5kVG9vbHRpcCgKICAgICAgICAgICAgYDxkaXY+YAogICAgICAgICAgICArIGA8bGk+PGJvbGQ+Q291bnRyeSA6IERqaWJvdXRpPGxpPjxib2xkPkNvbmZpcm1lZCA6IDEyMTAuMDxsaT48Ym9sZD5EZWF0aF9yYXRlIDogMC4yNDc5MzM4ODQyOTc1MjA2NzxsaT48Ym9sZD5EZWF0aHMgOiAzLjA8bGk+PGJvbGQ+bG9ja2Rvd24gZGF0ZSA6IDIwMjAtMDMtMjM8bGk+PGJvbGQ+Zmlyc3QgY2FzZSBkYXRlIDogMjAyMC0wMy0xOTxsaT48Ym9sZD5tZWFuIGFnZSA6IDIzLjdgICsgYDwvZGl2PmAsCiAgICAgICAgICAgIHsic3RpY2t5IjogdHJ1ZX0KICAgICAgICApOwogICAgICAgIAogICAgCgogICAgICAgICAgICB2YXIgY2lyY2xlXzgwZmU2MzRjN2M4YjQ3ZGFhNjgyZjc0MDkwMzczY2VhID0gTC5jaXJjbGUoCiAgICAgICAgICAgICAgICBbMTUuNDE0OTk5LCAtNjEuMzcwOTc2XSwKICAgICAgICAgICAgICAgIHsKICAiYnViYmxpbmdNb3VzZUV2ZW50cyI6IHRydWUsCiAgImNvbG9yIjogImJsdWUiLAogICJkYXNoQXJyYXkiOiBudWxsLAogICJkYXNoT2Zmc2V0IjogbnVsbCwKICAiZmlsbCI6ICJibHVlIiwKICAiZmlsbENvbG9yIjogImJsdWUiLAogICJmaWxsT3BhY2l0eSI6IDAuMiwKICAiZmlsbFJ1bGUiOiAiZXZlbm9kZCIsCiAgImxpbmVDYXAiOiAicm91bmQiLAogICJsaW5lSm9pbiI6ICJyb3VuZCIsCiAgIm9wYWNpdHkiOiAxLjAsCiAgInN0cm9rZSI6IHRydWUsCiAgIndlaWdodCI6IDMKfQogICAgICAgICAgICAgICAgKQogICAgICAgICAgICAgICAgLmFkZFRvKG1hcF9kZGIwMzE2Y2FkNzM0Zjc2YTUyMGU3Njc2MWNkNGQ3OCk7CiAgICAgICAgICAgIAogICAgCiAgICAgICAgY2lyY2xlXzgwZmU2MzRjN2M4YjQ3ZGFhNjgyZjc0MDkwMzczY2VhLmJpbmRUb29sdGlwKAogICAgICAgICAgICBgPGRpdj5gCiAgICAgICAgICAgICsgYDxsaT48Ym9sZD5Db3VudHJ5IDogRG9taW5pY2E8bGk+PGJvbGQ+Q29uZmlybWVkIDogMTYuMDxsaT48Ym9sZD5EZWF0aF9yYXRlIDogMC4wPGxpPjxib2xkPkRlYXRocyA6IDAuMDxsaT48Ym9sZD5sb2NrZG93biBkYXRlIDogMjAyMC0wMy0xOTxsaT48Ym9sZD5maXJzdCBjYXNlIGRhdGUgOiAyMDIwLTAzLTIzPGxpPjxib2xkPm1lYW4gYWdlIDogMzcuMGAgKyBgPC9kaXY+YCwKICAgICAgICAgICAgeyJzdGlja3kiOiB0cnVlfQogICAgICAgICk7CiAgICAgICAgCiAgICAKCiAgICAgICAgICAgIHZhciBjaXJjbGVfYWM3NDNjYjFmYWM5NGFkNjlhNzc5ZGFlNzU1YzU5MjQgPSBMLmNpcmNsZSgKICAgICAgICAgICAgICAgIFsxOC43MzU2OTI5OTk5OTk5OTgsIC03MC4xNjI2NTFdLAogICAgICAgICAgICAgICAgewogICJidWJibGluZ01vdXNlRXZlbnRzIjogdHJ1ZSwKICAiY29sb3IiOiAiYmx1ZSIsCiAgImRhc2hBcnJheSI6IG51bGwsCiAgImRhc2hPZmZzZXQiOiBudWxsLAogICJmaWxsIjogImJsdWUiLAogICJmaWxsQ29sb3IiOiAiYmx1ZSIsCiAgImZpbGxPcGFjaXR5IjogMC4yLAogICJmaWxsUnVsZSI6ICJldmVub2RkIiwKICAibGluZUNhcCI6ICJyb3VuZCIsCiAgImxpbmVKb2luIjogInJvdW5kIiwKICAib3BhY2l0eSI6IDEuMCwKICAicmFkaXVzIjogMzc0OTgsCiAgInN0cm9rZSI6IHRydWUsCiAgIndlaWdodCI6IDMKfQogICAgICAgICAgICAgICAgKQogICAgICAgICAgICAgICAgLmFkZFRvKG1hcF9kZGIwMzE2Y2FkNzM0Zjc2YTUyMGU3Njc2MWNkNGQ3OCk7CiAgICAgICAgICAgIAogICAgCiAgICAgICAgY2lyY2xlX2FjNzQzY2IxZmFjOTRhZDY5YTc3OWRhZTc1NWM1OTI0LmJpbmRUb29sdGlwKAogICAgICAgICAgICBgPGRpdj5gCiAgICAgICAgICAgICsgYDxsaT48Ym9sZD5Db3VudHJ5IDogRG9taW5pY2FuIFJlcHVibGljPGxpPjxib2xkPkNvbmZpcm1lZCA6IDEwMzQ3LjA8bGk+PGJvbGQ+RGVhdGhfcmF0ZSA6IDMuNzQ5ODc5MTkyMDM2MzM5MjxsaT48Ym9sZD5EZWF0aHMgOiAzODguMDxsaT48Ym9sZD5sb2NrZG93biBkYXRlIDogMjAyMC0wMy0xNzxsaT48Ym9sZD5maXJzdCBjYXNlIGRhdGUgOiAyMDIwLTAzLTAyPGxpPjxib2xkPm1lYW4gYWdlIDogMjYuMWAgKyBgPC9kaXY+YCwKICAgICAgICAgICAgeyJzdGlja3kiOiB0cnVlfQogICAgICAgICk7CiAgICAgICAgCiAgICAKCiAgICAgICAgICAgIHZhciBjaXJjbGVfNWNlN2FiNjZiZDk3NGE0NGI4ZjA4OGQwYmNmYmQxNTAgPSBMLmNpcmNsZSgKICAgICAgICAgICAgICAgIFstMS44MzEyMzg5OTk5OTk5OTk4LCAtNzguMTgzNDA2XSwKICAgICAgICAgICAgICAgIHsKICAiYnViYmxpbmdNb3VzZUV2ZW50cyI6IHRydWUsCiAgImNvbG9yIjogImJsdWUiLAogICJkYXNoQXJyYXkiOiBudWxsLAogICJkYXNoT2Zmc2V0IjogbnVsbCwKICAiZmlsbCI6ICJibHVlIiwKICAiZmlsbENvbG9yIjogImJsdWUiLAogICJmaWxsT3BhY2l0eSI6IDAuMiwKICAiZmlsbFJ1bGUiOiAiZXZlbm9kZCIsCiAgImxpbmVDYXAiOiAicm91bmQiLAogICJsaW5lSm9pbiI6ICJyb3VuZCIsCiAgIm9wYWNpdHkiOiAxLjAsCiAgInJhZGl1cyI6IDcxOTU3LAogICJzdHJva2UiOiB0cnVlLAogICJ3ZWlnaHQiOiAzCn0KICAgICAgICAgICAgICAgICkKICAgICAgICAgICAgICAgIC5hZGRUbyhtYXBfZGRiMDMxNmNhZDczNGY3NmE1MjBlNzY3NjFjZDRkNzgpOwogICAgICAgICAgICAKICAgIAogICAgICAgIGNpcmNsZV81Y2U3YWI2NmJkOTc0YTQ0YjhmMDg4ZDBiY2ZiZDE1MC5iaW5kVG9vbHRpcCgKICAgICAgICAgICAgYDxkaXY+YAogICAgICAgICAgICArIGA8bGk+PGJvbGQ+Q291bnRyeSA6IEVjdWFkb3I8bGk+PGJvbGQ+Q29uZmlybWVkIDogMjk1NTkuMDxsaT48Ym9sZD5EZWF0aF9yYXRlIDogNy4xOTU3Nzc5MzU2NTQxMTY8bGk+PGJvbGQ+RGVhdGhzIDogMjEyNy4wPGxpPjxib2xkPmxvY2tkb3duIGRhdGUgOiAyMDIwLTAzLTI0PGxpPjxib2xkPmZpcnN0IGNhc2UgZGF0ZSA6IDIwMjAtMDMtMDI8bGk+PGJvbGQ+bWVhbiBhZ2UgOiAyNi42YCArIGA8L2Rpdj5gLAogICAgICAgICAgICB7InN0aWNreSI6IHRydWV9CiAgICAgICAgKTsKICAgICAgICAKICAgIAoKICAgICAgICAgICAgdmFyIGNpcmNsZV9hZTAyNDlmMmI1OTc0NzY4OWJlOTk2N2UwYmQwNTk5ZSA9IEwuY2lyY2xlKAogICAgICAgICAgICAgICAgWzI2LjgyMDU1MzAwMDAwMDAwNCwgMzAuODAyNDk3OTk5OTk5OTk2XSwKICAgICAgICAgICAgICAgIHsKICAiYnViYmxpbmdNb3VzZUV2ZW50cyI6IHRydWUsCiAgImNvbG9yIjogImJsdWUiLAogICJkYXNoQXJyYXkiOiBudWxsLAogICJkYXNoT2Zmc2V0IjogbnVsbCwKICAiZmlsbCI6ICJibHVlIiwKICAiZmlsbENvbG9yIjogImJsdWUiLAogICJmaWxsT3BhY2l0eSI6IDAuMiwKICAiZmlsbFJ1bGUiOiAiZXZlbm9kZCIsCiAgImxpbmVDYXAiOiAicm91bmQiLAogICJsaW5lSm9pbiI6ICJyb3VuZCIsCiAgIm9wYWNpdHkiOiAxLjAsCiAgInJhZGl1cyI6IDU1ODUxLAogICJzdHJva2UiOiB0cnVlLAogICJ3ZWlnaHQiOiAzCn0KICAgICAgICAgICAgICAgICkKICAgICAgICAgICAgICAgIC5hZGRUbyhtYXBfZGRiMDMxNmNhZDczNGY3NmE1MjBlNzY3NjFjZDRkNzgpOwogICAgICAgICAgICAKICAgIAogICAgICAgIGNpcmNsZV9hZTAyNDlmMmI1OTc0NzY4OWJlOTk2N2UwYmQwNTk5ZS5iaW5kVG9vbHRpcCgKICAgICAgICAgICAgYDxkaXY+YAogICAgICAgICAgICArIGA8bGk+PGJvbGQ+Q291bnRyeSA6IEVneXB0PGxpPjxib2xkPkNvbmZpcm1lZCA6IDk0MDAuMDxsaT48Ym9sZD5EZWF0aF9yYXRlIDogNS41ODUxMDYzODI5Nzg3MjM8bGk+PGJvbGQ+RGVhdGhzIDogNTI1LjA8bGk+PGJvbGQ+bG9ja2Rvd24gZGF0ZSA6IDIwMjAtMDMtMjQ8bGk+PGJvbGQ+Zmlyc3QgY2FzZSBkYXRlIDogMjAyMC0wMi0xNTxsaT48Ym9sZD5tZWFuIGFnZSA6IDI0LjdgICsgYDwvZGl2PmAsCiAgICAgICAgICAgIHsic3RpY2t5IjogdHJ1ZX0KICAgICAgICApOwogICAgICAgIAogICAgCgogICAgICAgICAgICB2YXIgY2lyY2xlXzg4M2M1MGI3OWM5NjQzMTY5OWM1OTI0OTgzYTg3NmIxID0gTC5jaXJjbGUoCiAgICAgICAgICAgICAgICBbMTMuNzk0MTg1LCAtODguODk2NTNdLAogICAgICAgICAgICAgICAgewogICJidWJibGluZ01vdXNlRXZlbnRzIjogdHJ1ZSwKICAiY29sb3IiOiAiYmx1ZSIsCiAgImRhc2hBcnJheSI6IG51bGwsCiAgImRhc2hPZmZzZXQiOiBudWxsLAogICJmaWxsIjogImJsdWUiLAogICJmaWxsQ29sb3IiOiAiYmx1ZSIsCiAgImZpbGxPcGFjaXR5IjogMC4yLAogICJmaWxsUnVsZSI6ICJldmVub2RkIiwKICAibGluZUNhcCI6ICJyb3VuZCIsCiAgImxpbmVKb2luIjogInJvdW5kIiwKICAib3BhY2l0eSI6IDEuMCwKICAicmFkaXVzIjogMTkxMjIsCiAgInN0cm9rZSI6IHRydWUsCiAgIndlaWdodCI6IDMKfQogICAgICAgICAgICAgICAgKQogICAgICAgICAgICAgICAgLmFkZFRvKG1hcF9kZGIwMzE2Y2FkNzM0Zjc2YTUyMGU3Njc2MWNkNGQ3OCk7CiAgICAgICAgICAgIAogICAgCiAgICAgICAgY2lyY2xlXzg4M2M1MGI3OWM5NjQzMTY5OWM1OTI0OTgzYTg3NmIxLmJpbmRUb29sdGlwKAogICAgICAgICAgICBgPGRpdj5gCiAgICAgICAgICAgICsgYDxsaT48Ym9sZD5Db3VudHJ5IDogRWwgU2FsdmFkb3I8bGk+PGJvbGQ+Q29uZmlybWVkIDogODg5LjA8bGk+PGJvbGQ+RGVhdGhfcmF0ZSA6IDEuOTEyMjYwOTY3Mzc5MDc3NjxsaT48Ym9sZD5EZWF0aHMgOiAxNy4wPGxpPjxib2xkPmxvY2tkb3duIGRhdGUgOiAyMDIwLTAzLTEyPGxpPjxib2xkPmZpcnN0IGNhc2UgZGF0ZSA6IDIwMjAtMDMtMjA8bGk+PGJvbGQ+bWVhbiBhZ2UgOiAyNS44YCArIGA8L2Rpdj5gLAogICAgICAgICAgICB7InN0aWNreSI6IHRydWV9CiAgICAgICAgKTsKICAgICAgICAKICAgIAoKICAgICAgICAgICAgdmFyIGNpcmNsZV8xY2I4OTQwNzVlMGY0MDU2YTUyM2JmZDNiNGZjYTU5OCA9IEwuY2lyY2xlKAogICAgICAgICAgICAgICAgWzEuNjUwODAwOTk5OTk5OTk5NSwgMTAuMjY3ODk1XSwKICAgICAgICAgICAgICAgIHsKICAiYnViYmxpbmdNb3VzZUV2ZW50cyI6IHRydWUsCiAgImNvbG9yIjogImJsdWUiLAogICJkYXNoQXJyYXkiOiBudWxsLAogICJkYXNoT2Zmc2V0IjogbnVsbCwKICAiZmlsbCI6ICJibHVlIiwKICAiZmlsbENvbG9yIjogImJsdWUiLAogICJmaWxsT3BhY2l0eSI6IDAuMiwKICAiZmlsbFJ1bGUiOiAiZXZlbm9kZCIsCiAgImxpbmVDYXAiOiAicm91bmQiLAogICJsaW5lSm9pbiI6ICJyb3VuZCIsCiAgIm9wYWNpdHkiOiAxLjAsCiAgInJhZGl1cyI6IDkxMTEsCiAgInN0cm9rZSI6IHRydWUsCiAgIndlaWdodCI6IDMKfQogICAgICAgICAgICAgICAgKQogICAgICAgICAgICAgICAgLmFkZFRvKG1hcF9kZGIwMzE2Y2FkNzM0Zjc2YTUyMGU3Njc2MWNkNGQ3OCk7CiAgICAgICAgICAgIAogICAgCiAgICAgICAgY2lyY2xlXzFjYjg5NDA3NWUwZjQwNTZhNTIzYmZkM2I0ZmNhNTk4LmJpbmRUb29sdGlwKAogICAgICAgICAgICBgPGRpdj5gCiAgICAgICAgICAgICsgYDxsaT48Ym9sZD5Db3VudHJ5IDogRXF1YXRvcmlhbCBHdWluZWE8bGk+PGJvbGQ+Q29uZmlybWVkIDogNDM5LjA8bGk+PGJvbGQ+RGVhdGhfcmF0ZSA6IDAuOTExMTYxNzMxMjA3Mjg5MzxsaT48Ym9sZD5EZWF0aHMgOiA0LjA8bGk+PGJvbGQ+bG9ja2Rvd24gZGF0ZSA6IDIwMjAtMDMtMjI8bGk+PGJvbGQ+Zmlyc3QgY2FzZSBkYXRlIDogMjAyMC0wMy0xNjxsaT48Ym9sZD5tZWFuIGFnZSA6IDIyLjJgICsgYDwvZGl2PmAsCiAgICAgICAgICAgIHsic3RpY2t5IjogdHJ1ZX0KICAgICAgICApOwogICAgICAgIAogICAgCgogICAgICAgICAgICB2YXIgY2lyY2xlX2JlYjdhZjM4N2NlNTRlOWRhODk5ODdiMGJmYjAxYjhkID0gTC5jaXJjbGUoCiAgICAgICAgICAgICAgICBbMTUuMTc5MzgzOTk5OTk5OTk5LCAzOS43ODIzMzQwMDAwMDAwMV0sCiAgICAgICAgICAgICAgICB7CiAgImJ1YmJsaW5nTW91c2VFdmVudHMiOiB0cnVlLAogICJjb2xvciI6ICJibHVlIiwKICAiZGFzaEFycmF5IjogbnVsbCwKICAiZGFzaE9mZnNldCI6IG51bGwsCiAgImZpbGwiOiAiYmx1ZSIsCiAgImZpbGxDb2xvciI6ICJibHVlIiwKICAiZmlsbE9wYWNpdHkiOiAwLjIsCiAgImZpbGxSdWxlIjogImV2ZW5vZGQiLAogICJsaW5lQ2FwIjogInJvdW5kIiwKICAibGluZUpvaW4iOiAicm91bmQiLAogICJvcGFjaXR5IjogMS4wLAogICJzdHJva2UiOiB0cnVlLAogICJ3ZWlnaHQiOiAzCn0KICAgICAgICAgICAgICAgICkKICAgICAgICAgICAgICAgIC5hZGRUbyhtYXBfZGRiMDMxNmNhZDczNGY3NmE1MjBlNzY3NjFjZDRkNzgpOwogICAgICAgICAgICAKICAgIAogICAgICAgIGNpcmNsZV9iZWI3YWYzODdjZTU0ZTlkYTg5OTg3YjBiZmIwMWI4ZC5iaW5kVG9vbHRpcCgKICAgICAgICAgICAgYDxkaXY+YAogICAgICAgICAgICArIGA8bGk+PGJvbGQ+Q291bnRyeSA6IEVyaXRyZWE8bGk+PGJvbGQ+Q29uZmlybWVkIDogMzkuMDxsaT48Ym9sZD5EZWF0aF9yYXRlIDogMC4wPGxpPjxib2xkPkRlYXRocyA6IDAuMDxsaT48Ym9sZD5sb2NrZG93biBkYXRlIDogMjAyMC0wNC0wMjxsaT48Ym9sZD5maXJzdCBjYXNlIGRhdGUgOiAyMDIwLTAzLTIyPGxpPjxib2xkPm1lYW4gYWdlIDogMTguOWAgKyBgPC9kaXY+YCwKICAgICAgICAgICAgeyJzdGlja3kiOiB0cnVlfQogICAgICAgICk7CiAgICAgICAgCiAgICAKCiAgICAgICAgICAgIHZhciBjaXJjbGVfNzU2ZWE4MzY3NDgwNDg5ZmFmN2QzMzkyMGZmY2U2ZWIgPSBMLmNpcmNsZSgKICAgICAgICAgICAgICAgIFs1OC41OTUyNzE5OTk5OTk5OTQsIDI1LjAxMzYwN10sCiAgICAgICAgICAgICAgICB7CiAgImJ1YmJsaW5nTW91c2VFdmVudHMiOiB0cnVlLAogICJjb2xvciI6ICJibHVlIiwKICAiZGFzaEFycmF5IjogbnVsbCwKICAiZGFzaE9mZnNldCI6IG51bGwsCiAgImZpbGwiOiAiYmx1ZSIsCiAgImZpbGxDb2xvciI6ICJibHVlIiwKICAiZmlsbE9wYWNpdHkiOiAwLjIsCiAgImZpbGxSdWxlIjogImV2ZW5vZGQiLAogICJsaW5lQ2FwIjogInJvdW5kIiwKICAibGluZUpvaW4iOiAicm91bmQiLAogICJvcGFjaXR5IjogMS4wLAogICJyYWRpdXMiOiAzNDUwMiwKICAic3Ryb2tlIjogdHJ1ZSwKICAid2VpZ2h0IjogMwp9CiAgICAgICAgICAgICAgICApCiAgICAgICAgICAgICAgICAuYWRkVG8obWFwX2RkYjAzMTZjYWQ3MzRmNzZhNTIwZTc2NzYxY2Q0ZDc4KTsKICAgICAgICAgICAgCiAgICAKICAgICAgICBjaXJjbGVfNzU2ZWE4MzY3NDgwNDg5ZmFmN2QzMzkyMGZmY2U2ZWIuYmluZFRvb2x0aXAoCiAgICAgICAgICAgIGA8ZGl2PmAKICAgICAgICAgICAgKyBgPGxpPjxib2xkPkNvdW50cnkgOiBFc3RvbmlhPGxpPjxib2xkPkNvbmZpcm1lZCA6IDE3MzkuMDxsaT48Ym9sZD5EZWF0aF9yYXRlIDogMy40NTAyNTg3Njk0MDc3MDU0PGxpPjxib2xkPkRlYXRocyA6IDYwLjA8bGk+PGJvbGQ+bG9ja2Rvd24gZGF0ZSA6IDIwMjAtMDMtMTM8bGk+PGJvbGQ+Zmlyc3QgY2FzZSBkYXRlIDogMjAyMC0wMi0yODxsaT48Ym9sZD5tZWFuIGFnZSA6IDQxLjZgICsgYDwvZGl2PmAsCiAgICAgICAgICAgIHsic3RpY2t5IjogdHJ1ZX0KICAgICAgICApOwogICAgICAgIAogICAgCgogICAgICAgICAgICB2YXIgY2lyY2xlX2VlNTg1Yjg2MzM2NTQ3ZTZhNTM2N2M0ZWIxNWFkMDkyID0gTC5jaXJjbGUoCiAgICAgICAgICAgICAgICBbLTI2LjUxNzk0MTQsIDMxLjQ2NTldLAogICAgICAgICAgICAgICAgewogICJidWJibGluZ01vdXNlRXZlbnRzIjogdHJ1ZSwKICAiY29sb3IiOiAiYmx1ZSIsCiAgImRhc2hBcnJheSI6IG51bGwsCiAgImRhc2hPZmZzZXQiOiBudWxsLAogICJmaWxsIjogImJsdWUiLAogICJmaWxsQ29sb3IiOiAiYmx1ZSIsCiAgImZpbGxPcGFjaXR5IjogMC4yLAogICJmaWxsUnVsZSI6ICJldmVub2RkIiwKICAibGluZUNhcCI6ICJyb3VuZCIsCiAgImxpbmVKb2luIjogInJvdW5kIiwKICAib3BhY2l0eSI6IDEuMCwKICAicmFkaXVzIjogMTE2MjcsCiAgInN0cm9rZSI6IHRydWUsCiAgIndlaWdodCI6IDMKfQogICAgICAgICAgICAgICAgKQogICAgICAgICAgICAgICAgLmFkZFRvKG1hcF9kZGIwMzE2Y2FkNzM0Zjc2YTUyMGU3Njc2MWNkNGQ3OCk7CiAgICAgICAgICAgIAogICAgCiAgICAgICAgY2lyY2xlX2VlNTg1Yjg2MzM2NTQ3ZTZhNTM2N2M0ZWIxNWFkMDkyLmJpbmRUb29sdGlwKAogICAgICAgICAgICBgPGRpdj5gCiAgICAgICAgICAgICsgYDxsaT48Ym9sZD5Db3VudHJ5IDogRXN3YXRpbmk8bGk+PGJvbGQ+Q29uZmlybWVkIDogMTcyLjA8bGk+PGJvbGQ+RGVhdGhfcmF0ZSA6IDEuMTYyNzkwNjk3Njc0NDE4NzxsaT48Ym9sZD5EZWF0aHMgOiAyLjA8bGk+PGJvbGQ+bG9ja2Rvd24gZGF0ZSA6IDIwMjAtMDMtMjc8bGk+PGJvbGQ+Zmlyc3QgY2FzZSBkYXRlIDogMjAyMC0wMy0xNTxsaT48Ym9sZD5tZWFuIGFnZSA6IDM3LjBgICsgYDwvZGl2PmAsCiAgICAgICAgICAgIHsic3RpY2t5IjogdHJ1ZX0KICAgICAgICApOwogICAgICAgIAogICAgCgogICAgICAgICAgICB2YXIgY2lyY2xlX2FkODA1ZTc5NTMyMDQ0ODhiZmVmMDlhMjJmMmIyNjVlID0gTC5jaXJjbGUoCiAgICAgICAgICAgICAgICBbOS4xNDUsIDQwLjQ4OTY3Mjk5OTk5OTk5Nl0sCiAgICAgICAgICAgICAgICB7CiAgImJ1YmJsaW5nTW91c2VFdmVudHMiOiB0cnVlLAogICJjb2xvciI6ICJibHVlIiwKICAiZGFzaEFycmF5IjogbnVsbCwKICAiZGFzaE9mZnNldCI6IG51bGwsCiAgImZpbGwiOiAiYmx1ZSIsCiAgImZpbGxDb2xvciI6ICJibHVlIiwKICAiZmlsbE9wYWNpdHkiOiAwLjIsCiAgImZpbGxSdWxlIjogImV2ZW5vZGQiLAogICJsaW5lQ2FwIjogInJvdW5kIiwKICAibGluZUpvaW4iOiAicm91bmQiLAogICJvcGFjaXR5IjogMS4wLAogICJyYWRpdXMiOiAyMDkyMCwKICAic3Ryb2tlIjogdHJ1ZSwKICAid2VpZ2h0IjogMwp9CiAgICAgICAgICAgICAgICApCiAgICAgICAgICAgICAgICAuYWRkVG8obWFwX2RkYjAzMTZjYWQ3MzRmNzZhNTIwZTc2NzYxY2Q0ZDc4KTsKICAgICAgICAgICAgCiAgICAKICAgICAgICBjaXJjbGVfYWQ4MDVlNzk1MzIwNDQ4OGJmZWYwOWEyMmYyYjI2NWUuYmluZFRvb2x0aXAoCiAgICAgICAgICAgIGA8ZGl2PmAKICAgICAgICAgICAgKyBgPGxpPjxib2xkPkNvdW50cnkgOiBFdGhpb3BpYTxsaT48Ym9sZD5Db25maXJtZWQgOiAyMzkuMDxsaT48Ym9sZD5EZWF0aF9yYXRlIDogMi4wOTIwNTAyMDkyMDUwMjE8bGk+PGJvbGQ+RGVhdGhzIDogNS4wPGxpPjxib2xkPmxvY2tkb3duIGRhdGUgOiAyMDIwLTAzLTE2PGxpPjxib2xkPmZpcnN0IGNhc2UgZGF0ZSA6IDIwMjAtMDMtMTQ8bGk+PGJvbGQ+bWVhbiBhZ2UgOiAxOC42YCArIGA8L2Rpdj5gLAogICAgICAgICAgICB7InN0aWNreSI6IHRydWV9CiAgICAgICAgKTsKICAgICAgICAKICAgIAoKICAgICAgICAgICAgdmFyIGNpcmNsZV84YTg0NzFkMDhmYjQ0YjNjYmJlNDZkNzI2MGFiNGEzOCA9IEwuY2lyY2xlKAogICAgICAgICAgICAgICAgWy0xNi41NzgxOTMsIDE3OS40MTQ0MTNdLAogICAgICAgICAgICAgICAgewogICJidWJibGluZ01vdXNlRXZlbnRzIjogdHJ1ZSwKICAiY29sb3IiOiAiYmx1ZSIsCiAgImRhc2hBcnJheSI6IG51bGwsCiAgImRhc2hPZmZzZXQiOiBudWxsLAogICJmaWxsIjogImJsdWUiLAogICJmaWxsQ29sb3IiOiAiYmx1ZSIsCiAgImZpbGxPcGFjaXR5IjogMC4yLAogICJmaWxsUnVsZSI6ICJldmVub2RkIiwKICAibGluZUNhcCI6ICJyb3VuZCIsCiAgImxpbmVKb2luIjogInJvdW5kIiwKICAib3BhY2l0eSI6IDEuMCwKICAic3Ryb2tlIjogdHJ1ZSwKICAid2VpZ2h0IjogMwp9CiAgICAgICAgICAgICAgICApCiAgICAgICAgICAgICAgICAuYWRkVG8obWFwX2RkYjAzMTZjYWQ3MzRmNzZhNTIwZTc2NzYxY2Q0ZDc4KTsKICAgICAgICAgICAgCiAgICAKICAgICAgICBjaXJjbGVfOGE4NDcxZDA4ZmI0NGIzY2JiZTQ2ZDcyNjBhYjRhMzguYmluZFRvb2x0aXAoCiAgICAgICAgICAgIGA8ZGl2PmAKICAgICAgICAgICAgKyBgPGxpPjxib2xkPkNvdW50cnkgOiBGaWppPGxpPjxib2xkPkNvbmZpcm1lZCA6IDE4LjA8bGk+PGJvbGQ+RGVhdGhfcmF0ZSA6IDAuMDxsaT48Ym9sZD5EZWF0aHMgOiAwLjA8bGk+PGJvbGQ+bG9ja2Rvd24gZGF0ZSA6IDIwMjAtMDMtMjA8bGk+PGJvbGQ+Zmlyc3QgY2FzZSBkYXRlIDogMjAyMC0wMy0yMDxsaT48Ym9sZD5tZWFuIGFnZSA6IDI3LjZgICsgYDwvZGl2PmAsCiAgICAgICAgICAgIHsic3RpY2t5IjogdHJ1ZX0KICAgICAgICApOwogICAgICAgIAogICAgCgogICAgICAgICAgICB2YXIgY2lyY2xlX2I5ZWVjZjRlZDAwYjQwMmU4YzI3NTJmM2EyMTcwODk3ID0gTC5jaXJjbGUoCiAgICAgICAgICAgICAgICBbNjEuOTI0MTEsIDI1Ljc0ODE1MV0sCiAgICAgICAgICAgICAgICB7CiAgImJ1YmJsaW5nTW91c2VFdmVudHMiOiB0cnVlLAogICJjb2xvciI6ICJibHVlIiwKICAiZGFzaEFycmF5IjogbnVsbCwKICAiZGFzaE9mZnNldCI6IG51bGwsCiAgImZpbGwiOiAiYmx1ZSIsCiAgImZpbGxDb2xvciI6ICJibHVlIiwKICAiZmlsbE9wYWNpdHkiOiAwLjIsCiAgImZpbGxSdWxlIjogImV2ZW5vZGQiLAogICJsaW5lQ2FwIjogInJvdW5kIiwKICAibGluZUpvaW4iOiAicm91bmQiLAogICJvcGFjaXR5IjogMS4wLAogICJyYWRpdXMiOiA0NDc4MywKICAic3Ryb2tlIjogdHJ1ZSwKICAid2VpZ2h0IjogMwp9CiAgICAgICAgICAgICAgICApCiAgICAgICAgICAgICAgICAuYWRkVG8obWFwX2RkYjAzMTZjYWQ3MzRmNzZhNTIwZTc2NzYxY2Q0ZDc4KTsKICAgICAgICAgICAgCiAgICAKICAgICAgICBjaXJjbGVfYjllZWNmNGVkMDBiNDAyZThjMjc1MmYzYTIxNzA4OTcuYmluZFRvb2x0aXAoCiAgICAgICAgICAgIGA8ZGl2PmAKICAgICAgICAgICAgKyBgPGxpPjxib2xkPkNvdW50cnkgOiBGaW5sYW5kPGxpPjxib2xkPkNvbmZpcm1lZCA6IDU5NjIuMDxsaT48Ym9sZD5EZWF0aF9yYXRlIDogNC40NzgzNjI5NjU0NDc4MzY8bGk+PGJvbGQ+RGVhdGhzIDogMjY3LjA8bGk+PGJvbGQ+bG9ja2Rvd24gZGF0ZSA6IDIwMjAtMDMtMjc8bGk+PGJvbGQ+Zmlyc3QgY2FzZSBkYXRlIDogMjAyMC0wMS0zMDxsaT48Ym9sZD5tZWFuIGFnZSA6IDQyLjVgICsgYDwvZGl2PmAsCiAgICAgICAgICAgIHsic3RpY2t5IjogdHJ1ZX0KICAgICAgICApOwogICAgICAgIAogICAgCgogICAgICAgICAgICB2YXIgY2lyY2xlXzFlMDMyMzdhMjJhOTQxOThiYzE1NzIwZTY1NmMxNTk1ID0gTC5jaXJjbGUoCiAgICAgICAgICAgICAgICBbNDYuMjI3NjM4LCAyLjIxMzc0OV0sCiAgICAgICAgICAgICAgICB7CiAgImJ1YmJsaW5nTW91c2VFdmVudHMiOiB0cnVlLAogICJjb2xvciI6ICJibHVlIiwKICAiZGFzaEFycmF5IjogbnVsbCwKICAiZGFzaE9mZnNldCI6IG51bGwsCiAgImZpbGwiOiAiYmx1ZSIsCiAgImZpbGxDb2xvciI6ICJibHVlIiwKICAiZmlsbE9wYWNpdHkiOiAwLjIsCiAgImZpbGxSdWxlIjogImV2ZW5vZGQiLAogICJsaW5lQ2FwIjogInJvdW5kIiwKICAibGluZUpvaW4iOiAicm91bmQiLAogICJvcGFjaXR5IjogMS4wLAogICJyYWRpdXMiOiAxNDg5NzcsCiAgInN0cm9rZSI6IHRydWUsCiAgIndlaWdodCI6IDMKfQogICAgICAgICAgICAgICAgKQogICAgICAgICAgICAgICAgLmFkZFRvKG1hcF9kZGIwMzE2Y2FkNzM0Zjc2YTUyMGU3Njc2MWNkNGQ3OCk7CiAgICAgICAgICAgIAogICAgCiAgICAgICAgY2lyY2xlXzFlMDMyMzdhMjJhOTQxOThiYzE1NzIwZTY1NmMxNTk1LmJpbmRUb29sdGlwKAogICAgICAgICAgICBgPGRpdj5gCiAgICAgICAgICAgICsgYDxsaT48Ym9sZD5Db3VudHJ5IDogRnJhbmNlPGxpPjxib2xkPkNvbmZpcm1lZCA6IDE3NzA5NC4wPGxpPjxib2xkPkRlYXRoX3JhdGUgOiAxNC44OTc3Mzc5MjQ0OTIwNzc8bGk+PGJvbGQ+RGVhdGhzIDogMjYzODMuMDxsaT48Ym9sZD5sb2NrZG93biBkYXRlIDogMjAyMC0wMy0xNjxsaT48Ym9sZD5maXJzdCBjYXNlIGRhdGUgOiAyMDIwLTAxLTI1PGxpPjxib2xkPm1lYW4gYWdlIDogNDEuMmAgKyBgPC9kaXY+YCwKICAgICAgICAgICAgeyJzdGlja3kiOiB0cnVlfQogICAgICAgICk7CiAgICAgICAgCiAgICAKCiAgICAgICAgICAgIHZhciBjaXJjbGVfMjNhNWMyMjk0MjJiNDBkZTlmM2I5N2Q2MDE3YjY3ZGEgPSBMLmNpcmNsZSgKICAgICAgICAgICAgICAgIFstMC44MDM2ODksIDExLjYwOTQ0NF0sCiAgICAgICAgICAgICAgICB7CiAgImJ1YmJsaW5nTW91c2VFdmVudHMiOiB0cnVlLAogICJjb2xvciI6ICJibHVlIiwKICAiZGFzaEFycmF5IjogbnVsbCwKICAiZGFzaE9mZnNldCI6IG51bGwsCiAgImZpbGwiOiAiYmx1ZSIsCiAgImZpbGxDb2xvciI6ICJibHVlIiwKICAiZmlsbE9wYWNpdHkiOiAwLjIsCiAgImZpbGxSdWxlIjogImV2ZW5vZGQiLAogICJsaW5lQ2FwIjogInJvdW5kIiwKICAibGluZUpvaW4iOiAicm91bmQiLAogICJvcGFjaXR5IjogMS4wLAogICJyYWRpdXMiOiAxMjEwMiwKICAic3Ryb2tlIjogdHJ1ZSwKICAid2VpZ2h0IjogMwp9CiAgICAgICAgICAgICAgICApCiAgICAgICAgICAgICAgICAuYWRkVG8obWFwX2RkYjAzMTZjYWQ3MzRmNzZhNTIwZTc2NzYxY2Q0ZDc4KTsKICAgICAgICAgICAgCiAgICAKICAgICAgICBjaXJjbGVfMjNhNWMyMjk0MjJiNDBkZTlmM2I5N2Q2MDE3YjY3ZGEuYmluZFRvb2x0aXAoCiAgICAgICAgICAgIGA8ZGl2PmAKICAgICAgICAgICAgKyBgPGxpPjxib2xkPkNvdW50cnkgOiBHYWJvbjxsaT48Ym9sZD5Db25maXJtZWQgOiA2NjEuMDxsaT48Ym9sZD5EZWF0aF9yYXRlIDogMS4yMTAyODc0NDMyNjc3NzYyPGxpPjxib2xkPkRlYXRocyA6IDguMDxsaT48Ym9sZD5sb2NrZG93biBkYXRlIDogMjAyMC0wNC0xMzxsaT48Ym9sZD5maXJzdCBjYXNlIGRhdGUgOiAyMDIwLTAzLTE1PGxpPjxib2xkPm1lYW4gYWdlIDogMjIuNmAgKyBgPC9kaXY+YCwKICAgICAgICAgICAgeyJzdGlja3kiOiB0cnVlfQogICAgICAgICk7CiAgICAgICAgCiAgICAKCiAgICAgICAgICAgIHZhciBjaXJjbGVfNzg2NjE1NDFlOGM2NGQxODk1MDkzZjNmYTM3Yjc3NDggPSBMLmNpcmNsZSgKICAgICAgICAgICAgICAgIFsxMy40NDMxODIsIC0xNS4zMTAxMzkwMDAwMDAwMDFdLAogICAgICAgICAgICAgICAgewogICJidWJibGluZ01vdXNlRXZlbnRzIjogdHJ1ZSwKICAiY29sb3IiOiAiYmx1ZSIsCiAgImRhc2hBcnJheSI6IG51bGwsCiAgImRhc2hPZmZzZXQiOiBudWxsLAogICJmaWxsIjogImJsdWUiLAogICJmaWxsQ29sb3IiOiAiYmx1ZSIsCiAgImZpbGxPcGFjaXR5IjogMC4yLAogICJmaWxsUnVsZSI6ICJldmVub2RkIiwKICAibGluZUNhcCI6ICJyb3VuZCIsCiAgImxpbmVKb2luIjogInJvdW5kIiwKICAib3BhY2l0eSI6IDEuMCwKICAicmFkaXVzIjogNTAwMDAsCiAgInN0cm9rZSI6IHRydWUsCiAgIndlaWdodCI6IDMKfQogICAgICAgICAgICAgICAgKQogICAgICAgICAgICAgICAgLmFkZFRvKG1hcF9kZGIwMzE2Y2FkNzM0Zjc2YTUyMGU3Njc2MWNkNGQ3OCk7CiAgICAgICAgICAgIAogICAgCiAgICAgICAgY2lyY2xlXzc4NjYxNTQxZThjNjRkMTg5NTA5M2YzZmEzN2I3NzQ4LmJpbmRUb29sdGlwKAogICAgICAgICAgICBgPGRpdj5gCiAgICAgICAgICAgICsgYDxsaT48Ym9sZD5Db3VudHJ5IDogR2FtYmlhPGxpPjxib2xkPkNvbmZpcm1lZCA6IDIwLjA8bGk+PGJvbGQ+RGVhdGhfcmF0ZSA6IDUuMDxsaT48Ym9sZD5EZWF0aHMgOiAxLjA8bGk+PGJvbGQ+bG9ja2Rvd24gZGF0ZSA6IG5hbjxsaT48Ym9sZD5maXJzdCBjYXNlIGRhdGUgOiAyMDIwLTAzLTE4PGxpPjxib2xkPm1lYW4gYWdlIDogMTcuMGAgKyBgPC9kaXY+YCwKICAgICAgICAgICAgeyJzdGlja3kiOiB0cnVlfQogICAgICAgICk7CiAgICAgICAgCiAgICAKCiAgICAgICAgICAgIHZhciBjaXJjbGVfNzM4YTJkOWM0ZDE1NGQ3Mzg3YjEyMWViOTFhOWU3NWIgPSBMLmNpcmNsZSgKICAgICAgICAgICAgICAgIFs0Mi4zMTU0MDcsIDQzLjM1Njg5MTk5OTk5OTk5NV0sCiAgICAgICAgICAgICAgICB7CiAgImJ1YmJsaW5nTW91c2VFdmVudHMiOiB0cnVlLAogICJjb2xvciI6ICJibHVlIiwKICAiZGFzaEFycmF5IjogbnVsbCwKICAiZGFzaE9mZnNldCI6IG51bGwsCiAgImZpbGwiOiAiYmx1ZSIsCiAgImZpbGxDb2xvciI6ICJibHVlIiwKICAiZmlsbE9wYWNpdHkiOiAwLjIsCiAgImZpbGxSdWxlIjogImV2ZW5vZGQiLAogICJsaW5lQ2FwIjogInJvdW5kIiwKICAibGluZUpvaW4iOiAicm91bmQiLAogICJvcGFjaXR5IjogMS4wLAogICJyYWRpdXMiOiAxNTc0OCwKICAic3Ryb2tlIjogdHJ1ZSwKICAid2VpZ2h0IjogMwp9CiAgICAgICAgICAgICAgICApCiAgICAgICAgICAgICAgICAuYWRkVG8obWFwX2RkYjAzMTZjYWQ3MzRmNzZhNTIwZTc2NzYxY2Q0ZDc4KTsKICAgICAgICAgICAgCiAgICAKICAgICAgICBjaXJjbGVfNzM4YTJkOWM0ZDE1NGQ3Mzg3YjEyMWViOTFhOWU3NWIuYmluZFRvb2x0aXAoCiAgICAgICAgICAgIGA8ZGl2PmAKICAgICAgICAgICAgKyBgPGxpPjxib2xkPkNvdW50cnkgOiBHZW9yZ2lhPGxpPjxib2xkPkNvbmZpcm1lZCA6IDYzNS4wPGxpPjxib2xkPkRlYXRoX3JhdGUgOiAxLjU3NDgwMzE0OTYwNjI5OTM8bGk+PGJvbGQ+RGVhdGhzIDogMTAuMDxsaT48Ym9sZD5sb2NrZG93biBkYXRlIDogMjAyMC0wMy0yMjxsaT48Ym9sZD5maXJzdCBjYXNlIGRhdGUgOiAyMDIwLTAyLTI3PGxpPjxib2xkPm1lYW4gYWdlIDogMzguMGAgKyBgPC9kaXY+YCwKICAgICAgICAgICAgeyJzdGlja3kiOiB0cnVlfQogICAgICAgICk7CiAgICAgICAgCiAgICAKCiAgICAgICAgICAgIHZhciBjaXJjbGVfNTAzNWQyYWE2MGM0NDVlYWIzN2UyZTM1MzJmNjM3M2QgPSBMLmNpcmNsZSgKICAgICAgICAgICAgICAgIFs1MS4xNjU2OTA5OTk5OTk5OTUsIDEwLjQ1MTUyNl0sCiAgICAgICAgICAgICAgICB7CiAgImJ1YmJsaW5nTW91c2VFdmVudHMiOiB0cnVlLAogICJjb2xvciI6ICJibHVlIiwKICAiZGFzaEFycmF5IjogbnVsbCwKICAiZGFzaE9mZnNldCI6IG51bGwsCiAgImZpbGwiOiAiYmx1ZSIsCiAgImZpbGxDb2xvciI6ICJibHVlIiwKICAiZmlsbE9wYWNpdHkiOiAwLjIsCiAgImZpbGxSdWxlIjogImV2ZW5vZGQiLAogICJsaW5lQ2FwIjogInJvdW5kIiwKICAibGluZUpvaW4iOiAicm91bmQiLAogICJvcGFjaXR5IjogMS4wLAogICJyYWRpdXMiOiA0NDAzNiwKICAic3Ryb2tlIjogdHJ1ZSwKICAid2VpZ2h0IjogMwp9CiAgICAgICAgICAgICAgICApCiAgICAgICAgICAgICAgICAuYWRkVG8obWFwX2RkYjAzMTZjYWQ3MzRmNzZhNTIwZTc2NzYxY2Q0ZDc4KTsKICAgICAgICAgICAgCiAgICAKICAgICAgICBjaXJjbGVfNTAzNWQyYWE2MGM0NDVlYWIzN2UyZTM1MzJmNjM3M2QuYmluZFRvb2x0aXAoCiAgICAgICAgICAgIGA8ZGl2PmAKICAgICAgICAgICAgKyBgPGxpPjxib2xkPkNvdW50cnkgOiBHZXJtYW55PGxpPjxib2xkPkNvbmZpcm1lZCA6IDE3MTg3OS4wPGxpPjxib2xkPkRlYXRoX3JhdGUgOiA0LjQwMzY3OTMzMjU1MzcxNTxsaT48Ym9sZD5EZWF0aHMgOiA3NTY5LjA8bGk+PGJvbGQ+bG9ja2Rvd24gZGF0ZSA6IDIwMjAtMDMtMjA8bGk+PGJvbGQ+Zmlyc3QgY2FzZSBkYXRlIDogMjAyMC0wMS0yODxsaT48Ym9sZD5tZWFuIGFnZSA6IDQ1LjlgICsgYDwvZGl2PmAsCiAgICAgICAgICAgIHsic3RpY2t5IjogdHJ1ZX0KICAgICAgICApOwogICAgICAgIAogICAgCgogICAgICAgICAgICB2YXIgY2lyY2xlX2UzN2VkNzRhM2QwYjQyNjdhMzE0MmFkMzNiZmNkZTBiID0gTC5jaXJjbGUoCiAgICAgICAgICAgICAgICBbNy45NDY1MjcwMDAwMDAwMDE1LCAtMS4wMjMxOTQwMDAwMDAwMDAyXSwKICAgICAgICAgICAgICAgIHsKICAiYnViYmxpbmdNb3VzZUV2ZW50cyI6IHRydWUsCiAgImNvbG9yIjogImJsdWUiLAogICJkYXNoQXJyYXkiOiBudWxsLAogICJkYXNoT2Zmc2V0IjogbnVsbCwKICAiZmlsbCI6ICJibHVlIiwKICAiZmlsbENvbG9yIjogImJsdWUiLAogICJmaWxsT3BhY2l0eSI6IDAuMiwKICAiZmlsbFJ1bGUiOiAiZXZlbm9kZCIsCiAgImxpbmVDYXAiOiAicm91bmQiLAogICJsaW5lSm9pbiI6ICJyb3VuZCIsCiAgIm9wYWNpdHkiOiAxLjAsCiAgInJhZGl1cyI6IDUxNjAsCiAgInN0cm9rZSI6IHRydWUsCiAgIndlaWdodCI6IDMKfQogICAgICAgICAgICAgICAgKQogICAgICAgICAgICAgICAgLmFkZFRvKG1hcF9kZGIwMzE2Y2FkNzM0Zjc2YTUyMGU3Njc2MWNkNGQ3OCk7CiAgICAgICAgICAgIAogICAgCiAgICAgICAgY2lyY2xlX2UzN2VkNzRhM2QwYjQyNjdhMzE0MmFkMzNiZmNkZTBiLmJpbmRUb29sdGlwKAogICAgICAgICAgICBgPGRpdj5gCiAgICAgICAgICAgICsgYDxsaT48Ym9sZD5Db3VudHJ5IDogR2hhbmE8bGk+PGJvbGQ+Q29uZmlybWVkIDogNDI2My4wPGxpPjxib2xkPkRlYXRoX3JhdGUgOiAwLjUxNjA2ODQ5NjM2NDA2Mjg8bGk+PGJvbGQ+RGVhdGhzIDogMjIuMDxsaT48Ym9sZD5sb2NrZG93biBkYXRlIDogMjAyMC0wMy0xNTxsaT48Ym9sZD5maXJzdCBjYXNlIGRhdGUgOiAyMDIwLTAzLTE1PGxpPjxib2xkPm1lYW4gYWdlIDogMjAuNGAgKyBgPC9kaXY+YCwKICAgICAgICAgICAgeyJzdGlja3kiOiB0cnVlfQogICAgICAgICk7CiAgICAgICAgCiAgICAKCiAgICAgICAgICAgIHZhciBjaXJjbGVfYmQxODA1Njg0YjMzNGM4ZDhkZTk2N2Y5MjI3OTdlNzAgPSBMLmNpcmNsZSgKICAgICAgICAgICAgICAgIFszOS4wNzQyMDgsIDIxLjgyNDMxMl0sCiAgICAgICAgICAgICAgICB7CiAgImJ1YmJsaW5nTW91c2VFdmVudHMiOiB0cnVlLAogICJjb2xvciI6ICJibHVlIiwKICAiZGFzaEFycmF5IjogbnVsbCwKICAiZGFzaE9mZnNldCI6IG51bGwsCiAgImZpbGwiOiAiYmx1ZSIsCiAgImZpbGxDb2xvciI6ICJibHVlIiwKICAiZmlsbE9wYWNpdHkiOiAwLjIsCiAgImZpbGxSdWxlIjogImV2ZW5vZGQiLAogICJsaW5lQ2FwIjogInJvdW5kIiwKICAibGluZUpvaW4iOiAicm91bmQiLAogICJvcGFjaXR5IjogMS4wLAogICJyYWRpdXMiOiA1NTU5NiwKICAic3Ryb2tlIjogdHJ1ZSwKICAid2VpZ2h0IjogMwp9CiAgICAgICAgICAgICAgICApCiAgICAgICAgICAgICAgICAuYWRkVG8obWFwX2RkYjAzMTZjYWQ3MzRmNzZhNTIwZTc2NzYxY2Q0ZDc4KTsKICAgICAgICAgICAgCiAgICAKICAgICAgICBjaXJjbGVfYmQxODA1Njg0YjMzNGM4ZDhkZTk2N2Y5MjI3OTdlNzAuYmluZFRvb2x0aXAoCiAgICAgICAgICAgIGA8ZGl2PmAKICAgICAgICAgICAgKyBgPGxpPjxib2xkPkNvdW50cnkgOiBHcmVlY2U8bGk+PGJvbGQ+Q29uZmlybWVkIDogMjcxNi4wPGxpPjxib2xkPkRlYXRoX3JhdGUgOiA1LjU1OTY0NjUzOTAyNzk4MjxsaT48Ym9sZD5EZWF0aHMgOiAxNTEuMDxsaT48Ym9sZD5sb2NrZG93biBkYXRlIDogMjAyMC0wMy0xODxsaT48Ym9sZD5maXJzdCBjYXNlIGRhdGUgOiAyMDIwLTAyLTI3PGxpPjxib2xkPm1lYW4gYWdlIDogNDMuM2AgKyBgPC9kaXY+YCwKICAgICAgICAgICAgeyJzdGlja3kiOiB0cnVlfQogICAgICAgICk7CiAgICAgICAgCiAgICAKCiAgICAgICAgICAgIHZhciBjaXJjbGVfMWUzZGZlMzNhOTg0NGNiYjg0MTY3ZDE1MTgwMWExZDcgPSBMLmNpcmNsZSgKICAgICAgICAgICAgICAgIFsxMi4yNjI3NzU5OTk5OTk5OTksIC02MS42MDQxNzA5OTk5OTk5OTRdLAogICAgICAgICAgICAgICAgewogICJidWJibGluZ01vdXNlRXZlbnRzIjogdHJ1ZSwKICAiY29sb3IiOiAiYmx1ZSIsCiAgImRhc2hBcnJheSI6IG51bGwsCiAgImRhc2hPZmZzZXQiOiBudWxsLAogICJmaWxsIjogImJsdWUiLAogICJmaWxsQ29sb3IiOiAiYmx1ZSIsCiAgImZpbGxPcGFjaXR5IjogMC4yLAogICJmaWxsUnVsZSI6ICJldmVub2RkIiwKICAibGluZUNhcCI6ICJyb3VuZCIsCiAgImxpbmVKb2luIjogInJvdW5kIiwKICAib3BhY2l0eSI6IDEuMCwKICAic3Ryb2tlIjogdHJ1ZSwKICAid2VpZ2h0IjogMwp9CiAgICAgICAgICAgICAgICApCiAgICAgICAgICAgICAgICAuYWRkVG8obWFwX2RkYjAzMTZjYWQ3MzRmNzZhNTIwZTc2NzYxY2Q0ZDc4KTsKICAgICAgICAgICAgCiAgICAKICAgICAgICBjaXJjbGVfMWUzZGZlMzNhOTg0NGNiYjg0MTY3ZDE1MTgwMWExZDcuYmluZFRvb2x0aXAoCiAgICAgICAgICAgIGA8ZGl2PmAKICAgICAgICAgICAgKyBgPGxpPjxib2xkPkNvdW50cnkgOiBHcmVuYWRhPGxpPjxib2xkPkNvbmZpcm1lZCA6IDIxLjA8bGk+PGJvbGQ+RGVhdGhfcmF0ZSA6IDAuMDxsaT48Ym9sZD5EZWF0aHMgOiAwLjA8bGk+PGJvbGQ+bG9ja2Rvd24gZGF0ZSA6IDIwMjAtMDMtMjU8bGk+PGJvbGQ+Zmlyc3QgY2FzZSBkYXRlIDogMjAyMC0wMy0yMzxsaT48Ym9sZD5tZWFuIGFnZSA6IDI3LjJgICsgYDwvZGl2PmAsCiAgICAgICAgICAgIHsic3RpY2t5IjogdHJ1ZX0KICAgICAgICApOwogICAgICAgIAogICAgCgogICAgICAgICAgICB2YXIgY2lyY2xlXzNlYzQ0OWNkNzNiMDRiMzk5MWFjZGY1OGYyNzA5ODhkID0gTC5jaXJjbGUoCiAgICAgICAgICAgICAgICBbMTUuNzgzNDcwOTk5OTk5OTk5LCAtOTAuMjMwNzU4OTk5OTk5OTldLAogICAgICAgICAgICAgICAgewogICJidWJibGluZ01vdXNlRXZlbnRzIjogdHJ1ZSwKICAiY29sb3IiOiAiYmx1ZSIsCiAgImRhc2hBcnJheSI6IG51bGwsCiAgImRhc2hPZmZzZXQiOiBudWxsLAogICJmaWxsIjogImJsdWUiLAogICJmaWxsQ29sb3IiOiAiYmx1ZSIsCiAgImZpbGxPcGFjaXR5IjogMC4yLAogICJmaWxsUnVsZSI6ICJldmVub2RkIiwKICAibGluZUNhcCI6ICJyb3VuZCIsCiAgImxpbmVKb2luIjogInJvdW5kIiwKICAib3BhY2l0eSI6IDEuMCwKICAicmFkaXVzIjogMjQ3MTQsCiAgInN0cm9rZSI6IHRydWUsCiAgIndlaWdodCI6IDMKfQogICAgICAgICAgICAgICAgKQogICAgICAgICAgICAgICAgLmFkZFRvKG1hcF9kZGIwMzE2Y2FkNzM0Zjc2YTUyMGU3Njc2MWNkNGQ3OCk7CiAgICAgICAgICAgIAogICAgCiAgICAgICAgY2lyY2xlXzNlYzQ0OWNkNzNiMDRiMzk5MWFjZGY1OGYyNzA5ODhkLmJpbmRUb29sdGlwKAogICAgICAgICAgICBgPGRpdj5gCiAgICAgICAgICAgICsgYDxsaT48Ym9sZD5Db3VudHJ5IDogR3VhdGVtYWxhPGxpPjxib2xkPkNvbmZpcm1lZCA6IDEwNTIuMDxsaT48Ym9sZD5EZWF0aF9yYXRlIDogMi40NzE0ODI4ODk3MzM4NDAzPGxpPjxib2xkPkRlYXRocyA6IDI2LjA8bGk+PGJvbGQ+bG9ja2Rvd24gZGF0ZSA6IG5hbjxsaT48Ym9sZD5maXJzdCBjYXNlIGRhdGUgOiAyMDIwLTAzLTE1PGxpPjxib2xkPm1lYW4gYWdlIDogMjEuM2AgKyBgPC9kaXY+YCwKICAgICAgICAgICAgeyJzdGlja3kiOiB0cnVlfQogICAgICAgICk7CiAgICAgICAgCiAgICAKCiAgICAgICAgICAgIHZhciBjaXJjbGVfODQyMzRlNjQ2NGNlNDY1OThiZmQ0N2M0ZWRkOTVjYWUgPSBMLmNpcmNsZSgKICAgICAgICAgICAgICAgIFs5Ljk0NTU4NywgLTkuNjk2NjQ1XSwKICAgICAgICAgICAgICAgIHsKICAiYnViYmxpbmdNb3VzZUV2ZW50cyI6IHRydWUsCiAgImNvbG9yIjogImJsdWUiLAogICJkYXNoQXJyYXkiOiBudWxsLAogICJkYXNoT2Zmc2V0IjogbnVsbCwKICAiZmlsbCI6ICJibHVlIiwKICAiZmlsbENvbG9yIjogImJsdWUiLAogICJmaWxsT3BhY2l0eSI6IDAuMiwKICAiZmlsbFJ1bGUiOiAiZXZlbm9kZCIsCiAgImxpbmVDYXAiOiAicm91bmQiLAogICJsaW5lSm9pbiI6ICJyb3VuZCIsCiAgIm9wYWNpdHkiOiAxLjAsCiAgInJhZGl1cyI6IDUxMjUsCiAgInN0cm9rZSI6IHRydWUsCiAgIndlaWdodCI6IDMKfQogICAgICAgICAgICAgICAgKQogICAgICAgICAgICAgICAgLmFkZFRvKG1hcF9kZGIwMzE2Y2FkNzM0Zjc2YTUyMGU3Njc2MWNkNGQ3OCk7CiAgICAgICAgICAgIAogICAgCiAgICAgICAgY2lyY2xlXzg0MjM0ZTY0NjRjZTQ2NTk4YmZkNDdjNGVkZDk1Y2FlLmJpbmRUb29sdGlwKAogICAgICAgICAgICBgPGRpdj5gCiAgICAgICAgICAgICsgYDxsaT48Ym9sZD5Db3VudHJ5IDogR3VpbmVhPGxpPjxib2xkPkNvbmZpcm1lZCA6IDIxNDYuMDxsaT48Ym9sZD5EZWF0aF9yYXRlIDogMC41MTI1ODE1NDcwNjQzMDU3PGxpPjxib2xkPkRlYXRocyA6IDExLjA8bGk+PGJvbGQ+bG9ja2Rvd24gZGF0ZSA6IG5hbjxsaT48Ym9sZD5maXJzdCBjYXNlIGRhdGUgOiAyMDIwLTAzLTE0PGxpPjxib2xkPm1lYW4gYWdlIDogMTguNGAgKyBgPC9kaXY+YCwKICAgICAgICAgICAgeyJzdGlja3kiOiB0cnVlfQogICAgICAgICk7CiAgICAgICAgCiAgICAKCiAgICAgICAgICAgIHZhciBjaXJjbGVfZWZiZTJlNTM1NTczNDFmY2FjODNjOWFjYzYxZjYxODYgPSBMLmNpcmNsZSgKICAgICAgICAgICAgICAgIFsxMS44MDM3NDksIC0xNS4xODA0MTNdLAogICAgICAgICAgICAgICAgewogICJidWJibGluZ01vdXNlRXZlbnRzIjogdHJ1ZSwKICAiY29sb3IiOiAiYmx1ZSIsCiAgImRhc2hBcnJheSI6IG51bGwsCiAgImRhc2hPZmZzZXQiOiBudWxsLAogICJmaWxsIjogImJsdWUiLAogICJmaWxsQ29sb3IiOiAiYmx1ZSIsCiAgImZpbGxPcGFjaXR5IjogMC4yLAogICJmaWxsUnVsZSI6ICJldmVub2RkIiwKICAibGluZUNhcCI6ICJyb3VuZCIsCiAgImxpbmVKb2luIjogInJvdW5kIiwKICAib3BhY2l0eSI6IDEuMCwKICAicmFkaXVzIjogNDEzMiwKICAic3Ryb2tlIjogdHJ1ZSwKICAid2VpZ2h0IjogMwp9CiAgICAgICAgICAgICAgICApCiAgICAgICAgICAgICAgICAuYWRkVG8obWFwX2RkYjAzMTZjYWQ3MzRmNzZhNTIwZTc2NzYxY2Q0ZDc4KTsKICAgICAgICAgICAgCiAgICAKICAgICAgICBjaXJjbGVfZWZiZTJlNTM1NTczNDFmY2FjODNjOWFjYzYxZjYxODYuYmluZFRvb2x0aXAoCiAgICAgICAgICAgIGA8ZGl2PmAKICAgICAgICAgICAgKyBgPGxpPjxib2xkPkNvdW50cnkgOiBHdWluZWEtQmlzc2F1PGxpPjxib2xkPkNvbmZpcm1lZCA6IDcyNi4wPGxpPjxib2xkPkRlYXRoX3JhdGUgOiAwLjQxMzIyMzE0MDQ5NTg2Nzg8bGk+PGJvbGQ+RGVhdGhzIDogMy4wPGxpPjxib2xkPmxvY2tkb3duIGRhdGUgOiBuYW48bGk+PGJvbGQ+Zmlyc3QgY2FzZSBkYXRlIDogMjAyMC0wMy0yNjxsaT48Ym9sZD5tZWFuIGFnZSA6IDE4LjlgICsgYDwvZGl2PmAsCiAgICAgICAgICAgIHsic3RpY2t5IjogdHJ1ZX0KICAgICAgICApOwogICAgICAgIAogICAgCgogICAgICAgICAgICB2YXIgY2lyY2xlXzVkYzM3NzI4MGFhZTRlYmZhNWI3OWJiNGJhMTczNWJiID0gTC5jaXJjbGUoCiAgICAgICAgICAgICAgICBbNC44NjA0MTYwMDAwMDAwMDIsIC01OC45MzAxODAwMDAwMDAwMV0sCiAgICAgICAgICAgICAgICB7CiAgImJ1YmJsaW5nTW91c2VFdmVudHMiOiB0cnVlLAogICJjb2xvciI6ICJibHVlIiwKICAiZGFzaEFycmF5IjogbnVsbCwKICAiZGFzaE9mZnNldCI6IG51bGwsCiAgImZpbGwiOiAiYmx1ZSIsCiAgImZpbGxDb2xvciI6ICJibHVlIiwKICAiZmlsbE9wYWNpdHkiOiAwLjIsCiAgImZpbGxSdWxlIjogImV2ZW5vZGQiLAogICJsaW5lQ2FwIjogInJvdW5kIiwKICAibGluZUpvaW4iOiAicm91bmQiLAogICJvcGFjaXR5IjogMS4wLAogICJyYWRpdXMiOiA5NjE1MywKICAic3Ryb2tlIjogdHJ1ZSwKICAid2VpZ2h0IjogMwp9CiAgICAgICAgICAgICAgICApCiAgICAgICAgICAgICAgICAuYWRkVG8obWFwX2RkYjAzMTZjYWQ3MzRmNzZhNTIwZTc2NzYxY2Q0ZDc4KTsKICAgICAgICAgICAgCiAgICAKICAgICAgICBjaXJjbGVfNWRjMzc3MjgwYWFlNGViZmE1Yjc5YmI0YmExNzM1YmIuYmluZFRvb2x0aXAoCiAgICAgICAgICAgIGA8ZGl2PmAKICAgICAgICAgICAgKyBgPGxpPjxib2xkPkNvdW50cnkgOiBHdXlhbmE8bGk+PGJvbGQ+Q29uZmlybWVkIDogMTA0LjA8bGk+PGJvbGQ+RGVhdGhfcmF0ZSA6IDkuNjE1Mzg0NjE1Mzg0NjE1PGxpPjxib2xkPkRlYXRocyA6IDEwLjA8bGk+PGJvbGQ+bG9ja2Rvd24gZGF0ZSA6IG5hbjxsaT48Ym9sZD5maXJzdCBjYXNlIGRhdGUgOiAyMDIwLTAzLTEzPGxpPjxib2xkPm1lYW4gYWdlIDogMjQuNmAgKyBgPC9kaXY+YCwKICAgICAgICAgICAgeyJzdGlja3kiOiB0cnVlfQogICAgICAgICk7CiAgICAgICAgCiAgICAKCiAgICAgICAgICAgIHZhciBjaXJjbGVfZTNiMjNlNGRmYTQ1NGVmNDhiZjU0MmI3NmQ5ZDFjNTEgPSBMLmNpcmNsZSgKICAgICAgICAgICAgICAgIFsxOC45NzExODcsIC03Mi4yODUyMTUwMDAwMDAwMl0sCiAgICAgICAgICAgICAgICB7CiAgImJ1YmJsaW5nTW91c2VFdmVudHMiOiB0cnVlLAogICJjb2xvciI6ICJibHVlIiwKICAiZGFzaEFycmF5IjogbnVsbCwKICAiZGFzaE9mZnNldCI6IG51bGwsCiAgImZpbGwiOiAiYmx1ZSIsCiAgImZpbGxDb2xvciI6ICJibHVlIiwKICAiZmlsbE9wYWNpdHkiOiAwLjIsCiAgImZpbGxSdWxlIjogImV2ZW5vZGQiLAogICJsaW5lQ2FwIjogInJvdW5kIiwKICAibGluZUpvaW4iOiAicm91bmQiLAogICJvcGFjaXR5IjogMS4wLAogICJyYWRpdXMiOiA4MjQxNywKICAic3Ryb2tlIjogdHJ1ZSwKICAid2VpZ2h0IjogMwp9CiAgICAgICAgICAgICAgICApCiAgICAgICAgICAgICAgICAuYWRkVG8obWFwX2RkYjAzMTZjYWQ3MzRmNzZhNTIwZTc2NzYxY2Q0ZDc4KTsKICAgICAgICAgICAgCiAgICAKICAgICAgICBjaXJjbGVfZTNiMjNlNGRmYTQ1NGVmNDhiZjU0MmI3NmQ5ZDFjNTEuYmluZFRvb2x0aXAoCiAgICAgICAgICAgIGA8ZGl2PmAKICAgICAgICAgICAgKyBgPGxpPjxib2xkPkNvdW50cnkgOiBIYWl0aTxsaT48Ym9sZD5Db25maXJtZWQgOiAxODIuMDxsaT48Ym9sZD5EZWF0aF9yYXRlIDogOC4yNDE3NTgyNDE3NTgyNDE8bGk+PGJvbGQ+RGVhdGhzIDogMTUuMDxsaT48Ym9sZD5sb2NrZG93biBkYXRlIDogbmFuPGxpPjxib2xkPmZpcnN0IGNhc2UgZGF0ZSA6IDIwMjAtMDMtMjE8bGk+PGJvbGQ+bWVhbiBhZ2UgOiAyMy4wYCArIGA8L2Rpdj5gLAogICAgICAgICAgICB7InN0aWNreSI6IHRydWV9CiAgICAgICAgKTsKICAgICAgICAKICAgIAoKICAgICAgICAgICAgdmFyIGNpcmNsZV84NzM2MmVlZTQ4ZDg0MWZhYWQ4ZTgyZDliNjA1N2U1MCA9IEwuY2lyY2xlKAogICAgICAgICAgICAgICAgWzQxLjkwMjksIDEyLjQ1MzRdLAogICAgICAgICAgICAgICAgewogICJidWJibGluZ01vdXNlRXZlbnRzIjogdHJ1ZSwKICAiY29sb3IiOiAiYmx1ZSIsCiAgImRhc2hBcnJheSI6IG51bGwsCiAgImRhc2hPZmZzZXQiOiBudWxsLAogICJmaWxsIjogImJsdWUiLAogICJmaWxsQ29sb3IiOiAiYmx1ZSIsCiAgImZpbGxPcGFjaXR5IjogMC4yLAogICJmaWxsUnVsZSI6ICJldmVub2RkIiwKICAibGluZUNhcCI6ICJyb3VuZCIsCiAgImxpbmVKb2luIjogInJvdW5kIiwKICAib3BhY2l0eSI6IDEuMCwKICAic3Ryb2tlIjogdHJ1ZSwKICAid2VpZ2h0IjogMwp9CiAgICAgICAgICAgICAgICApCiAgICAgICAgICAgICAgICAuYWRkVG8obWFwX2RkYjAzMTZjYWQ3MzRmNzZhNTIwZTc2NzYxY2Q0ZDc4KTsKICAgICAgICAgICAgCiAgICAKICAgICAgICBjaXJjbGVfODczNjJlZWU0OGQ4NDFmYWFkOGU4MmQ5YjYwNTdlNTAuYmluZFRvb2x0aXAoCiAgICAgICAgICAgIGA8ZGl2PmAKICAgICAgICAgICAgKyBgPGxpPjxib2xkPkNvdW50cnkgOiBIb2x5IFNlZTxsaT48Ym9sZD5Db25maXJtZWQgOiAxMi4wPGxpPjxib2xkPkRlYXRoX3JhdGUgOiAwLjA8bGk+PGJvbGQ+RGVhdGhzIDogMC4wPGxpPjxib2xkPmxvY2tkb3duIGRhdGUgOiAyMDIwLTAzLTA5PGxpPjxib2xkPmZpcnN0IGNhc2UgZGF0ZSA6IDIwMjAtMDMtMDc8bGk+PGJvbGQ+bWVhbiBhZ2UgOiAzNy4wYCArIGA8L2Rpdj5gLAogICAgICAgICAgICB7InN0aWNreSI6IHRydWV9CiAgICAgICAgKTsKICAgICAgICAKICAgIAoKICAgICAgICAgICAgdmFyIGNpcmNsZV83MjRjZmEzMDFkOWU0ZGYxYWRiYWU3NmNjZGUxZmViZCA9IEwuY2lyY2xlKAogICAgICAgICAgICAgICAgWzE1LjE5OTk5ODk5OTk5OTk5OCwgLTg2LjI0MTkwNV0sCiAgICAgICAgICAgICAgICB7CiAgImJ1YmJsaW5nTW91c2VFdmVudHMiOiB0cnVlLAogICJjb2xvciI6ICJibHVlIiwKICAiZGFzaEFycmF5IjogbnVsbCwKICAiZGFzaE9mZnNldCI6IG51bGwsCiAgImZpbGwiOiAiYmx1ZSIsCiAgImZpbGxDb2xvciI6ICJibHVlIiwKICAiZmlsbE9wYWNpdHkiOiAwLjIsCiAgImZpbGxSdWxlIjogImV2ZW5vZGQiLAogICJsaW5lQ2FwIjogInJvdW5kIiwKICAibGluZUpvaW4iOiAicm91bmQiLAogICJvcGFjaXR5IjogMS4wLAogICJyYWRpdXMiOiA1NDc2NiwKICAic3Ryb2tlIjogdHJ1ZSwKICAid2VpZ2h0IjogMwp9CiAgICAgICAgICAgICAgICApCiAgICAgICAgICAgICAgICAuYWRkVG8obWFwX2RkYjAzMTZjYWQ3MzRmNzZhNTIwZTc2NzYxY2Q0ZDc4KTsKICAgICAgICAgICAgCiAgICAKICAgICAgICBjaXJjbGVfNzI0Y2ZhMzAxZDllNGRmMWFkYmFlNzZjY2RlMWZlYmQuYmluZFRvb2x0aXAoCiAgICAgICAgICAgIGA8ZGl2PmAKICAgICAgICAgICAgKyBgPGxpPjxib2xkPkNvdW50cnkgOiBIb25kdXJhczxsaT48Ym9sZD5Db25maXJtZWQgOiAxOTcyLjA8bGk+PGJvbGQ+RGVhdGhfcmF0ZSA6IDUuNDc2NjczNDI3OTkxODg2PGxpPjxib2xkPkRlYXRocyA6IDEwOC4wPGxpPjxib2xkPmxvY2tkb3duIGRhdGUgOiAyMDIwLTAzLTIwPGxpPjxib2xkPmZpcnN0IGNhc2UgZGF0ZSA6IDIwMjAtMDMtMTI8bGk+PGJvbGQ+bWVhbiBhZ2UgOiAyMy4wYCArIGA8L2Rpdj5gLAogICAgICAgICAgICB7InN0aWNreSI6IHRydWV9CiAgICAgICAgKTsKICAgICAgICAKICAgIAoKICAgICAgICAgICAgdmFyIGNpcmNsZV8xZDhiN2FmMDJkNzU0M2FkOTYwMjZkNmU3NzE1NmMzNCA9IEwuY2lyY2xlKAogICAgICAgICAgICAgICAgWzQ3LjE2MjQ5NCwgMTkuNTAzMzA0XSwKICAgICAgICAgICAgICAgIHsKICAiYnViYmxpbmdNb3VzZUV2ZW50cyI6IHRydWUsCiAgImNvbG9yIjogImJsdWUiLAogICJkYXNoQXJyYXkiOiBudWxsLAogICJkYXNoT2Zmc2V0IjogbnVsbCwKICAiZmlsbCI6ICJibHVlIiwKICAiZmlsbENvbG9yIjogImJsdWUiLAogICJmaWxsT3BhY2l0eSI6IDAuMiwKICAiZmlsbFJ1bGUiOiAiZXZlbm9kZCIsCiAgImxpbmVDYXAiOiAicm91bmQiLAogICJsaW5lSm9pbiI6ICJyb3VuZCIsCiAgIm9wYWNpdHkiOiAxLjAsCiAgInJhZGl1cyI6IDEyNjU3MCwKICAic3Ryb2tlIjogdHJ1ZSwKICAid2VpZ2h0IjogMwp9CiAgICAgICAgICAgICAgICApCiAgICAgICAgICAgICAgICAuYWRkVG8obWFwX2RkYjAzMTZjYWQ3MzRmNzZhNTIwZTc2NzYxY2Q0ZDc4KTsKICAgICAgICAgICAgCiAgICAKICAgICAgICBjaXJjbGVfMWQ4YjdhZjAyZDc1NDNhZDk2MDI2ZDZlNzcxNTZjMzQuYmluZFRvb2x0aXAoCiAgICAgICAgICAgIGA8ZGl2PmAKICAgICAgICAgICAgKyBgPGxpPjxib2xkPkNvdW50cnkgOiBIdW5nYXJ5PGxpPjxib2xkPkNvbmZpcm1lZCA6IDMyNjMuMDxsaT48Ym9sZD5EZWF0aF9yYXRlIDogMTIuNjU3MDY0MDUxNDg2MzYyPGxpPjxib2xkPkRlYXRocyA6IDQxMy4wPGxpPjxib2xkPmxvY2tkb3duIGRhdGUgOiAyMDIwLTAzLTE2PGxpPjxib2xkPmZpcnN0IGNhc2UgZGF0ZSA6IDIwMjAtMDMtMDU8bGk+PGJvbGQ+bWVhbiBhZ2UgOiA0MS43YCArIGA8L2Rpdj5gLAogICAgICAgICAgICB7InN0aWNreSI6IHRydWV9CiAgICAgICAgKTsKICAgICAgICAKICAgIAoKICAgICAgICAgICAgdmFyIGNpcmNsZV80MTQyNDMxMDNhZjY0OTJkYWJiMTI5NWZmNDZlNTRiNyA9IEwuY2lyY2xlKAogICAgICAgICAgICAgICAgWzY0Ljk2MzA1MTAwMDAwMDAxLCAtMTkuMDIwODM1XSwKICAgICAgICAgICAgICAgIHsKICAiYnViYmxpbmdNb3VzZUV2ZW50cyI6IHRydWUsCiAgImNvbG9yIjogImJsdWUiLAogICJkYXNoQXJyYXkiOiBudWxsLAogICJkYXNoT2Zmc2V0IjogbnVsbCwKICAiZmlsbCI6ICJibHVlIiwKICAiZmlsbENvbG9yIjogImJsdWUiLAogICJmaWxsT3BhY2l0eSI6IDAuMiwKICAiZmlsbFJ1bGUiOiAiZXZlbm9kZCIsCiAgImxpbmVDYXAiOiAicm91bmQiLAogICJsaW5lSm9pbiI6ICJyb3VuZCIsCiAgIm9wYWNpdHkiOiAxLjAsCiAgInJhZGl1cyI6IDU1NTIsCiAgInN0cm9rZSI6IHRydWUsCiAgIndlaWdodCI6IDMKfQogICAgICAgICAgICAgICAgKQogICAgICAgICAgICAgICAgLmFkZFRvKG1hcF9kZGIwMzE2Y2FkNzM0Zjc2YTUyMGU3Njc2MWNkNGQ3OCk7CiAgICAgICAgICAgIAogICAgCiAgICAgICAgY2lyY2xlXzQxNDI0MzEwM2FmNjQ5MmRhYmIxMjk1ZmY0NmU1NGI3LmJpbmRUb29sdGlwKAogICAgICAgICAgICBgPGRpdj5gCiAgICAgICAgICAgICsgYDxsaT48Ym9sZD5Db3VudHJ5IDogSWNlbGFuZDxsaT48Ym9sZD5Db25maXJtZWQgOiAxODAxLjA8bGk+PGJvbGQ+RGVhdGhfcmF0ZSA6IDAuNTU1MjQ3MDg0OTUyODA0PGxpPjxib2xkPkRlYXRocyA6IDEwLjA8bGk+PGJvbGQ+bG9ja2Rvd24gZGF0ZSA6IDIwMjAtMDMtMTY8bGk+PGJvbGQ+Zmlyc3QgY2FzZSBkYXRlIDogMjAyMC0wMi0yOTxsaT48Ym9sZD5tZWFuIGFnZSA6IDM2LjBgICsgYDwvZGl2PmAsCiAgICAgICAgICAgIHsic3RpY2t5IjogdHJ1ZX0KICAgICAgICApOwogICAgICAgIAogICAgCgogICAgICAgICAgICB2YXIgY2lyY2xlXzY3M2E2ZmU5NDlkOTRkNTA4YmQ0YWFmOTkxOTRkYjI2ID0gTC5jaXJjbGUoCiAgICAgICAgICAgICAgICBbMjAuNTkzNjg0LCA3OC45NjI4OF0sCiAgICAgICAgICAgICAgICB7CiAgImJ1YmJsaW5nTW91c2VFdmVudHMiOiB0cnVlLAogICJjb2xvciI6ICJibHVlIiwKICAiZGFzaEFycmF5IjogbnVsbCwKICAiZGFzaE9mZnNldCI6IG51bGwsCiAgImZpbGwiOiAiYmx1ZSIsCiAgImZpbGxDb2xvciI6ICJibHVlIiwKICAiZmlsbE9wYWNpdHkiOiAwLjIsCiAgImZpbGxSdWxlIjogImV2ZW5vZGQiLAogICJsaW5lQ2FwIjogInJvdW5kIiwKICAibGluZUpvaW4iOiAicm91bmQiLAogICJvcGFjaXR5IjogMS4wLAogICJyYWRpdXMiOiAzMjkzNSwKICAic3Ryb2tlIjogdHJ1ZSwKICAid2VpZ2h0IjogMwp9CiAgICAgICAgICAgICAgICApCiAgICAgICAgICAgICAgICAuYWRkVG8obWFwX2RkYjAzMTZjYWQ3MzRmNzZhNTIwZTc2NzYxY2Q0ZDc4KTsKICAgICAgICAgICAgCiAgICAKICAgICAgICBjaXJjbGVfNjczYTZmZTk0OWQ5NGQ1MDhiZDRhYWY5OTE5NGRiMjYuYmluZFRvb2x0aXAoCiAgICAgICAgICAgIGA8ZGl2PmAKICAgICAgICAgICAgKyBgPGxpPjxib2xkPkNvdW50cnkgOiBJbmRpYTxsaT48Ym9sZD5Db25maXJtZWQgOiA2NzE2MS4wPGxpPjxib2xkPkRlYXRoX3JhdGUgOiAzLjI5MzU3ODExODI1MzE1Mjc8bGk+PGJvbGQ+RGVhdGhzIDogMjIxMi4wPGxpPjxib2xkPmxvY2tkb3duIGRhdGUgOiAyMDIwLTAzLTI0PGxpPjxib2xkPmZpcnN0IGNhc2UgZGF0ZSA6IDIwMjAtMDEtMzE8bGk+PGJvbGQ+bWVhbiBhZ2UgOiAyNi43YCArIGA8L2Rpdj5gLAogICAgICAgICAgICB7InN0aWNreSI6IHRydWV9CiAgICAgICAgKTsKICAgICAgICAKICAgIAoKICAgICAgICAgICAgdmFyIGNpcmNsZV83NzFlN2IzZTg1MGI0MWUxYWZkZDFmMmYwYjg2MTBjNCA9IEwuY2lyY2xlKAogICAgICAgICAgICAgICAgWy0wLjc4OTI3NSwgMTEzLjkyMTMyN10sCiAgICAgICAgICAgICAgICB7CiAgImJ1YmJsaW5nTW91c2VFdmVudHMiOiB0cnVlLAogICJjb2xvciI6ICJibHVlIiwKICAiZGFzaEFycmF5IjogbnVsbCwKICAiZGFzaE9mZnNldCI6IG51bGwsCiAgImZpbGwiOiAiYmx1ZSIsCiAgImZpbGxDb2xvciI6ICJibHVlIiwKICAiZmlsbE9wYWNpdHkiOiAwLjIsCiAgImZpbGxSdWxlIjogImV2ZW5vZGQiLAogICJsaW5lQ2FwIjogInJvdW5kIiwKICAibGluZUpvaW4iOiAicm91bmQiLAogICJvcGFjaXR5IjogMS4wLAogICJyYWRpdXMiOiA2OTM0MSwKICAic3Ryb2tlIjogdHJ1ZSwKICAid2VpZ2h0IjogMwp9CiAgICAgICAgICAgICAgICApCiAgICAgICAgICAgICAgICAuYWRkVG8obWFwX2RkYjAzMTZjYWQ3MzRmNzZhNTIwZTc2NzYxY2Q0ZDc4KTsKICAgICAgICAgICAgCiAgICAKICAgICAgICBjaXJjbGVfNzcxZTdiM2U4NTBiNDFlMWFmZGQxZjJmMGI4NjEwYzQuYmluZFRvb2x0aXAoCiAgICAgICAgICAgIGA8ZGl2PmAKICAgICAgICAgICAgKyBgPGxpPjxib2xkPkNvdW50cnkgOiBJbmRvbmVzaWE8bGk+PGJvbGQ+Q29uZmlybWVkIDogMTQwMzIuMDxsaT48Ym9sZD5EZWF0aF9yYXRlIDogNi45MzQxNTA1MTMxMTI4ODQ8bGk+PGJvbGQ+RGVhdGhzIDogOTczLjA8bGk+PGJvbGQ+bG9ja2Rvd24gZGF0ZSA6IDIwMjAtMDQtMTA8bGk+PGJvbGQ+Zmlyc3QgY2FzZSBkYXRlIDogMjAyMC0wMy0wMzxsaT48Ym9sZD5tZWFuIGFnZSA6IDI4LjBgICsgYDwvZGl2PmAsCiAgICAgICAgICAgIHsic3RpY2t5IjogdHJ1ZX0KICAgICAgICApOwogICAgICAgIAogICAgCgogICAgICAgICAgICB2YXIgY2lyY2xlXzY2NTU1MGViMmU2YjRjNThhOTQyNzc2YWMyYTUwNTdmID0gTC5jaXJjbGUoCiAgICAgICAgICAgICAgICBbMzIuNDI3OTA4LCA1My42ODgwNDU5OTk5OTk5OV0sCiAgICAgICAgICAgICAgICB7CiAgImJ1YmJsaW5nTW91c2VFdmVudHMiOiB0cnVlLAogICJjb2xvciI6ICJibHVlIiwKICAiZGFzaEFycmF5IjogbnVsbCwKICAiZGFzaE9mZnNldCI6IG51bGwsCiAgImZpbGwiOiAiYmx1ZSIsCiAgImZpbGxDb2xvciI6ICJibHVlIiwKICAiZmlsbE9wYWNpdHkiOiAwLjIsCiAgImZpbGxSdWxlIjogImV2ZW5vZGQiLAogICJsaW5lQ2FwIjogInJvdW5kIiwKICAibGluZUpvaW4iOiAicm91bmQiLAogICJvcGFjaXR5IjogMS4wLAogICJyYWRpdXMiOiA2MTcwOCwKICAic3Ryb2tlIjogdHJ1ZSwKICAid2VpZ2h0IjogMwp9CiAgICAgICAgICAgICAgICApCiAgICAgICAgICAgICAgICAuYWRkVG8obWFwX2RkYjAzMTZjYWQ3MzRmNzZhNTIwZTc2NzYxY2Q0ZDc4KTsKICAgICAgICAgICAgCiAgICAKICAgICAgICBjaXJjbGVfNjY1NTUwZWIyZTZiNGM1OGE5NDI3NzZhYzJhNTA1N2YuYmluZFRvb2x0aXAoCiAgICAgICAgICAgIGA8ZGl2PmAKICAgICAgICAgICAgKyBgPGxpPjxib2xkPkNvdW50cnkgOiBJcmFuPGxpPjxib2xkPkNvbmZpcm1lZCA6IDEwNzYwMy4wPGxpPjxib2xkPkRlYXRoX3JhdGUgOiA2LjE3MDgzMTY2ODI2MjAzNzxsaT48Ym9sZD5EZWF0aHMgOiA2NjQwLjA8bGk+PGJvbGQ+bG9ja2Rvd24gZGF0ZSA6IDIwMjAtMDMtMTU8bGk+PGJvbGQ+Zmlyc3QgY2FzZSBkYXRlIDogMjAyMC0wMi0yMDxsaT48Ym9sZD5tZWFuIGFnZSA6IDI5LjVgICsgYDwvZGl2PmAsCiAgICAgICAgICAgIHsic3RpY2t5IjogdHJ1ZX0KICAgICAgICApOwogICAgICAgIAogICAgCgogICAgICAgICAgICB2YXIgY2lyY2xlXzEzOTZmY2JhNDVmNTQ2OThiYTgyYzM1ZTliMDNhYWRmID0gTC5jaXJjbGUoCiAgICAgICAgICAgICAgICBbMzMuMjIzMTkxLCA0My42NzkyOTFdLAogICAgICAgICAgICAgICAgewogICJidWJibGluZ01vdXNlRXZlbnRzIjogdHJ1ZSwKICAiY29sb3IiOiAiYmx1ZSIsCiAgImRhc2hBcnJheSI6IG51bGwsCiAgImRhc2hPZmZzZXQiOiBudWxsLAogICJmaWxsIjogImJsdWUiLAogICJmaWxsQ29sb3IiOiAiYmx1ZSIsCiAgImZpbGxPcGFjaXR5IjogMC4yLAogICJmaWxsUnVsZSI6ICJldmVub2RkIiwKICAibGluZUNhcCI6ICJyb3VuZCIsCiAgImxpbmVKb2luIjogInJvdW5kIiwKICAib3BhY2l0eSI6IDEuMCwKICAicmFkaXVzIjogMzkzOTIsCiAgInN0cm9rZSI6IHRydWUsCiAgIndlaWdodCI6IDMKfQogICAgICAgICAgICAgICAgKQogICAgICAgICAgICAgICAgLmFkZFRvKG1hcF9kZGIwMzE2Y2FkNzM0Zjc2YTUyMGU3Njc2MWNkNGQ3OCk7CiAgICAgICAgICAgIAogICAgCiAgICAgICAgY2lyY2xlXzEzOTZmY2JhNDVmNTQ2OThiYTgyYzM1ZTliMDNhYWRmLmJpbmRUb29sdGlwKAogICAgICAgICAgICBgPGRpdj5gCiAgICAgICAgICAgICsgYDxsaT48Ym9sZD5Db3VudHJ5IDogSXJhcTxsaT48Ym9sZD5Db25maXJtZWQgOiAyNzY3LjA8bGk+PGJvbGQ+RGVhdGhfcmF0ZSA6IDMuOTM5Mjg0NDIzNTYzNDI2PGxpPjxib2xkPkRlYXRocyA6IDEwOS4wPGxpPjxib2xkPmxvY2tkb3duIGRhdGUgOiAyMDIwLTAzLTIyPGxpPjxib2xkPmZpcnN0IGNhc2UgZGF0ZSA6IDIwMjAtMDItMjU8bGk+PGJvbGQ+bWVhbiBhZ2UgOiAxOS40YCArIGA8L2Rpdj5gLAogICAgICAgICAgICB7InN0aWNreSI6IHRydWV9CiAgICAgICAgKTsKICAgICAgICAKICAgIAoKICAgICAgICAgICAgdmFyIGNpcmNsZV8xOTJiNjc3YmQ0ODg0NTE4YjkzNzdiYWRiYzJlMmZhZiA9IEwuY2lyY2xlKAogICAgICAgICAgICAgICAgWzUzLjQxMjkxLCAtOC4yNDM4ODk5OTk5OTk5OTldLAogICAgICAgICAgICAgICAgewogICJidWJibGluZ01vdXNlRXZlbnRzIjogdHJ1ZSwKICAiY29sb3IiOiAiYmx1ZSIsCiAgImRhc2hBcnJheSI6IG51bGwsCiAgImRhc2hPZmZzZXQiOiBudWxsLAogICJmaWxsIjogImJsdWUiLAogICJmaWxsQ29sb3IiOiAiYmx1ZSIsCiAgImZpbGxPcGFjaXR5IjogMC4yLAogICJmaWxsUnVsZSI6ICJldmVub2RkIiwKICAibGluZUNhcCI6ICJyb3VuZCIsCiAgImxpbmVKb2luIjogInJvdW5kIiwKICAib3BhY2l0eSI6IDEuMCwKICAicmFkaXVzIjogNjM0MDIsCiAgInN0cm9rZSI6IHRydWUsCiAgIndlaWdodCI6IDMKfQogICAgICAgICAgICAgICAgKQogICAgICAgICAgICAgICAgLmFkZFRvKG1hcF9kZGIwMzE2Y2FkNzM0Zjc2YTUyMGU3Njc2MWNkNGQ3OCk7CiAgICAgICAgICAgIAogICAgCiAgICAgICAgY2lyY2xlXzE5MmI2NzdiZDQ4ODQ1MThiOTM3N2JhZGJjMmUyZmFmLmJpbmRUb29sdGlwKAogICAgICAgICAgICBgPGRpdj5gCiAgICAgICAgICAgICsgYDxsaT48Ym9sZD5Db3VudHJ5IDogSXJlbGFuZDxsaT48Ym9sZD5Db25maXJtZWQgOiAyMjk5Ni4wPGxpPjxib2xkPkRlYXRoX3JhdGUgOiA2LjM0MDIzMzA4NDAxNDYxMTxsaT48Ym9sZD5EZWF0aHMgOiAxNDU4LjA8bGk+PGJvbGQ+bG9ja2Rvd24gZGF0ZSA6IDIwMjAtMDMtMTI8bGk+PGJvbGQ+Zmlyc3QgY2FzZSBkYXRlIDogMjAyMC0wMy0wMTxsaT48Ym9sZD5tZWFuIGFnZSA6IDM2LjlgICsgYDwvZGl2PmAsCiAgICAgICAgICAgIHsic3RpY2t5IjogdHJ1ZX0KICAgICAgICApOwogICAgICAgIAogICAgCgogICAgICAgICAgICB2YXIgY2lyY2xlXzk5NTdlNDc1ZWEyOTRjMzM5MmFiNDg1NzM2NmI0NjZjID0gTC5jaXJjbGUoCiAgICAgICAgICAgICAgICBbMzEuMDQ2MDUxMDAwMDAwMDAyLCAzNC44NTE2MTJdLAogICAgICAgICAgICAgICAgewogICJidWJibGluZ01vdXNlRXZlbnRzIjogdHJ1ZSwKICAiY29sb3IiOiAiYmx1ZSIsCiAgImRhc2hBcnJheSI6IG51bGwsCiAgImRhc2hPZmZzZXQiOiBudWxsLAogICJmaWxsIjogImJsdWUiLAogICJmaWxsQ29sb3IiOiAiYmx1ZSIsCiAgImZpbGxPcGFjaXR5IjogMC4yLAogICJmaWxsUnVsZSI6ICJldmVub2RkIiwKICAibGluZUNhcCI6ICJyb3VuZCIsCiAgImxpbmVKb2luIjogInJvdW5kIiwKICAib3BhY2l0eSI6IDEuMCwKICAicmFkaXVzIjogMTUyOTQsCiAgInN0cm9rZSI6IHRydWUsCiAgIndlaWdodCI6IDMKfQogICAgICAgICAgICAgICAgKQogICAgICAgICAgICAgICAgLmFkZFRvKG1hcF9kZGIwMzE2Y2FkNzM0Zjc2YTUyMGU3Njc2MWNkNGQ3OCk7CiAgICAgICAgICAgIAogICAgCiAgICAgICAgY2lyY2xlXzk5NTdlNDc1ZWEyOTRjMzM5MmFiNDg1NzM2NmI0NjZjLmJpbmRUb29sdGlwKAogICAgICAgICAgICBgPGRpdj5gCiAgICAgICAgICAgICsgYDxsaT48Ym9sZD5Db3VudHJ5IDogSXNyYWVsPGxpPjxib2xkPkNvbmZpcm1lZCA6IDE2NDc3LjA8bGk+PGJvbGQ+RGVhdGhfcmF0ZSA6IDEuNTI5NDA0NjI0NjI4MjY5ODxsaT48Ym9sZD5EZWF0aHMgOiAyNTIuMDxsaT48Ym9sZD5sb2NrZG93biBkYXRlIDogMjAyMC0wMy0xMjxsaT48Ym9sZD5maXJzdCBjYXNlIGRhdGUgOiAyMDIwLTAyLTIyPGxpPjxib2xkPm1lYW4gYWdlIDogMzAuMmAgKyBgPC9kaXY+YCwKICAgICAgICAgICAgeyJzdGlja3kiOiB0cnVlfQogICAgICAgICk7CiAgICAgICAgCiAgICAKCiAgICAgICAgICAgIHZhciBjaXJjbGVfMTMyMjQ0NTU5MmFkNDFmMGExNWM1YzVlOGI4NDAyYzEgPSBMLmNpcmNsZSgKICAgICAgICAgICAgICAgIFs0MS44NzE5NCwgMTIuNTY3MzhdLAogICAgICAgICAgICAgICAgewogICJidWJibGluZ01vdXNlRXZlbnRzIjogdHJ1ZSwKICAiY29sb3IiOiAiYmx1ZSIsCiAgImRhc2hBcnJheSI6IG51bGwsCiAgImRhc2hPZmZzZXQiOiBudWxsLAogICJmaWxsIjogImJsdWUiLAogICJmaWxsQ29sb3IiOiAiYmx1ZSIsCiAgImZpbGxPcGFjaXR5IjogMC4yLAogICJmaWxsUnVsZSI6ICJldmVub2RkIiwKICAibGluZUNhcCI6ICJyb3VuZCIsCiAgImxpbmVKb2luIjogInJvdW5kIiwKICAib3BhY2l0eSI6IDEuMCwKICAicmFkaXVzIjogMTM5NDk4LAogICJzdHJva2UiOiB0cnVlLAogICJ3ZWlnaHQiOiAzCn0KICAgICAgICAgICAgICAgICkKICAgICAgICAgICAgICAgIC5hZGRUbyhtYXBfZGRiMDMxNmNhZDczNGY3NmE1MjBlNzY3NjFjZDRkNzgpOwogICAgICAgICAgICAKICAgIAogICAgICAgIGNpcmNsZV8xMzIyNDQ1NTkyYWQ0MWYwYTE1YzVjNWU4Yjg0MDJjMS5iaW5kVG9vbHRpcCgKICAgICAgICAgICAgYDxkaXY+YAogICAgICAgICAgICArIGA8bGk+PGJvbGQ+Q291bnRyeSA6IEl0YWx5PGxpPjxib2xkPkNvbmZpcm1lZCA6IDIxOTA3MC4wPGxpPjxib2xkPkRlYXRoX3JhdGUgOiAxMy45NDk4NzkwMzQwOTg2OTxsaT48Ym9sZD5EZWF0aHMgOiAzMDU2MC4wPGxpPjxib2xkPmxvY2tkb3duIGRhdGUgOiAyMDIwLTAzLTExPGxpPjxib2xkPmZpcnN0IGNhc2UgZGF0ZSA6IDIwMjAtMDItMDE8bGk+PGJvbGQ+bWVhbiBhZ2UgOiA0NS45YCArIGA8L2Rpdj5gLAogICAgICAgICAgICB7InN0aWNreSI6IHRydWV9CiAgICAgICAgKTsKICAgICAgICAKICAgIAoKICAgICAgICAgICAgdmFyIGNpcmNsZV9jNTA4ZGNkN2NkN2E0OTc3OGIzNDlmZTJjNjUzN2Y3OCA9IEwuY2lyY2xlKAogICAgICAgICAgICAgICAgWzE4LjEwOTU4MSwgLTc3LjI5NzUwOF0sCiAgICAgICAgICAgICAgICB7CiAgImJ1YmJsaW5nTW91c2VFdmVudHMiOiB0cnVlLAogICJjb2xvciI6ICJibHVlIiwKICAiZGFzaEFycmF5IjogbnVsbCwKICAiZGFzaE9mZnNldCI6IG51bGwsCiAgImZpbGwiOiAiYmx1ZSIsCiAgImZpbGxDb2xvciI6ICJibHVlIiwKICAiZmlsbE9wYWNpdHkiOiAwLjIsCiAgImZpbGxSdWxlIjogImV2ZW5vZGQiLAogICJsaW5lQ2FwIjogInJvdW5kIiwKICAibGluZUpvaW4iOiAicm91bmQiLAogICJvcGFjaXR5IjogMS4wLAogICJyYWRpdXMiOiAxNzkyOCwKICAic3Ryb2tlIjogdHJ1ZSwKICAid2VpZ2h0IjogMwp9CiAgICAgICAgICAgICAgICApCiAgICAgICAgICAgICAgICAuYWRkVG8obWFwX2RkYjAzMTZjYWQ3MzRmNzZhNTIwZTc2NzYxY2Q0ZDc4KTsKICAgICAgICAgICAgCiAgICAKICAgICAgICBjaXJjbGVfYzUwOGRjZDdjZDdhNDk3NzhiMzQ5ZmUyYzY1MzdmNzguYmluZFRvb2x0aXAoCiAgICAgICAgICAgIGA8ZGl2PmAKICAgICAgICAgICAgKyBgPGxpPjxib2xkPkNvdW50cnkgOiBKYW1haWNhPGxpPjxib2xkPkNvbmZpcm1lZCA6IDUwMi4wPGxpPjxib2xkPkRlYXRoX3JhdGUgOiAxLjc5MjgyODY4NTI1ODk2NDxsaT48Ym9sZD5EZWF0aHMgOiA5LjA8bGk+PGJvbGQ+bG9ja2Rvd24gZGF0ZSA6IDIwMjAtMDMtMTI8bGk+PGJvbGQ+Zmlyc3QgY2FzZSBkYXRlIDogMjAyMC0wMy0xMjxsaT48Ym9sZD5tZWFuIGFnZSA6IDI5LjRgICsgYDwvZGl2PmAsCiAgICAgICAgICAgIHsic3RpY2t5IjogdHJ1ZX0KICAgICAgICApOwogICAgICAgIAogICAgCgogICAgICAgICAgICB2YXIgY2lyY2xlX2M1OThjZGQ2ZmUwMTRiNjViZjE2N2FkMDNlY2RlMWMzID0gTC5jaXJjbGUoCiAgICAgICAgICAgICAgICBbMzYuMjA0ODI0LCAxMzguMjUyOTI0XSwKICAgICAgICAgICAgICAgIHsKICAiYnViYmxpbmdNb3VzZUV2ZW50cyI6IHRydWUsCiAgImNvbG9yIjogImJsdWUiLAogICJkYXNoQXJyYXkiOiBudWxsLAogICJkYXNoT2Zmc2V0IjogbnVsbCwKICAiZmlsbCI6ICJibHVlIiwKICAiZmlsbENvbG9yIjogImJsdWUiLAogICJmaWxsT3BhY2l0eSI6IDAuMiwKICAiZmlsbFJ1bGUiOiAiZXZlbm9kZCIsCiAgImxpbmVDYXAiOiAicm91bmQiLAogICJsaW5lSm9pbiI6ICJyb3VuZCIsCiAgIm9wYWNpdHkiOiAxLjAsCiAgInJhZGl1cyI6IDM5NTUxLAogICJzdHJva2UiOiB0cnVlLAogICJ3ZWlnaHQiOiAzCn0KICAgICAgICAgICAgICAgICkKICAgICAgICAgICAgICAgIC5hZGRUbyhtYXBfZGRiMDMxNmNhZDczNGY3NmE1MjBlNzY3NjFjZDRkNzgpOwogICAgICAgICAgICAKICAgIAogICAgICAgIGNpcmNsZV9jNTk4Y2RkNmZlMDE0YjY1YmYxNjdhZDAzZWNkZTFjMy5iaW5kVG9vbHRpcCgKICAgICAgICAgICAgYDxkaXY+YAogICAgICAgICAgICArIGA8bGk+PGJvbGQ+Q291bnRyeSA6IEphcGFuPGxpPjxib2xkPkNvbmZpcm1lZCA6IDE1Nzc3LjA8bGk+PGJvbGQ+RGVhdGhfcmF0ZSA6IDMuOTU1MTI0NTQ4MzkzMjMwNTxsaT48Ym9sZD5EZWF0aHMgOiA2MjQuMDxsaT48Ym9sZD5sb2NrZG93biBkYXRlIDogMjAyMC0wMi0yNzxsaT48Ym9sZD5maXJzdCBjYXNlIGRhdGUgOiAyMDIwLTAxLTIzPGxpPjxib2xkPm1lYW4gYWdlIDogNDYuM2AgKyBgPC9kaXY+YCwKICAgICAgICAgICAgeyJzdGlja3kiOiB0cnVlfQogICAgICAgICk7CiAgICAgICAgCiAgICAKCiAgICAgICAgICAgIHZhciBjaXJjbGVfYmUzZjVjYjU5NTM0NDQ4Mjk3ZWE4NjM5ZWQ3ZmExY2YgPSBMLmNpcmNsZSgKICAgICAgICAgICAgICAgIFszMC41ODUxNjQwMDAwMDAwMDIsIDM2LjIzODQxNF0sCiAgICAgICAgICAgICAgICB7CiAgImJ1YmJsaW5nTW91c2VFdmVudHMiOiB0cnVlLAogICJjb2xvciI6ICJibHVlIiwKICAiZGFzaEFycmF5IjogbnVsbCwKICAiZGFzaE9mZnNldCI6IG51bGwsCiAgImZpbGwiOiAiYmx1ZSIsCiAgImZpbGxDb2xvciI6ICJibHVlIiwKICAiZmlsbE9wYWNpdHkiOiAwLjIsCiAgImZpbGxSdWxlIjogImV2ZW5vZGQiLAogICJsaW5lQ2FwIjogInJvdW5kIiwKICAibGluZUpvaW4iOiAicm91bmQiLAogICJvcGFjaXR5IjogMS4wLAogICJyYWRpdXMiOiAxNjY2NiwKICAic3Ryb2tlIjogdHJ1ZSwKICAid2VpZ2h0IjogMwp9CiAgICAgICAgICAgICAgICApCiAgICAgICAgICAgICAgICAuYWRkVG8obWFwX2RkYjAzMTZjYWQ3MzRmNzZhNTIwZTc2NzYxY2Q0ZDc4KTsKICAgICAgICAgICAgCiAgICAKICAgICAgICBjaXJjbGVfYmUzZjVjYjU5NTM0NDQ4Mjk3ZWE4NjM5ZWQ3ZmExY2YuYmluZFRvb2x0aXAoCiAgICAgICAgICAgIGA8ZGl2PmAKICAgICAgICAgICAgKyBgPGxpPjxib2xkPkNvdW50cnkgOiBKb3JkYW48bGk+PGJvbGQ+Q29uZmlybWVkIDogNTQwLjA8bGk+PGJvbGQ+RGVhdGhfcmF0ZSA6IDEuNjY2NjY2NjY2NjY2NjY2NzxsaT48Ym9sZD5EZWF0aHMgOiA5LjA8bGk+PGJvbGQ+bG9ja2Rvd24gZGF0ZSA6IDIwMjAtMDMtMjE8bGk+PGJvbGQ+Zmlyc3QgY2FzZSBkYXRlIDogMjAyMC0wMy0wNDxsaT48Ym9sZD5tZWFuIGFnZSA6IDIyLjFgICsgYDwvZGl2PmAsCiAgICAgICAgICAgIHsic3RpY2t5IjogdHJ1ZX0KICAgICAgICApOwogICAgICAgIAogICAgCgogICAgICAgICAgICB2YXIgY2lyY2xlXzRiMjcyYTIwMGUwNjQ5NmY5ZTM2NjBjMDBlMWU1NDE3ID0gTC5jaXJjbGUoCiAgICAgICAgICAgICAgICBbNDguMDE5NTczLCA2Ni45MjM2ODRdLAogICAgICAgICAgICAgICAgewogICJidWJibGluZ01vdXNlRXZlbnRzIjogdHJ1ZSwKICAiY29sb3IiOiAiYmx1ZSIsCiAgImRhc2hBcnJheSI6IG51bGwsCiAgImRhc2hPZmZzZXQiOiBudWxsLAogICJmaWxsIjogImJsdWUiLAogICJmaWxsQ29sb3IiOiAiYmx1ZSIsCiAgImZpbGxPcGFjaXR5IjogMC4yLAogICJmaWxsUnVsZSI6ICJldmVub2RkIiwKICAibGluZUNhcCI6ICJyb3VuZCIsCiAgImxpbmVKb2luIjogInJvdW5kIiwKICAib3BhY2l0eSI6IDEuMCwKICAicmFkaXVzIjogNjA5MCwKICAic3Ryb2tlIjogdHJ1ZSwKICAid2VpZ2h0IjogMwp9CiAgICAgICAgICAgICAgICApCiAgICAgICAgICAgICAgICAuYWRkVG8obWFwX2RkYjAzMTZjYWQ3MzRmNzZhNTIwZTc2NzYxY2Q0ZDc4KTsKICAgICAgICAgICAgCiAgICAKICAgICAgICBjaXJjbGVfNGIyNzJhMjAwZTA2NDk2ZjllMzY2MGMwMGUxZTU0MTcuYmluZFRvb2x0aXAoCiAgICAgICAgICAgIGA8ZGl2PmAKICAgICAgICAgICAgKyBgPGxpPjxib2xkPkNvdW50cnkgOiBLYXpha2hzdGFuPGxpPjxib2xkPkNvbmZpcm1lZCA6IDUwOTAuMDxsaT48Ym9sZD5EZWF0aF9yYXRlIDogMC42MDkwMzczMjgwOTQzMDI2PGxpPjxib2xkPkRlYXRocyA6IDMxLjA8bGk+PGJvbGQ+bG9ja2Rvd24gZGF0ZSA6IDIwMjAtMDMtMTk8bGk+PGJvbGQ+Zmlyc3QgY2FzZSBkYXRlIDogMjAyMC0wMy0xNDxsaT48Ym9sZD5tZWFuIGFnZSA6IDI5LjNgICsgYDwvZGl2PmAsCiAgICAgICAgICAgIHsic3RpY2t5IjogdHJ1ZX0KICAgICAgICApOwogICAgICAgIAogICAgCgogICAgICAgICAgICB2YXIgY2lyY2xlXzk5NzBhMTJiZTc5OTQ4YWU4ZmI5MTc5ZmZkNzhhOWE2ID0gTC5jaXJjbGUoCiAgICAgICAgICAgICAgICBbLTAuMDIzNTU5LCAzNy45MDYxOTNdLAogICAgICAgICAgICAgICAgewogICJidWJibGluZ01vdXNlRXZlbnRzIjogdHJ1ZSwKICAiY29sb3IiOiAiYmx1ZSIsCiAgImRhc2hBcnJheSI6IG51bGwsCiAgImRhc2hPZmZzZXQiOiBudWxsLAogICJmaWxsIjogImJsdWUiLAogICJmaWxsQ29sb3IiOiAiYmx1ZSIsCiAgImZpbGxPcGFjaXR5IjogMC4yLAogICJmaWxsUnVsZSI6ICJldmVub2RkIiwKICAibGluZUNhcCI6ICJyb3VuZCIsCiAgImxpbmVKb2luIjogInJvdW5kIiwKICAib3BhY2l0eSI6IDEuMCwKICAicmFkaXVzIjogNDc2MTksCiAgInN0cm9rZSI6IHRydWUsCiAgIndlaWdodCI6IDMKfQogICAgICAgICAgICAgICAgKQogICAgICAgICAgICAgICAgLmFkZFRvKG1hcF9kZGIwMzE2Y2FkNzM0Zjc2YTUyMGU3Njc2MWNkNGQ3OCk7CiAgICAgICAgICAgIAogICAgCiAgICAgICAgY2lyY2xlXzk5NzBhMTJiZTc5OTQ4YWU4ZmI5MTc5ZmZkNzhhOWE2LmJpbmRUb29sdGlwKAogICAgICAgICAgICBgPGRpdj5gCiAgICAgICAgICAgICsgYDxsaT48Ym9sZD5Db3VudHJ5IDogS2VueWE8bGk+PGJvbGQ+Q29uZmlybWVkIDogNjcyLjA8bGk+PGJvbGQ+RGVhdGhfcmF0ZSA6IDQuNzYxOTA0NzYxOTA0NzYyPGxpPjxib2xkPkRlYXRocyA6IDMyLjA8bGk+PGJvbGQ+bG9ja2Rvd24gZGF0ZSA6IDIwMjAtMDMtMTU8bGk+PGJvbGQ+Zmlyc3QgY2FzZSBkYXRlIDogMjAyMC0wMy0xNDxsaT48Ym9sZD5tZWFuIGFnZSA6IDE5LjBgICsgYDwvZGl2PmAsCiAgICAgICAgICAgIHsic3RpY2t5IjogdHJ1ZX0KICAgICAgICApOwogICAgICAgIAogICAgCgogICAgICAgICAgICB2YXIgY2lyY2xlXzI1YTcwMTZjMzAxYTQyNDI4NWZlNDJkYzJlMGQyMDBiID0gTC5jaXJjbGUoCiAgICAgICAgICAgICAgICBbMzUuOTA3OCwgMTI3Ljc2NjldLAogICAgICAgICAgICAgICAgewogICJidWJibGluZ01vdXNlRXZlbnRzIjogdHJ1ZSwKICAiY29sb3IiOiAiYmx1ZSIsCiAgImRhc2hBcnJheSI6IG51bGwsCiAgImRhc2hPZmZzZXQiOiBudWxsLAogICJmaWxsIjogImJsdWUiLAogICJmaWxsQ29sb3IiOiAiYmx1ZSIsCiAgImZpbGxPcGFjaXR5IjogMC4yLAogICJmaWxsUnVsZSI6ICJldmVub2RkIiwKICAibGluZUNhcCI6ICJyb3VuZCIsCiAgImxpbmVKb2luIjogInJvdW5kIiwKICAib3BhY2l0eSI6IDEuMCwKICAicmFkaXVzIjogMjM0NjYsCiAgInN0cm9rZSI6IHRydWUsCiAgIndlaWdodCI6IDMKfQogICAgICAgICAgICAgICAgKQogICAgICAgICAgICAgICAgLmFkZFRvKG1hcF9kZGIwMzE2Y2FkNzM0Zjc2YTUyMGU3Njc2MWNkNGQ3OCk7CiAgICAgICAgICAgIAogICAgCiAgICAgICAgY2lyY2xlXzI1YTcwMTZjMzAxYTQyNDI4NWZlNDJkYzJlMGQyMDBiLmJpbmRUb29sdGlwKAogICAgICAgICAgICBgPGRpdj5gCiAgICAgICAgICAgICsgYDxsaT48Ym9sZD5Db3VudHJ5IDogS29yZWEsIFNvdXRoPGxpPjxib2xkPkNvbmZpcm1lZCA6IDEwOTA5LjA8bGk+PGJvbGQ+RGVhdGhfcmF0ZSA6IDIuMzQ2Njg2MjIyMzg1MTg2ODxsaT48Ym9sZD5EZWF0aHMgOiAyNTYuMDxsaT48Ym9sZD5sb2NrZG93biBkYXRlIDogbmFuPGxpPjxib2xkPmZpcnN0IGNhc2UgZGF0ZSA6IDIwMjAtMDEtMjM8bGk+PGJvbGQ+bWVhbiBhZ2UgOiAzNy4wYCArIGA8L2Rpdj5gLAogICAgICAgICAgICB7InN0aWNreSI6IHRydWV9CiAgICAgICAgKTsKICAgICAgICAKICAgIAoKICAgICAgICAgICAgdmFyIGNpcmNsZV9kYzQ1ZTRhODU1Zjc0NDY4YmQxZTAwNjQ2NmFjNTNlZSA9IEwuY2lyY2xlKAogICAgICAgICAgICAgICAgWzQyLjYwMjYzNiwgMjAuOTAyOTc3XSwKICAgICAgICAgICAgICAgIHsKICAiYnViYmxpbmdNb3VzZUV2ZW50cyI6IHRydWUsCiAgImNvbG9yIjogImJsdWUiLAogICJkYXNoQXJyYXkiOiBudWxsLAogICJkYXNoT2Zmc2V0IjogbnVsbCwKICAiZmlsbCI6ICJibHVlIiwKICAiZmlsbENvbG9yIjogImJsdWUiLAogICJmaWxsT3BhY2l0eSI6IDAuMiwKICAiZmlsbFJ1bGUiOiAiZXZlbm9kZCIsCiAgImxpbmVDYXAiOiAicm91bmQiLAogICJsaW5lSm9pbiI6ICJyb3VuZCIsCiAgIm9wYWNpdHkiOiAxLjAsCiAgInJhZGl1cyI6IDMyMTgzLAogICJzdHJva2UiOiB0cnVlLAogICJ3ZWlnaHQiOiAzCn0KICAgICAgICAgICAgICAgICkKICAgICAgICAgICAgICAgIC5hZGRUbyhtYXBfZGRiMDMxNmNhZDczNGY3NmE1MjBlNzY3NjFjZDRkNzgpOwogICAgICAgICAgICAKICAgIAogICAgICAgIGNpcmNsZV9kYzQ1ZTRhODU1Zjc0NDY4YmQxZTAwNjQ2NmFjNTNlZS5iaW5kVG9vbHRpcCgKICAgICAgICAgICAgYDxkaXY+YAogICAgICAgICAgICArIGA8bGk+PGJvbGQ+Q291bnRyeSA6IEtvc292bzxsaT48Ym9sZD5Db25maXJtZWQgOiA4NzAuMDxsaT48Ym9sZD5EZWF0aF9yYXRlIDogMy4yMTgzOTA4MDQ1OTc3MDE8bGk+PGJvbGQ+RGVhdGhzIDogMjguMDxsaT48Ym9sZD5sb2NrZG93biBkYXRlIDogMjAyMC0wMy0yNTxsaT48Ym9sZD5maXJzdCBjYXNlIGRhdGUgOiAyMDIwLTAzLTI3PGxpPjxib2xkPm1lYW4gYWdlIDogMzcuMGAgKyBgPC9kaXY+YCwKICAgICAgICAgICAgeyJzdGlja3kiOiB0cnVlfQogICAgICAgICk7CiAgICAgICAgCiAgICAKCiAgICAgICAgICAgIHZhciBjaXJjbGVfNTU1YTIyMzgxNWY5NDY4OWE4MTIzMzI2YjNiNjU0NmUgPSBMLmNpcmNsZSgKICAgICAgICAgICAgICAgIFsyOS4zMTE2NTk5OTk5OTk5OTYsIDQ3LjQ4MTc2Nl0sCiAgICAgICAgICAgICAgICB7CiAgImJ1YmJsaW5nTW91c2VFdmVudHMiOiB0cnVlLAogICJjb2xvciI6ICJibHVlIiwKICAiZGFzaEFycmF5IjogbnVsbCwKICAiZGFzaE9mZnNldCI6IG51bGwsCiAgImZpbGwiOiAiYmx1ZSIsCiAgImZpbGxDb2xvciI6ICJibHVlIiwKICAiZmlsbE9wYWNpdHkiOiAwLjIsCiAgImZpbGxSdWxlIjogImV2ZW5vZGQiLAogICJsaW5lQ2FwIjogInJvdW5kIiwKICAibGluZUpvaW4iOiAicm91bmQiLAogICJvcGFjaXR5IjogMS4wLAogICJyYWRpdXMiOiA2Njc1LAogICJzdHJva2UiOiB0cnVlLAogICJ3ZWlnaHQiOiAzCn0KICAgICAgICAgICAgICAgICkKICAgICAgICAgICAgICAgIC5hZGRUbyhtYXBfZGRiMDMxNmNhZDczNGY3NmE1MjBlNzY3NjFjZDRkNzgpOwogICAgICAgICAgICAKICAgIAogICAgICAgIGNpcmNsZV81NTVhMjIzODE1Zjk0Njg5YTgxMjMzMjZiM2I2NTQ2ZS5iaW5kVG9vbHRpcCgKICAgICAgICAgICAgYDxkaXY+YAogICAgICAgICAgICArIGA8bGk+PGJvbGQ+Q291bnRyeSA6IEt1d2FpdDxsaT48Ym9sZD5Db25maXJtZWQgOiA4Njg4LjA8bGk+PGJvbGQ+RGVhdGhfcmF0ZSA6IDAuNjY3NTg3NDc2OTc5NzQyMjxsaT48Ym9sZD5EZWF0aHMgOiA1OC4wPGxpPjxib2xkPmxvY2tkb3duIGRhdGUgOiAyMDIwLTAzLTE2PGxpPjxib2xkPmZpcnN0IGNhc2UgZGF0ZSA6IDIwMjAtMDItMjU8bGk+PGJvbGQ+bWVhbiBhZ2UgOiAzMy40YCArIGA8L2Rpdj5gLAogICAgICAgICAgICB7InN0aWNreSI6IHRydWV9CiAgICAgICAgKTsKICAgICAgICAKICAgIAoKICAgICAgICAgICAgdmFyIGNpcmNsZV9lOGM4NWI5ZDZhZjc0MjI1YWQzMzdlNDE1MGM3YjI2YSA9IEwuY2lyY2xlKAogICAgICAgICAgICAgICAgWzQxLjIwNDM4LCA3NC43NjYwOThdLAogICAgICAgICAgICAgICAgewogICJidWJibGluZ01vdXNlRXZlbnRzIjogdHJ1ZSwKICAiY29sb3IiOiAiYmx1ZSIsCiAgImRhc2hBcnJheSI6IG51bGwsCiAgImRhc2hPZmZzZXQiOiBudWxsLAogICJmaWxsIjogImJsdWUiLAogICJmaWxsQ29sb3IiOiAiYmx1ZSIsCiAgImZpbGxPcGFjaXR5IjogMC4yLAogICJmaWxsUnVsZSI6ICJldmVub2RkIiwKICAibGluZUNhcCI6ICJyb3VuZCIsCiAgImxpbmVKb2luIjogInJvdW5kIiwKICAib3BhY2l0eSI6IDEuMCwKICAicmFkaXVzIjogMTE5NzYsCiAgInN0cm9rZSI6IHRydWUsCiAgIndlaWdodCI6IDMKfQogICAgICAgICAgICAgICAgKQogICAgICAgICAgICAgICAgLmFkZFRvKG1hcF9kZGIwMzE2Y2FkNzM0Zjc2YTUyMGU3Njc2MWNkNGQ3OCk7CiAgICAgICAgICAgIAogICAgCiAgICAgICAgY2lyY2xlX2U4Yzg1YjlkNmFmNzQyMjVhZDMzN2U0MTUwYzdiMjZhLmJpbmRUb29sdGlwKAogICAgICAgICAgICBgPGRpdj5gCiAgICAgICAgICAgICsgYDxsaT48Ym9sZD5Db3VudHJ5IDogS3lyZ3l6c3RhbjxsaT48Ym9sZD5Db25maXJtZWQgOiAxMDAyLjA8bGk+PGJvbGQ+RGVhdGhfcmF0ZSA6IDEuMTk3NjA0NzkwNDE5MTYxNjxsaT48Ym9sZD5EZWF0aHMgOiAxMi4wPGxpPjxib2xkPmxvY2tkb3duIGRhdGUgOiAyMDIwLTAzLTI0PGxpPjxib2xkPmZpcnN0IGNhc2UgZGF0ZSA6IDIwMjAtMDMtMTk8bGk+PGJvbGQ+bWVhbiBhZ2UgOiAyNS4zYCArIGA8L2Rpdj5gLAogICAgICAgICAgICB7InN0aWNreSI6IHRydWV9CiAgICAgICAgKTsKICAgICAgICAKICAgIAoKICAgICAgICAgICAgdmFyIGNpcmNsZV9lZTQ4ZDM4MDdlMmY0ZTdmOTAzMDM4ZjE4NTE5YjQzYiA9IEwuY2lyY2xlKAogICAgICAgICAgICAgICAgWzE5Ljg1NjI3MDAwMDAwMDAwMiwgMTAyLjQ5NTQ5Nl0sCiAgICAgICAgICAgICAgICB7CiAgImJ1YmJsaW5nTW91c2VFdmVudHMiOiB0cnVlLAogICJjb2xvciI6ICJibHVlIiwKICAiZGFzaEFycmF5IjogbnVsbCwKICAiZGFzaE9mZnNldCI6IG51bGwsCiAgImZpbGwiOiAiYmx1ZSIsCiAgImZpbGxDb2xvciI6ICJibHVlIiwKICAiZmlsbE9wYWNpdHkiOiAwLjIsCiAgImZpbGxSdWxlIjogImV2ZW5vZGQiLAogICJsaW5lQ2FwIjogInJvdW5kIiwKICAibGluZUpvaW4iOiAicm91bmQiLAogICJvcGFjaXR5IjogMS4wLAogICJzdHJva2UiOiB0cnVlLAogICJ3ZWlnaHQiOiAzCn0KICAgICAgICAgICAgICAgICkKICAgICAgICAgICAgICAgIC5hZGRUbyhtYXBfZGRiMDMxNmNhZDczNGY3NmE1MjBlNzY3NjFjZDRkNzgpOwogICAgICAgICAgICAKICAgIAogICAgICAgIGNpcmNsZV9lZTQ4ZDM4MDdlMmY0ZTdmOTAzMDM4ZjE4NTE5YjQzYi5iaW5kVG9vbHRpcCgKICAgICAgICAgICAgYDxkaXY+YAogICAgICAgICAgICArIGA8bGk+PGJvbGQ+Q291bnRyeSA6IExhb3M8bGk+PGJvbGQ+Q29uZmlybWVkIDogMTkuMDxsaT48Ym9sZD5EZWF0aF9yYXRlIDogMC4wPGxpPjxib2xkPkRlYXRocyA6IDAuMDxsaT48Ym9sZD5sb2NrZG93biBkYXRlIDogMjAyMC0wMy0yOTxsaT48Ym9sZD5maXJzdCBjYXNlIGRhdGUgOiAyMDIwLTAzLTI1PGxpPjxib2xkPm1lYW4gYWdlIDogMzcuMGAgKyBgPC9kaXY+YCwKICAgICAgICAgICAgeyJzdGlja3kiOiB0cnVlfQogICAgICAgICk7CiAgICAgICAgCiAgICAKCiAgICAgICAgICAgIHZhciBjaXJjbGVfZjY5N2JjZTkxN2M2NGNjNWE2NDFiZTM5ZWUyZTg1MGQgPSBMLmNpcmNsZSgKICAgICAgICAgICAgICAgIFs1Ni44Nzk2MzUsIDI0LjYwMzE4OV0sCiAgICAgICAgICAgICAgICB7CiAgImJ1YmJsaW5nTW91c2VFdmVudHMiOiB0cnVlLAogICJjb2xvciI6ICJibHVlIiwKICAiZGFzaEFycmF5IjogbnVsbCwKICAiZGFzaE9mZnNldCI6IG51bGwsCiAgImZpbGwiOiAiYmx1ZSIsCiAgImZpbGxDb2xvciI6ICJibHVlIiwKICAiZmlsbE9wYWNpdHkiOiAwLjIsCiAgImZpbGxSdWxlIjogImV2ZW5vZGQiLAogICJsaW5lQ2FwIjogInJvdW5kIiwKICAibGluZUpvaW4iOiAicm91bmQiLAogICJvcGFjaXR5IjogMS4wLAogICJyYWRpdXMiOiAxOTE2OSwKICAic3Ryb2tlIjogdHJ1ZSwKICAid2VpZ2h0IjogMwp9CiAgICAgICAgICAgICAgICApCiAgICAgICAgICAgICAgICAuYWRkVG8obWFwX2RkYjAzMTZjYWQ3MzRmNzZhNTIwZTc2NzYxY2Q0ZDc4KTsKICAgICAgICAgICAgCiAgICAKICAgICAgICBjaXJjbGVfZjY5N2JjZTkxN2M2NGNjNWE2NDFiZTM5ZWUyZTg1MGQuYmluZFRvb2x0aXAoCiAgICAgICAgICAgIGA8ZGl2PmAKICAgICAgICAgICAgKyBgPGxpPjxib2xkPkNvdW50cnkgOiBMYXR2aWE8bGk+PGJvbGQ+Q29uZmlybWVkIDogOTM5LjA8bGk+PGJvbGQ+RGVhdGhfcmF0ZSA6IDEuOTE2OTMyOTA3MzQ4MjQyODxsaT48Ym9sZD5EZWF0aHMgOiAxOC4wPGxpPjxib2xkPmxvY2tkb3duIGRhdGUgOiAyMDIwLTAzLTEzPGxpPjxib2xkPmZpcnN0IGNhc2UgZGF0ZSA6IDIwMjAtMDMtMDM8bGk+PGJvbGQ+bWVhbiBhZ2UgOiA0Mi41YCArIGA8L2Rpdj5gLAogICAgICAgICAgICB7InN0aWNreSI6IHRydWV9CiAgICAgICAgKTsKICAgICAgICAKICAgIAoKICAgICAgICAgICAgdmFyIGNpcmNsZV81MDFmMGNhODJhOGM0NTUyYTBlNDg5N2Q4YjBlNGVhZSA9IEwuY2lyY2xlKAogICAgICAgICAgICAgICAgWzMzLjg1NDcyMTAwMDAwMDAwNSwgMzUuODYyMjg1XSwKICAgICAgICAgICAgICAgIHsKICAiYnViYmxpbmdNb3VzZUV2ZW50cyI6IHRydWUsCiAgImNvbG9yIjogImJsdWUiLAogICJkYXNoQXJyYXkiOiBudWxsLAogICJkYXNoT2Zmc2V0IjogbnVsbCwKICAiZmlsbCI6ICJibHVlIiwKICAiZmlsbENvbG9yIjogImJsdWUiLAogICJmaWxsT3BhY2l0eSI6IDAuMiwKICAiZmlsbFJ1bGUiOiAiZXZlbm9kZCIsCiAgImxpbmVDYXAiOiAicm91bmQiLAogICJsaW5lSm9pbiI6ICJyb3VuZCIsCiAgIm9wYWNpdHkiOiAxLjAsCiAgInJhZGl1cyI6IDMwNzY5LAogICJzdHJva2UiOiB0cnVlLAogICJ3ZWlnaHQiOiAzCn0KICAgICAgICAgICAgICAgICkKICAgICAgICAgICAgICAgIC5hZGRUbyhtYXBfZGRiMDMxNmNhZDczNGY3NmE1MjBlNzY3NjFjZDRkNzgpOwogICAgICAgICAgICAKICAgIAogICAgICAgIGNpcmNsZV81MDFmMGNhODJhOGM0NTUyYTBlNDg5N2Q4YjBlNGVhZS5iaW5kVG9vbHRpcCgKICAgICAgICAgICAgYDxkaXY+YAogICAgICAgICAgICArIGA8bGk+PGJvbGQ+Q291bnRyeSA6IExlYmFub248bGk+PGJvbGQ+Q29uZmlybWVkIDogODQ1LjA8bGk+PGJvbGQ+RGVhdGhfcmF0ZSA6IDMuMDc2OTIzMDc2OTIzMDc3PGxpPjxib2xkPkRlYXRocyA6IDI2LjA8bGk+PGJvbGQ+bG9ja2Rvd24gZGF0ZSA6IDIwMjAtMDMtMTY8bGk+PGJvbGQ+Zmlyc3QgY2FzZSBkYXRlIDogMjAyMC0wMi0yMjxsaT48Ym9sZD5tZWFuIGFnZSA6IDI4LjVgICsgYDwvZGl2PmAsCiAgICAgICAgICAgIHsic3RpY2t5IjogdHJ1ZX0KICAgICAgICApOwogICAgICAgIAogICAgCgogICAgICAgICAgICB2YXIgY2lyY2xlX2ViMzQyNWQ2MWFkZDQ4NTliZjgxOGY3OWYwYWIzY2M5ID0gTC5jaXJjbGUoCiAgICAgICAgICAgICAgICBbNi40MjgwNTUwMDAwMDAwMDA1LCAtOS40Mjk0OTldLAogICAgICAgICAgICAgICAgewogICJidWJibGluZ01vdXNlRXZlbnRzIjogdHJ1ZSwKICAiY29sb3IiOiAiYmx1ZSIsCiAgImRhc2hBcnJheSI6IG51bGwsCiAgImRhc2hPZmZzZXQiOiBudWxsLAogICJmaWxsIjogImJsdWUiLAogICJmaWxsQ29sb3IiOiAiYmx1ZSIsCiAgImZpbGxPcGFjaXR5IjogMC4yLAogICJmaWxsUnVsZSI6ICJldmVub2RkIiwKICAibGluZUNhcCI6ICJyb3VuZCIsCiAgImxpbmVKb2luIjogInJvdW5kIiwKICAib3BhY2l0eSI6IDEuMCwKICAicmFkaXVzIjogMTAwNTAyLAogICJzdHJva2UiOiB0cnVlLAogICJ3ZWlnaHQiOiAzCn0KICAgICAgICAgICAgICAgICkKICAgICAgICAgICAgICAgIC5hZGRUbyhtYXBfZGRiMDMxNmNhZDczNGY3NmE1MjBlNzY3NjFjZDRkNzgpOwogICAgICAgICAgICAKICAgIAogICAgICAgIGNpcmNsZV9lYjM0MjVkNjFhZGQ0ODU5YmY4MThmNzlmMGFiM2NjOS5iaW5kVG9vbHRpcCgKICAgICAgICAgICAgYDxkaXY+YAogICAgICAgICAgICArIGA8bGk+PGJvbGQ+Q291bnRyeSA6IExpYmVyaWE8bGk+PGJvbGQ+Q29uZmlybWVkIDogMTk5LjA8bGk+PGJvbGQ+RGVhdGhfcmF0ZSA6IDEwLjA1MDI1MTI1NjI4MTQwODxsaT48Ym9sZD5EZWF0aHMgOiAyMC4wPGxpPjxib2xkPmxvY2tkb3duIGRhdGUgOiAyMDIwLTAzLTIzPGxpPjxib2xkPmZpcnN0IGNhc2UgZGF0ZSA6IDIwMjAtMDMtMTc8bGk+PGJvbGQ+bWVhbiBhZ2UgOiAxOC42YCArIGA8L2Rpdj5gLAogICAgICAgICAgICB7InN0aWNreSI6IHRydWV9CiAgICAgICAgKTsKICAgICAgICAKICAgIAoKICAgICAgICAgICAgdmFyIGNpcmNsZV84ODZhMDE5ZDRhODM0ZjI2OTAzMmMzZjgxMTM1NjNhZiA9IEwuY2lyY2xlKAogICAgICAgICAgICAgICAgWzI2LjMzNTEsIDE3LjIyODMzMV0sCiAgICAgICAgICAgICAgICB7CiAgImJ1YmJsaW5nTW91c2VFdmVudHMiOiB0cnVlLAogICJjb2xvciI6ICJibHVlIiwKICAiZGFzaEFycmF5IjogbnVsbCwKICAiZGFzaE9mZnNldCI6IG51bGwsCiAgImZpbGwiOiAiYmx1ZSIsCiAgImZpbGxDb2xvciI6ICJibHVlIiwKICAiZmlsbE9wYWNpdHkiOiAwLjIsCiAgImZpbGxSdWxlIjogImV2ZW5vZGQiLAogICJsaW5lQ2FwIjogInJvdW5kIiwKICAibGluZUpvaW4iOiAicm91bmQiLAogICJvcGFjaXR5IjogMS4wLAogICJyYWRpdXMiOiA0Njg3NSwKICAic3Ryb2tlIjogdHJ1ZSwKICAid2VpZ2h0IjogMwp9CiAgICAgICAgICAgICAgICApCiAgICAgICAgICAgICAgICAuYWRkVG8obWFwX2RkYjAzMTZjYWQ3MzRmNzZhNTIwZTc2NzYxY2Q0ZDc4KTsKICAgICAgICAgICAgCiAgICAKICAgICAgICBjaXJjbGVfODg2YTAxOWQ0YTgzNGYyNjkwMzJjM2Y4MTEzNTYzYWYuYmluZFRvb2x0aXAoCiAgICAgICAgICAgIGA8ZGl2PmAKICAgICAgICAgICAgKyBgPGxpPjxib2xkPkNvdW50cnkgOiBMaWJ5YTxsaT48Ym9sZD5Db25maXJtZWQgOiA2NC4wPGxpPjxib2xkPkRlYXRoX3JhdGUgOiA0LjY4NzU8bGk+PGJvbGQ+RGVhdGhzIDogMy4wPGxpPjxib2xkPmxvY2tkb3duIGRhdGUgOiAyMDIwLTAzLTIyPGxpPjxib2xkPmZpcnN0IGNhc2UgZGF0ZSA6IDIwMjAtMDMtMjU8bGk+PGJvbGQ+bWVhbiBhZ2UgOiAyNy4yYCArIGA8L2Rpdj5gLAogICAgICAgICAgICB7InN0aWNreSI6IHRydWV9CiAgICAgICAgKTsKICAgICAgICAKICAgIAoKICAgICAgICAgICAgdmFyIGNpcmNsZV9kZmJjNTU0MDQwMjY0YzViOWZmZTc2NmRmYTZhY2NiNyA9IEwuY2lyY2xlKAogICAgICAgICAgICAgICAgWzQ3LjE2NjAwMDAwMDAwMDAwNCwgOS41NTUzNzNdLAogICAgICAgICAgICAgICAgewogICJidWJibGluZ01vdXNlRXZlbnRzIjogdHJ1ZSwKICAiY29sb3IiOiAiYmx1ZSIsCiAgImRhc2hBcnJheSI6IG51bGwsCiAgImRhc2hPZmZzZXQiOiBudWxsLAogICJmaWxsIjogImJsdWUiLAogICJmaWxsQ29sb3IiOiAiYmx1ZSIsCiAgImZpbGxPcGFjaXR5IjogMC4yLAogICJmaWxsUnVsZSI6ICJldmVub2RkIiwKICAibGluZUNhcCI6ICJyb3VuZCIsCiAgImxpbmVKb2luIjogInJvdW5kIiwKICAib3BhY2l0eSI6IDEuMCwKICAicmFkaXVzIjogMTIxOTUsCiAgInN0cm9rZSI6IHRydWUsCiAgIndlaWdodCI6IDMKfQogICAgICAgICAgICAgICAgKQogICAgICAgICAgICAgICAgLmFkZFRvKG1hcF9kZGIwMzE2Y2FkNzM0Zjc2YTUyMGU3Njc2MWNkNGQ3OCk7CiAgICAgICAgICAgIAogICAgCiAgICAgICAgY2lyY2xlX2RmYmM1NTQwNDAyNjRjNWI5ZmZlNzY2ZGZhNmFjY2I3LmJpbmRUb29sdGlwKAogICAgICAgICAgICBgPGRpdj5gCiAgICAgICAgICAgICsgYDxsaT48Ym9sZD5Db3VudHJ5IDogTGllY2h0ZW5zdGVpbjxsaT48Ym9sZD5Db25maXJtZWQgOiA4Mi4wPGxpPjxib2xkPkRlYXRoX3JhdGUgOiAxLjIxOTUxMjE5NTEyMTk1MTI8bGk+PGJvbGQ+RGVhdGhzIDogMS4wPGxpPjxib2xkPmxvY2tkb3duIGRhdGUgOiBuYW48bGk+PGJvbGQ+Zmlyc3QgY2FzZSBkYXRlIDogMjAyMC0wMy0wNTxsaT48Ym9sZD5tZWFuIGFnZSA6IDM3LjBgICsgYDwvZGl2PmAsCiAgICAgICAgICAgIHsic3RpY2t5IjogdHJ1ZX0KICAgICAgICApOwogICAgICAgIAogICAgCgogICAgICAgICAgICB2YXIgY2lyY2xlXzMyYmZiNWI1NjNjYzQ4OThhYjE4MGQzY2U2Nzk4ODk4ID0gTC5jaXJjbGUoCiAgICAgICAgICAgICAgICBbNTUuMTY5NDM4LCAyMy44ODEyNzVdLAogICAgICAgICAgICAgICAgewogICJidWJibGluZ01vdXNlRXZlbnRzIjogdHJ1ZSwKICAiY29sb3IiOiAiYmx1ZSIsCiAgImRhc2hBcnJheSI6IG51bGwsCiAgImRhc2hPZmZzZXQiOiBudWxsLAogICJmaWxsIjogImJsdWUiLAogICJmaWxsQ29sb3IiOiAiYmx1ZSIsCiAgImZpbGxPcGFjaXR5IjogMC4yLAogICJmaWxsUnVsZSI6ICJldmVub2RkIiwKICAibGluZUNhcCI6ICJyb3VuZCIsCiAgImxpbmVKb2luIjogInJvdW5kIiwKICAib3BhY2l0eSI6IDEuMCwKICAicmFkaXVzIjogMzM4MDYsCiAgInN0cm9rZSI6IHRydWUsCiAgIndlaWdodCI6IDMKfQogICAgICAgICAgICAgICAgKQogICAgICAgICAgICAgICAgLmFkZFRvKG1hcF9kZGIwMzE2Y2FkNzM0Zjc2YTUyMGU3Njc2MWNkNGQ3OCk7CiAgICAgICAgICAgIAogICAgCiAgICAgICAgY2lyY2xlXzMyYmZiNWI1NjNjYzQ4OThhYjE4MGQzY2U2Nzk4ODk4LmJpbmRUb29sdGlwKAogICAgICAgICAgICBgPGRpdj5gCiAgICAgICAgICAgICsgYDxsaT48Ym9sZD5Db3VudHJ5IDogTGl0aHVhbmlhPGxpPjxib2xkPkNvbmZpcm1lZCA6IDE0NzkuMDxsaT48Ym9sZD5EZWF0aF9yYXRlIDogMy4zODA2NjI2MDk4NzE1MzQ3PGxpPjxib2xkPkRlYXRocyA6IDUwLjA8bGk+PGJvbGQ+bG9ja2Rvd24gZGF0ZSA6IDIwMjAtMDMtMTY8bGk+PGJvbGQ+Zmlyc3QgY2FzZSBkYXRlIDogMjAyMC0wMi0yOTxsaT48Ym9sZD5tZWFuIGFnZSA6IDQyLjdgICsgYDwvZGl2PmAsCiAgICAgICAgICAgIHsic3RpY2t5IjogdHJ1ZX0KICAgICAgICApOwogICAgICAgIAogICAgCgogICAgICAgICAgICB2YXIgY2lyY2xlXzhkOTRjYTIwOWY3ZDQ5ZTU4MmQ3NDdlNTIwMTA2MTU0ID0gTC5jaXJjbGUoCiAgICAgICAgICAgICAgICBbNDkuODE1MjczLCA2LjEyOTU4M10sCiAgICAgICAgICAgICAgICB7CiAgImJ1YmJsaW5nTW91c2VFdmVudHMiOiB0cnVlLAogICJjb2xvciI6ICJibHVlIiwKICAiZGFzaEFycmF5IjogbnVsbCwKICAiZGFzaE9mZnNldCI6IG51bGwsCiAgImZpbGwiOiAiYmx1ZSIsCiAgImZpbGxDb2xvciI6ICJibHVlIiwKICAiZmlsbE9wYWNpdHkiOiAwLjIsCiAgImZpbGxSdWxlIjogImV2ZW5vZGQiLAogICJsaW5lQ2FwIjogInJvdW5kIiwKICAibGluZUpvaW4iOiAicm91bmQiLAogICJvcGFjaXR5IjogMS4wLAogICJyYWRpdXMiOiAyNTk5MCwKICAic3Ryb2tlIjogdHJ1ZSwKICAid2VpZ2h0IjogMwp9CiAgICAgICAgICAgICAgICApCiAgICAgICAgICAgICAgICAuYWRkVG8obWFwX2RkYjAzMTZjYWQ3MzRmNzZhNTIwZTc2NzYxY2Q0ZDc4KTsKICAgICAgICAgICAgCiAgICAKICAgICAgICBjaXJjbGVfOGQ5NGNhMjA5ZjdkNDllNTgyZDc0N2U1MjAxMDYxNTQuYmluZFRvb2x0aXAoCiAgICAgICAgICAgIGA8ZGl2PmAKICAgICAgICAgICAgKyBgPGxpPjxib2xkPkNvdW50cnkgOiBMdXhlbWJvdXJnPGxpPjxib2xkPkNvbmZpcm1lZCA6IDM4ODYuMDxsaT48Ym9sZD5EZWF0aF9yYXRlIDogMi41OTkwNzM1OTc1Mjk1OTM1PGxpPjxib2xkPkRlYXRocyA6IDEwMS4wPGxpPjxib2xkPmxvY2tkb3duIGRhdGUgOiAyMDIwLTAzLTE2PGxpPjxib2xkPmZpcnN0IGNhc2UgZGF0ZSA6IDIwMjAtMDMtMDE8bGk+PGJvbGQ+bWVhbiBhZ2UgOiAzOS4zYCArIGA8L2Rpdj5gLAogICAgICAgICAgICB7InN0aWNreSI6IHRydWV9CiAgICAgICAgKTsKICAgICAgICAKICAgIAoKICAgICAgICAgICAgdmFyIGNpcmNsZV9hMzA1OTFlMWFjN2Q0NTE5ODEwYzIzYzc2MGFmMGU4NCA9IEwuY2lyY2xlKAogICAgICAgICAgICAgICAgWy0xMDAuMCwgLTEwMC4wXSwKICAgICAgICAgICAgICAgIHsKICAiYnViYmxpbmdNb3VzZUV2ZW50cyI6IHRydWUsCiAgImNvbG9yIjogImJsdWUiLAogICJkYXNoQXJyYXkiOiBudWxsLAogICJkYXNoT2Zmc2V0IjogbnVsbCwKICAiZmlsbCI6ICJibHVlIiwKICAiZmlsbENvbG9yIjogImJsdWUiLAogICJmaWxsT3BhY2l0eSI6IDAuMiwKICAiZmlsbFJ1bGUiOiAiZXZlbm9kZCIsCiAgImxpbmVDYXAiOiAicm91bmQiLAogICJsaW5lSm9pbiI6ICJyb3VuZCIsCiAgIm9wYWNpdHkiOiAxLjAsCiAgInJhZGl1cyI6IDIyMjIyMiwKICAic3Ryb2tlIjogdHJ1ZSwKICAid2VpZ2h0IjogMwp9CiAgICAgICAgICAgICAgICApCiAgICAgICAgICAgICAgICAuYWRkVG8obWFwX2RkYjAzMTZjYWQ3MzRmNzZhNTIwZTc2NzYxY2Q0ZDc4KTsKICAgICAgICAgICAgCiAgICAKICAgICAgICBjaXJjbGVfYTMwNTkxZTFhYzdkNDUxOTgxMGMyM2M3NjBhZjBlODQuYmluZFRvb2x0aXAoCiAgICAgICAgICAgIGA8ZGl2PmAKICAgICAgICAgICAgKyBgPGxpPjxib2xkPkNvdW50cnkgOiBNUyBaYWFuZGFtPGxpPjxib2xkPkNvbmZpcm1lZCA6IDkuMDxsaT48Ym9sZD5EZWF0aF9yYXRlIDogMjIuMjIyMjIyMjIyMjIyMjI8bGk+PGJvbGQ+RGVhdGhzIDogMi4wPGxpPjxib2xkPmxvY2tkb3duIGRhdGUgOiBuYW48bGk+PGJvbGQ+Zmlyc3QgY2FzZSBkYXRlIDogMjAyMC0wMy0yOTxsaT48Ym9sZD5tZWFuIGFnZSA6IDM3LjBgICsgYDwvZGl2PmAsCiAgICAgICAgICAgIHsic3RpY2t5IjogdHJ1ZX0KICAgICAgICApOwogICAgICAgIAogICAgCgogICAgICAgICAgICB2YXIgY2lyY2xlXzdmODU2M2Y2ZTUwYzQ3NDE5ODlkODcwZWI5ODdmM2NjID0gTC5jaXJjbGUoCiAgICAgICAgICAgICAgICBbLTE4Ljc2Njk0NzAwMDAwMDAwMiwgNDYuODY5MTA3XSwKICAgICAgICAgICAgICAgIHsKICAiYnViYmxpbmdNb3VzZUV2ZW50cyI6IHRydWUsCiAgImNvbG9yIjogImJsdWUiLAogICJkYXNoQXJyYXkiOiBudWxsLAogICJkYXNoT2Zmc2V0IjogbnVsbCwKICAiZmlsbCI6ICJibHVlIiwKICAiZmlsbENvbG9yIjogImJsdWUiLAogICJmaWxsT3BhY2l0eSI6IDAuMiwKICAiZmlsbFJ1bGUiOiAiZXZlbm9kZCIsCiAgImxpbmVDYXAiOiAicm91bmQiLAogICJsaW5lSm9pbiI6ICJyb3VuZCIsCiAgIm9wYWNpdHkiOiAxLjAsCiAgInN0cm9rZSI6IHRydWUsCiAgIndlaWdodCI6IDMKfQogICAgICAgICAgICAgICAgKQogICAgICAgICAgICAgICAgLmFkZFRvKG1hcF9kZGIwMzE2Y2FkNzM0Zjc2YTUyMGU3Njc2MWNkNGQ3OCk7CiAgICAgICAgICAgIAogICAgCiAgICAgICAgY2lyY2xlXzdmODU2M2Y2ZTUwYzQ3NDE5ODlkODcwZWI5ODdmM2NjLmJpbmRUb29sdGlwKAogICAgICAgICAgICBgPGRpdj5gCiAgICAgICAgICAgICsgYDxsaT48Ym9sZD5Db3VudHJ5IDogTWFkYWdhc2NhcjxsaT48Ym9sZD5Db25maXJtZWQgOiAxOTMuMDxsaT48Ym9sZD5EZWF0aF9yYXRlIDogMC4wPGxpPjxib2xkPkRlYXRocyA6IDAuMDxsaT48Ym9sZD5sb2NrZG93biBkYXRlIDogMjAyMC0wMy0yMzxsaT48Ym9sZD5maXJzdCBjYXNlIGRhdGUgOiAyMDIwLTAzLTIxPGxpPjxib2xkPm1lYW4gYWdlIDogMTguN2AgKyBgPC9kaXY+YCwKICAgICAgICAgICAgeyJzdGlja3kiOiB0cnVlfQogICAgICAgICk7CiAgICAgICAgCiAgICAKCiAgICAgICAgICAgIHZhciBjaXJjbGVfYmY5NGI5NDU1ZWE2NDliOTg5ZjM0ZGVmY2UzNzdhOWEgPSBMLmNpcmNsZSgKICAgICAgICAgICAgICAgIFstMTMuMjU0MzA3OTk5OTk5OTk4LCAzNC4zMDE1MjVdLAogICAgICAgICAgICAgICAgewogICJidWJibGluZ01vdXNlRXZlbnRzIjogdHJ1ZSwKICAiY29sb3IiOiAiYmx1ZSIsCiAgImRhc2hBcnJheSI6IG51bGwsCiAgImRhc2hPZmZzZXQiOiBudWxsLAogICJmaWxsIjogImJsdWUiLAogICJmaWxsQ29sb3IiOiAiYmx1ZSIsCiAgImZpbGxPcGFjaXR5IjogMC4yLAogICJmaWxsUnVsZSI6ICJldmVub2RkIiwKICAibGluZUNhcCI6ICJyb3VuZCIsCiAgImxpbmVKb2luIjogInJvdW5kIiwKICAib3BhY2l0eSI6IDEuMCwKICAicmFkaXVzIjogNTM1NzEsCiAgInN0cm9rZSI6IHRydWUsCiAgIndlaWdodCI6IDMKfQogICAgICAgICAgICAgICAgKQogICAgICAgICAgICAgICAgLmFkZFRvKG1hcF9kZGIwMzE2Y2FkNzM0Zjc2YTUyMGU3Njc2MWNkNGQ3OCk7CiAgICAgICAgICAgIAogICAgCiAgICAgICAgY2lyY2xlX2JmOTRiOTQ1NWVhNjQ5Yjk4OWYzNGRlZmNlMzc3YTlhLmJpbmRUb29sdGlwKAogICAgICAgICAgICBgPGRpdj5gCiAgICAgICAgICAgICsgYDxsaT48Ym9sZD5Db3VudHJ5IDogTWFsYXdpPGxpPjxib2xkPkNvbmZpcm1lZCA6IDU2LjA8bGk+PGJvbGQ+RGVhdGhfcmF0ZSA6IDUuMzU3MTQyODU3MTQyODU3PGxpPjxib2xkPkRlYXRocyA6IDMuMDxsaT48Ym9sZD5sb2NrZG93biBkYXRlIDogbmFuPGxpPjxib2xkPmZpcnN0IGNhc2UgZGF0ZSA6IDIwMjAtMDQtMDM8bGk+PGJvbGQ+bWVhbiBhZ2UgOiAxNy40YCArIGA8L2Rpdj5gLAogICAgICAgICAgICB7InN0aWNreSI6IHRydWV9CiAgICAgICAgKTsKICAgICAgICAKICAgIAoKICAgICAgICAgICAgdmFyIGNpcmNsZV9hNGRlNWMzMmUxMDQ0MGE1ODU0MTk4MTUxOTkzMzY5MSA9IEwuY2lyY2xlKAogICAgICAgICAgICAgICAgWzQuMjEwNDgzOTk5OTk5OTk5LCAxMDEuOTc1NzY2MDAwMDAwMDFdLAogICAgICAgICAgICAgICAgewogICJidWJibGluZ01vdXNlRXZlbnRzIjogdHJ1ZSwKICAiY29sb3IiOiAiYmx1ZSIsCiAgImRhc2hBcnJheSI6IG51bGwsCiAgImRhc2hPZmZzZXQiOiBudWxsLAogICJmaWxsIjogImJsdWUiLAogICJmaWxsQ29sb3IiOiAiYmx1ZSIsCiAgImZpbGxPcGFjaXR5IjogMC4yLAogICJmaWxsUnVsZSI6ICJldmVub2RkIiwKICAibGluZUNhcCI6ICJyb3VuZCIsCiAgImxpbmVKb2luIjogInJvdW5kIiwKICAib3BhY2l0eSI6IDEuMCwKICAicmFkaXVzIjogMTYyMjUsCiAgInN0cm9rZSI6IHRydWUsCiAgIndlaWdodCI6IDMKfQogICAgICAgICAgICAgICAgKQogICAgICAgICAgICAgICAgLmFkZFRvKG1hcF9kZGIwMzE2Y2FkNzM0Zjc2YTUyMGU3Njc2MWNkNGQ3OCk7CiAgICAgICAgICAgIAogICAgCiAgICAgICAgY2lyY2xlX2E0ZGU1YzMyZTEwNDQwYTU4NTQxOTgxNTE5OTMzNjkxLmJpbmRUb29sdGlwKAogICAgICAgICAgICBgPGRpdj5gCiAgICAgICAgICAgICsgYDxsaT48Ym9sZD5Db3VudHJ5IDogTWFsYXlzaWE8bGk+PGJvbGQ+Q29uZmlybWVkIDogNjY1Ni4wPGxpPjxib2xkPkRlYXRoX3JhdGUgOiAxLjYyMjU5NjE1Mzg0NjE1Mzc8bGk+PGJvbGQ+RGVhdGhzIDogMTA4LjA8bGk+PGJvbGQ+bG9ja2Rvd24gZGF0ZSA6IDIwMjAtMDMtMTg8bGk+PGJvbGQ+Zmlyc3QgY2FzZSBkYXRlIDogMjAyMC0wMS0yNjxsaT48Ym9sZD5tZWFuIGFnZSA6IDI3LjdgICsgYDwvZGl2PmAsCiAgICAgICAgICAgIHsic3RpY2t5IjogdHJ1ZX0KICAgICAgICApOwogICAgICAgIAogICAgCgogICAgICAgICAgICB2YXIgY2lyY2xlX2RlZjE5ZDc4YzQ4NjRlOWZhMjU0MjBmZGRjM2IwZmQwID0gTC5jaXJjbGUoCiAgICAgICAgICAgICAgICBbMy4yMDI3NzgsIDczLjIyMDY4XSwKICAgICAgICAgICAgICAgIHsKICAiYnViYmxpbmdNb3VzZUV2ZW50cyI6IHRydWUsCiAgImNvbG9yIjogImJsdWUiLAogICJkYXNoQXJyYXkiOiBudWxsLAogICJkYXNoT2Zmc2V0IjogbnVsbCwKICAiZmlsbCI6ICJibHVlIiwKICAiZmlsbENvbG9yIjogImJsdWUiLAogICJmaWxsT3BhY2l0eSI6IDAuMiwKICAiZmlsbFJ1bGUiOiAiZXZlbm9kZCIsCiAgImxpbmVDYXAiOiAicm91bmQiLAogICJsaW5lSm9pbiI6ICJyb3VuZCIsCiAgIm9wYWNpdHkiOiAxLjAsCiAgInJhZGl1cyI6IDM1OTIsCiAgInN0cm9rZSI6IHRydWUsCiAgIndlaWdodCI6IDMKfQogICAgICAgICAgICAgICAgKQogICAgICAgICAgICAgICAgLmFkZFRvKG1hcF9kZGIwMzE2Y2FkNzM0Zjc2YTUyMGU3Njc2MWNkNGQ3OCk7CiAgICAgICAgICAgIAogICAgCiAgICAgICAgY2lyY2xlX2RlZjE5ZDc4YzQ4NjRlOWZhMjU0MjBmZGRjM2IwZmQwLmJpbmRUb29sdGlwKAogICAgICAgICAgICBgPGRpdj5gCiAgICAgICAgICAgICsgYDxsaT48Ym9sZD5Db3VudHJ5IDogTWFsZGl2ZXM8bGk+PGJvbGQ+Q29uZmlybWVkIDogODM1LjA8bGk+PGJvbGQ+RGVhdGhfcmF0ZSA6IDAuMzU5MjgxNDM3MTI1NzQ4NTxsaT48Ym9sZD5EZWF0aHMgOiAzLjA8bGk+PGJvbGQ+bG9ja2Rvd24gZGF0ZSA6IDIwMjAtMDMtMTE8bGk+PGJvbGQ+Zmlyc3QgY2FzZSBkYXRlIDogMjAyMC0wMy0wOTxsaT48Ym9sZD5tZWFuIGFnZSA6IDI3LjlgICsgYDwvZGl2PmAsCiAgICAgICAgICAgIHsic3RpY2t5IjogdHJ1ZX0KICAgICAgICApOwogICAgICAgIAogICAgCgogICAgICAgICAgICB2YXIgY2lyY2xlXzk0NzIzYzlhOWEyYTRmNTQ4NDdlM2UxMGQwMGI0YTRiID0gTC5jaXJjbGUoCiAgICAgICAgICAgICAgICBbMTcuNTcwNjkyLCAtMy45OTYxNjYwMDAwMDAwMDFdLAogICAgICAgICAgICAgICAgewogICJidWJibGluZ01vdXNlRXZlbnRzIjogdHJ1ZSwKICAiY29sb3IiOiAiYmx1ZSIsCiAgImRhc2hBcnJheSI6IG51bGwsCiAgImRhc2hPZmZzZXQiOiBudWxsLAogICJmaWxsIjogImJsdWUiLAogICJmaWxsQ29sb3IiOiAiYmx1ZSIsCiAgImZpbGxPcGFjaXR5IjogMC4yLAogICJmaWxsUnVsZSI6ICJldmVub2RkIiwKICAibGluZUNhcCI6ICJyb3VuZCIsCiAgImxpbmVKb2luIjogInJvdW5kIiwKICAib3BhY2l0eSI6IDEuMCwKICAicmFkaXVzIjogNTM5NzcsCiAgInN0cm9rZSI6IHRydWUsCiAgIndlaWdodCI6IDMKfQogICAgICAgICAgICAgICAgKQogICAgICAgICAgICAgICAgLmFkZFRvKG1hcF9kZGIwMzE2Y2FkNzM0Zjc2YTUyMGU3Njc2MWNkNGQ3OCk7CiAgICAgICAgICAgIAogICAgCiAgICAgICAgY2lyY2xlXzk0NzIzYzlhOWEyYTRmNTQ4NDdlM2UxMGQwMGI0YTRiLmJpbmRUb29sdGlwKAogICAgICAgICAgICBgPGRpdj5gCiAgICAgICAgICAgICsgYDxsaT48Ym9sZD5Db3VudHJ5IDogTWFsaTxsaT48Ym9sZD5Db25maXJtZWQgOiA3MDQuMDxsaT48Ym9sZD5EZWF0aF9yYXRlIDogNS4zOTc3MjcyNzI3MjcyNzI1PGxpPjxib2xkPkRlYXRocyA6IDM4LjA8bGk+PGJvbGQ+bG9ja2Rvd24gZGF0ZSA6IDIwMjAtMDMtMTg8bGk+PGJvbGQ+Zmlyc3QgY2FzZSBkYXRlIDogMjAyMC0wMy0yNjxsaT48Ym9sZD5tZWFuIGFnZSA6IDE2LjBgICsgYDwvZGl2PmAsCiAgICAgICAgICAgIHsic3RpY2t5IjogdHJ1ZX0KICAgICAgICApOwogICAgICAgIAogICAgCgogICAgICAgICAgICB2YXIgY2lyY2xlXzk2NTU3ZjNiMmFiMzQ4YzVhMzg1ZmI4MWRiNjVjMzkxID0gTC5jaXJjbGUoCiAgICAgICAgICAgICAgICBbMzUuOTM3NDk2LCAxNC4zNzU0MTZdLAogICAgICAgICAgICAgICAgewogICJidWJibGluZ01vdXNlRXZlbnRzIjogdHJ1ZSwKICAiY29sb3IiOiAiYmx1ZSIsCiAgImRhc2hBcnJheSI6IG51bGwsCiAgImRhc2hPZmZzZXQiOiBudWxsLAogICJmaWxsIjogImJsdWUiLAogICJmaWxsQ29sb3IiOiAiYmx1ZSIsCiAgImZpbGxPcGFjaXR5IjogMC4yLAogICJmaWxsUnVsZSI6ICJldmVub2RkIiwKICAibGluZUNhcCI6ICJyb3VuZCIsCiAgImxpbmVKb2luIjogInJvdW5kIiwKICAib3BhY2l0eSI6IDEuMCwKICAicmFkaXVzIjogMTAwODAsCiAgInN0cm9rZSI6IHRydWUsCiAgIndlaWdodCI6IDMKfQogICAgICAgICAgICAgICAgKQogICAgICAgICAgICAgICAgLmFkZFRvKG1hcF9kZGIwMzE2Y2FkNzM0Zjc2YTUyMGU3Njc2MWNkNGQ3OCk7CiAgICAgICAgICAgIAogICAgCiAgICAgICAgY2lyY2xlXzk2NTU3ZjNiMmFiMzQ4YzVhMzg1ZmI4MWRiNjVjMzkxLmJpbmRUb29sdGlwKAogICAgICAgICAgICBgPGRpdj5gCiAgICAgICAgICAgICsgYDxsaT48Ym9sZD5Db3VudHJ5IDogTWFsdGE8bGk+PGJvbGQ+Q29uZmlybWVkIDogNDk2LjA8bGk+PGJvbGQ+RGVhdGhfcmF0ZSA6IDEuMDA4MDY0NTE2MTI5MDMyMzxsaT48Ym9sZD5EZWF0aHMgOiA1LjA8bGk+PGJvbGQ+bG9ja2Rvd24gZGF0ZSA6IDIwMjAtMDMtMTI8bGk+PGJvbGQ+Zmlyc3QgY2FzZSBkYXRlIDogMjAyMC0wMy0wODxsaT48Ym9sZD5tZWFuIGFnZSA6IDQwLjlgICsgYDwvZGl2PmAsCiAgICAgICAgICAgIHsic3RpY2t5IjogdHJ1ZX0KICAgICAgICApOwogICAgICAgIAogICAgCgogICAgICAgICAgICB2YXIgY2lyY2xlX2U3NmJjNGQxMGQ3ODQ3Y2RhYzI1YWVlNDFmYzhhMDdjID0gTC5jaXJjbGUoCiAgICAgICAgICAgICAgICBbMjEuMDA3ODksIC0xMC45NDA4MzVdLAogICAgICAgICAgICAgICAgewogICJidWJibGluZ01vdXNlRXZlbnRzIjogdHJ1ZSwKICAiY29sb3IiOiAiYmx1ZSIsCiAgImRhc2hBcnJheSI6IG51bGwsCiAgImRhc2hPZmZzZXQiOiBudWxsLAogICJmaWxsIjogImJsdWUiLAogICJmaWxsQ29sb3IiOiAiYmx1ZSIsCiAgImZpbGxPcGFjaXR5IjogMC4yLAogICJmaWxsUnVsZSI6ICJldmVub2RkIiwKICAibGluZUNhcCI6ICJyb3VuZCIsCiAgImxpbmVKb2luIjogInJvdW5kIiwKICAib3BhY2l0eSI6IDEuMCwKICAicmFkaXVzIjogMTI1MDAwLAogICJzdHJva2UiOiB0cnVlLAogICJ3ZWlnaHQiOiAzCn0KICAgICAgICAgICAgICAgICkKICAgICAgICAgICAgICAgIC5hZGRUbyhtYXBfZGRiMDMxNmNhZDczNGY3NmE1MjBlNzY3NjFjZDRkNzgpOwogICAgICAgICAgICAKICAgIAogICAgICAgIGNpcmNsZV9lNzZiYzRkMTBkNzg0N2NkYWMyNWFlZTQxZmM4YTA3Yy5iaW5kVG9vbHRpcCgKICAgICAgICAgICAgYDxkaXY+YAogICAgICAgICAgICArIGA8bGk+PGJvbGQ+Q291bnRyeSA6IE1hdXJpdGFuaWE8bGk+PGJvbGQ+Q29uZmlybWVkIDogOC4wPGxpPjxib2xkPkRlYXRoX3JhdGUgOiAxMi41PGxpPjxib2xkPkRlYXRocyA6IDEuMDxsaT48Ym9sZD5sb2NrZG93biBkYXRlIDogbmFuPGxpPjxib2xkPmZpcnN0IGNhc2UgZGF0ZSA6IDIwMjAtMDMtMTU8bGk+PGJvbGQ+bWVhbiBhZ2UgOiAxOS43YCArIGA8L2Rpdj5gLAogICAgICAgICAgICB7InN0aWNreSI6IHRydWV9CiAgICAgICAgKTsKICAgICAgICAKICAgIAoKICAgICAgICAgICAgdmFyIGNpcmNsZV81MzU4ODJmNDRiYjk0MTgwYjc3NmVkOTRlZjJhNDU0MiA9IEwuY2lyY2xlKAogICAgICAgICAgICAgICAgWy0yMC4zNDg0MDQwMDAwMDAwMDIsIDU3LjU1MjE1Ml0sCiAgICAgICAgICAgICAgICB7CiAgImJ1YmJsaW5nTW91c2VFdmVudHMiOiB0cnVlLAogICJjb2xvciI6ICJibHVlIiwKICAiZGFzaEFycmF5IjogbnVsbCwKICAiZGFzaE9mZnNldCI6IG51bGwsCiAgImZpbGwiOiAiYmx1ZSIsCiAgImZpbGxDb2xvciI6ICJibHVlIiwKICAiZmlsbE9wYWNpdHkiOiAwLjIsCiAgImZpbGxSdWxlIjogImV2ZW5vZGQiLAogICJsaW5lQ2FwIjogInJvdW5kIiwKICAibGluZUpvaW4iOiAicm91bmQiLAogICJvcGFjaXR5IjogMS4wLAogICJyYWRpdXMiOiAzMDEyMCwKICAic3Ryb2tlIjogdHJ1ZSwKICAid2VpZ2h0IjogMwp9CiAgICAgICAgICAgICAgICApCiAgICAgICAgICAgICAgICAuYWRkVG8obWFwX2RkYjAzMTZjYWQ3MzRmNzZhNTIwZTc2NzYxY2Q0ZDc4KTsKICAgICAgICAgICAgCiAgICAKICAgICAgICBjaXJjbGVfNTM1ODgyZjQ0YmI5NDE4MGI3NzZlZDk0ZWYyYTQ1NDIuYmluZFRvb2x0aXAoCiAgICAgICAgICAgIGA8ZGl2PmAKICAgICAgICAgICAgKyBgPGxpPjxib2xkPkNvdW50cnkgOiBNYXVyaXRpdXM8bGk+PGJvbGQ+Q29uZmlybWVkIDogMzMyLjA8bGk+PGJvbGQ+RGVhdGhfcmF0ZSA6IDMuMDEyMDQ4MTkyNzcxMDg0NTxsaT48Ym9sZD5EZWF0aHMgOiAxMC4wPGxpPjxib2xkPmxvY2tkb3duIGRhdGUgOiAyMDIwLTAzLTE3PGxpPjxib2xkPmZpcnN0IGNhc2UgZGF0ZSA6IDIwMjAtMDMtMTk8bGk+PGJvbGQ+bWVhbiBhZ2UgOiAzNS42YCArIGA8L2Rpdj5gLAogICAgICAgICAgICB7InN0aWNreSI6IHRydWV9CiAgICAgICAgKTsKICAgICAgICAKICAgIAoKICAgICAgICAgICAgdmFyIGNpcmNsZV9lODA4YmYxNDlhNTc0MjRmYWRhMGZlYTdhMzFiMGNkZiA9IEwuY2lyY2xlKAogICAgICAgICAgICAgICAgWzIzLjYzNDUwMSwgLTEwMi41NTI3ODRdLAogICAgICAgICAgICAgICAgewogICJidWJibGluZ01vdXNlRXZlbnRzIjogdHJ1ZSwKICAiY29sb3IiOiAiYmx1ZSIsCiAgImRhc2hBcnJheSI6IG51bGwsCiAgImRhc2hPZmZzZXQiOiBudWxsLAogICJmaWxsIjogImJsdWUiLAogICJmaWxsQ29sb3IiOiAiYmx1ZSIsCiAgImZpbGxPcGFjaXR5IjogMC4yLAogICJmaWxsUnVsZSI6ICJldmVub2RkIiwKICAibGluZUNhcCI6ICJyb3VuZCIsCiAgImxpbmVKb2luIjogInJvdW5kIiwKICAib3BhY2l0eSI6IDEuMCwKICAicmFkaXVzIjogOTg5MzcsCiAgInN0cm9rZSI6IHRydWUsCiAgIndlaWdodCI6IDMKfQogICAgICAgICAgICAgICAgKQogICAgICAgICAgICAgICAgLmFkZFRvKG1hcF9kZGIwMzE2Y2FkNzM0Zjc2YTUyMGU3Njc2MWNkNGQ3OCk7CiAgICAgICAgICAgIAogICAgCiAgICAgICAgY2lyY2xlX2U4MDhiZjE0OWE1NzQyNGZhZGEwZmVhN2EzMWIwY2RmLmJpbmRUb29sdGlwKAogICAgICAgICAgICBgPGRpdj5gCiAgICAgICAgICAgICsgYDxsaT48Ym9sZD5Db3VudHJ5IDogTWV4aWNvPGxpPjxib2xkPkNvbmZpcm1lZCA6IDM1MDIyLjA8bGk+PGJvbGQ+RGVhdGhfcmF0ZSA6IDkuODkzNzgxMDUxOTEwMjI4PGxpPjxib2xkPkRlYXRocyA6IDM0NjUuMDxsaT48Ym9sZD5sb2NrZG93biBkYXRlIDogMjAyMC0wMy0xNDxsaT48Ym9sZD5maXJzdCBjYXNlIGRhdGUgOiAyMDIwLTAyLTI5PGxpPjxib2xkPm1lYW4gYWdlIDogMjcuNWAgKyBgPC9kaXY+YCwKICAgICAgICAgICAgeyJzdGlja3kiOiB0cnVlfQogICAgICAgICk7CiAgICAgICAgCiAgICAKCiAgICAgICAgICAgIHZhciBjaXJjbGVfYzYwOGNiZWRkYTA0NGQxYmE2MjI1MDE5N2IxNTg0OTkgPSBMLmNpcmNsZSgKICAgICAgICAgICAgICAgIFs0Ny40MTE2MzEsIDI4LjM2OTg4NDk5OTk5OTk5Nl0sCiAgICAgICAgICAgICAgICB7CiAgImJ1YmJsaW5nTW91c2VFdmVudHMiOiB0cnVlLAogICJjb2xvciI6ICJibHVlIiwKICAiZGFzaEFycmF5IjogbnVsbCwKICAiZGFzaE9mZnNldCI6IG51bGwsCiAgImZpbGwiOiAiYmx1ZSIsCiAgImZpbGxDb2xvciI6ICJibHVlIiwKICAiZmlsbE9wYWNpdHkiOiAwLjIsCiAgImZpbGxSdWxlIjogImV2ZW5vZGQiLAogICJsaW5lQ2FwIjogInJvdW5kIiwKICAibGluZUpvaW4iOiAicm91bmQiLAogICJvcGFjaXR5IjogMS4wLAogICJyYWRpdXMiOiAzNDMwMCwKICAic3Ryb2tlIjogdHJ1ZSwKICAid2VpZ2h0IjogMwp9CiAgICAgICAgICAgICAgICApCiAgICAgICAgICAgICAgICAuYWRkVG8obWFwX2RkYjAzMTZjYWQ3MzRmNzZhNTIwZTc2NzYxY2Q0ZDc4KTsKICAgICAgICAgICAgCiAgICAKICAgICAgICBjaXJjbGVfYzYwOGNiZWRkYTA0NGQxYmE2MjI1MDE5N2IxNTg0OTkuYmluZFRvb2x0aXAoCiAgICAgICAgICAgIGA8ZGl2PmAKICAgICAgICAgICAgKyBgPGxpPjxib2xkPkNvdW50cnkgOiBNb2xkb3ZhPGxpPjxib2xkPkNvbmZpcm1lZCA6IDQ5MjcuMDxsaT48Ym9sZD5EZWF0aF9yYXRlIDogMy40MzAwNzkxNTU2NzI4MjM8bGk+PGJvbGQ+RGVhdGhzIDogMTY5LjA8bGk+PGJvbGQ+bG9ja2Rvd24gZGF0ZSA6IDIwMjAtMDMtMTE8bGk+PGJvbGQ+Zmlyc3QgY2FzZSBkYXRlIDogMjAyMC0wMy0wOTxsaT48Ym9sZD5tZWFuIGFnZSA6IDM3LjBgICsgYDwvZGl2PmAsCiAgICAgICAgICAgIHsic3RpY2t5IjogdHJ1ZX0KICAgICAgICApOwogICAgICAgIAogICAgCgogICAgICAgICAgICB2YXIgY2lyY2xlXzgxOWY3NzRjMTc2MDQzZTM5ZDM0OTNjZTUxMzM1Nzk5ID0gTC5jaXJjbGUoCiAgICAgICAgICAgICAgICBbNDMuNzUwMjk4LCA3LjQxMjg0MV0sCiAgICAgICAgICAgICAgICB7CiAgImJ1YmJsaW5nTW91c2VFdmVudHMiOiB0cnVlLAogICJjb2xvciI6ICJibHVlIiwKICAiZGFzaEFycmF5IjogbnVsbCwKICAiZGFzaE9mZnNldCI6IG51bGwsCiAgImZpbGwiOiAiYmx1ZSIsCiAgImZpbGxDb2xvciI6ICJibHVlIiwKICAiZmlsbE9wYWNpdHkiOiAwLjIsCiAgImZpbGxSdWxlIjogImV2ZW5vZGQiLAogICJsaW5lQ2FwIjogInJvdW5kIiwKICAibGluZUpvaW4iOiAicm91bmQiLAogICJvcGFjaXR5IjogMS4wLAogICJyYWRpdXMiOiA0MTY2NiwKICAic3Ryb2tlIjogdHJ1ZSwKICAid2VpZ2h0IjogMwp9CiAgICAgICAgICAgICAgICApCiAgICAgICAgICAgICAgICAuYWRkVG8obWFwX2RkYjAzMTZjYWQ3MzRmNzZhNTIwZTc2NzYxY2Q0ZDc4KTsKICAgICAgICAgICAgCiAgICAKICAgICAgICBjaXJjbGVfODE5Zjc3NGMxNzYwNDNlMzlkMzQ5M2NlNTEzMzU3OTkuYmluZFRvb2x0aXAoCiAgICAgICAgICAgIGA8ZGl2PmAKICAgICAgICAgICAgKyBgPGxpPjxib2xkPkNvdW50cnkgOiBNb25hY288bGk+PGJvbGQ+Q29uZmlybWVkIDogOTYuMDxsaT48Ym9sZD5EZWF0aF9yYXRlIDogNC4xNjY2NjY2NjY2NjY2Njc8bGk+PGJvbGQ+RGVhdGhzIDogNC4wPGxpPjxib2xkPmxvY2tkb3duIGRhdGUgOiAyMDIwLTAzLTE3PGxpPjxib2xkPmZpcnN0IGNhc2UgZGF0ZSA6IDIwMjAtMDMtMDE8bGk+PGJvbGQ+bWVhbiBhZ2UgOiAzNy4wYCArIGA8L2Rpdj5gLAogICAgICAgICAgICB7InN0aWNreSI6IHRydWV9CiAgICAgICAgKTsKICAgICAgICAKICAgIAoKICAgICAgICAgICAgdmFyIGNpcmNsZV82NGJmY2UwZWViZTE0NGUyODY0MjAzYmZjNWMxY2IzMiA9IEwuY2lyY2xlKAogICAgICAgICAgICAgICAgWzQ2Ljg2MjQ5NiwgMTAzLjg0NjY1NjAwMDAwMDAxXSwKICAgICAgICAgICAgICAgIHsKICAiYnViYmxpbmdNb3VzZUV2ZW50cyI6IHRydWUsCiAgImNvbG9yIjogImJsdWUiLAogICJkYXNoQXJyYXkiOiBudWxsLAogICJkYXNoT2Zmc2V0IjogbnVsbCwKICAiZmlsbCI6ICJibHVlIiwKICAiZmlsbENvbG9yIjogImJsdWUiLAogICJmaWxsT3BhY2l0eSI6IDAuMiwKICAiZmlsbFJ1bGUiOiAiZXZlbm9kZCIsCiAgImxpbmVDYXAiOiAicm91bmQiLAogICJsaW5lSm9pbiI6ICJyb3VuZCIsCiAgIm9wYWNpdHkiOiAxLjAsCiAgInN0cm9rZSI6IHRydWUsCiAgIndlaWdodCI6IDMKfQogICAgICAgICAgICAgICAgKQogICAgICAgICAgICAgICAgLmFkZFRvKG1hcF9kZGIwMzE2Y2FkNzM0Zjc2YTUyMGU3Njc2MWNkNGQ3OCk7CiAgICAgICAgICAgIAogICAgCiAgICAgICAgY2lyY2xlXzY0YmZjZTBlZWJlMTQ0ZTI4NjQyMDNiZmM1YzFjYjMyLmJpbmRUb29sdGlwKAogICAgICAgICAgICBgPGRpdj5gCiAgICAgICAgICAgICsgYDxsaT48Ym9sZD5Db3VudHJ5IDogTW9uZ29saWE8bGk+PGJvbGQ+Q29uZmlybWVkIDogNDIuMDxsaT48Ym9sZD5EZWF0aF9yYXRlIDogMC4wPGxpPjxib2xkPkRlYXRocyA6IDAuMDxsaT48Ym9sZD5sb2NrZG93biBkYXRlIDogMjAyMC0wMy0xMDxsaT48Ym9sZD5maXJzdCBjYXNlIGRhdGUgOiAyMDIwLTAzLTExPGxpPjxib2xkPm1lYW4gYWdlIDogMjcuMWAgKyBgPC9kaXY+YCwKICAgICAgICAgICAgeyJzdGlja3kiOiB0cnVlfQogICAgICAgICk7CiAgICAgICAgCiAgICAKCiAgICAgICAgICAgIHZhciBjaXJjbGVfYTI1MjY2NzQ2ZTcwNDY2Y2JkMGZhZjg2YWIyYmRkNTQgPSBMLmNpcmNsZSgKICAgICAgICAgICAgICAgIFs0Mi43MDg2NzgwMDAwMDAwMDYsIDE5LjM3NDM5XSwKICAgICAgICAgICAgICAgIHsKICAiYnViYmxpbmdNb3VzZUV2ZW50cyI6IHRydWUsCiAgImNvbG9yIjogImJsdWUiLAogICJkYXNoQXJyYXkiOiBudWxsLAogICJkYXNoT2Zmc2V0IjogbnVsbCwKICAiZmlsbCI6ICJibHVlIiwKICAiZmlsbENvbG9yIjogImJsdWUiLAogICJmaWxsT3BhY2l0eSI6IDAuMiwKICAiZmlsbFJ1bGUiOiAiZXZlbm9kZCIsCiAgImxpbmVDYXAiOiAicm91bmQiLAogICJsaW5lSm9pbiI6ICJyb3VuZCIsCiAgIm9wYWNpdHkiOiAxLjAsCiAgInJhZGl1cyI6IDI3Nzc3LAogICJzdHJva2UiOiB0cnVlLAogICJ3ZWlnaHQiOiAzCn0KICAgICAgICAgICAgICAgICkKICAgICAgICAgICAgICAgIC5hZGRUbyhtYXBfZGRiMDMxNmNhZDczNGY3NmE1MjBlNzY3NjFjZDRkNzgpOwogICAgICAgICAgICAKICAgIAogICAgICAgIGNpcmNsZV9hMjUyNjY3NDZlNzA0NjZjYmQwZmFmODZhYjJiZGQ1NC5iaW5kVG9vbHRpcCgKICAgICAgICAgICAgYDxkaXY+YAogICAgICAgICAgICArIGA8bGk+PGJvbGQ+Q291bnRyeSA6IE1vbnRlbmVncm88bGk+PGJvbGQ+Q29uZmlybWVkIDogMzI0LjA8bGk+PGJvbGQ+RGVhdGhfcmF0ZSA6IDIuNzc3Nzc3Nzc3Nzc3Nzc3NzxsaT48Ym9sZD5EZWF0aHMgOiA5LjA8bGk+PGJvbGQ+bG9ja2Rvd24gZGF0ZSA6IDIwMjAtMDMtMjQ8bGk+PGJvbGQ+Zmlyc3QgY2FzZSBkYXRlIDogMjAyMC0wMy0xODxsaT48Ym9sZD5tZWFuIGFnZSA6IDM3LjdgICsgYDwvZGl2PmAsCiAgICAgICAgICAgIHsic3RpY2t5IjogdHJ1ZX0KICAgICAgICApOwogICAgICAgIAogICAgCgogICAgICAgICAgICB2YXIgY2lyY2xlXzcxZThkYmQ2MGFhZDRlMmNiZDQ1OTg2YzhkZjdjMWI5ID0gTC5jaXJjbGUoCiAgICAgICAgICAgICAgICBbMzEuNzkxNzAyLCAtNy4wOTI2Ml0sCiAgICAgICAgICAgICAgICB7CiAgImJ1YmJsaW5nTW91c2VFdmVudHMiOiB0cnVlLAogICJjb2xvciI6ICJibHVlIiwKICAiZGFzaEFycmF5IjogbnVsbCwKICAiZGFzaE9mZnNldCI6IG51bGwsCiAgImZpbGwiOiAiYmx1ZSIsCiAgImZpbGxDb2xvciI6ICJibHVlIiwKICAiZmlsbE9wYWNpdHkiOiAwLjIsCiAgImZpbGxSdWxlIjogImV2ZW5vZGQiLAogICJsaW5lQ2FwIjogInJvdW5kIiwKICAibGluZUpvaW4iOiAicm91bmQiLAogICJvcGFjaXR5IjogMS4wLAogICJyYWRpdXMiOiAzMTAwNywKICAic3Ryb2tlIjogdHJ1ZSwKICAid2VpZ2h0IjogMwp9CiAgICAgICAgICAgICAgICApCiAgICAgICAgICAgICAgICAuYWRkVG8obWFwX2RkYjAzMTZjYWQ3MzRmNzZhNTIwZTc2NzYxY2Q0ZDc4KTsKICAgICAgICAgICAgCiAgICAKICAgICAgICBjaXJjbGVfNzFlOGRiZDYwYWFkNGUyY2JkNDU5ODZjOGRmN2MxYjkuYmluZFRvb2x0aXAoCiAgICAgICAgICAgIGA8ZGl2PmAKICAgICAgICAgICAgKyBgPGxpPjxib2xkPkNvdW50cnkgOiBNb3JvY2NvPGxpPjxib2xkPkNvbmZpcm1lZCA6IDYwNjMuMDxsaT48Ym9sZD5EZWF0aF9yYXRlIDogMy4xMDA3NzUxOTM3OTg0NTxsaT48Ym9sZD5EZWF0aHMgOiAxODguMDxsaT48Ym9sZD5sb2NrZG93biBkYXRlIDogMjAyMC0wMy0xNjxsaT48Ym9sZD5maXJzdCBjYXNlIGRhdGUgOiAyMDIwLTAzLTAzPGxpPjxib2xkPm1lYW4gYWdlIDogMjcuOWAgKyBgPC9kaXY+YCwKICAgICAgICAgICAgeyJzdGlja3kiOiB0cnVlfQogICAgICAgICk7CiAgICAgICAgCiAgICAKCiAgICAgICAgICAgIHZhciBjaXJjbGVfY2Y1NDllMDRiZGUyNDA1ZGExNjBhNmI4NTRmNzgyMmIgPSBMLmNpcmNsZSgKICAgICAgICAgICAgICAgIFstMTguNjY1Njk1LCAzNS41Mjk1NjJdLAogICAgICAgICAgICAgICAgewogICJidWJibGluZ01vdXNlRXZlbnRzIjogdHJ1ZSwKICAiY29sb3IiOiAiYmx1ZSIsCiAgImRhc2hBcnJheSI6IG51bGwsCiAgImRhc2hPZmZzZXQiOiBudWxsLAogICJmaWxsIjogImJsdWUiLAogICJmaWxsQ29sb3IiOiAiYmx1ZSIsCiAgImZpbGxPcGFjaXR5IjogMC4yLAogICJmaWxsUnVsZSI6ICJldmVub2RkIiwKICAibGluZUNhcCI6ICJyb3VuZCIsCiAgImxpbmVKb2luIjogInJvdW5kIiwKICAib3BhY2l0eSI6IDEuMCwKICAic3Ryb2tlIjogdHJ1ZSwKICAid2VpZ2h0IjogMwp9CiAgICAgICAgICAgICAgICApCiAgICAgICAgICAgICAgICAuYWRkVG8obWFwX2RkYjAzMTZjYWQ3MzRmNzZhNTIwZTc2NzYxY2Q0ZDc4KTsKICAgICAgICAgICAgCiAgICAKICAgICAgICBjaXJjbGVfY2Y1NDllMDRiZGUyNDA1ZGExNjBhNmI4NTRmNzgyMmIuYmluZFRvb2x0aXAoCiAgICAgICAgICAgIGA8ZGl2PmAKICAgICAgICAgICAgKyBgPGxpPjxib2xkPkNvdW50cnkgOiBNb3phbWJpcXVlPGxpPjxib2xkPkNvbmZpcm1lZCA6IDkxLjA8bGk+PGJvbGQ+RGVhdGhfcmF0ZSA6IDAuMDxsaT48Ym9sZD5EZWF0aHMgOiAwLjA8bGk+PGJvbGQ+bG9ja2Rvd24gZGF0ZSA6IDIwMjAtMDQtMDE8bGk+PGJvbGQ+Zmlyc3QgY2FzZSBkYXRlIDogMjAyMC0wMy0yMzxsaT48Ym9sZD5tZWFuIGFnZSA6IDE3LjJgICsgYDwvZGl2PmAsCiAgICAgICAgICAgIHsic3RpY2t5IjogdHJ1ZX0KICAgICAgICApOwogICAgICAgIAogICAgCgogICAgICAgICAgICB2YXIgY2lyY2xlX2NiYmNhNmVhMmZjNzRkNGQ5NDVlM2Y4YjdkYzhjZjY4ID0gTC5jaXJjbGUoCiAgICAgICAgICAgICAgICBbLTIyLjk1NzYzOTk5OTk5OTk5OCwgMTguNDkwNDFdLAogICAgICAgICAgICAgICAgewogICJidWJibGluZ01vdXNlRXZlbnRzIjogdHJ1ZSwKICAiY29sb3IiOiAiYmx1ZSIsCiAgImRhc2hBcnJheSI6IG51bGwsCiAgImRhc2hPZmZzZXQiOiBudWxsLAogICJmaWxsIjogImJsdWUiLAogICJmaWxsQ29sb3IiOiAiYmx1ZSIsCiAgImZpbGxPcGFjaXR5IjogMC4yLAogICJmaWxsUnVsZSI6ICJldmVub2RkIiwKICAibGluZUNhcCI6ICJyb3VuZCIsCiAgImxpbmVKb2luIjogInJvdW5kIiwKICAib3BhY2l0eSI6IDEuMCwKICAic3Ryb2tlIjogdHJ1ZSwKICAid2VpZ2h0IjogMwp9CiAgICAgICAgICAgICAgICApCiAgICAgICAgICAgICAgICAuYWRkVG8obWFwX2RkYjAzMTZjYWQ3MzRmNzZhNTIwZTc2NzYxY2Q0ZDc4KTsKICAgICAgICAgICAgCiAgICAKICAgICAgICBjaXJjbGVfY2JiY2E2ZWEyZmM3NGQ0ZDk0NWUzZjhiN2RjOGNmNjguYmluZFRvb2x0aXAoCiAgICAgICAgICAgIGA8ZGl2PmAKICAgICAgICAgICAgKyBgPGxpPjxib2xkPkNvdW50cnkgOiBOYW1pYmlhPGxpPjxib2xkPkNvbmZpcm1lZCA6IDE2LjA8bGk+PGJvbGQ+RGVhdGhfcmF0ZSA6IDAuMDxsaT48Ym9sZD5EZWF0aHMgOiAwLjA8bGk+PGJvbGQ+bG9ja2Rvd24gZGF0ZSA6IDIwMjAtMDMtMTQ8bGk+PGJvbGQ+Zmlyc3QgY2FzZSBkYXRlIDogMjAyMC0wMy0xNTxsaT48Ym9sZD5tZWFuIGFnZSA6IDIxLjBgICsgYDwvZGl2PmAsCiAgICAgICAgICAgIHsic3RpY2t5IjogdHJ1ZX0KICAgICAgICApOwogICAgICAgIAogICAgCgogICAgICAgICAgICB2YXIgY2lyY2xlXzM1NDk4YTYwYzk2YjQ4Y2Q5Y2Q1YjdmNGRjMGJkMmY3ID0gTC5jaXJjbGUoCiAgICAgICAgICAgICAgICBbMjguMzk0ODU3MDAwMDAwMDAyLCA4NC4xMjQwMDc5OTk5OTk5OF0sCiAgICAgICAgICAgICAgICB7CiAgImJ1YmJsaW5nTW91c2VFdmVudHMiOiB0cnVlLAogICJjb2xvciI6ICJibHVlIiwKICAiZGFzaEFycmF5IjogbnVsbCwKICAiZGFzaE9mZnNldCI6IG51bGwsCiAgImZpbGwiOiAiYmx1ZSIsCiAgImZpbGxDb2xvciI6ICJibHVlIiwKICAiZmlsbE9wYWNpdHkiOiAwLjIsCiAgImZpbGxSdWxlIjogImV2ZW5vZGQiLAogICJsaW5lQ2FwIjogInJvdW5kIiwKICAibGluZUpvaW4iOiAicm91bmQiLAogICJvcGFjaXR5IjogMS4wLAogICJzdHJva2UiOiB0cnVlLAogICJ3ZWlnaHQiOiAzCn0KICAgICAgICAgICAgICAgICkKICAgICAgICAgICAgICAgIC5hZGRUbyhtYXBfZGRiMDMxNmNhZDczNGY3NmE1MjBlNzY3NjFjZDRkNzgpOwogICAgICAgICAgICAKICAgIAogICAgICAgIGNpcmNsZV8zNTQ5OGE2MGM5NmI0OGNkOWNkNWI3ZjRkYzBiZDJmNy5iaW5kVG9vbHRpcCgKICAgICAgICAgICAgYDxkaXY+YAogICAgICAgICAgICArIGA8bGk+PGJvbGQ+Q291bnRyeSA6IE5lcGFsPGxpPjxib2xkPkNvbmZpcm1lZCA6IDExMC4wPGxpPjxib2xkPkRlYXRoX3JhdGUgOiAwLjA8bGk+PGJvbGQ+RGVhdGhzIDogMC4wPGxpPjxib2xkPmxvY2tkb3duIGRhdGUgOiAyMDIwLTAzLTI0PGxpPjxib2xkPmZpcnN0IGNhc2UgZGF0ZSA6IDIwMjAtMDEtMjY8bGk+PGJvbGQ+bWVhbiBhZ2UgOiAyMy4yYCArIGA8L2Rpdj5gLAogICAgICAgICAgICB7InN0aWNreSI6IHRydWV9CiAgICAgICAgKTsKICAgICAgICAKICAgIAoKICAgICAgICAgICAgdmFyIGNpcmNsZV80ZGRjNzExYzE2Yjk0NDE0ODdmMTJkM2FlMzY1ODk0OSA9IEwuY2lyY2xlKAogICAgICAgICAgICAgICAgWzUyLjEzMjYzMywgNS4yOTEyNjZdLAogICAgICAgICAgICAgICAgewogICJidWJibGluZ01vdXNlRXZlbnRzIjogdHJ1ZSwKICAiY29sb3IiOiAiYmx1ZSIsCiAgImRhc2hBcnJheSI6IG51bGwsCiAgImRhc2hPZmZzZXQiOiBudWxsLAogICJmaWxsIjogImJsdWUiLAogICJmaWxsQ29sb3IiOiAiYmx1ZSIsCiAgImZpbGxPcGFjaXR5IjogMC4yLAogICJmaWxsUnVsZSI6ICJldmVub2RkIiwKICAibGluZUNhcCI6ICJyb3VuZCIsCiAgImxpbmVKb2luIjogInJvdW5kIiwKICAib3BhY2l0eSI6IDEuMCwKICAicmFkaXVzIjogMTI3NDY5LAogICJzdHJva2UiOiB0cnVlLAogICJ3ZWlnaHQiOiAzCn0KICAgICAgICAgICAgICAgICkKICAgICAgICAgICAgICAgIC5hZGRUbyhtYXBfZGRiMDMxNmNhZDczNGY3NmE1MjBlNzY3NjFjZDRkNzgpOwogICAgICAgICAgICAKICAgIAogICAgICAgIGNpcmNsZV80ZGRjNzExYzE2Yjk0NDE0ODdmMTJkM2FlMzY1ODk0OS5iaW5kVG9vbHRpcCgKICAgICAgICAgICAgYDxkaXY+YAogICAgICAgICAgICArIGA8bGk+PGJvbGQ+Q291bnRyeSA6IE5ldGhlcmxhbmRzPGxpPjxib2xkPkNvbmZpcm1lZCA6IDQyODI2LjA8bGk+PGJvbGQ+RGVhdGhfcmF0ZSA6IDEyLjc0NjkyOTQzNTM4OTcxNzxsaT48Ym9sZD5EZWF0aHMgOiA1NDU5LjA8bGk+PGJvbGQ+bG9ja2Rvd24gZGF0ZSA6IDIwMjAtMDMtMjQ8bGk+PGJvbGQ+Zmlyc3QgY2FzZSBkYXRlIDogMjAyMC0wMi0yODxsaT48Ym9sZD5tZWFuIGFnZSA6IDQyLjFgICsgYDwvZGl2PmAsCiAgICAgICAgICAgIHsic3RpY2t5IjogdHJ1ZX0KICAgICAgICApOwogICAgICAgIAogICAgCgogICAgICAgICAgICB2YXIgY2lyY2xlXzFhMWE2N2QyYzEwNjQzMDViYTRjY2E5ODNhMjI0MzhmID0gTC5jaXJjbGUoCiAgICAgICAgICAgICAgICBbLTQwLjkwMDU1NywgMTc0Ljg4NTk3MDk5OTk5OTk2XSwKICAgICAgICAgICAgICAgIHsKICAiYnViYmxpbmdNb3VzZUV2ZW50cyI6IHRydWUsCiAgImNvbG9yIjogImJsdWUiLAogICJkYXNoQXJyYXkiOiBudWxsLAogICJkYXNoT2Zmc2V0IjogbnVsbCwKICAiZmlsbCI6ICJibHVlIiwKICAiZmlsbENvbG9yIjogImJsdWUiLAogICJmaWxsT3BhY2l0eSI6IDAuMiwKICAiZmlsbFJ1bGUiOiAiZXZlbm9kZCIsCiAgImxpbmVDYXAiOiAicm91bmQiLAogICJsaW5lSm9pbiI6ICJyb3VuZCIsCiAgIm9wYWNpdHkiOiAxLjAsCiAgInJhZGl1cyI6IDE0MDI4LAogICJzdHJva2UiOiB0cnVlLAogICJ3ZWlnaHQiOiAzCn0KICAgICAgICAgICAgICAgICkKICAgICAgICAgICAgICAgIC5hZGRUbyhtYXBfZGRiMDMxNmNhZDczNGY3NmE1MjBlNzY3NjFjZDRkNzgpOwogICAgICAgICAgICAKICAgIAogICAgICAgIGNpcmNsZV8xYTFhNjdkMmMxMDY0MzA1YmE0Y2NhOTgzYTIyNDM4Zi5iaW5kVG9vbHRpcCgKICAgICAgICAgICAgYDxkaXY+YAogICAgICAgICAgICArIGA8bGk+PGJvbGQ+Q291bnRyeSA6IE5ldyBaZWFsYW5kPGxpPjxib2xkPkNvbmZpcm1lZCA6IDE0OTcuMDxsaT48Ym9sZD5EZWF0aF9yYXRlIDogMS40MDI4MDU2MTEyMjI0NDU8bGk+PGJvbGQ+RGVhdGhzIDogMjEuMDxsaT48Ym9sZD5sb2NrZG93biBkYXRlIDogMjAyMC0wMy0yNTxsaT48Ym9sZD5maXJzdCBjYXNlIGRhdGUgOiAyMDIwLTAyLTI5PGxpPjxib2xkPm1lYW4gYWdlIDogMzcuM2AgKyBgPC9kaXY+YCwKICAgICAgICAgICAgeyJzdGlja3kiOiB0cnVlfQogICAgICAgICk7CiAgICAgICAgCiAgICAKCiAgICAgICAgICAgIHZhciBjaXJjbGVfYjc2YjI5ZGU3YTc0NDMwZmE0ZTNmYjE0NTU5OGNiZDggPSBMLmNpcmNsZSgKICAgICAgICAgICAgICAgIFsxMi44NjU0MTYsIC04NS4yMDcyMjldLAogICAgICAgICAgICAgICAgewogICJidWJibGluZ01vdXNlRXZlbnRzIjogdHJ1ZSwKICAiY29sb3IiOiAiYmx1ZSIsCiAgImRhc2hBcnJheSI6IG51bGwsCiAgImRhc2hPZmZzZXQiOiBudWxsLAogICJmaWxsIjogImJsdWUiLAogICJmaWxsQ29sb3IiOiAiYmx1ZSIsCiAgImZpbGxPcGFjaXR5IjogMC4yLAogICJmaWxsUnVsZSI6ICJldmVub2RkIiwKICAibGluZUNhcCI6ICJyb3VuZCIsCiAgImxpbmVKb2luIjogInJvdW5kIiwKICAib3BhY2l0eSI6IDEuMCwKICAicmFkaXVzIjogMzEyNTAwLAogICJzdHJva2UiOiB0cnVlLAogICJ3ZWlnaHQiOiAzCn0KICAgICAgICAgICAgICAgICkKICAgICAgICAgICAgICAgIC5hZGRUbyhtYXBfZGRiMDMxNmNhZDczNGY3NmE1MjBlNzY3NjFjZDRkNzgpOwogICAgICAgICAgICAKICAgIAogICAgICAgIGNpcmNsZV9iNzZiMjlkZTdhNzQ0MzBmYTRlM2ZiMTQ1NTk4Y2JkOC5iaW5kVG9vbHRpcCgKICAgICAgICAgICAgYDxkaXY+YAogICAgICAgICAgICArIGA8bGk+PGJvbGQ+Q291bnRyeSA6IE5pY2FyYWd1YTxsaT48Ym9sZD5Db25maXJtZWQgOiAxNi4wPGxpPjxib2xkPkRlYXRoX3JhdGUgOiAzMS4yNTxsaT48Ym9sZD5EZWF0aHMgOiA1LjA8bGk+PGJvbGQ+bG9ja2Rvd24gZGF0ZSA6IG5hbjxsaT48Ym9sZD5maXJzdCBjYXNlIGRhdGUgOiAyMDIwLTAzLTIwPGxpPjxib2xkPm1lYW4gYWdlIDogMjUuMmAgKyBgPC9kaXY+YCwKICAgICAgICAgICAgeyJzdGlja3kiOiB0cnVlfQogICAgICAgICk7CiAgICAgICAgCiAgICAKCiAgICAgICAgICAgIHZhciBjaXJjbGVfODUwMDU3YTQ1MWM0NDg0MmJhOGE5MDE3N2M0MzQ4MGQgPSBMLmNpcmNsZSgKICAgICAgICAgICAgICAgIFsxNy42MDc3ODksIDguMDgxNjY2XSwKICAgICAgICAgICAgICAgIHsKICAiYnViYmxpbmdNb3VzZUV2ZW50cyI6IHRydWUsCiAgImNvbG9yIjogImJsdWUiLAogICJkYXNoQXJyYXkiOiBudWxsLAogICJkYXNoT2Zmc2V0IjogbnVsbCwKICAiZmlsbCI6ICJibHVlIiwKICAiZmlsbENvbG9yIjogImJsdWUiLAogICJmaWxsT3BhY2l0eSI6IDAuMiwKICAiZmlsbFJ1bGUiOiAiZXZlbm9kZCIsCiAgImxpbmVDYXAiOiAicm91bmQiLAogICJsaW5lSm9pbiI6ICJyb3VuZCIsCiAgIm9wYWNpdHkiOiAxLjAsCiAgInJhZGl1cyI6IDU2MDI5LAogICJzdHJva2UiOiB0cnVlLAogICJ3ZWlnaHQiOiAzCn0KICAgICAgICAgICAgICAgICkKICAgICAgICAgICAgICAgIC5hZGRUbyhtYXBfZGRiMDMxNmNhZDczNGY3NmE1MjBlNzY3NjFjZDRkNzgpOwogICAgICAgICAgICAKICAgIAogICAgICAgIGNpcmNsZV84NTAwNTdhNDUxYzQ0ODQyYmE4YTkwMTc3YzQzNDgwZC5iaW5kVG9vbHRpcCgKICAgICAgICAgICAgYDxkaXY+YAogICAgICAgICAgICArIGA8bGk+PGJvbGQ+Q291bnRyeSA6IE5pZ2VyPGxpPjxib2xkPkNvbmZpcm1lZCA6IDgyMS4wPGxpPjxib2xkPkRlYXRoX3JhdGUgOiA1LjYwMjkyMzI2NDMxMTgxNTxsaT48Ym9sZD5EZWF0aHMgOiA0Ni4wPGxpPjxib2xkPmxvY2tkb3duIGRhdGUgOiBuYW48bGk+PGJvbGQ+Zmlyc3QgY2FzZSBkYXRlIDogMjAyMC0wMy0yMTxsaT48Ym9sZD5tZWFuIGFnZSA6IDE0LjlgICsgYDwvZGl2PmAsCiAgICAgICAgICAgIHsic3RpY2t5IjogdHJ1ZX0KICAgICAgICApOwogICAgICAgIAogICAgCgogICAgICAgICAgICB2YXIgY2lyY2xlX2FlMjc5MGQ1MmVlZDQ5YmJiMzM4YTA5Yzg4MjgyNDRhID0gTC5jaXJjbGUoCiAgICAgICAgICAgICAgICBbOS4wODE5OTksIDguNjc1Mjc3MDAwMDAwMDAxXSwKICAgICAgICAgICAgICAgIHsKICAiYnViYmxpbmdNb3VzZUV2ZW50cyI6IHRydWUsCiAgImNvbG9yIjogImJsdWUiLAogICJkYXNoQXJyYXkiOiBudWxsLAogICJkYXNoT2Zmc2V0IjogbnVsbCwKICAiZmlsbCI6ICJibHVlIiwKICAiZmlsbENvbG9yIjogImJsdWUiLAogICJmaWxsT3BhY2l0eSI6IDAuMiwKICAiZmlsbFJ1bGUiOiAiZXZlbm9kZCIsCiAgImxpbmVDYXAiOiAicm91bmQiLAogICJsaW5lSm9pbiI6ICJyb3VuZCIsCiAgIm9wYWNpdHkiOiAxLjAsCiAgInJhZGl1cyI6IDMyNTA3LAogICJzdHJva2UiOiB0cnVlLAogICJ3ZWlnaHQiOiAzCn0KICAgICAgICAgICAgICAgICkKICAgICAgICAgICAgICAgIC5hZGRUbyhtYXBfZGRiMDMxNmNhZDczNGY3NmE1MjBlNzY3NjFjZDRkNzgpOwogICAgICAgICAgICAKICAgIAogICAgICAgIGNpcmNsZV9hZTI3OTBkNTJlZWQ0OWJiYjMzOGEwOWM4ODI4MjQ0YS5iaW5kVG9vbHRpcCgKICAgICAgICAgICAgYDxkaXY+YAogICAgICAgICAgICArIGA8bGk+PGJvbGQ+Q291bnRyeSA6IE5pZ2VyaWE8bGk+PGJvbGQ+Q29uZmlybWVkIDogNDM5OS4wPGxpPjxib2xkPkRlYXRoX3JhdGUgOiAzLjI1MDczODgwNDI3MzY5ODQ8bGk+PGJvbGQ+RGVhdGhzIDogMTQzLjA8bGk+PGJvbGQ+bG9ja2Rvd24gZGF0ZSA6IDIwMjAtMDMtMjU8bGk+PGJvbGQ+Zmlyc3QgY2FzZSBkYXRlIDogMjAyMC0wMi0yOTxsaT48Ym9sZD5tZWFuIGFnZSA6IDE3LjlgICsgYDwvZGl2PmAsCiAgICAgICAgICAgIHsic3RpY2t5IjogdHJ1ZX0KICAgICAgICApOwogICAgICAgIAogICAgCgogICAgICAgICAgICB2YXIgY2lyY2xlXzNjYWY1OTFhYWY5ODQxMjNhYTFiMzIxN2ZiODg1MmQ1ID0gTC5jaXJjbGUoCiAgICAgICAgICAgICAgICBbNDEuNjA4NiwgMjEuNzQ1M10sCiAgICAgICAgICAgICAgICB7CiAgImJ1YmJsaW5nTW91c2VFdmVudHMiOiB0cnVlLAogICJjb2xvciI6ICJibHVlIiwKICAiZGFzaEFycmF5IjogbnVsbCwKICAiZGFzaE9mZnNldCI6IG51bGwsCiAgImZpbGwiOiAiYmx1ZSIsCiAgImZpbGxDb2xvciI6ICJibHVlIiwKICAiZmlsbE9wYWNpdHkiOiAwLjIsCiAgImZpbGxSdWxlIjogImV2ZW5vZGQiLAogICJsaW5lQ2FwIjogInJvdW5kIiwKICAibGluZUpvaW4iOiAicm91bmQiLAogICJvcGFjaXR5IjogMS4wLAogICJyYWRpdXMiOiA1NTQyMCwKICAic3Ryb2tlIjogdHJ1ZSwKICAid2VpZ2h0IjogMwp9CiAgICAgICAgICAgICAgICApCiAgICAgICAgICAgICAgICAuYWRkVG8obWFwX2RkYjAzMTZjYWQ3MzRmNzZhNTIwZTc2NzYxY2Q0ZDc4KTsKICAgICAgICAgICAgCiAgICAKICAgICAgICBjaXJjbGVfM2NhZjU5MWFhZjk4NDEyM2FhMWIzMjE3ZmI4ODUyZDUuYmluZFRvb2x0aXAoCiAgICAgICAgICAgIGA8ZGl2PmAKICAgICAgICAgICAgKyBgPGxpPjxib2xkPkNvdW50cnkgOiBOb3J0aCBNYWNlZG9uaWE8bGk+PGJvbGQ+Q29uZmlybWVkIDogMTY0Mi4wPGxpPjxib2xkPkRlYXRoX3JhdGUgOiA1LjU0MjAyMTkyNDQ4MjMzOTxsaT48Ym9sZD5EZWF0aHMgOiA5MS4wPGxpPjxib2xkPmxvY2tkb3duIGRhdGUgOiAyMDIwLTAzLTE4PGxpPjxib2xkPmZpcnN0IGNhc2UgZGF0ZSA6IDIwMjAtMDItMjc8bGk+PGJvbGQ+bWVhbiBhZ2UgOiAzNy4wYCArIGA8L2Rpdj5gLAogICAgICAgICAgICB7InN0aWNreSI6IHRydWV9CiAgICAgICAgKTsKICAgICAgICAKICAgIAoKICAgICAgICAgICAgdmFyIGNpcmNsZV8zMjI1MGM1ZjAzMTE0Y2EwODRmYjViMTA1YTI3OWU2NCA9IEwuY2lyY2xlKAogICAgICAgICAgICAgICAgWzYwLjQ3MjAyNCwgOC40Njg5NDZdLAogICAgICAgICAgICAgICAgewogICJidWJibGluZ01vdXNlRXZlbnRzIjogdHJ1ZSwKICAiY29sb3IiOiAiYmx1ZSIsCiAgImRhc2hBcnJheSI6IG51bGwsCiAgImRhc2hPZmZzZXQiOiBudWxsLAogICJmaWxsIjogImJsdWUiLAogICJmaWxsQ29sb3IiOiAiYmx1ZSIsCiAgImZpbGxPcGFjaXR5IjogMC4yLAogICJmaWxsUnVsZSI6ICJldmVub2RkIiwKICAibGluZUNhcCI6ICJyb3VuZCIsCiAgImxpbmVKb2luIjogInJvdW5kIiwKICAib3BhY2l0eSI6IDEuMCwKICAicmFkaXVzIjogMjcwMjAsCiAgInN0cm9rZSI6IHRydWUsCiAgIndlaWdodCI6IDMKfQogICAgICAgICAgICAgICAgKQogICAgICAgICAgICAgICAgLmFkZFRvKG1hcF9kZGIwMzE2Y2FkNzM0Zjc2YTUyMGU3Njc2MWNkNGQ3OCk7CiAgICAgICAgICAgIAogICAgCiAgICAgICAgY2lyY2xlXzMyMjUwYzVmMDMxMTRjYTA4NGZiNWIxMDVhMjc5ZTY0LmJpbmRUb29sdGlwKAogICAgICAgICAgICBgPGRpdj5gCiAgICAgICAgICAgICsgYDxsaT48Ym9sZD5Db3VudHJ5IDogTm9yd2F5PGxpPjxib2xkPkNvbmZpcm1lZCA6IDgxMDUuMDxsaT48Ym9sZD5EZWF0aF9yYXRlIDogMi43MDIwMzU3ODAzODI0ODxsaT48Ym9sZD5EZWF0aHMgOiAyMTkuMDxsaT48Ym9sZD5sb2NrZG93biBkYXRlIDogMjAyMC0wMy0xMjxsaT48Ym9sZD5maXJzdCBjYXNlIGRhdGUgOiAyMDIwLTAyLTI3PGxpPjxib2xkPm1lYW4gYWdlIDogMzkuMmAgKyBgPC9kaXY+YCwKICAgICAgICAgICAgeyJzdGlja3kiOiB0cnVlfQogICAgICAgICk7CiAgICAgICAgCiAgICAKCiAgICAgICAgICAgIHZhciBjaXJjbGVfMzU5NGEwNmRjYTJjNDA1N2FlMjY4NTk1M2NmZmRlM2MgPSBMLmNpcmNsZSgKICAgICAgICAgICAgICAgIFsyMS41MTI1ODMsIDU1LjkyMzI1NTAwMDAwMDAxXSwKICAgICAgICAgICAgICAgIHsKICAiYnViYmxpbmdNb3VzZUV2ZW50cyI6IHRydWUsCiAgImNvbG9yIjogImJsdWUiLAogICJkYXNoQXJyYXkiOiBudWxsLAogICJkYXNoT2Zmc2V0IjogbnVsbCwKICAiZmlsbCI6ICJibHVlIiwKICAiZmlsbENvbG9yIjogImJsdWUiLAogICJmaWxsT3BhY2l0eSI6IDAuMiwKICAiZmlsbFJ1bGUiOiAiZXZlbm9kZCIsCiAgImxpbmVDYXAiOiAicm91bmQiLAogICJsaW5lSm9pbiI6ICJyb3VuZCIsCiAgIm9wYWNpdHkiOiAxLjAsCiAgInJhZGl1cyI6IDUwMDEsCiAgInN0cm9rZSI6IHRydWUsCiAgIndlaWdodCI6IDMKfQogICAgICAgICAgICAgICAgKQogICAgICAgICAgICAgICAgLmFkZFRvKG1hcF9kZGIwMzE2Y2FkNzM0Zjc2YTUyMGU3Njc2MWNkNGQ3OCk7CiAgICAgICAgICAgIAogICAgCiAgICAgICAgY2lyY2xlXzM1OTRhMDZkY2EyYzQwNTdhZTI2ODU5NTNjZmZkZTNjLmJpbmRUb29sdGlwKAogICAgICAgICAgICBgPGRpdj5gCiAgICAgICAgICAgICsgYDxsaT48Ym9sZD5Db3VudHJ5IDogT21hbjxsaT48Ym9sZD5Db25maXJtZWQgOiAzMzk5LjA8bGk+PGJvbGQ+RGVhdGhfcmF0ZSA6IDAuNTAwMTQ3MTAyMDg4ODQ5NzxsaT48Ym9sZD5EZWF0aHMgOiAxNy4wPGxpPjxib2xkPmxvY2tkb3duIGRhdGUgOiAyMDIwLTAzLTI5PGxpPjxib2xkPmZpcnN0IGNhc2UgZGF0ZSA6IDIwMjAtMDItMjU8bGk+PGJvbGQ+bWVhbiBhZ2UgOiAyOS4wYCArIGA8L2Rpdj5gLAogICAgICAgICAgICB7InN0aWNreSI6IHRydWV9CiAgICAgICAgKTsKICAgICAgICAKICAgIAoKICAgICAgICAgICAgdmFyIGNpcmNsZV8xYzJlOTdmYTYwOWU0NTQ1ODI4ZWE5ZTBjMzk4MjhlMiA9IEwuY2lyY2xlKAogICAgICAgICAgICAgICAgWzMwLjM3NTMyMTAwMDAwMDAwMywgNjkuMzQ1MTE2XSwKICAgICAgICAgICAgICAgIHsKICAiYnViYmxpbmdNb3VzZUV2ZW50cyI6IHRydWUsCiAgImNvbG9yIjogImJsdWUiLAogICJkYXNoQXJyYXkiOiBudWxsLAogICJkYXNoT2Zmc2V0IjogbnVsbCwKICAiZmlsbCI6ICJibHVlIiwKICAiZmlsbENvbG9yIjogImJsdWUiLAogICJmaWxsT3BhY2l0eSI6IDAuMiwKICAiZmlsbFJ1bGUiOiAiZXZlbm9kZCIsCiAgImxpbmVDYXAiOiAicm91bmQiLAogICJsaW5lSm9pbiI6ICJyb3VuZCIsCiAgIm9wYWNpdHkiOiAxLjAsCiAgInJhZGl1cyI6IDIxNzI0LAogICJzdHJva2UiOiB0cnVlLAogICJ3ZWlnaHQiOiAzCn0KICAgICAgICAgICAgICAgICkKICAgICAgICAgICAgICAgIC5hZGRUbyhtYXBfZGRiMDMxNmNhZDczNGY3NmE1MjBlNzY3NjFjZDRkNzgpOwogICAgICAgICAgICAKICAgIAogICAgICAgIGNpcmNsZV8xYzJlOTdmYTYwOWU0NTQ1ODI4ZWE5ZTBjMzk4MjhlMi5iaW5kVG9vbHRpcCgKICAgICAgICAgICAgYDxkaXY+YAogICAgICAgICAgICArIGA8bGk+PGJvbGQ+Q291bnRyeSA6IFBha2lzdGFuPGxpPjxib2xkPkNvbmZpcm1lZCA6IDMwMzM0LjA8bGk+PGJvbGQ+RGVhdGhfcmF0ZSA6IDIuMTcyNDc5NzI1NzIwMzEzNzxsaT48Ym9sZD5EZWF0aHMgOiA2NTkuMDxsaT48Ym9sZD5sb2NrZG93biBkYXRlIDogMjAyMC0wMy0yNjxsaT48Ym9sZD5maXJzdCBjYXNlIGRhdGUgOiAyMDIwLTAyLTI3PGxpPjxib2xkPm1lYW4gYWdlIDogMjIuNWAgKyBgPC9kaXY+YCwKICAgICAgICAgICAgeyJzdGlja3kiOiB0cnVlfQogICAgICAgICk7CiAgICAgICAgCiAgICAKCiAgICAgICAgICAgIHZhciBjaXJjbGVfYmM4MGFhNGM5MGJkNGI3OTg1M2IxM2E0OTZjMzdiOWQgPSBMLmNpcmNsZSgKICAgICAgICAgICAgICAgIFs4LjUzNzk4MSwgLTgwLjc4MjEyN10sCiAgICAgICAgICAgICAgICB7CiAgImJ1YmJsaW5nTW91c2VFdmVudHMiOiB0cnVlLAogICJjb2xvciI6ICJibHVlIiwKICAiZGFzaEFycmF5IjogbnVsbCwKICAiZGFzaE9mZnNldCI6IG51bGwsCiAgImZpbGwiOiAiYmx1ZSIsCiAgImZpbGxDb2xvciI6ICJibHVlIiwKICAiZmlsbE9wYWNpdHkiOiAwLjIsCiAgImZpbGxSdWxlIjogImV2ZW5vZGQiLAogICJsaW5lQ2FwIjogInJvdW5kIiwKICAibGluZUpvaW4iOiAicm91bmQiLAogICJvcGFjaXR5IjogMS4wLAogICJyYWRpdXMiOiAyODg4MiwKICAic3Ryb2tlIjogdHJ1ZSwKICAid2VpZ2h0IjogMwp9CiAgICAgICAgICAgICAgICApCiAgICAgICAgICAgICAgICAuYWRkVG8obWFwX2RkYjAzMTZjYWQ3MzRmNzZhNTIwZTc2NzYxY2Q0ZDc4KTsKICAgICAgICAgICAgCiAgICAKICAgICAgICBjaXJjbGVfYmM4MGFhNGM5MGJkNGI3OTg1M2IxM2E0OTZjMzdiOWQuYmluZFRvb2x0aXAoCiAgICAgICAgICAgIGA8ZGl2PmAKICAgICAgICAgICAgKyBgPGxpPjxib2xkPkNvdW50cnkgOiBQYW5hbWE8bGk+PGJvbGQ+Q29uZmlybWVkIDogODQ0OC4wPGxpPjxib2xkPkRlYXRoX3JhdGUgOiAyLjg4ODI1NzU3NTc1NzU3NTc8bGk+PGJvbGQ+RGVhdGhzIDogMjQ0LjA8bGk+PGJvbGQ+bG9ja2Rvd24gZGF0ZSA6IDIwMjAtMDMtMjU8bGk+PGJvbGQ+Zmlyc3QgY2FzZSBkYXRlIDogMjAyMC0wMy0xMTxsaT48Ym9sZD5tZWFuIGFnZSA6IDI4LjRgICsgYDwvZGl2PmAsCiAgICAgICAgICAgIHsic3RpY2t5IjogdHJ1ZX0KICAgICAgICApOwogICAgICAgIAogICAgCgogICAgICAgICAgICB2YXIgY2lyY2xlXzMxZmI5YTI2MTJkNTRlZTZhOTQxZDY1YjRkNWY0MTYzID0gTC5jaXJjbGUoCiAgICAgICAgICAgICAgICBbLTYuMzE0OTkzLCAxNDMuOTU1NTVdLAogICAgICAgICAgICAgICAgewogICJidWJibGluZ01vdXNlRXZlbnRzIjogdHJ1ZSwKICAiY29sb3IiOiAiYmx1ZSIsCiAgImRhc2hBcnJheSI6IG51bGwsCiAgImRhc2hPZmZzZXQiOiBudWxsLAogICJmaWxsIjogImJsdWUiLAogICJmaWxsQ29sb3IiOiAiYmx1ZSIsCiAgImZpbGxPcGFjaXR5IjogMC4yLAogICJmaWxsUnVsZSI6ICJldmVub2RkIiwKICAibGluZUNhcCI6ICJyb3VuZCIsCiAgImxpbmVKb2luIjogInJvdW5kIiwKICAib3BhY2l0eSI6IDEuMCwKICAic3Ryb2tlIjogdHJ1ZSwKICAid2VpZ2h0IjogMwp9CiAgICAgICAgICAgICAgICApCiAgICAgICAgICAgICAgICAuYWRkVG8obWFwX2RkYjAzMTZjYWQ3MzRmNzZhNTIwZTc2NzYxY2Q0ZDc4KTsKICAgICAgICAgICAgCiAgICAKICAgICAgICBjaXJjbGVfMzFmYjlhMjYxMmQ1NGVlNmE5NDFkNjViNGQ1ZjQxNjMuYmluZFRvb2x0aXAoCiAgICAgICAgICAgIGA8ZGl2PmAKICAgICAgICAgICAgKyBgPGxpPjxib2xkPkNvdW50cnkgOiBQYXB1YSBOZXcgR3VpbmVhPGxpPjxib2xkPkNvbmZpcm1lZCA6IDguMDxsaT48Ym9sZD5EZWF0aF9yYXRlIDogMC4wPGxpPjxib2xkPkRlYXRocyA6IDAuMDxsaT48Ym9sZD5sb2NrZG93biBkYXRlIDogMjAyMC0wMy0yNDxsaT48Ym9sZD5maXJzdCBjYXNlIGRhdGUgOiAyMDIwLTAzLTIxPGxpPjxib2xkPm1lYW4gYWdlIDogMjEuN2AgKyBgPC9kaXY+YCwKICAgICAgICAgICAgeyJzdGlja3kiOiB0cnVlfQogICAgICAgICk7CiAgICAgICAgCiAgICAKCiAgICAgICAgICAgIHZhciBjaXJjbGVfZTZlMTA5OTI5Mjg4NGU3YmI5YTVlZjcwZGRkZjlkZmEgPSBMLmNpcmNsZSgKICAgICAgICAgICAgICAgIFstMjMuNDQyNTAzLCAtNTguNDQzODMxOTk5OTk5OTldLAogICAgICAgICAgICAgICAgewogICJidWJibGluZ01vdXNlRXZlbnRzIjogdHJ1ZSwKICAiY29sb3IiOiAiYmx1ZSIsCiAgImRhc2hBcnJheSI6IG51bGwsCiAgImRhc2hPZmZzZXQiOiBudWxsLAogICJmaWxsIjogImJsdWUiLAogICJmaWxsQ29sb3IiOiAiYmx1ZSIsCiAgImZpbGxPcGFjaXR5IjogMC4yLAogICJmaWxsUnVsZSI6ICJldmVub2RkIiwKICAibGluZUNhcCI6ICJyb3VuZCIsCiAgImxpbmVKb2luIjogInJvdW5kIiwKICAib3BhY2l0eSI6IDEuMCwKICAicmFkaXVzIjogMTQwMjUsCiAgInN0cm9rZSI6IHRydWUsCiAgIndlaWdodCI6IDMKfQogICAgICAgICAgICAgICAgKQogICAgICAgICAgICAgICAgLmFkZFRvKG1hcF9kZGIwMzE2Y2FkNzM0Zjc2YTUyMGU3Njc2MWNkNGQ3OCk7CiAgICAgICAgICAgIAogICAgCiAgICAgICAgY2lyY2xlX2U2ZTEwOTkyOTI4ODRlN2JiOWE1ZWY3MGRkZGY5ZGZhLmJpbmRUb29sdGlwKAogICAgICAgICAgICBgPGRpdj5gCiAgICAgICAgICAgICsgYDxsaT48Ym9sZD5Db3VudHJ5IDogUGFyYWd1YXk8bGk+PGJvbGQ+Q29uZmlybWVkIDogNzEzLjA8bGk+PGJvbGQ+RGVhdGhfcmF0ZSA6IDEuNDAyNTI0NTQ0MTc5NTIzPGxpPjxib2xkPkRlYXRocyA6IDEwLjA8bGk+PGJvbGQ+bG9ja2Rvd24gZGF0ZSA6IDIwMjAtMDMtMTU8bGk+PGJvbGQ+Zmlyc3QgY2FzZSBkYXRlIDogMjAyMC0wMy0wOTxsaT48Ym9sZD5tZWFuIGFnZSA6IDI0LjlgICsgYDwvZGl2PmAsCiAgICAgICAgICAgIHsic3RpY2t5IjogdHJ1ZX0KICAgICAgICApOwogICAgICAgIAogICAgCgogICAgICAgICAgICB2YXIgY2lyY2xlXzlkYTlkOWRjYjViMjRkYTQ4YzhhMTViY2RjYTg1YTBlID0gTC5jaXJjbGUoCiAgICAgICAgICAgICAgICBbLTkuMTg5OTY3LCAtNzUuMDE1MTUyXSwKICAgICAgICAgICAgICAgIHsKICAiYnViYmxpbmdNb3VzZUV2ZW50cyI6IHRydWUsCiAgImNvbG9yIjogImJsdWUiLAogICJkYXNoQXJyYXkiOiBudWxsLAogICJkYXNoT2Zmc2V0IjogbnVsbCwKICAiZmlsbCI6ICJibHVlIiwKICAiZmlsbENvbG9yIjogImJsdWUiLAogICJmaWxsT3BhY2l0eSI6IDAuMiwKICAiZmlsbFJ1bGUiOiAiZXZlbm9kZCIsCiAgImxpbmVDYXAiOiAicm91bmQiLAogICJsaW5lSm9pbiI6ICJyb3VuZCIsCiAgIm9wYWNpdHkiOiAxLjAsCiAgInJhZGl1cyI6IDI4MDY1LAogICJzdHJva2UiOiB0cnVlLAogICJ3ZWlnaHQiOiAzCn0KICAgICAgICAgICAgICAgICkKICAgICAgICAgICAgICAgIC5hZGRUbyhtYXBfZGRiMDMxNmNhZDczNGY3NmE1MjBlNzY3NjFjZDRkNzgpOwogICAgICAgICAgICAKICAgIAogICAgICAgIGNpcmNsZV85ZGE5ZDlkY2I1YjI0ZGE0OGM4YTE1YmNkY2E4NWEwZS5iaW5kVG9vbHRpcCgKICAgICAgICAgICAgYDxkaXY+YAogICAgICAgICAgICArIGA8bGk+PGJvbGQ+Q291bnRyeSA6IFBlcnU8bGk+PGJvbGQ+Q29uZmlybWVkIDogNjczMDcuMDxsaT48Ym9sZD5EZWF0aF9yYXRlIDogMi44MDY1NDMxNTMwMTUyODg8bGk+PGJvbGQ+RGVhdGhzIDogMTg4OS4wPGxpPjxib2xkPmxvY2tkb3duIGRhdGUgOiAyMDIwLTAzLTEwPGxpPjxib2xkPmZpcnN0IGNhc2UgZGF0ZSA6IDIwMjAtMDMtMDc8bGk+PGJvbGQ+bWVhbiBhZ2UgOiAyNy41YCArIGA8L2Rpdj5gLAogICAgICAgICAgICB7InN0aWNreSI6IHRydWV9CiAgICAgICAgKTsKICAgICAgICAKICAgIAoKICAgICAgICAgICAgdmFyIGNpcmNsZV9kMTFjNWJjYTYwMzI0ZjQxYjI0ZjQ2YzAzMWIxZmE5YSA9IEwuY2lyY2xlKAogICAgICAgICAgICAgICAgWzEyLjg3OTcyMSwgMTIxLjc3NDAxNjk5OTk5OTk5XSwKICAgICAgICAgICAgICAgIHsKICAiYnViYmxpbmdNb3VzZUV2ZW50cyI6IHRydWUsCiAgImNvbG9yIjogImJsdWUiLAogICJkYXNoQXJyYXkiOiBudWxsLAogICJkYXNoT2Zmc2V0IjogbnVsbCwKICAiZmlsbCI6ICJibHVlIiwKICAiZmlsbENvbG9yIjogImJsdWUiLAogICJmaWxsT3BhY2l0eSI6IDAuMiwKICAiZmlsbFJ1bGUiOiAiZXZlbm9kZCIsCiAgImxpbmVDYXAiOiAicm91bmQiLAogICJsaW5lSm9pbiI6ICJyb3VuZCIsCiAgIm9wYWNpdHkiOiAxLjAsCiAgInJhZGl1cyI6IDY2NjExLAogICJzdHJva2UiOiB0cnVlLAogICJ3ZWlnaHQiOiAzCn0KICAgICAgICAgICAgICAgICkKICAgICAgICAgICAgICAgIC5hZGRUbyhtYXBfZGRiMDMxNmNhZDczNGY3NmE1MjBlNzY3NjFjZDRkNzgpOwogICAgICAgICAgICAKICAgIAogICAgICAgIGNpcmNsZV9kMTFjNWJjYTYwMzI0ZjQxYjI0ZjQ2YzAzMWIxZmE5YS5iaW5kVG9vbHRpcCgKICAgICAgICAgICAgYDxkaXY+YAogICAgICAgICAgICArIGA8bGk+PGJvbGQ+Q291bnRyeSA6IFBoaWxpcHBpbmVzPGxpPjxib2xkPkNvbmZpcm1lZCA6IDEwNzk0LjA8bGk+PGJvbGQ+RGVhdGhfcmF0ZSA6IDYuNjYxMTA4MDIyOTc1NzI4PGxpPjxib2xkPkRlYXRocyA6IDcxOS4wPGxpPjxib2xkPmxvY2tkb3duIGRhdGUgOiAyMDIwLTAzLTE2PGxpPjxib2xkPmZpcnN0IGNhc2UgZGF0ZSA6IDIwMjAtMDEtMzE8bGk+PGJvbGQ+bWVhbiBhZ2UgOiAyNC4xYCArIGA8L2Rpdj5gLAogICAgICAgICAgICB7InN0aWNreSI6IHRydWV9CiAgICAgICAgKTsKICAgICAgICAKICAgIAoKICAgICAgICAgICAgdmFyIGNpcmNsZV9mNWIzYzZiMzBmODY0MjliOWIzOTYxNDIyNTU1ODliYiA9IEwuY2lyY2xlKAogICAgICAgICAgICAgICAgWzUxLjkxOTQzOCwgMTkuMTQ1MTM1OTk5OTk5OTk3XSwKICAgICAgICAgICAgICAgIHsKICAiYnViYmxpbmdNb3VzZUV2ZW50cyI6IHRydWUsCiAgImNvbG9yIjogImJsdWUiLAogICJkYXNoQXJyYXkiOiBudWxsLAogICJkYXNoT2Zmc2V0IjogbnVsbCwKICAiZmlsbCI6ICJibHVlIiwKICAiZmlsbENvbG9yIjogImJsdWUiLAogICJmaWxsT3BhY2l0eSI6IDAuMiwKICAiZmlsbFJ1bGUiOiAiZXZlbm9kZCIsCiAgImxpbmVDYXAiOiAicm91bmQiLAogICJsaW5lSm9pbiI6ICJyb3VuZCIsCiAgIm9wYWNpdHkiOiAxLjAsCiAgInJhZGl1cyI6IDUwMDEyLAogICJzdHJva2UiOiB0cnVlLAogICJ3ZWlnaHQiOiAzCn0KICAgICAgICAgICAgICAgICkKICAgICAgICAgICAgICAgIC5hZGRUbyhtYXBfZGRiMDMxNmNhZDczNGY3NmE1MjBlNzY3NjFjZDRkNzgpOwogICAgICAgICAgICAKICAgIAogICAgICAgIGNpcmNsZV9mNWIzYzZiMzBmODY0MjliOWIzOTYxNDIyNTU1ODliYi5iaW5kVG9vbHRpcCgKICAgICAgICAgICAgYDxkaXY+YAogICAgICAgICAgICArIGA8bGk+PGJvbGQ+Q291bnRyeSA6IFBvbGFuZDxsaT48Ym9sZD5Db25maXJtZWQgOiAxNTk5Ni4wPGxpPjxib2xkPkRlYXRoX3JhdGUgOiA1LjAwMTI1MDMxMjU3ODE0NDU8bGk+PGJvbGQ+RGVhdGhzIDogODAwLjA8bGk+PGJvbGQ+bG9ja2Rvd24gZGF0ZSA6IDIwMjAtMDMtMTI8bGk+PGJvbGQ+Zmlyc3QgY2FzZSBkYXRlIDogMjAyMC0wMy0wNTxsaT48Ym9sZD5tZWFuIGFnZSA6IDM5LjdgICsgYDwvZGl2PmAsCiAgICAgICAgICAgIHsic3RpY2t5IjogdHJ1ZX0KICAgICAgICApOwogICAgICAgIAogICAgCgogICAgICAgICAgICB2YXIgY2lyY2xlX2EzN2U3OWM5ODY3NTQxYTRiNjkzMDQwNzVjYmJhMjVlID0gTC5jaXJjbGUoCiAgICAgICAgICAgICAgICBbMzkuMzk5ODcxOTk5OTk5OTk1LCAtOC4yMjQ0NTRdLAogICAgICAgICAgICAgICAgewogICJidWJibGluZ01vdXNlRXZlbnRzIjogdHJ1ZSwKICAiY29sb3IiOiAiYmx1ZSIsCiAgImRhc2hBcnJheSI6IG51bGwsCiAgImRhc2hPZmZzZXQiOiBudWxsLAogICJmaWxsIjogImJsdWUiLAogICJmaWxsQ29sb3IiOiAiYmx1ZSIsCiAgImZpbGxPcGFjaXR5IjogMC4yLAogICJmaWxsUnVsZSI6ICJldmVub2RkIiwKICAibGluZUNhcCI6ICJyb3VuZCIsCiAgImxpbmVKb2luIjogInJvdW5kIiwKICAib3BhY2l0eSI6IDEuMCwKICAicmFkaXVzIjogNDExNTEsCiAgInN0cm9rZSI6IHRydWUsCiAgIndlaWdodCI6IDMKfQogICAgICAgICAgICAgICAgKQogICAgICAgICAgICAgICAgLmFkZFRvKG1hcF9kZGIwMzE2Y2FkNzM0Zjc2YTUyMGU3Njc2MWNkNGQ3OCk7CiAgICAgICAgICAgIAogICAgCiAgICAgICAgY2lyY2xlX2EzN2U3OWM5ODY3NTQxYTRiNjkzMDQwNzVjYmJhMjVlLmJpbmRUb29sdGlwKAogICAgICAgICAgICBgPGRpdj5gCiAgICAgICAgICAgICsgYDxsaT48Ym9sZD5Db3VudHJ5IDogUG9ydHVnYWw8bGk+PGJvbGQ+Q29uZmlybWVkIDogMjc1ODEuMDxsaT48Ym9sZD5EZWF0aF9yYXRlIDogNC4xMTUxNTE3MzQ4ODk5NjA0PGxpPjxib2xkPkRlYXRocyA6IDExMzUuMDxsaT48Ym9sZD5sb2NrZG93biBkYXRlIDogMjAyMC0wMy0xODxsaT48Ym9sZD5maXJzdCBjYXNlIGRhdGUgOiAyMDIwLTAzLTAzPGxpPjxib2xkPm1lYW4gYWdlIDogNDMuOWAgKyBgPC9kaXY+YCwKICAgICAgICAgICAgeyJzdGlja3kiOiB0cnVlfQogICAgICAgICk7CiAgICAgICAgCiAgICAKCiAgICAgICAgICAgIHZhciBjaXJjbGVfMTFiYTM5YWRkOGUyNGNjZmEzMjEyZjM5ZTY5YTMyN2UgPSBMLmNpcmNsZSgKICAgICAgICAgICAgICAgIFsyNS4zNTQ4MjYsIDUxLjE4Mzg4NF0sCiAgICAgICAgICAgICAgICB7CiAgImJ1YmJsaW5nTW91c2VFdmVudHMiOiB0cnVlLAogICJjb2xvciI6ICJibHVlIiwKICAiZGFzaEFycmF5IjogbnVsbCwKICAiZGFzaE9mZnNldCI6IG51bGwsCiAgImZpbGwiOiAiYmx1ZSIsCiAgImZpbGxDb2xvciI6ICJibHVlIiwKICAiZmlsbE9wYWNpdHkiOiAwLjIsCiAgImZpbGxSdWxlIjogImV2ZW5vZGQiLAogICJsaW5lQ2FwIjogInJvdW5kIiwKICAibGluZUpvaW4iOiAicm91bmQiLAogICJvcGFjaXR5IjogMS4wLAogICJyYWRpdXMiOiA2MjEsCiAgInN0cm9rZSI6IHRydWUsCiAgIndlaWdodCI6IDMKfQogICAgICAgICAgICAgICAgKQogICAgICAgICAgICAgICAgLmFkZFRvKG1hcF9kZGIwMzE2Y2FkNzM0Zjc2YTUyMGU3Njc2MWNkNGQ3OCk7CiAgICAgICAgICAgIAogICAgCiAgICAgICAgY2lyY2xlXzExYmEzOWFkZDhlMjRjY2ZhMzIxMmYzOWU2OWEzMjdlLmJpbmRUb29sdGlwKAogICAgICAgICAgICBgPGRpdj5gCiAgICAgICAgICAgICsgYDxsaT48Ym9sZD5Db3VudHJ5IDogUWF0YXI8bGk+PGJvbGQ+Q29uZmlybWVkIDogMjI1MjAuMDxsaT48Ym9sZD5EZWF0aF9yYXRlIDogMC4wNjIxNjY5NjI2OTk4MjIzODxsaT48Ym9sZD5EZWF0aHMgOiAxNC4wPGxpPjxib2xkPmxvY2tkb3duIGRhdGUgOiAyMDIwLTAzLTExPGxpPjxib2xkPmZpcnN0IGNhc2UgZGF0ZSA6IDIwMjAtMDMtMDE8bGk+PGJvbGQ+bWVhbiBhZ2UgOiAzMS4zYCArIGA8L2Rpdj5gLAogICAgICAgICAgICB7InN0aWNreSI6IHRydWV9CiAgICAgICAgKTsKICAgICAgICAKICAgIAoKICAgICAgICAgICAgdmFyIGNpcmNsZV9lYzU0M2ZjYzEzOTg0MWI0YmU1MjRkNWFjZDU5NzAxZiA9IEwuY2lyY2xlKAogICAgICAgICAgICAgICAgWzQ1Ljk0MzE2MDk5OTk5OTk5NiwgMjQuOTY2NzZdLAogICAgICAgICAgICAgICAgewogICJidWJibGluZ01vdXNlRXZlbnRzIjogdHJ1ZSwKICAiY29sb3IiOiAiYmx1ZSIsCiAgImRhc2hBcnJheSI6IG51bGwsCiAgImRhc2hPZmZzZXQiOiBudWxsLAogICJmaWxsIjogImJsdWUiLAogICJmaWxsQ29sb3IiOiAiYmx1ZSIsCiAgImZpbGxPcGFjaXR5IjogMC4yLAogICJmaWxsUnVsZSI6ICJldmVub2RkIiwKICAibGluZUNhcCI6ICJyb3VuZCIsCiAgImxpbmVKb2luIjogInJvdW5kIiwKICAib3BhY2l0eSI6IDEuMCwKICAicmFkaXVzIjogNjI1NTYsCiAgInN0cm9rZSI6IHRydWUsCiAgIndlaWdodCI6IDMKfQogICAgICAgICAgICAgICAgKQogICAgICAgICAgICAgICAgLmFkZFRvKG1hcF9kZGIwMzE2Y2FkNzM0Zjc2YTUyMGU3Njc2MWNkNGQ3OCk7CiAgICAgICAgICAgIAogICAgCiAgICAgICAgY2lyY2xlX2VjNTQzZmNjMTM5ODQxYjRiZTUyNGQ1YWNkNTk3MDFmLmJpbmRUb29sdGlwKAogICAgICAgICAgICBgPGRpdj5gCiAgICAgICAgICAgICsgYDxsaT48Ym9sZD5Db3VudHJ5IDogUm9tYW5pYTxsaT48Ym9sZD5Db25maXJtZWQgOiAxNTM2Mi4wPGxpPjxib2xkPkRlYXRoX3JhdGUgOiA2LjI1NTY5NTg3MjkzMzIxMjxsaT48Ym9sZD5EZWF0aHMgOiA5NjEuMDxsaT48Ym9sZD5sb2NrZG93biBkYXRlIDogMjAyMC0wMy0yNTxsaT48Ym9sZD5maXJzdCBjYXNlIGRhdGUgOiAyMDIwLTAyLTI3PGxpPjxib2xkPm1lYW4gYWdlIDogNDEuM2AgKyBgPC9kaXY+YCwKICAgICAgICAgICAgeyJzdGlja3kiOiB0cnVlfQogICAgICAgICk7CiAgICAgICAgCiAgICAKCiAgICAgICAgICAgIHZhciBjaXJjbGVfNTZhYTY3YTg2MjAwNDUxY2I1YzY4MTgzMWFmMjkwZWYgPSBMLmNpcmNsZSgKICAgICAgICAgICAgICAgIFs2MS41MjQwMSwgMTA1LjMxODc1NjAwMDAwMDAxXSwKICAgICAgICAgICAgICAgIHsKICAiYnViYmxpbmdNb3VzZUV2ZW50cyI6IHRydWUsCiAgImNvbG9yIjogImJsdWUiLAogICJkYXNoQXJyYXkiOiBudWxsLAogICJkYXNoT2Zmc2V0IjogbnVsbCwKICAiZmlsbCI6ICJibHVlIiwKICAiZmlsbENvbG9yIjogImJsdWUiLAogICJmaWxsT3BhY2l0eSI6IDAuMiwKICAiZmlsbFJ1bGUiOiAiZXZlbm9kZCIsCiAgImxpbmVDYXAiOiAicm91bmQiLAogICJsaW5lSm9pbiI6ICJyb3VuZCIsCiAgIm9wYWNpdHkiOiAxLjAsCiAgInJhZGl1cyI6IDkxMzIsCiAgInN0cm9rZSI6IHRydWUsCiAgIndlaWdodCI6IDMKfQogICAgICAgICAgICAgICAgKQogICAgICAgICAgICAgICAgLmFkZFRvKG1hcF9kZGIwMzE2Y2FkNzM0Zjc2YTUyMGU3Njc2MWNkNGQ3OCk7CiAgICAgICAgICAgIAogICAgCiAgICAgICAgY2lyY2xlXzU2YWE2N2E4NjIwMDQ1MWNiNWM2ODE4MzFhZjI5MGVmLmJpbmRUb29sdGlwKAogICAgICAgICAgICBgPGRpdj5gCiAgICAgICAgICAgICsgYDxsaT48Ym9sZD5Db3VudHJ5IDogUnVzc2lhPGxpPjxib2xkPkNvbmZpcm1lZCA6IDIwOTY4OC4wPGxpPjxib2xkPkRlYXRoX3JhdGUgOiAwLjkxMzI2MTYwNzcyMTk0ODg8bGk+PGJvbGQ+RGVhdGhzIDogMTkxNS4wPGxpPjxib2xkPmxvY2tkb3duIGRhdGUgOiAyMDIwLTAzLTI3PGxpPjxib2xkPmZpcnN0IGNhc2UgZGF0ZSA6IDIwMjAtMDItMDE8bGk+PGJvbGQ+bWVhbiBhZ2UgOiAzOC43YCArIGA8L2Rpdj5gLAogICAgICAgICAgICB7InN0aWNreSI6IHRydWV9CiAgICAgICAgKTsKICAgICAgICAKICAgIAoKICAgICAgICAgICAgdmFyIGNpcmNsZV84NTRhZmZjNzVhMDA0OGY0OTk0NTg4OWIyODhlNzk3MSA9IEwuY2lyY2xlKAogICAgICAgICAgICAgICAgWy0xLjk0MDI3OCwgMjkuODczODg4XSwKICAgICAgICAgICAgICAgIHsKICAiYnViYmxpbmdNb3VzZUV2ZW50cyI6IHRydWUsCiAgImNvbG9yIjogImJsdWUiLAogICJkYXNoQXJyYXkiOiBudWxsLAogICJkYXNoT2Zmc2V0IjogbnVsbCwKICAiZmlsbCI6ICJibHVlIiwKICAiZmlsbENvbG9yIjogImJsdWUiLAogICJmaWxsT3BhY2l0eSI6IDAuMiwKICAiZmlsbFJ1bGUiOiAiZXZlbm9kZCIsCiAgImxpbmVDYXAiOiAicm91bmQiLAogICJsaW5lSm9pbiI6ICJyb3VuZCIsCiAgIm9wYWNpdHkiOiAxLjAsCiAgInN0cm9rZSI6IHRydWUsCiAgIndlaWdodCI6IDMKfQogICAgICAgICAgICAgICAgKQogICAgICAgICAgICAgICAgLmFkZFRvKG1hcF9kZGIwMzE2Y2FkNzM0Zjc2YTUyMGU3Njc2MWNkNGQ3OCk7CiAgICAgICAgICAgIAogICAgCiAgICAgICAgY2lyY2xlXzg1NGFmZmM3NWEwMDQ4ZjQ5OTQ1ODg5YjI4OGU3OTcxLmJpbmRUb29sdGlwKAogICAgICAgICAgICBgPGRpdj5gCiAgICAgICAgICAgICsgYDxsaT48Ym9sZD5Db3VudHJ5IDogUndhbmRhPGxpPjxib2xkPkNvbmZpcm1lZCA6IDI4NC4wPGxpPjxib2xkPkRlYXRoX3JhdGUgOiAwLjA8bGk+PGJvbGQ+RGVhdGhzIDogMC4wPGxpPjxib2xkPmxvY2tkb3duIGRhdGUgOiAyMDIwLTAzLTE2PGxpPjxib2xkPmZpcnN0IGNhc2UgZGF0ZSA6IDIwMjAtMDMtMTU8bGk+PGJvbGQ+bWVhbiBhZ2UgOiAxOS40YCArIGA8L2Rpdj5gLAogICAgICAgICAgICB7InN0aWNreSI6IHRydWV9CiAgICAgICAgKTsKICAgICAgICAKICAgIAoKICAgICAgICAgICAgdmFyIGNpcmNsZV80ZDIxNDBkYThlOTg0Y2I3ODgwNjk5MmQwMjRhNGQ1ZSA9IEwuY2lyY2xlKAogICAgICAgICAgICAgICAgWzE3LjM1NzgyMiwgLTYyLjc4Mjk5OF0sCiAgICAgICAgICAgICAgICB7CiAgImJ1YmJsaW5nTW91c2VFdmVudHMiOiB0cnVlLAogICJjb2xvciI6ICJibHVlIiwKICAiZGFzaEFycmF5IjogbnVsbCwKICAiZGFzaE9mZnNldCI6IG51bGwsCiAgImZpbGwiOiAiYmx1ZSIsCiAgImZpbGxDb2xvciI6ICJibHVlIiwKICAiZmlsbE9wYWNpdHkiOiAwLjIsCiAgImZpbGxSdWxlIjogImV2ZW5vZGQiLAogICJsaW5lQ2FwIjogInJvdW5kIiwKICAibGluZUpvaW4iOiAicm91bmQiLAogICJvcGFjaXR5IjogMS4wLAogICJzdHJva2UiOiB0cnVlLAogICJ3ZWlnaHQiOiAzCn0KICAgICAgICAgICAgICAgICkKICAgICAgICAgICAgICAgIC5hZGRUbyhtYXBfZGRiMDMxNmNhZDczNGY3NmE1MjBlNzY3NjFjZDRkNzgpOwogICAgICAgICAgICAKICAgIAogICAgICAgIGNpcmNsZV80ZDIxNDBkYThlOTg0Y2I3ODgwNjk5MmQwMjRhNGQ1ZS5iaW5kVG9vbHRpcCgKICAgICAgICAgICAgYDxkaXY+YAogICAgICAgICAgICArIGA8bGk+PGJvbGQ+Q291bnRyeSA6IFNhaW50IEtpdHRzIGFuZCBOZXZpczxsaT48Ym9sZD5Db25maXJtZWQgOiAxNS4wPGxpPjxib2xkPkRlYXRoX3JhdGUgOiAwLjA8bGk+PGJvbGQ+RGVhdGhzIDogMC4wPGxpPjxib2xkPmxvY2tkb3duIGRhdGUgOiAyMDIwLTAzLTMxPGxpPjxib2xkPmZpcnN0IGNhc2UgZGF0ZSA6IDIwMjAtMDMtMjY8bGk+PGJvbGQ+bWVhbiBhZ2UgOiAzNy4wYCArIGA8L2Rpdj5gLAogICAgICAgICAgICB7InN0aWNreSI6IHRydWV9CiAgICAgICAgKTsKICAgICAgICAKICAgIAoKICAgICAgICAgICAgdmFyIGNpcmNsZV82MDM3NTViMTcwMGQ0NTQzODdiZTljYTYxY2Q5YjBiZCA9IEwuY2lyY2xlKAogICAgICAgICAgICAgICAgWzEzLjkwOTQ0NCwgLTYwLjk3ODg5MzAwMDAwMDAxXSwKICAgICAgICAgICAgICAgIHsKICAiYnViYmxpbmdNb3VzZUV2ZW50cyI6IHRydWUsCiAgImNvbG9yIjogImJsdWUiLAogICJkYXNoQXJyYXkiOiBudWxsLAogICJkYXNoT2Zmc2V0IjogbnVsbCwKICAiZmlsbCI6ICJibHVlIiwKICAiZmlsbENvbG9yIjogImJsdWUiLAogICJmaWxsT3BhY2l0eSI6IDAuMiwKICAiZmlsbFJ1bGUiOiAiZXZlbm9kZCIsCiAgImxpbmVDYXAiOiAicm91bmQiLAogICJsaW5lSm9pbiI6ICJyb3VuZCIsCiAgIm9wYWNpdHkiOiAxLjAsCiAgInN0cm9rZSI6IHRydWUsCiAgIndlaWdodCI6IDMKfQogICAgICAgICAgICAgICAgKQogICAgICAgICAgICAgICAgLmFkZFRvKG1hcF9kZGIwMzE2Y2FkNzM0Zjc2YTUyMGU3Njc2MWNkNGQ3OCk7CiAgICAgICAgICAgIAogICAgCiAgICAgICAgY2lyY2xlXzYwMzc1NWIxNzAwZDQ1NDM4N2JlOWNhNjFjZDliMGJkLmJpbmRUb29sdGlwKAogICAgICAgICAgICBgPGRpdj5gCiAgICAgICAgICAgICsgYDxsaT48Ym9sZD5Db3VudHJ5IDogU2FpbnQgTHVjaWE8bGk+PGJvbGQ+Q29uZmlybWVkIDogMTguMDxsaT48Ym9sZD5EZWF0aF9yYXRlIDogMC4wPGxpPjxib2xkPkRlYXRocyA6IDAuMDxsaT48Ym9sZD5sb2NrZG93biBkYXRlIDogMjAyMC0wMy0yMDxsaT48Ym9sZD5maXJzdCBjYXNlIGRhdGUgOiAyMDIwLTAzLTE1PGxpPjxib2xkPm1lYW4gYWdlIDogMzIuNmAgKyBgPC9kaXY+YCwKICAgICAgICAgICAgeyJzdGlja3kiOiB0cnVlfQogICAgICAgICk7CiAgICAgICAgCiAgICAKCiAgICAgICAgICAgIHZhciBjaXJjbGVfNDE0NmY4Y2ZhYTc0NDZhZDlhYzc2ODViNTEwYjlkYzggPSBMLmNpcmNsZSgKICAgICAgICAgICAgICAgIFsxMi45ODQzMDUsIC02MS4yODcyMjgwMDAwMDAwMDZdLAogICAgICAgICAgICAgICAgewogICJidWJibGluZ01vdXNlRXZlbnRzIjogdHJ1ZSwKICAiY29sb3IiOiAiYmx1ZSIsCiAgImRhc2hBcnJheSI6IG51bGwsCiAgImRhc2hPZmZzZXQiOiBudWxsLAogICJmaWxsIjogImJsdWUiLAogICJmaWxsQ29sb3IiOiAiYmx1ZSIsCiAgImZpbGxPcGFjaXR5IjogMC4yLAogICJmaWxsUnVsZSI6ICJldmVub2RkIiwKICAibGluZUNhcCI6ICJyb3VuZCIsCiAgImxpbmVKb2luIjogInJvdW5kIiwKICAib3BhY2l0eSI6IDEuMCwKICAic3Ryb2tlIjogdHJ1ZSwKICAid2VpZ2h0IjogMwp9CiAgICAgICAgICAgICAgICApCiAgICAgICAgICAgICAgICAuYWRkVG8obWFwX2RkYjAzMTZjYWQ3MzRmNzZhNTIwZTc2NzYxY2Q0ZDc4KTsKICAgICAgICAgICAgCiAgICAKICAgICAgICBjaXJjbGVfNDE0NmY4Y2ZhYTc0NDZhZDlhYzc2ODViNTEwYjlkYzguYmluZFRvb2x0aXAoCiAgICAgICAgICAgIGA8ZGl2PmAKICAgICAgICAgICAgKyBgPGxpPjxib2xkPkNvdW50cnkgOiBTYWludCBWaW5jZW50IGFuZCB0aGUgR3JlbmFkaW5lczxsaT48Ym9sZD5Db25maXJtZWQgOiAxNy4wPGxpPjxib2xkPkRlYXRoX3JhdGUgOiAwLjA8bGk+PGJvbGQ+RGVhdGhzIDogMC4wPGxpPjxib2xkPmxvY2tkb3duIGRhdGUgOiBuYW48bGk+PGJvbGQ+Zmlyc3QgY2FzZSBkYXRlIDogMjAyMC0wMy0xNTxsaT48Ym9sZD5tZWFuIGFnZSA6IDI5LjhgICsgYDwvZGl2PmAsCiAgICAgICAgICAgIHsic3RpY2t5IjogdHJ1ZX0KICAgICAgICApOwogICAgICAgIAogICAgCgogICAgICAgICAgICB2YXIgY2lyY2xlXzUyODQxYjc4YmRmNjQ3M2FiYWUzZjgxZjRlNmJiOTJhID0gTC5jaXJjbGUoCiAgICAgICAgICAgICAgICBbNDMuOTQyMzYsIDEyLjQ1Nzc3N10sCiAgICAgICAgICAgICAgICB7CiAgImJ1YmJsaW5nTW91c2VFdmVudHMiOiB0cnVlLAogICJjb2xvciI6ICJibHVlIiwKICAiZGFzaEFycmF5IjogbnVsbCwKICAiZGFzaE9mZnNldCI6IG51bGwsCiAgImZpbGwiOiAiYmx1ZSIsCiAgImZpbGxDb2xvciI6ICJibHVlIiwKICAiZmlsbE9wYWNpdHkiOiAwLjIsCiAgImZpbGxSdWxlIjogImV2ZW5vZGQiLAogICJsaW5lQ2FwIjogInJvdW5kIiwKICAibGluZUpvaW4iOiAicm91bmQiLAogICJvcGFjaXR5IjogMS4wLAogICJyYWRpdXMiOiA2NTI4NiwKICAic3Ryb2tlIjogdHJ1ZSwKICAid2VpZ2h0IjogMwp9CiAgICAgICAgICAgICAgICApCiAgICAgICAgICAgICAgICAuYWRkVG8obWFwX2RkYjAzMTZjYWQ3MzRmNzZhNTIwZTc2NzYxY2Q0ZDc4KTsKICAgICAgICAgICAgCiAgICAKICAgICAgICBjaXJjbGVfNTI4NDFiNzhiZGY2NDczYWJhZTNmODFmNGU2YmI5MmEuYmluZFRvb2x0aXAoCiAgICAgICAgICAgIGA8ZGl2PmAKICAgICAgICAgICAgKyBgPGxpPjxib2xkPkNvdW50cnkgOiBTYW4gTWFyaW5vPGxpPjxib2xkPkNvbmZpcm1lZCA6IDYyOC4wPGxpPjxib2xkPkRlYXRoX3JhdGUgOiA2LjUyODY2MjQyMDM4MjE2NTxsaT48Ym9sZD5EZWF0aHMgOiA0MS4wPGxpPjxib2xkPmxvY2tkb3duIGRhdGUgOiAyMDIwLTAzLTA5PGxpPjxib2xkPmZpcnN0IGNhc2UgZGF0ZSA6IDIwMjAtMDItMjg8bGk+PGJvbGQ+bWVhbiBhZ2UgOiAzNy4wYCArIGA8L2Rpdj5gLAogICAgICAgICAgICB7InN0aWNreSI6IHRydWV9CiAgICAgICAgKTsKICAgICAgICAKICAgIAoKICAgICAgICAgICAgdmFyIGNpcmNsZV80Yjc4NzQ3ZTNiYjY0NDI3YjdmMWRjODgwOGViMzRiMiA9IEwuY2lyY2xlKAogICAgICAgICAgICAgICAgWzAuMTg2NCwgNi42MTMxXSwKICAgICAgICAgICAgICAgIHsKICAiYnViYmxpbmdNb3VzZUV2ZW50cyI6IHRydWUsCiAgImNvbG9yIjogImJsdWUiLAogICJkYXNoQXJyYXkiOiBudWxsLAogICJkYXNoT2Zmc2V0IjogbnVsbCwKICAiZmlsbCI6ICJibHVlIiwKICAiZmlsbENvbG9yIjogImJsdWUiLAogICJmaWxsT3BhY2l0eSI6IDAuMiwKICAiZmlsbFJ1bGUiOiAiZXZlbm9kZCIsCiAgImxpbmVDYXAiOiAicm91bmQiLAogICJsaW5lSm9pbiI6ICJyb3VuZCIsCiAgIm9wYWNpdHkiOiAxLjAsCiAgInJhZGl1cyI6IDI0MDM4LAogICJzdHJva2UiOiB0cnVlLAogICJ3ZWlnaHQiOiAzCn0KICAgICAgICAgICAgICAgICkKICAgICAgICAgICAgICAgIC5hZGRUbyhtYXBfZGRiMDMxNmNhZDczNGY3NmE1MjBlNzY3NjFjZDRkNzgpOwogICAgICAgICAgICAKICAgIAogICAgICAgIGNpcmNsZV80Yjc4NzQ3ZTNiYjY0NDI3YjdmMWRjODgwOGViMzRiMi5iaW5kVG9vbHRpcCgKICAgICAgICAgICAgYDxkaXY+YAogICAgICAgICAgICArIGA8bGk+PGJvbGQ+Q291bnRyeSA6IFNhbyBUb21lIGFuZCBQcmluY2lwZTxsaT48Ym9sZD5Db25maXJtZWQgOiAyMDguMDxsaT48Ym9sZD5EZWF0aF9yYXRlIDogMi40MDM4NDYxNTM4NDYxNTM3PGxpPjxib2xkPkRlYXRocyA6IDUuMDxsaT48Ym9sZD5sb2NrZG93biBkYXRlIDogbmFuPGxpPjxib2xkPmZpcnN0IGNhc2UgZGF0ZSA6IDIwMjAtMDQtMDc8bGk+PGJvbGQ+bWVhbiBhZ2UgOiAxOC4xYCArIGA8L2Rpdj5gLAogICAgICAgICAgICB7InN0aWNreSI6IHRydWV9CiAgICAgICAgKTsKICAgICAgICAKICAgIAoKICAgICAgICAgICAgdmFyIGNpcmNsZV9kNTc1NDg2NWQxNWE0MDViOGFjMzM1Y2ZjZTBhMjQ0MyA9IEwuY2lyY2xlKAogICAgICAgICAgICAgICAgWzIzLjg4NTk0MiwgNDUuMDc5MTYyXSwKICAgICAgICAgICAgICAgIHsKICAiYnViYmxpbmdNb3VzZUV2ZW50cyI6IHRydWUsCiAgImNvbG9yIjogImJsdWUiLAogICJkYXNoQXJyYXkiOiBudWxsLAogICJkYXNoT2Zmc2V0IjogbnVsbCwKICAiZmlsbCI6ICJibHVlIiwKICAiZmlsbENvbG9yIjogImJsdWUiLAogICJmaWxsT3BhY2l0eSI6IDAuMiwKICAiZmlsbFJ1bGUiOiAiZXZlbm9kZCIsCiAgImxpbmVDYXAiOiAicm91bmQiLAogICJsaW5lSm9pbiI6ICJyb3VuZCIsCiAgIm9wYWNpdHkiOiAxLjAsCiAgInJhZGl1cyI6IDYyOTksCiAgInN0cm9rZSI6IHRydWUsCiAgIndlaWdodCI6IDMKfQogICAgICAgICAgICAgICAgKQogICAgICAgICAgICAgICAgLmFkZFRvKG1hcF9kZGIwMzE2Y2FkNzM0Zjc2YTUyMGU3Njc2MWNkNGQ3OCk7CiAgICAgICAgICAgIAogICAgCiAgICAgICAgY2lyY2xlX2Q1NzU0ODY1ZDE1YTQwNWI4YWMzMzVjZmNlMGEyNDQzLmJpbmRUb29sdGlwKAogICAgICAgICAgICBgPGRpdj5gCiAgICAgICAgICAgICsgYDxsaT48Ym9sZD5Db3VudHJ5IDogU2F1ZGkgQXJhYmlhPGxpPjxib2xkPkNvbmZpcm1lZCA6IDM5MDQ4LjA8bGk+PGJvbGQ+RGVhdGhfcmF0ZSA6IDAuNjI5OTkzODUzNzE4NTAwMzxsaT48Ym9sZD5EZWF0aHMgOiAyNDYuMDxsaT48Ym9sZD5sb2NrZG93biBkYXRlIDogMjAyMC0wMy0xNTxsaT48Ym9sZD5maXJzdCBjYXNlIGRhdGUgOiAyMDIwLTAzLTAzPGxpPjxib2xkPm1lYW4gYWdlIDogMjkuOGAgKyBgPC9kaXY+YCwKICAgICAgICAgICAgeyJzdGlja3kiOiB0cnVlfQogICAgICAgICk7CiAgICAgICAgCiAgICAKCiAgICAgICAgICAgIHZhciBjaXJjbGVfMTNlZGYwMDZkMTRlNDE0Nzg1NTI5OWVkM2QwZDEwMTQgPSBMLmNpcmNsZSgKICAgICAgICAgICAgICAgIFsxNC40OTc0MDEwMDAwMDAwMDIsIC0xNC40NTIzNjE5OTk5OTk5OTldLAogICAgICAgICAgICAgICAgewogICJidWJibGluZ01vdXNlRXZlbnRzIjogdHJ1ZSwKICAiY29sb3IiOiAiYmx1ZSIsCiAgImRhc2hBcnJheSI6IG51bGwsCiAgImRhc2hPZmZzZXQiOiBudWxsLAogICJmaWxsIjogImJsdWUiLAogICJmaWxsQ29sb3IiOiAiYmx1ZSIsCiAgImZpbGxPcGFjaXR5IjogMC4yLAogICJmaWxsUnVsZSI6ICJldmVub2RkIiwKICAibGluZUNhcCI6ICJyb3VuZCIsCiAgImxpbmVKb2luIjogInJvdW5kIiwKICAib3BhY2l0eSI6IDEuMCwKICAicmFkaXVzIjogMTExMTcsCiAgInN0cm9rZSI6IHRydWUsCiAgIndlaWdodCI6IDMKfQogICAgICAgICAgICAgICAgKQogICAgICAgICAgICAgICAgLmFkZFRvKG1hcF9kZGIwMzE2Y2FkNzM0Zjc2YTUyMGU3Njc2MWNkNGQ3OCk7CiAgICAgICAgICAgIAogICAgCiAgICAgICAgY2lyY2xlXzEzZWRmMDA2ZDE0ZTQxNDc4NTUyOTllZDNkMGQxMDE0LmJpbmRUb29sdGlwKAogICAgICAgICAgICBgPGRpdj5gCiAgICAgICAgICAgICsgYDxsaT48Ym9sZD5Db3VudHJ5IDogU2VuZWdhbDxsaT48Ym9sZD5Db25maXJtZWQgOiAxNzA5LjA8bGk+PGJvbGQ+RGVhdGhfcmF0ZSA6IDEuMTExNzYxMjYzODk3MDE1ODxsaT48Ym9sZD5EZWF0aHMgOiAxOS4wPGxpPjxib2xkPmxvY2tkb3duIGRhdGUgOiAyMDIwLTAzLTI0PGxpPjxib2xkPmZpcnN0IGNhc2UgZGF0ZSA6IDIwMjAtMDMtMDM8bGk+PGJvbGQ+bWVhbiBhZ2UgOiAxOC4zYCArIGA8L2Rpdj5gLAogICAgICAgICAgICB7InN0aWNreSI6IHRydWV9CiAgICAgICAgKTsKICAgICAgICAKICAgIAoKICAgICAgICAgICAgdmFyIGNpcmNsZV8zMDM1YmU1YzFhYzE0ZDAxOTM0NDY3NzlkMjNmYmE4MCA9IEwuY2lyY2xlKAogICAgICAgICAgICAgICAgWzQ0LjAxNjUyMTAwMDAwMDAwNCwgMjEuMDA1ODU5XSwKICAgICAgICAgICAgICAgIHsKICAiYnViYmxpbmdNb3VzZUV2ZW50cyI6IHRydWUsCiAgImNvbG9yIjogImJsdWUiLAogICJkYXNoQXJyYXkiOiBudWxsLAogICJkYXNoT2Zmc2V0IjogbnVsbCwKICAiZmlsbCI6ICJibHVlIiwKICAiZmlsbENvbG9yIjogImJsdWUiLAogICJmaWxsT3BhY2l0eSI6IDAuMiwKICAiZmlsbFJ1bGUiOiAiZXZlbm9kZCIsCiAgImxpbmVDYXAiOiAicm91bmQiLAogICJsaW5lSm9pbiI6ICJyb3VuZCIsCiAgIm9wYWNpdHkiOiAxLjAsCiAgInJhZGl1cyI6IDIxNDMxLAogICJzdHJva2UiOiB0cnVlLAogICJ3ZWlnaHQiOiAzCn0KICAgICAgICAgICAgICAgICkKICAgICAgICAgICAgICAgIC5hZGRUbyhtYXBfZGRiMDMxNmNhZDczNGY3NmE1MjBlNzY3NjFjZDRkNzgpOwogICAgICAgICAgICAKICAgIAogICAgICAgIGNpcmNsZV8zMDM1YmU1YzFhYzE0ZDAxOTM0NDY3NzlkMjNmYmE4MC5iaW5kVG9vbHRpcCgKICAgICAgICAgICAgYDxkaXY+YAogICAgICAgICAgICArIGA8bGk+PGJvbGQ+Q291bnRyeSA6IFNlcmJpYTxsaT48Ym9sZD5Db25maXJtZWQgOiAxMDAzMi4wPGxpPjxib2xkPkRlYXRoX3JhdGUgOiAyLjE0MzE0MTk0NTc3MzUyNTxsaT48Ym9sZD5EZWF0aHMgOiAyMTUuMDxsaT48Ym9sZD5sb2NrZG93biBkYXRlIDogMjAyMC0wMy0xNTxsaT48Ym9sZD5maXJzdCBjYXNlIGRhdGUgOiAyMDIwLTAzLTA3PGxpPjxib2xkPm1lYW4gYWdlIDogNDAuMGAgKyBgPC9kaXY+YCwKICAgICAgICAgICAgeyJzdGlja3kiOiB0cnVlfQogICAgICAgICk7CiAgICAgICAgCiAgICAKCiAgICAgICAgICAgIHZhciBjaXJjbGVfMTE3MWE5OWU5Njc4NDcxZmFlNmM3M2NmOGVlZTc4ODUgPSBMLmNpcmNsZSgKICAgICAgICAgICAgICAgIFstNC42Nzk1NzQsIDU1LjQ5MTk3N10sCiAgICAgICAgICAgICAgICB7CiAgImJ1YmJsaW5nTW91c2VFdmVudHMiOiB0cnVlLAogICJjb2xvciI6ICJibHVlIiwKICAiZGFzaEFycmF5IjogbnVsbCwKICAiZGFzaE9mZnNldCI6IG51bGwsCiAgImZpbGwiOiAiYmx1ZSIsCiAgImZpbGxDb2xvciI6ICJibHVlIiwKICAiZmlsbE9wYWNpdHkiOiAwLjIsCiAgImZpbGxSdWxlIjogImV2ZW5vZGQiLAogICJsaW5lQ2FwIjogInJvdW5kIiwKICAibGluZUpvaW4iOiAicm91bmQiLAogICJvcGFjaXR5IjogMS4wLAogICJzdHJva2UiOiB0cnVlLAogICJ3ZWlnaHQiOiAzCn0KICAgICAgICAgICAgICAgICkKICAgICAgICAgICAgICAgIC5hZGRUbyhtYXBfZGRiMDMxNmNhZDczNGY3NmE1MjBlNzY3NjFjZDRkNzgpOwogICAgICAgICAgICAKICAgIAogICAgICAgIGNpcmNsZV8xMTcxYTk5ZTk2Nzg0NzFmYWU2YzczY2Y4ZWVlNzg4NS5iaW5kVG9vbHRpcCgKICAgICAgICAgICAgYDxkaXY+YAogICAgICAgICAgICArIGA8bGk+PGJvbGQ+Q291bnRyeSA6IFNleWNoZWxsZXM8bGk+PGJvbGQ+Q29uZmlybWVkIDogMTEuMDxsaT48Ym9sZD5EZWF0aF9yYXRlIDogMC4wPGxpPjxib2xkPkRlYXRocyA6IDAuMDxsaT48Ym9sZD5sb2NrZG93biBkYXRlIDogMjAyMC0wNC0wOTxsaT48Ym9sZD5maXJzdCBjYXNlIGRhdGUgOiAyMDIwLTAzLTE1PGxpPjxib2xkPm1lYW4gYWdlIDogMzQuNmAgKyBgPC9kaXY+YCwKICAgICAgICAgICAgeyJzdGlja3kiOiB0cnVlfQogICAgICAgICk7CiAgICAgICAgCiAgICAKCiAgICAgICAgICAgIHZhciBjaXJjbGVfMWQ5YjdhYzE3ZDM0NGUwMzhkOTMyZGFkY2M5NWViNWEgPSBMLmNpcmNsZSgKICAgICAgICAgICAgICAgIFs4LjQ2MDU1NTAwMDAwMDAwMSwgLTExLjc3OTg4OV0sCiAgICAgICAgICAgICAgICB7CiAgImJ1YmJsaW5nTW91c2VFdmVudHMiOiB0cnVlLAogICJjb2xvciI6ICJibHVlIiwKICAiZGFzaEFycmF5IjogbnVsbCwKICAiZGFzaE9mZnNldCI6IG51bGwsCiAgImZpbGwiOiAiYmx1ZSIsCiAgImZpbGxDb2xvciI6ICJibHVlIiwKICAiZmlsbE9wYWNpdHkiOiAwLjIsCiAgImZpbGxSdWxlIjogImV2ZW5vZGQiLAogICJsaW5lQ2FwIjogInJvdW5kIiwKICAibGluZUpvaW4iOiAicm91bmQiLAogICJvcGFjaXR5IjogMS4wLAogICJyYWRpdXMiOiA1ODYzMSwKICAic3Ryb2tlIjogdHJ1ZSwKICAid2VpZ2h0IjogMwp9CiAgICAgICAgICAgICAgICApCiAgICAgICAgICAgICAgICAuYWRkVG8obWFwX2RkYjAzMTZjYWQ3MzRmNzZhNTIwZTc2NzYxY2Q0ZDc4KTsKICAgICAgICAgICAgCiAgICAKICAgICAgICBjaXJjbGVfMWQ5YjdhYzE3ZDM0NGUwMzhkOTMyZGFkY2M5NWViNWEuYmluZFRvb2x0aXAoCiAgICAgICAgICAgIGA8ZGl2PmAKICAgICAgICAgICAgKyBgPGxpPjxib2xkPkNvdW50cnkgOiBTaWVycmEgTGVvbmU8bGk+PGJvbGQ+Q29uZmlybWVkIDogMzA3LjA8bGk+PGJvbGQ+RGVhdGhfcmF0ZSA6IDUuODYzMTkyMTgyNDEwNDIzPGxpPjxib2xkPkRlYXRocyA6IDE4LjA8bGk+PGJvbGQ+bG9ja2Rvd24gZGF0ZSA6IDIwMjAtMDUtMDU8bGk+PGJvbGQ+Zmlyc3QgY2FzZSBkYXRlIDogMjAyMC0wNC0wMTxsaT48Ym9sZD5tZWFuIGFnZSA6IDE4LjNgICsgYDwvZGl2PmAsCiAgICAgICAgICAgIHsic3RpY2t5IjogdHJ1ZX0KICAgICAgICApOwogICAgICAgIAogICAgCgogICAgICAgICAgICB2YXIgY2lyY2xlXzQ1NzY4OGM5YzcyZTRkNjE4YmFlN2Y5ODZkMTU3MjY1ID0gTC5jaXJjbGUoCiAgICAgICAgICAgICAgICBbMS4zNTIwODMsIDEwMy44MTk4MzZdLAogICAgICAgICAgICAgICAgewogICJidWJibGluZ01vdXNlRXZlbnRzIjogdHJ1ZSwKICAiY29sb3IiOiAiYmx1ZSIsCiAgImRhc2hBcnJheSI6IG51bGwsCiAgImRhc2hPZmZzZXQiOiBudWxsLAogICJmaWxsIjogImJsdWUiLAogICJmaWxsQ29sb3IiOiAiYmx1ZSIsCiAgImZpbGxPcGFjaXR5IjogMC4yLAogICJmaWxsUnVsZSI6ICJldmVub2RkIiwKICAibGluZUNhcCI6ICJyb3VuZCIsCiAgImxpbmVKb2luIjogInJvdW5kIiwKICAib3BhY2l0eSI6IDEuMCwKICAicmFkaXVzIjogODU3LAogICJzdHJva2UiOiB0cnVlLAogICJ3ZWlnaHQiOiAzCn0KICAgICAgICAgICAgICAgICkKICAgICAgICAgICAgICAgIC5hZGRUbyhtYXBfZGRiMDMxNmNhZDczNGY3NmE1MjBlNzY3NjFjZDRkNzgpOwogICAgICAgICAgICAKICAgIAogICAgICAgIGNpcmNsZV80NTc2ODhjOWM3MmU0ZDYxOGJhZTdmOTg2ZDE1NzI2NS5iaW5kVG9vbHRpcCgKICAgICAgICAgICAgYDxkaXY+YAogICAgICAgICAgICArIGA8bGk+PGJvbGQ+Q291bnRyeSA6IFNpbmdhcG9yZTxsaT48Ym9sZD5Db25maXJtZWQgOiAyMzMzNi4wPGxpPjxib2xkPkRlYXRoX3JhdGUgOiAwLjA4NTcwNDQ5MDkxNTMyMzk2PGxpPjxib2xkPkRlYXRocyA6IDIwLjA8bGk+PGJvbGQ+bG9ja2Rvd24gZGF0ZSA6IDIwMjAtMDMtMjY8bGk+PGJvbGQ+Zmlyc3QgY2FzZSBkYXRlIDogMjAyMC0wMS0yNDxsaT48Ym9sZD5tZWFuIGFnZSA6IDQwLjBgICsgYDwvZGl2PmAsCiAgICAgICAgICAgIHsic3RpY2t5IjogdHJ1ZX0KICAgICAgICApOwogICAgICAgIAogICAgCgogICAgICAgICAgICB2YXIgY2lyY2xlX2JkNDkwYTliNjAyZDQ5ZTdiNDA3MjM3NTY1YWE1ZDYxID0gTC5jaXJjbGUoCiAgICAgICAgICAgICAgICBbNDguNjY5MDI2LCAxOS42OTkwMjM5OTk5OTk5OThdLAogICAgICAgICAgICAgICAgewogICJidWJibGluZ01vdXNlRXZlbnRzIjogdHJ1ZSwKICAiY29sb3IiOiAiYmx1ZSIsCiAgImRhc2hBcnJheSI6IG51bGwsCiAgImRhc2hPZmZzZXQiOiBudWxsLAogICJmaWxsIjogImJsdWUiLAogICJmaWxsQ29sb3IiOiAiYmx1ZSIsCiAgImZpbGxPcGFjaXR5IjogMC4yLAogICJmaWxsUnVsZSI6ICJldmVub2RkIiwKICAibGluZUNhcCI6ICJyb3VuZCIsCiAgImxpbmVKb2luIjogInJvdW5kIiwKICAib3BhY2l0eSI6IDEuMCwKICAicmFkaXVzIjogMTc4NDQsCiAgInN0cm9rZSI6IHRydWUsCiAgIndlaWdodCI6IDMKfQogICAgICAgICAgICAgICAgKQogICAgICAgICAgICAgICAgLmFkZFRvKG1hcF9kZGIwMzE2Y2FkNzM0Zjc2YTUyMGU3Njc2MWNkNGQ3OCk7CiAgICAgICAgICAgIAogICAgCiAgICAgICAgY2lyY2xlX2JkNDkwYTliNjAyZDQ5ZTdiNDA3MjM3NTY1YWE1ZDYxLmJpbmRUb29sdGlwKAogICAgICAgICAgICBgPGRpdj5gCiAgICAgICAgICAgICsgYDxsaT48Ym9sZD5Db3VudHJ5IDogU2xvdmFraWE8bGk+PGJvbGQ+Q29uZmlybWVkIDogMTQ1Ny4wPGxpPjxib2xkPkRlYXRoX3JhdGUgOiAxLjc4NDQ4ODY3NTM2MDMyOTU8bGk+PGJvbGQ+RGVhdGhzIDogMjYuMDxsaT48Ym9sZD5sb2NrZG93biBkYXRlIDogMjAyMC0wMy0wOTxsaT48Ym9sZD5maXJzdCBjYXNlIGRhdGUgOiAyMDIwLTAzLTA3PGxpPjxib2xkPm1lYW4gYWdlIDogMzkuMmAgKyBgPC9kaXY+YCwKICAgICAgICAgICAgeyJzdGlja3kiOiB0cnVlfQogICAgICAgICk7CiAgICAgICAgCiAgICAKCiAgICAgICAgICAgIHZhciBjaXJjbGVfODhhZDdlMDQzZGIzNDU3NjgwMDFjZDY0ZGFlYTZmOWIgPSBMLmNpcmNsZSgKICAgICAgICAgICAgICAgIFs0Ni4xNTEyNDEsIDE0Ljk5NTQ2M10sCiAgICAgICAgICAgICAgICB7CiAgImJ1YmJsaW5nTW91c2VFdmVudHMiOiB0cnVlLAogICJjb2xvciI6ICJibHVlIiwKICAiZGFzaEFycmF5IjogbnVsbCwKICAiZGFzaE9mZnNldCI6IG51bGwsCiAgImZpbGwiOiAiYmx1ZSIsCiAgImZpbGxDb2xvciI6ICJibHVlIiwKICAiZmlsbE9wYWNpdHkiOiAwLjIsCiAgImZpbGxSdWxlIjogImV2ZW5vZGQiLAogICJsaW5lQ2FwIjogInJvdW5kIiwKICAibGluZUpvaW4iOiAicm91bmQiLAogICJvcGFjaXR5IjogMS4wLAogICJyYWRpdXMiOiA3MDAwNiwKICAic3Ryb2tlIjogdHJ1ZSwKICAid2VpZ2h0IjogMwp9CiAgICAgICAgICAgICAgICApCiAgICAgICAgICAgICAgICAuYWRkVG8obWFwX2RkYjAzMTZjYWQ3MzRmNzZhNTIwZTc2NzYxY2Q0ZDc4KTsKICAgICAgICAgICAgCiAgICAKICAgICAgICBjaXJjbGVfODhhZDdlMDQzZGIzNDU3NjgwMDFjZDY0ZGFlYTZmOWIuYmluZFRvb2x0aXAoCiAgICAgICAgICAgIGA8ZGl2PmAKICAgICAgICAgICAgKyBgPGxpPjxib2xkPkNvdW50cnkgOiBTbG92ZW5pYTxsaT48Ym9sZD5Db25maXJtZWQgOiAxNDU3LjA8bGk+PGJvbGQ+RGVhdGhfcmF0ZSA6IDcuMDAwNjg2MzQxNzk4MjE1NTxsaT48Ym9sZD5EZWF0aHMgOiAxMDIuMDxsaT48Ym9sZD5sb2NrZG93biBkYXRlIDogMjAyMC0wMy0xMTxsaT48Ym9sZD5maXJzdCBjYXNlIGRhdGUgOiAyMDIwLTAzLTA2PGxpPjxib2xkPm1lYW4gYWdlIDogNDMuMGAgKyBgPC9kaXY+YCwKICAgICAgICAgICAgeyJzdGlja3kiOiB0cnVlfQogICAgICAgICk7CiAgICAgICAgCiAgICAKCiAgICAgICAgICAgIHZhciBjaXJjbGVfMGMxMGM1ZjZmYzBkNGFmMzhiZDZlNjIzNDU4Y2JmOGIgPSBMLmNpcmNsZSgKICAgICAgICAgICAgICAgIFs1LjE1MjE0OSwgNDYuMTk5NjE2XSwKICAgICAgICAgICAgICAgIHsKICAiYnViYmxpbmdNb3VzZUV2ZW50cyI6IHRydWUsCiAgImNvbG9yIjogImJsdWUiLAogICJkYXNoQXJyYXkiOiBudWxsLAogICJkYXNoT2Zmc2V0IjogbnVsbCwKICAiZmlsbCI6ICJibHVlIiwKICAiZmlsbENvbG9yIjogImJsdWUiLAogICJmaWxsT3BhY2l0eSI6IDAuMiwKICAiZmlsbFJ1bGUiOiAiZXZlbm9kZCIsCiAgImxpbmVDYXAiOiAicm91bmQiLAogICJsaW5lSm9pbiI6ICJyb3VuZCIsCiAgIm9wYWNpdHkiOiAxLjAsCiAgInJhZGl1cyI6IDQ4Mzg3LAogICJzdHJva2UiOiB0cnVlLAogICJ3ZWlnaHQiOiAzCn0KICAgICAgICAgICAgICAgICkKICAgICAgICAgICAgICAgIC5hZGRUbyhtYXBfZGRiMDMxNmNhZDczNGY3NmE1MjBlNzY3NjFjZDRkNzgpOwogICAgICAgICAgICAKICAgIAogICAgICAgIGNpcmNsZV8wYzEwYzVmNmZjMGQ0YWYzOGJkNmU2MjM0NThjYmY4Yi5iaW5kVG9vbHRpcCgKICAgICAgICAgICAgYDxkaXY+YAogICAgICAgICAgICArIGA8bGk+PGJvbGQ+Q291bnRyeSA6IFNvbWFsaWE8bGk+PGJvbGQ+Q29uZmlybWVkIDogMTA1NC4wPGxpPjxib2xkPkRlYXRoX3JhdGUgOiA0LjgzODcwOTY3NzQxOTM1NTxsaT48Ym9sZD5EZWF0aHMgOiA1MS4wPGxpPjxib2xkPmxvY2tkb3duIGRhdGUgOiAyMDIwLTAzLTE5PGxpPjxib2xkPmZpcnN0IGNhc2UgZGF0ZSA6IDIwMjAtMDMtMTc8bGk+PGJvbGQ+bWVhbiBhZ2UgOiAxNi41YCArIGA8L2Rpdj5gLAogICAgICAgICAgICB7InN0aWNreSI6IHRydWV9CiAgICAgICAgKTsKICAgICAgICAKICAgIAoKICAgICAgICAgICAgdmFyIGNpcmNsZV82ZmIzY2I1ZDViYjY0NjMxYjYyN2Q2YzM0MmRlMzc4YSA9IEwuY2lyY2xlKAogICAgICAgICAgICAgICAgWy0zMC41NTk0ODIsIDIyLjkzNzUwNl0sCiAgICAgICAgICAgICAgICB7CiAgImJ1YmJsaW5nTW91c2VFdmVudHMiOiB0cnVlLAogICJjb2xvciI6ICJibHVlIiwKICAiZGFzaEFycmF5IjogbnVsbCwKICAiZGFzaE9mZnNldCI6IG51bGwsCiAgImZpbGwiOiAiYmx1ZSIsCiAgImZpbGxDb2xvciI6ICJibHVlIiwKICAiZmlsbE9wYWNpdHkiOiAwLjIsCiAgImZpbGxSdWxlIjogImV2ZW5vZGQiLAogICJsaW5lQ2FwIjogInJvdW5kIiwKICAibGluZUpvaW4iOiAicm91bmQiLAogICJvcGFjaXR5IjogMS4wLAogICJyYWRpdXMiOiAxOTM3MCwKICAic3Ryb2tlIjogdHJ1ZSwKICAid2VpZ2h0IjogMwp9CiAgICAgICAgICAgICAgICApCiAgICAgICAgICAgICAgICAuYWRkVG8obWFwX2RkYjAzMTZjYWQ3MzRmNzZhNTIwZTc2NzYxY2Q0ZDc4KTsKICAgICAgICAgICAgCiAgICAKICAgICAgICBjaXJjbGVfNmZiM2NiNWQ1YmI2NDYzMWI2MjdkNmMzNDJkZTM3OGEuYmluZFRvb2x0aXAoCiAgICAgICAgICAgIGA8ZGl2PmAKICAgICAgICAgICAgKyBgPGxpPjxib2xkPkNvdW50cnkgOiBTb3V0aCBBZnJpY2E8bGk+PGJvbGQ+Q29uZmlybWVkIDogMTAwMTUuMDxsaT48Ym9sZD5EZWF0aF9yYXRlIDogMS45MzcwOTQzNTg0NjIzMDY2PGxpPjxib2xkPkRlYXRocyA6IDE5NC4wPGxpPjxib2xkPmxvY2tkb3duIGRhdGUgOiAyMDIwLTAzLTI2PGxpPjxib2xkPmZpcnN0IGNhc2UgZGF0ZSA6IDIwMjAtMDMtMDY8bGk+PGJvbGQ+bWVhbiBhZ2UgOiAyNi4xYCArIGA8L2Rpdj5gLAogICAgICAgICAgICB7InN0aWNreSI6IHRydWV9CiAgICAgICAgKTsKICAgICAgICAKICAgIAoKICAgICAgICAgICAgdmFyIGNpcmNsZV9jYTI2MjdlY2Q1MTA0NTk1YjRlMDUyMTdhMjdmZDkyNCA9IEwuY2lyY2xlKAogICAgICAgICAgICAgICAgWzYuODc3MDAwMDAwMDAwMDAyLCAzMS4zMDddLAogICAgICAgICAgICAgICAgewogICJidWJibGluZ01vdXNlRXZlbnRzIjogdHJ1ZSwKICAiY29sb3IiOiAiYmx1ZSIsCiAgImRhc2hBcnJheSI6IG51bGwsCiAgImRhc2hPZmZzZXQiOiBudWxsLAogICJmaWxsIjogImJsdWUiLAogICJmaWxsQ29sb3IiOiAiYmx1ZSIsCiAgImZpbGxPcGFjaXR5IjogMC4yLAogICJmaWxsUnVsZSI6ICJldmVub2RkIiwKICAibGluZUNhcCI6ICJyb3VuZCIsCiAgImxpbmVKb2luIjogInJvdW5kIiwKICAib3BhY2l0eSI6IDEuMCwKICAic3Ryb2tlIjogdHJ1ZSwKICAid2VpZ2h0IjogMwp9CiAgICAgICAgICAgICAgICApCiAgICAgICAgICAgICAgICAuYWRkVG8obWFwX2RkYjAzMTZjYWQ3MzRmNzZhNTIwZTc2NzYxY2Q0ZDc4KTsKICAgICAgICAgICAgCiAgICAKICAgICAgICBjaXJjbGVfY2EyNjI3ZWNkNTEwNDU5NWI0ZTA1MjE3YTI3ZmQ5MjQuYmluZFRvb2x0aXAoCiAgICAgICAgICAgIGA8ZGl2PmAKICAgICAgICAgICAgKyBgPGxpPjxib2xkPkNvdW50cnkgOiBTb3V0aCBTdWRhbjxsaT48Ym9sZD5Db25maXJtZWQgOiAxMjAuMDxsaT48Ym9sZD5EZWF0aF9yYXRlIDogMC4wPGxpPjxib2xkPkRlYXRocyA6IDAuMDxsaT48Ym9sZD5sb2NrZG93biBkYXRlIDogMjAyMC0wMy0yNDxsaT48Ym9sZD5maXJzdCBjYXNlIGRhdGUgOiAyMDIwLTA0LTA2PGxpPjxib2xkPm1lYW4gYWdlIDogMTguNmAgKyBgPC9kaXY+YCwKICAgICAgICAgICAgeyJzdGlja3kiOiB0cnVlfQogICAgICAgICk7CiAgICAgICAgCiAgICAKCiAgICAgICAgICAgIHZhciBjaXJjbGVfNTMxY2E5ODcwNjAxNDBiMWIxYjAwZmE1ZDhhNWJjZGUgPSBMLmNpcmNsZSgKICAgICAgICAgICAgICAgIFs0MC40NjM2NjcsIC0zLjc0OTIxOTk5OTk5OTk5OThdLAogICAgICAgICAgICAgICAgewogICJidWJibGluZ01vdXNlRXZlbnRzIjogdHJ1ZSwKICAiY29sb3IiOiAiYmx1ZSIsCiAgImRhc2hBcnJheSI6IG51bGwsCiAgImRhc2hPZmZzZXQiOiBudWxsLAogICJmaWxsIjogImJsdWUiLAogICJmaWxsQ29sb3IiOiAiYmx1ZSIsCiAgImZpbGxPcGFjaXR5IjogMC4yLAogICJmaWxsUnVsZSI6ICJldmVub2RkIiwKICAibGluZUNhcCI6ICJyb3VuZCIsCiAgImxpbmVKb2luIjogInJvdW5kIiwKICAib3BhY2l0eSI6IDEuMCwKICAicmFkaXVzIjogMTE4NjU4LAogICJzdHJva2UiOiB0cnVlLAogICJ3ZWlnaHQiOiAzCn0KICAgICAgICAgICAgICAgICkKICAgICAgICAgICAgICAgIC5hZGRUbyhtYXBfZGRiMDMxNmNhZDczNGY3NmE1MjBlNzY3NjFjZDRkNzgpOwogICAgICAgICAgICAKICAgIAogICAgICAgIGNpcmNsZV81MzFjYTk4NzA2MDE0MGIxYjFiMDBmYTVkOGE1YmNkZS5iaW5kVG9vbHRpcCgKICAgICAgICAgICAgYDxkaXY+YAogICAgICAgICAgICArIGA8bGk+PGJvbGQ+Q291bnRyeSA6IFNwYWluPGxpPjxib2xkPkNvbmZpcm1lZCA6IDIyNDM1MC4wPGxpPjxib2xkPkRlYXRoX3JhdGUgOiAxMS44NjU4MzQ2MzMzODUzMzU8bGk+PGJvbGQ+RGVhdGhzIDogMjY2MjEuMDxsaT48Ym9sZD5sb2NrZG93biBkYXRlIDogMjAyMC0wMy0xNDxsaT48Ym9sZD5maXJzdCBjYXNlIGRhdGUgOiAyMDIwLTAyLTAyPGxpPjxib2xkPm1lYW4gYWdlIDogNDMuMmAgKyBgPC9kaXY+YCwKICAgICAgICAgICAgeyJzdGlja3kiOiB0cnVlfQogICAgICAgICk7CiAgICAgICAgCiAgICAKCiAgICAgICAgICAgIHZhciBjaXJjbGVfNDcxNWRhYjljNjk0NGRkYzllNTVlOTc5MTU2NGEzODIgPSBMLmNpcmNsZSgKICAgICAgICAgICAgICAgIFs3Ljg3MzA1NCwgODAuNzcxNzk2OTk5OTk5OThdLAogICAgICAgICAgICAgICAgewogICJidWJibGluZ01vdXNlRXZlbnRzIjogdHJ1ZSwKICAiY29sb3IiOiAiYmx1ZSIsCiAgImRhc2hBcnJheSI6IG51bGwsCiAgImRhc2hPZmZzZXQiOiBudWxsLAogICJmaWxsIjogImJsdWUiLAogICJmaWxsQ29sb3IiOiAiYmx1ZSIsCiAgImZpbGxPcGFjaXR5IjogMC4yLAogICJmaWxsUnVsZSI6ICJldmVub2RkIiwKICAibGluZUNhcCI6ICJyb3VuZCIsCiAgImxpbmVKb2luIjogInJvdW5kIiwKICAib3BhY2l0eSI6IDEuMCwKICAicmFkaXVzIjogMTA0MjgsCiAgInN0cm9rZSI6IHRydWUsCiAgIndlaWdodCI6IDMKfQogICAgICAgICAgICAgICAgKQogICAgICAgICAgICAgICAgLmFkZFRvKG1hcF9kZGIwMzE2Y2FkNzM0Zjc2YTUyMGU3Njc2MWNkNGQ3OCk7CiAgICAgICAgICAgIAogICAgCiAgICAgICAgY2lyY2xlXzQ3MTVkYWI5YzY5NDRkZGM5ZTU1ZTk3OTE1NjRhMzgyLmJpbmRUb29sdGlwKAogICAgICAgICAgICBgPGRpdj5gCiAgICAgICAgICAgICsgYDxsaT48Ym9sZD5Db3VudHJ5IDogU3JpIExhbmthPGxpPjxib2xkPkNvbmZpcm1lZCA6IDg2My4wPGxpPjxib2xkPkRlYXRoX3JhdGUgOiAxLjA0Mjg3MzY5NjQwNzg3OTU8bGk+PGJvbGQ+RGVhdGhzIDogOS4wPGxpPjxib2xkPmxvY2tkb3duIGRhdGUgOiAyMDIwLTAzLTIxPGxpPjxib2xkPmZpcnN0IGNhc2UgZGF0ZSA6IDIwMjAtMDEtMjg8bGk+PGJvbGQ+bWVhbiBhZ2UgOiAzMi4zYCArIGA8L2Rpdj5gLAogICAgICAgICAgICB7InN0aWNreSI6IHRydWV9CiAgICAgICAgKTsKICAgICAgICAKICAgIAoKICAgICAgICAgICAgdmFyIGNpcmNsZV8yOGFmYmMyNmMzYmM0NGI4YTZkNTFiMDEzY2FmNTJhNSA9IEwuY2lyY2xlKAogICAgICAgICAgICAgICAgWzEyLjg2MjgwNywgMzAuMjE3NjM2XSwKICAgICAgICAgICAgICAgIHsKICAiYnViYmxpbmdNb3VzZUV2ZW50cyI6IHRydWUsCiAgImNvbG9yIjogImJsdWUiLAogICJkYXNoQXJyYXkiOiBudWxsLAogICJkYXNoT2Zmc2V0IjogbnVsbCwKICAiZmlsbCI6ICJibHVlIiwKICAiZmlsbENvbG9yIjogImJsdWUiLAogICJmaWxsT3BhY2l0eSI6IDAuMiwKICAiZmlsbFJ1bGUiOiAiZXZlbm9kZCIsCiAgImxpbmVDYXAiOiAicm91bmQiLAogICJsaW5lSm9pbiI6ICJyb3VuZCIsCiAgIm9wYWNpdHkiOiAxLjAsCiAgInJhZGl1cyI6IDUxMjgyLAogICJzdHJva2UiOiB0cnVlLAogICJ3ZWlnaHQiOiAzCn0KICAgICAgICAgICAgICAgICkKICAgICAgICAgICAgICAgIC5hZGRUbyhtYXBfZGRiMDMxNmNhZDczNGY3NmE1MjBlNzY3NjFjZDRkNzgpOwogICAgICAgICAgICAKICAgIAogICAgICAgIGNpcmNsZV8yOGFmYmMyNmMzYmM0NGI4YTZkNTFiMDEzY2FmNTJhNS5iaW5kVG9vbHRpcCgKICAgICAgICAgICAgYDxkaXY+YAogICAgICAgICAgICArIGA8bGk+PGJvbGQ+Q291bnRyeSA6IFN1ZGFuPGxpPjxib2xkPkNvbmZpcm1lZCA6IDEzNjUuMDxsaT48Ym9sZD5EZWF0aF9yYXRlIDogNS4xMjgyMDUxMjgyMDUxMjk8bGk+PGJvbGQ+RGVhdGhzIDogNzAuMDxsaT48Ym9sZD5sb2NrZG93biBkYXRlIDogMjAyMC0wMy0yNDxsaT48Ym9sZD5maXJzdCBjYXNlIGRhdGUgOiAyMDIwLTAzLTE0PGxpPjxib2xkPm1lYW4gYWdlIDogMTguOWAgKyBgPC9kaXY+YCwKICAgICAgICAgICAgeyJzdGlja3kiOiB0cnVlfQogICAgICAgICk7CiAgICAgICAgCiAgICAKCiAgICAgICAgICAgIHZhciBjaXJjbGVfMzEyMTMyYTkzZDUzNDQxY2E1NjE2NDYyZmY2OGE4MTggPSBMLmNpcmNsZSgKICAgICAgICAgICAgICAgIFszLjkxOTMwNTAwMDAwMDAwMTQsIC01Ni4wMjc3ODI5OTk5OTk5OV0sCiAgICAgICAgICAgICAgICB7CiAgImJ1YmJsaW5nTW91c2VFdmVudHMiOiB0cnVlLAogICJjb2xvciI6ICJibHVlIiwKICAiZGFzaEFycmF5IjogbnVsbCwKICAiZGFzaE9mZnNldCI6IG51bGwsCiAgImZpbGwiOiAiYmx1ZSIsCiAgImZpbGxDb2xvciI6ICJibHVlIiwKICAiZmlsbE9wYWNpdHkiOiAwLjIsCiAgImZpbGxSdWxlIjogImV2ZW5vZGQiLAogICJsaW5lQ2FwIjogInJvdW5kIiwKICAibGluZUpvaW4iOiAicm91bmQiLAogICJvcGFjaXR5IjogMS4wLAogICJyYWRpdXMiOiAxMDAwMDAsCiAgInN0cm9rZSI6IHRydWUsCiAgIndlaWdodCI6IDMKfQogICAgICAgICAgICAgICAgKQogICAgICAgICAgICAgICAgLmFkZFRvKG1hcF9kZGIwMzE2Y2FkNzM0Zjc2YTUyMGU3Njc2MWNkNGQ3OCk7CiAgICAgICAgICAgIAogICAgCiAgICAgICAgY2lyY2xlXzMxMjEzMmE5M2Q1MzQ0MWNhNTYxNjQ2MmZmNjhhODE4LmJpbmRUb29sdGlwKAogICAgICAgICAgICBgPGRpdj5gCiAgICAgICAgICAgICsgYDxsaT48Ym9sZD5Db3VudHJ5IDogU3VyaW5hbWU8bGk+PGJvbGQ+Q29uZmlybWVkIDogMTAuMDxsaT48Ym9sZD5EZWF0aF9yYXRlIDogMTAuMDxsaT48Ym9sZD5EZWF0aHMgOiAxLjA8bGk+PGJvbGQ+bG9ja2Rvd24gZGF0ZSA6IG5hbjxsaT48Ym9sZD5maXJzdCBjYXNlIGRhdGUgOiAyMDIwLTAzLTE1PGxpPjxib2xkPm1lYW4gYWdlIDogMjguNGAgKyBgPC9kaXY+YCwKICAgICAgICAgICAgeyJzdGlja3kiOiB0cnVlfQogICAgICAgICk7CiAgICAgICAgCiAgICAKCiAgICAgICAgICAgIHZhciBjaXJjbGVfN2E3YTI1MGRlOWI0NGNiYjg0YTMwNjhkM2M4NzBmNTUgPSBMLmNpcmNsZSgKICAgICAgICAgICAgICAgIFs2MC4xMjgxNjEsIDE4LjY0MzUwMV0sCiAgICAgICAgICAgICAgICB7CiAgImJ1YmJsaW5nTW91c2VFdmVudHMiOiB0cnVlLAogICJjb2xvciI6ICJibHVlIiwKICAiZGFzaEFycmF5IjogbnVsbCwKICAiZGFzaE9mZnNldCI6IG51bGwsCiAgImZpbGwiOiAiYmx1ZSIsCiAgImZpbGxDb2xvciI6ICJibHVlIiwKICAiZmlsbE9wYWNpdHkiOiAwLjIsCiAgImZpbGxSdWxlIjogImV2ZW5vZGQiLAogICJsaW5lQ2FwIjogInJvdW5kIiwKICAibGluZUpvaW4iOiAicm91bmQiLAogICJvcGFjaXR5IjogMS4wLAogICJyYWRpdXMiOiAxMjI1MjEsCiAgInN0cm9rZSI6IHRydWUsCiAgIndlaWdodCI6IDMKfQogICAgICAgICAgICAgICAgKQogICAgICAgICAgICAgICAgLmFkZFRvKG1hcF9kZGIwMzE2Y2FkNzM0Zjc2YTUyMGU3Njc2MWNkNGQ3OCk7CiAgICAgICAgICAgIAogICAgCiAgICAgICAgY2lyY2xlXzdhN2EyNTBkZTliNDRjYmI4NGEzMDY4ZDNjODcwZjU1LmJpbmRUb29sdGlwKAogICAgICAgICAgICBgPGRpdj5gCiAgICAgICAgICAgICsgYDxsaT48Ym9sZD5Db3VudHJ5IDogU3dlZGVuPGxpPjxib2xkPkNvbmZpcm1lZCA6IDI2MzIyLjA8bGk+PGJvbGQ+RGVhdGhfcmF0ZSA6IDEyLjI1MjEwODUwMjM5MzQzNTxsaT48Ym9sZD5EZWF0aHMgOiAzMjI1LjA8bGk+PGJvbGQ+bG9ja2Rvd24gZGF0ZSA6IG5hbjxsaT48Ym9sZD5maXJzdCBjYXNlIGRhdGUgOiAyMDIwLTAyLTAxPGxpPjxib2xkPm1lYW4gYWdlIDogNDAuOWAgKyBgPC9kaXY+YCwKICAgICAgICAgICAgeyJzdGlja3kiOiB0cnVlfQogICAgICAgICk7CiAgICAgICAgCiAgICAKCiAgICAgICAgICAgIHZhciBjaXJjbGVfOWY5MTk1OThjMmE0NGQyODgxYzhmYjdjYjMzNzc5MGMgPSBMLmNpcmNsZSgKICAgICAgICAgICAgICAgIFs0Ni44MTgxODgsIDguMjI3NTExOTk5OTk5OTk5XSwKICAgICAgICAgICAgICAgIHsKICAiYnViYmxpbmdNb3VzZUV2ZW50cyI6IHRydWUsCiAgImNvbG9yIjogImJsdWUiLAogICJkYXNoQXJyYXkiOiBudWxsLAogICJkYXNoT2Zmc2V0IjogbnVsbCwKICAiZmlsbCI6ICJibHVlIiwKICAiZmlsbENvbG9yIjogImJsdWUiLAogICJmaWxsT3BhY2l0eSI6IDAuMiwKICAiZmlsbFJ1bGUiOiAiZXZlbm9kZCIsCiAgImxpbmVDYXAiOiAicm91bmQiLAogICJsaW5lSm9pbiI6ICJyb3VuZCIsCiAgIm9wYWNpdHkiOiAxLjAsCiAgInJhZGl1cyI6IDYwNDg1LAogICJzdHJva2UiOiB0cnVlLAogICJ3ZWlnaHQiOiAzCn0KICAgICAgICAgICAgICAgICkKICAgICAgICAgICAgICAgIC5hZGRUbyhtYXBfZGRiMDMxNmNhZDczNGY3NmE1MjBlNzY3NjFjZDRkNzgpOwogICAgICAgICAgICAKICAgIAogICAgICAgIGNpcmNsZV85ZjkxOTU5OGMyYTQ0ZDI4ODFjOGZiN2NiMzM3NzkwYy5iaW5kVG9vbHRpcCgKICAgICAgICAgICAgYDxkaXY+YAogICAgICAgICAgICArIGA8bGk+PGJvbGQ+Q291bnRyeSA6IFN3aXR6ZXJsYW5kPGxpPjxib2xkPkNvbmZpcm1lZCA6IDMwMzA1LjA8bGk+PGJvbGQ+RGVhdGhfcmF0ZSA6IDYuMDQ4NTA2ODQ3MDU0OTQxNTxsaT48Ym9sZD5EZWF0aHMgOiAxODMzLjA8bGk+PGJvbGQ+bG9ja2Rvd24gZGF0ZSA6IDIwMjAtMDMtMTg8bGk+PGJvbGQ+Zmlyc3QgY2FzZSBkYXRlIDogMjAyMC0wMi0yNjxsaT48Ym9sZD5tZWFuIGFnZSA6IDQyLjJgICsgYDwvZGl2PmAsCiAgICAgICAgICAgIHsic3RpY2t5IjogdHJ1ZX0KICAgICAgICApOwogICAgICAgIAogICAgCgogICAgICAgICAgICB2YXIgY2lyY2xlX2I4MTk2YjM0Nzk2ZjQ2YTNhOWEyMjAyZWM2MTFhOTdiID0gTC5jaXJjbGUoCiAgICAgICAgICAgICAgICBbMzQuODAyMDc1LCAzOC45OTY4MTUwMDAwMDAwMV0sCiAgICAgICAgICAgICAgICB7CiAgImJ1YmJsaW5nTW91c2VFdmVudHMiOiB0cnVlLAogICJjb2xvciI6ICJibHVlIiwKICAiZGFzaEFycmF5IjogbnVsbCwKICAiZGFzaE9mZnNldCI6IG51bGwsCiAgImZpbGwiOiAiYmx1ZSIsCiAgImZpbGxDb2xvciI6ICJibHVlIiwKICAiZmlsbE9wYWNpdHkiOiAwLjIsCiAgImZpbGxSdWxlIjogImV2ZW5vZGQiLAogICJsaW5lQ2FwIjogInJvdW5kIiwKICAibGluZUpvaW4iOiAicm91bmQiLAogICJvcGFjaXR5IjogMS4wLAogICJyYWRpdXMiOiA2MzgyOSwKICAic3Ryb2tlIjogdHJ1ZSwKICAid2VpZ2h0IjogMwp9CiAgICAgICAgICAgICAgICApCiAgICAgICAgICAgICAgICAuYWRkVG8obWFwX2RkYjAzMTZjYWQ3MzRmNzZhNTIwZTc2NzYxY2Q0ZDc4KTsKICAgICAgICAgICAgCiAgICAKICAgICAgICBjaXJjbGVfYjgxOTZiMzQ3OTZmNDZhM2E5YTIyMDJlYzYxMWE5N2IuYmluZFRvb2x0aXAoCiAgICAgICAgICAgIGA8ZGl2PmAKICAgICAgICAgICAgKyBgPGxpPjxib2xkPkNvdW50cnkgOiBTeXJpYTxsaT48Ym9sZD5Db25maXJtZWQgOiA0Ny4wPGxpPjxib2xkPkRlYXRoX3JhdGUgOiA2LjM4Mjk3ODcyMzQwNDI1NTxsaT48Ym9sZD5EZWF0aHMgOiAzLjA8bGk+PGJvbGQ+bG9ja2Rvd24gZGF0ZSA6IG5hbjxsaT48Ym9sZD5maXJzdCBjYXNlIGRhdGUgOiAyMDIwLTAzLTIzPGxpPjxib2xkPm1lYW4gYWdlIDogMzcuMGAgKyBgPC9kaXY+YCwKICAgICAgICAgICAgeyJzdGlja3kiOiB0cnVlfQogICAgICAgICk7CiAgICAgICAgCiAgICAKCiAgICAgICAgICAgIHZhciBjaXJjbGVfMGZhZTQ1ZjMxMWYyNDAzNmFmYjMyZTlkMjQ0MGIzMmIgPSBMLmNpcmNsZSgKICAgICAgICAgICAgICAgIFsyMy42OTc4LCAxMjAuOTYwNV0sCiAgICAgICAgICAgICAgICB7CiAgImJ1YmJsaW5nTW91c2VFdmVudHMiOiB0cnVlLAogICJjb2xvciI6ICJibHVlIiwKICAiZGFzaEFycmF5IjogbnVsbCwKICAiZGFzaE9mZnNldCI6IG51bGwsCiAgImZpbGwiOiAiYmx1ZSIsCiAgImZpbGxDb2xvciI6ICJibHVlIiwKICAiZmlsbE9wYWNpdHkiOiAwLjIsCiAgImZpbGxSdWxlIjogImV2ZW5vZGQiLAogICJsaW5lQ2FwIjogInJvdW5kIiwKICAibGluZUpvaW4iOiAicm91bmQiLAogICJvcGFjaXR5IjogMS4wLAogICJyYWRpdXMiOiAxMzYzNiwKICAic3Ryb2tlIjogdHJ1ZSwKICAid2VpZ2h0IjogMwp9CiAgICAgICAgICAgICAgICApCiAgICAgICAgICAgICAgICAuYWRkVG8obWFwX2RkYjAzMTZjYWQ3MzRmNzZhNTIwZTc2NzYxY2Q0ZDc4KTsKICAgICAgICAgICAgCiAgICAKICAgICAgICBjaXJjbGVfMGZhZTQ1ZjMxMWYyNDAzNmFmYjMyZTlkMjQ0MGIzMmIuYmluZFRvb2x0aXAoCiAgICAgICAgICAgIGA8ZGl2PmAKICAgICAgICAgICAgKyBgPGxpPjxib2xkPkNvdW50cnkgOiBUYWl3YW4qPGxpPjxib2xkPkNvbmZpcm1lZCA6IDQ0MC4wPGxpPjxib2xkPkRlYXRoX3JhdGUgOiAxLjM2MzYzNjM2MzYzNjM2MzU8bGk+PGJvbGQ+RGVhdGhzIDogNi4wPGxpPjxib2xkPmxvY2tkb3duIGRhdGUgOiBuYW48bGk+PGJvbGQ+Zmlyc3QgY2FzZSBkYXRlIDogMjAyMC0wMS0yMzxsaT48Ym9sZD5tZWFuIGFnZSA6IDM3LjBgICsgYDwvZGl2PmAsCiAgICAgICAgICAgIHsic3RpY2t5IjogdHJ1ZX0KICAgICAgICApOwogICAgICAgIAogICAgCgogICAgICAgICAgICB2YXIgY2lyY2xlXzY3YTJlNTVlMDE3ZTQ2ODVhODZlMzBjN2M5NzFlMjQwID0gTC5jaXJjbGUoCiAgICAgICAgICAgICAgICBbLTYuMzY5MDI4LCAzNC44ODg4MjJdLAogICAgICAgICAgICAgICAgewogICJidWJibGluZ01vdXNlRXZlbnRzIjogdHJ1ZSwKICAiY29sb3IiOiAiYmx1ZSIsCiAgImRhc2hBcnJheSI6IG51bGwsCiAgImRhc2hPZmZzZXQiOiBudWxsLAogICJmaWxsIjogImJsdWUiLAogICJmaWxsQ29sb3IiOiAiYmx1ZSIsCiAgImZpbGxPcGFjaXR5IjogMC4yLAogICJmaWxsUnVsZSI6ICJldmVub2RkIiwKICAibGluZUNhcCI6ICJyb3VuZCIsCiAgImxpbmVKb2luIjogInJvdW5kIiwKICAib3BhY2l0eSI6IDEuMCwKICAicmFkaXVzIjogNDEyNTcsCiAgInN0cm9rZSI6IHRydWUsCiAgIndlaWdodCI6IDMKfQogICAgICAgICAgICAgICAgKQogICAgICAgICAgICAgICAgLmFkZFRvKG1hcF9kZGIwMzE2Y2FkNzM0Zjc2YTUyMGU3Njc2MWNkNGQ3OCk7CiAgICAgICAgICAgIAogICAgCiAgICAgICAgY2lyY2xlXzY3YTJlNTVlMDE3ZTQ2ODVhODZlMzBjN2M5NzFlMjQwLmJpbmRUb29sdGlwKAogICAgICAgICAgICBgPGRpdj5gCiAgICAgICAgICAgICsgYDxsaT48Ym9sZD5Db3VudHJ5IDogVGFuemFuaWE8bGk+PGJvbGQ+Q29uZmlybWVkIDogNTA5LjA8bGk+PGJvbGQ+RGVhdGhfcmF0ZSA6IDQuMTI1NzM2NzM4NzAzMzQ8bGk+PGJvbGQ+RGVhdGhzIDogMjEuMDxsaT48Ym9sZD5sb2NrZG93biBkYXRlIDogbmFuPGxpPjxib2xkPmZpcnN0IGNhc2UgZGF0ZSA6IDIwMjAtMDMtMTc8bGk+PGJvbGQ+bWVhbiBhZ2UgOiAzNy4wYCArIGA8L2Rpdj5gLAogICAgICAgICAgICB7InN0aWNreSI6IHRydWV9CiAgICAgICAgKTsKICAgICAgICAKICAgIAoKICAgICAgICAgICAgdmFyIGNpcmNsZV9kMzZhNTQxNmI3MDQ0YzVjOTNlZDY1ZmRiZTA4YWQ2OSA9IEwuY2lyY2xlKAogICAgICAgICAgICAgICAgWzE1Ljg3MDAzMiwgMTAwLjk5MjU0MV0sCiAgICAgICAgICAgICAgICB7CiAgImJ1YmJsaW5nTW91c2VFdmVudHMiOiB0cnVlLAogICJjb2xvciI6ICJibHVlIiwKICAiZGFzaEFycmF5IjogbnVsbCwKICAiZGFzaE9mZnNldCI6IG51bGwsCiAgImZpbGwiOiAiYmx1ZSIsCiAgImZpbGxDb2xvciI6ICJibHVlIiwKICAiZmlsbE9wYWNpdHkiOiAwLjIsCiAgImZpbGxSdWxlIjogImV2ZW5vZGQiLAogICJsaW5lQ2FwIjogInJvdW5kIiwKICAibGluZUpvaW4iOiAicm91bmQiLAogICJvcGFjaXR5IjogMS4wLAogICJyYWRpdXMiOiAxODYxMCwKICAic3Ryb2tlIjogdHJ1ZSwKICAid2VpZ2h0IjogMwp9CiAgICAgICAgICAgICAgICApCiAgICAgICAgICAgICAgICAuYWRkVG8obWFwX2RkYjAzMTZjYWQ3MzRmNzZhNTIwZTc2NzYxY2Q0ZDc4KTsKICAgICAgICAgICAgCiAgICAKICAgICAgICBjaXJjbGVfZDM2YTU0MTZiNzA0NGM1YzkzZWQ2NWZkYmUwOGFkNjkuYmluZFRvb2x0aXAoCiAgICAgICAgICAgIGA8ZGl2PmAKICAgICAgICAgICAgKyBgPGxpPjxib2xkPkNvdW50cnkgOiBUaGFpbGFuZDxsaT48Ym9sZD5Db25maXJtZWQgOiAzMDA5LjA8bGk+PGJvbGQ+RGVhdGhfcmF0ZSA6IDEuODYxMDgzNDE2NDE3NDE0NDxsaT48Ym9sZD5EZWF0aHMgOiA1Ni4wPGxpPjxib2xkPmxvY2tkb3duIGRhdGUgOiAyMDIwLTAzLTIyPGxpPjxib2xkPmZpcnN0IGNhc2UgZGF0ZSA6IDIwMjAtMDEtMjM8bGk+PGJvbGQ+bWVhbiBhZ2UgOiAzNy44YCArIGA8L2Rpdj5gLAogICAgICAgICAgICB7InN0aWNreSI6IHRydWV9CiAgICAgICAgKTsKICAgICAgICAKICAgIAoKICAgICAgICAgICAgdmFyIGNpcmNsZV80MzRiNTBiYzg2YmM0NWM1YjY3ZDIyZTY0NmIyZDA3MSA9IEwuY2lyY2xlKAogICAgICAgICAgICAgICAgWy04Ljg3NDIxNywgMTI1LjcyNzUzOV0sCiAgICAgICAgICAgICAgICB7CiAgImJ1YmJsaW5nTW91c2VFdmVudHMiOiB0cnVlLAogICJjb2xvciI6ICJibHVlIiwKICAiZGFzaEFycmF5IjogbnVsbCwKICAiZGFzaE9mZnNldCI6IG51bGwsCiAgImZpbGwiOiAiYmx1ZSIsCiAgImZpbGxDb2xvciI6ICJibHVlIiwKICAiZmlsbE9wYWNpdHkiOiAwLjIsCiAgImZpbGxSdWxlIjogImV2ZW5vZGQiLAogICJsaW5lQ2FwIjogInJvdW5kIiwKICAibGluZUpvaW4iOiAicm91bmQiLAogICJvcGFjaXR5IjogMS4wLAogICJzdHJva2UiOiB0cnVlLAogICJ3ZWlnaHQiOiAzCn0KICAgICAgICAgICAgICAgICkKICAgICAgICAgICAgICAgIC5hZGRUbyhtYXBfZGRiMDMxNmNhZDczNGY3NmE1MjBlNzY3NjFjZDRkNzgpOwogICAgICAgICAgICAKICAgIAogICAgICAgIGNpcmNsZV80MzRiNTBiYzg2YmM0NWM1YjY3ZDIyZTY0NmIyZDA3MS5iaW5kVG9vbHRpcCgKICAgICAgICAgICAgYDxkaXY+YAogICAgICAgICAgICArIGA8bGk+PGJvbGQ+Q291bnRyeSA6IFRpbW9yLUxlc3RlPGxpPjxib2xkPkNvbmZpcm1lZCA6IDI0LjA8bGk+PGJvbGQ+RGVhdGhfcmF0ZSA6IDAuMDxsaT48Ym9sZD5EZWF0aHMgOiAwLjA8bGk+PGJvbGQ+bG9ja2Rvd24gZGF0ZSA6IDIwMjAtMDMtMjg8bGk+PGJvbGQ+Zmlyc3QgY2FzZSBkYXRlIDogMjAyMC0wMy0yMzxsaT48Ym9sZD5tZWFuIGFnZSA6IDE3LjRgICsgYDwvZGl2PmAsCiAgICAgICAgICAgIHsic3RpY2t5IjogdHJ1ZX0KICAgICAgICApOwogICAgICAgIAogICAgCgogICAgICAgICAgICB2YXIgY2lyY2xlX2Y0YTU1YWJlNDgxNTQ1YTE4YzNmMWY1Zjk2ZWU3NDZlID0gTC5jaXJjbGUoCiAgICAgICAgICAgICAgICBbOC42MTk1NDMsIDAuODI0NzgyXSwKICAgICAgICAgICAgICAgIHsKICAiYnViYmxpbmdNb3VzZUV2ZW50cyI6IHRydWUsCiAgImNvbG9yIjogImJsdWUiLAogICJkYXNoQXJyYXkiOiBudWxsLAogICJkYXNoT2Zmc2V0IjogbnVsbCwKICAiZmlsbCI6ICJibHVlIiwKICAiZmlsbENvbG9yIjogImJsdWUiLAogICJmaWxsT3BhY2l0eSI6IDAuMiwKICAiZmlsbFJ1bGUiOiAiZXZlbm9kZCIsCiAgImxpbmVDYXAiOiAicm91bmQiLAogICJsaW5lSm9pbiI6ICJyb3VuZCIsCiAgIm9wYWNpdHkiOiAxLjAsCiAgInJhZGl1cyI6IDYzMjE4LAogICJzdHJva2UiOiB0cnVlLAogICJ3ZWlnaHQiOiAzCn0KICAgICAgICAgICAgICAgICkKICAgICAgICAgICAgICAgIC5hZGRUbyhtYXBfZGRiMDMxNmNhZDczNGY3NmE1MjBlNzY3NjFjZDRkNzgpOwogICAgICAgICAgICAKICAgIAogICAgICAgIGNpcmNsZV9mNGE1NWFiZTQ4MTU0NWExOGMzZjFmNWY5NmVlNzQ2ZS5iaW5kVG9vbHRpcCgKICAgICAgICAgICAgYDxkaXY+YAogICAgICAgICAgICArIGA8bGk+PGJvbGQ+Q291bnRyeSA6IFRvZ288bGk+PGJvbGQ+Q29uZmlybWVkIDogMTc0LjA8bGk+PGJvbGQ+RGVhdGhfcmF0ZSA6IDYuMzIxODM5MDgwNDU5Nzc8bGk+PGJvbGQ+RGVhdGhzIDogMTEuMDxsaT48Ym9sZD5sb2NrZG93biBkYXRlIDogMjAyMC0wMy0yMDxsaT48Ym9sZD5maXJzdCBjYXNlIGRhdGUgOiAyMDIwLTAzLTA3PGxpPjxib2xkPm1lYW4gYWdlIDogMTguOWAgKyBgPC9kaXY+YCwKICAgICAgICAgICAgeyJzdGlja3kiOiB0cnVlfQogICAgICAgICk7CiAgICAgICAgCiAgICAKCiAgICAgICAgICAgIHZhciBjaXJjbGVfZmZlNjA0MTUxMjQzNDJlYzk3YzY0ZjU0MDZjMzRkOTEgPSBMLmNpcmNsZSgKICAgICAgICAgICAgICAgIFsxMC42OTE4MDMsIC02MS4yMjI1MDNdLAogICAgICAgICAgICAgICAgewogICJidWJibGluZ01vdXNlRXZlbnRzIjogdHJ1ZSwKICAiY29sb3IiOiAiYmx1ZSIsCiAgImRhc2hBcnJheSI6IG51bGwsCiAgImRhc2hPZmZzZXQiOiBudWxsLAogICJmaWxsIjogImJsdWUiLAogICJmaWxsQ29sb3IiOiAiYmx1ZSIsCiAgImZpbGxPcGFjaXR5IjogMC4yLAogICJmaWxsUnVsZSI6ICJldmVub2RkIiwKICAibGluZUNhcCI6ICJyb3VuZCIsCiAgImxpbmVKb2luIjogInJvdW5kIiwKICAib3BhY2l0eSI6IDEuMCwKICAicmFkaXVzIjogNjg5NjUsCiAgInN0cm9rZSI6IHRydWUsCiAgIndlaWdodCI6IDMKfQogICAgICAgICAgICAgICAgKQogICAgICAgICAgICAgICAgLmFkZFRvKG1hcF9kZGIwMzE2Y2FkNzM0Zjc2YTUyMGU3Njc2MWNkNGQ3OCk7CiAgICAgICAgICAgIAogICAgCiAgICAgICAgY2lyY2xlX2ZmZTYwNDE1MTI0MzQyZWM5N2M2NGY1NDA2YzM0ZDkxLmJpbmRUb29sdGlwKAogICAgICAgICAgICBgPGRpdj5gCiAgICAgICAgICAgICsgYDxsaT48Ym9sZD5Db3VudHJ5IDogVHJpbmlkYWQgYW5kIFRvYmFnbzxsaT48Ym9sZD5Db25maXJtZWQgOiAxMTYuMDxsaT48Ym9sZD5EZWF0aF9yYXRlIDogNi44OTY1NTE3MjQxMzc5MzE8bGk+PGJvbGQ+RGVhdGhzIDogOC4wPGxpPjxib2xkPmxvY2tkb3duIGRhdGUgOiAyMDIwLTAzLTEzPGxpPjxib2xkPmZpcnN0IGNhc2UgZGF0ZSA6IDIwMjAtMDMtMTU8bGk+PGJvbGQ+bWVhbiBhZ2UgOiAzMy45YCArIGA8L2Rpdj5gLAogICAgICAgICAgICB7InN0aWNreSI6IHRydWV9CiAgICAgICAgKTsKICAgICAgICAKICAgIAoKICAgICAgICAgICAgdmFyIGNpcmNsZV83ZDI4YWVkZjA4YWM0OTg2YmQ2MmVkNGJiYTlmZjFmNSA9IEwuY2lyY2xlKAogICAgICAgICAgICAgICAgWzMzLjg4NjkxNywgOS41Mzc0OTldLAogICAgICAgICAgICAgICAgewogICJidWJibGluZ01vdXNlRXZlbnRzIjogdHJ1ZSwKICAiY29sb3IiOiAiYmx1ZSIsCiAgImRhc2hBcnJheSI6IG51bGwsCiAgImRhc2hPZmZzZXQiOiBudWxsLAogICJmaWxsIjogImJsdWUiLAogICJmaWxsQ29sb3IiOiAiYmx1ZSIsCiAgImZpbGxPcGFjaXR5IjogMC4yLAogICJmaWxsUnVsZSI6ICJldmVub2RkIiwKICAibGluZUNhcCI6ICJyb3VuZCIsCiAgImxpbmVKb2luIjogInJvdW5kIiwKICAib3BhY2l0eSI6IDEuMCwKICAicmFkaXVzIjogNDM2MDQsCiAgInN0cm9rZSI6IHRydWUsCiAgIndlaWdodCI6IDMKfQogICAgICAgICAgICAgICAgKQogICAgICAgICAgICAgICAgLmFkZFRvKG1hcF9kZGIwMzE2Y2FkNzM0Zjc2YTUyMGU3Njc2MWNkNGQ3OCk7CiAgICAgICAgICAgIAogICAgCiAgICAgICAgY2lyY2xlXzdkMjhhZWRmMDhhYzQ5ODZiZDYyZWQ0YmJhOWZmMWY1LmJpbmRUb29sdGlwKAogICAgICAgICAgICBgPGRpdj5gCiAgICAgICAgICAgICsgYDxsaT48Ym9sZD5Db3VudHJ5IDogVHVuaXNpYTxsaT48Ym9sZD5Db25maXJtZWQgOiAxMDMyLjA8bGk+PGJvbGQ+RGVhdGhfcmF0ZSA6IDQuMzYwNDY1MTE2Mjc5MDY5NTxsaT48Ym9sZD5EZWF0aHMgOiA0NS4wPGxpPjxib2xkPmxvY2tkb3duIGRhdGUgOiAyMDIwLTAzLTIwPGxpPjxib2xkPmZpcnN0IGNhc2UgZGF0ZSA6IDIwMjAtMDMtMDU8bGk+PGJvbGQ+bWVhbiBhZ2UgOiAzMS4xYCArIGA8L2Rpdj5gLAogICAgICAgICAgICB7InN0aWNreSI6IHRydWV9CiAgICAgICAgKTsKICAgICAgICAKICAgIAoKICAgICAgICAgICAgdmFyIGNpcmNsZV85YWQ0MTg5OGU4OGY0M2UyYjcyYTI2ZDI3ZDUxYWIxYiA9IEwuY2lyY2xlKAogICAgICAgICAgICAgICAgWzM4Ljk2Mzc0NSwgMzUuMjQzMzIyXSwKICAgICAgICAgICAgICAgIHsKICAiYnViYmxpbmdNb3VzZUV2ZW50cyI6IHRydWUsCiAgImNvbG9yIjogImJsdWUiLAogICJkYXNoQXJyYXkiOiBudWxsLAogICJkYXNoT2Zmc2V0IjogbnVsbCwKICAiZmlsbCI6ICJibHVlIiwKICAiZmlsbENvbG9yIjogImJsdWUiLAogICJmaWxsT3BhY2l0eSI6IDAuMiwKICAiZmlsbFJ1bGUiOiAiZXZlbm9kZCIsCiAgImxpbmVDYXAiOiAicm91bmQiLAogICJsaW5lSm9pbiI6ICJyb3VuZCIsCiAgIm9wYWNpdHkiOiAxLjAsCiAgInJhZGl1cyI6IDI3MzA0LAogICJzdHJva2UiOiB0cnVlLAogICJ3ZWlnaHQiOiAzCn0KICAgICAgICAgICAgICAgICkKICAgICAgICAgICAgICAgIC5hZGRUbyhtYXBfZGRiMDMxNmNhZDczNGY3NmE1MjBlNzY3NjFjZDRkNzgpOwogICAgICAgICAgICAKICAgIAogICAgICAgIGNpcmNsZV85YWQ0MTg5OGU4OGY0M2UyYjcyYTI2ZDI3ZDUxYWIxYi5iaW5kVG9vbHRpcCgKICAgICAgICAgICAgYDxkaXY+YAogICAgICAgICAgICArIGA8bGk+PGJvbGQ+Q291bnRyeSA6IFR1cmtleTxsaT48Ym9sZD5Db25maXJtZWQgOiAxMzg2NTcuMDxsaT48Ym9sZD5EZWF0aF9yYXRlIDogMi43MzA0Nzg4MDc0MTY4NjMzPGxpPjxib2xkPkRlYXRocyA6IDM3ODYuMDxsaT48Ym9sZD5sb2NrZG93biBkYXRlIDogMjAyMC0wMy0yMzxsaT48Ym9sZD5maXJzdCBjYXNlIGRhdGUgOiAyMDIwLTAzLTEyPGxpPjxib2xkPm1lYW4gYWdlIDogMjkuOWAgKyBgPC9kaXY+YCwKICAgICAgICAgICAgeyJzdGlja3kiOiB0cnVlfQogICAgICAgICk7CiAgICAgICAgCiAgICAKCiAgICAgICAgICAgIHZhciBjaXJjbGVfZDRhYzJmNzY4NzdjNDk3ZmIwZDViOWU2NGNlM2YxNTAgPSBMLmNpcmNsZSgKICAgICAgICAgICAgICAgIFszNy4wOTAyNCwgLTk1LjcxMjg5MV0sCiAgICAgICAgICAgICAgICB7CiAgImJ1YmJsaW5nTW91c2VFdmVudHMiOiB0cnVlLAogICJjb2xvciI6ICJibHVlIiwKICAiZGFzaEFycmF5IjogbnVsbCwKICAiZGFzaE9mZnNldCI6IG51bGwsCiAgImZpbGwiOiAiYmx1ZSIsCiAgImZpbGxDb2xvciI6ICJibHVlIiwKICAiZmlsbE9wYWNpdHkiOiAwLjIsCiAgImZpbGxSdWxlIjogImV2ZW5vZGQiLAogICJsaW5lQ2FwIjogInJvdW5kIiwKICAibGluZUpvaW4iOiAicm91bmQiLAogICJvcGFjaXR5IjogMS4wLAogICJyYWRpdXMiOiA1OTgzMSwKICAic3Ryb2tlIjogdHJ1ZSwKICAid2VpZ2h0IjogMwp9CiAgICAgICAgICAgICAgICApCiAgICAgICAgICAgICAgICAuYWRkVG8obWFwX2RkYjAzMTZjYWQ3MzRmNzZhNTIwZTc2NzYxY2Q0ZDc4KTsKICAgICAgICAgICAgCiAgICAKICAgICAgICBjaXJjbGVfZDRhYzJmNzY4NzdjNDk3ZmIwZDViOWU2NGNlM2YxNTAuYmluZFRvb2x0aXAoCiAgICAgICAgICAgIGA8ZGl2PmAKICAgICAgICAgICAgKyBgPGxpPjxib2xkPkNvdW50cnkgOiBVUzxsaT48Ym9sZD5Db25maXJtZWQgOiAxMzI5MDkyLjA8bGk+PGJvbGQ+RGVhdGhfcmF0ZSA6IDUuOTgzMTA3MjY0MjA3NDQ0PGxpPjxib2xkPkRlYXRocyA6IDc5NTIxLjA8bGk+PGJvbGQ+bG9ja2Rvd24gZGF0ZSA6IDIwMjAtMDMtMjM8bGk+PGJvbGQ+Zmlyc3QgY2FzZSBkYXRlIDogMjAyMC0wMy0xMDxsaT48Ym9sZD5tZWFuIGFnZSA6IDM3LjZgICsgYDwvZGl2PmAsCiAgICAgICAgICAgIHsic3RpY2t5IjogdHJ1ZX0KICAgICAgICApOwogICAgICAgIAogICAgCgogICAgICAgICAgICB2YXIgY2lyY2xlXzVlMWYxMTU1NzQ1YjRhYWRhYjk2NTFiODE3NDZmOGJkID0gTC5jaXJjbGUoCiAgICAgICAgICAgICAgICBbMS4zNzMzMzMsIDMyLjI5MDI3NV0sCiAgICAgICAgICAgICAgICB7CiAgImJ1YmJsaW5nTW91c2VFdmVudHMiOiB0cnVlLAogICJjb2xvciI6ICJibHVlIiwKICAiZGFzaEFycmF5IjogbnVsbCwKICAiZGFzaE9mZnNldCI6IG51bGwsCiAgImZpbGwiOiAiYmx1ZSIsCiAgImZpbGxDb2xvciI6ICJibHVlIiwKICAiZmlsbE9wYWNpdHkiOiAwLjIsCiAgImZpbGxSdWxlIjogImV2ZW5vZGQiLAogICJsaW5lQ2FwIjogInJvdW5kIiwKICAibGluZUpvaW4iOiAicm91bmQiLAogICJvcGFjaXR5IjogMS4wLAogICJzdHJva2UiOiB0cnVlLAogICJ3ZWlnaHQiOiAzCn0KICAgICAgICAgICAgICAgICkKICAgICAgICAgICAgICAgIC5hZGRUbyhtYXBfZGRiMDMxNmNhZDczNGY3NmE1MjBlNzY3NjFjZDRkNzgpOwogICAgICAgICAgICAKICAgIAogICAgICAgIGNpcmNsZV81ZTFmMTE1NTc0NWI0YWFkYWI5NjUxYjgxNzQ2ZjhiZC5iaW5kVG9vbHRpcCgKICAgICAgICAgICAgYDxkaXY+YAogICAgICAgICAgICArIGA8bGk+PGJvbGQ+Q291bnRyeSA6IFVnYW5kYTxsaT48Ym9sZD5Db25maXJtZWQgOiAxMjEuMDxsaT48Ym9sZD5EZWF0aF9yYXRlIDogMC4wPGxpPjxib2xkPkRlYXRocyA6IDAuMDxsaT48Ym9sZD5sb2NrZG93biBkYXRlIDogMjAyMC0wMy0xODxsaT48Ym9sZD5maXJzdCBjYXNlIGRhdGUgOiAyMDIwLTAzLTIyPGxpPjxib2xkPm1lYW4gYWdlIDogMTUuOGAgKyBgPC9kaXY+YCwKICAgICAgICAgICAgeyJzdGlja3kiOiB0cnVlfQogICAgICAgICk7CiAgICAgICAgCiAgICAKCiAgICAgICAgICAgIHZhciBjaXJjbGVfYzIyMjU0MTcyZjE0NDE5ZTgwNTQxYTRkZDdhMTZlZTQgPSBMLmNpcmNsZSgKICAgICAgICAgICAgICAgIFs0OC4zNzk0MzMsIDMxLjE2NTU4XSwKICAgICAgICAgICAgICAgIHsKICAiYnViYmxpbmdNb3VzZUV2ZW50cyI6IHRydWUsCiAgImNvbG9yIjogImJsdWUiLAogICJkYXNoQXJyYXkiOiBudWxsLAogICJkYXNoT2Zmc2V0IjogbnVsbCwKICAiZmlsbCI6ICJibHVlIiwKICAiZmlsbENvbG9yIjogImJsdWUiLAogICJmaWxsT3BhY2l0eSI6IDAuMiwKICAiZmlsbFJ1bGUiOiAiZXZlbm9kZCIsCiAgImxpbmVDYXAiOiAicm91bmQiLAogICJsaW5lSm9pbiI6ICJyb3VuZCIsCiAgIm9wYWNpdHkiOiAxLjAsCiAgInJhZGl1cyI6IDI1NjY5LAogICJzdHJva2UiOiB0cnVlLAogICJ3ZWlnaHQiOiAzCn0KICAgICAgICAgICAgICAgICkKICAgICAgICAgICAgICAgIC5hZGRUbyhtYXBfZGRiMDMxNmNhZDczNGY3NmE1MjBlNzY3NjFjZDRkNzgpOwogICAgICAgICAgICAKICAgIAogICAgICAgIGNpcmNsZV9jMjIyNTQxNzJmMTQ0MTllODA1NDFhNGRkN2ExNmVlNC5iaW5kVG9vbHRpcCgKICAgICAgICAgICAgYDxkaXY+YAogICAgICAgICAgICArIGA8bGk+PGJvbGQ+Q291bnRyeSA6IFVrcmFpbmU8bGk+PGJvbGQ+Q29uZmlybWVkIDogMTUyMzIuMDxsaT48Ym9sZD5EZWF0aF9yYXRlIDogMi41NjY5NjQyODU3MTQyODU2PGxpPjxib2xkPkRlYXRocyA6IDM5MS4wPGxpPjxib2xkPmxvY2tkb3duIGRhdGUgOiAyMDIwLTAzLTE3PGxpPjxib2xkPmZpcnN0IGNhc2UgZGF0ZSA6IDIwMjAtMDMtMDQ8bGk+PGJvbGQ+bWVhbiBhZ2UgOiA0MC4zYCArIGA8L2Rpdj5gLAogICAgICAgICAgICB7InN0aWNreSI6IHRydWV9CiAgICAgICAgKTsKICAgICAgICAKICAgIAoKICAgICAgICAgICAgdmFyIGNpcmNsZV9mODUyOTQ1MGEyODg0MDIxOTFkMDA3ZGNmZWQwMmNjNSA9IEwuY2lyY2xlKAogICAgICAgICAgICAgICAgWzIzLjQyNDA3NiwgNTMuODQ3ODE4MDAwMDAwMDA0XSwKICAgICAgICAgICAgICAgIHsKICAiYnViYmxpbmdNb3VzZUV2ZW50cyI6IHRydWUsCiAgImNvbG9yIjogImJsdWUiLAogICJkYXNoQXJyYXkiOiBudWxsLAogICJkYXNoT2Zmc2V0IjogbnVsbCwKICAiZmlsbCI6ICJibHVlIiwKICAiZmlsbENvbG9yIjogImJsdWUiLAogICJmaWxsT3BhY2l0eSI6IDAuMiwKICAiZmlsbFJ1bGUiOiAiZXZlbm9kZCIsCiAgImxpbmVDYXAiOiAicm91bmQiLAogICJsaW5lSm9pbiI6ICJyb3VuZCIsCiAgIm9wYWNpdHkiOiAxLjAsCiAgInJhZGl1cyI6IDEwODgwLAogICJzdHJva2UiOiB0cnVlLAogICJ3ZWlnaHQiOiAzCn0KICAgICAgICAgICAgICAgICkKICAgICAgICAgICAgICAgIC5hZGRUbyhtYXBfZGRiMDMxNmNhZDczNGY3NmE1MjBlNzY3NjFjZDRkNzgpOwogICAgICAgICAgICAKICAgIAogICAgICAgIGNpcmNsZV9mODUyOTQ1MGEyODg0MDIxOTFkMDA3ZGNmZWQwMmNjNS5iaW5kVG9vbHRpcCgKICAgICAgICAgICAgYDxkaXY+YAogICAgICAgICAgICArIGA8bGk+PGJvbGQ+Q291bnRyeSA6IFVuaXRlZCBBcmFiIEVtaXJhdGVzPGxpPjxib2xkPkNvbmZpcm1lZCA6IDE4MTk4LjA8bGk+PGJvbGQ+RGVhdGhfcmF0ZSA6IDEuMDg4MDMxNjUxODI5ODcxNDxsaT48Ym9sZD5EZWF0aHMgOiAxOTguMDxsaT48Ym9sZD5sb2NrZG93biBkYXRlIDogMjAyMC0wMy0yNDxsaT48Ym9sZD5maXJzdCBjYXNlIGRhdGUgOiAyMDIwLTAxLTMwPGxpPjxib2xkPm1lYW4gYWdlIDogMzMuNGAgKyBgPC9kaXY+YCwKICAgICAgICAgICAgeyJzdGlja3kiOiB0cnVlfQogICAgICAgICk7CiAgICAgICAgCiAgICAKCiAgICAgICAgICAgIHZhciBjaXJjbGVfMjU2MDdkZWIwYjYzNDM1ODgyOWMwN2M5YTBiZjI0NWEgPSBMLmNpcmNsZSgKICAgICAgICAgICAgICAgIFs1NS4zNzgwNTEsIC0zLjQzNTk3M10sCiAgICAgICAgICAgICAgICB7CiAgImJ1YmJsaW5nTW91c2VFdmVudHMiOiB0cnVlLAogICJjb2xvciI6ICJibHVlIiwKICAiZGFzaEFycmF5IjogbnVsbCwKICAiZGFzaE9mZnNldCI6IG51bGwsCiAgImZpbGwiOiAiYmx1ZSIsCiAgImZpbGxDb2xvciI6ICJibHVlIiwKICAiZmlsbE9wYWNpdHkiOiAwLjIsCiAgImZpbGxSdWxlIjogImV2ZW5vZGQiLAogICJsaW5lQ2FwIjogInJvdW5kIiwKICAibGluZUpvaW4iOiAicm91bmQiLAogICJvcGFjaXR5IjogMS4wLAogICJyYWRpdXMiOiAxNDQ4NDAsCiAgInN0cm9rZSI6IHRydWUsCiAgIndlaWdodCI6IDMKfQogICAgICAgICAgICAgICAgKQogICAgICAgICAgICAgICAgLmFkZFRvKG1hcF9kZGIwMzE2Y2FkNzM0Zjc2YTUyMGU3Njc2MWNkNGQ3OCk7CiAgICAgICAgICAgIAogICAgCiAgICAgICAgY2lyY2xlXzI1NjA3ZGViMGI2MzQzNTg4MjljMDdjOWEwYmYyNDVhLmJpbmRUb29sdGlwKAogICAgICAgICAgICBgPGRpdj5gCiAgICAgICAgICAgICsgYDxsaT48Ym9sZD5Db3VudHJ5IDogVW5pdGVkIEtpbmdkb208bGk+PGJvbGQ+Q29uZmlybWVkIDogMjIwNDQ5LjA8bGk+PGJvbGQ+RGVhdGhfcmF0ZSA6IDE0LjQ4NDA3NTY4MTkwMzc1PGxpPjxib2xkPkRlYXRocyA6IDMxOTMwLjA8bGk+PGJvbGQ+bG9ja2Rvd24gZGF0ZSA6IDIwMjAtMDMtMjM8bGk+PGJvbGQ+Zmlyc3QgY2FzZSBkYXRlIDogMjAyMC0wMi0wMTxsaT48Ym9sZD5tZWFuIGFnZSA6IDQwLjJgICsgYDwvZGl2PmAsCiAgICAgICAgICAgIHsic3RpY2t5IjogdHJ1ZX0KICAgICAgICApOwogICAgICAgIAogICAgCgogICAgICAgICAgICB2YXIgY2lyY2xlXzNmZTQ1MTY5MmZmYjRkYmNiMTIxZDk1NjA4MzBmN2JmID0gTC5jaXJjbGUoCiAgICAgICAgICAgICAgICBbLTMyLjUyMjc3OSwgLTU1Ljc2NTgzNDk5OTk5OTk5Nl0sCiAgICAgICAgICAgICAgICB7CiAgImJ1YmJsaW5nTW91c2VFdmVudHMiOiB0cnVlLAogICJjb2xvciI6ICJibHVlIiwKICAiZGFzaEFycmF5IjogbnVsbCwKICAiZGFzaE9mZnNldCI6IG51bGwsCiAgImZpbGwiOiAiYmx1ZSIsCiAgImZpbGxDb2xvciI6ICJibHVlIiwKICAiZmlsbE9wYWNpdHkiOiAwLjIsCiAgImZpbGxSdWxlIjogImV2ZW5vZGQiLAogICJsaW5lQ2FwIjogInJvdW5kIiwKICAibGluZUpvaW4iOiAicm91bmQiLAogICJvcGFjaXR5IjogMS4wLAogICJyYWRpdXMiOiAyNjg3NCwKICAic3Ryb2tlIjogdHJ1ZSwKICAid2VpZ2h0IjogMwp9CiAgICAgICAgICAgICAgICApCiAgICAgICAgICAgICAgICAuYWRkVG8obWFwX2RkYjAzMTZjYWQ3MzRmNzZhNTIwZTc2NzYxY2Q0ZDc4KTsKICAgICAgICAgICAgCiAgICAKICAgICAgICBjaXJjbGVfM2ZlNDUxNjkyZmZiNGRiY2IxMjFkOTU2MDgzMGY3YmYuYmluZFRvb2x0aXAoCiAgICAgICAgICAgIGA8ZGl2PmAKICAgICAgICAgICAgKyBgPGxpPjxib2xkPkNvdW50cnkgOiBVcnVndWF5PGxpPjxib2xkPkNvbmZpcm1lZCA6IDcwNy4wPGxpPjxib2xkPkRlYXRoX3JhdGUgOiAyLjY4NzQxMTU5ODMwMjY4NzQ8bGk+PGJvbGQ+RGVhdGhzIDogMTkuMDxsaT48Ym9sZD5sb2NrZG93biBkYXRlIDogMjAyMC0wMy0xNjxsaT48Ym9sZD5maXJzdCBjYXNlIGRhdGUgOiAyMDIwLTAzLTE1PGxpPjxib2xkPm1lYW4gYWdlIDogMzQuOWAgKyBgPC9kaXY+YCwKICAgICAgICAgICAgeyJzdGlja3kiOiB0cnVlfQogICAgICAgICk7CiAgICAgICAgCiAgICAKCiAgICAgICAgICAgIHZhciBjaXJjbGVfYTJkMzg5MTE1ZjE2NGE4NDg4NTYyMjE0YmIwNjliM2EgPSBMLmNpcmNsZSgKICAgICAgICAgICAgICAgIFs0MS4zNzc0OTEsIDY0LjU4NTI2Ml0sCiAgICAgICAgICAgICAgICB7CiAgImJ1YmJsaW5nTW91c2VFdmVudHMiOiB0cnVlLAogICJjb2xvciI6ICJibHVlIiwKICAiZGFzaEFycmF5IjogbnVsbCwKICAiZGFzaE9mZnNldCI6IG51bGwsCiAgImZpbGwiOiAiYmx1ZSIsCiAgImZpbGxDb2xvciI6ICJibHVlIiwKICAiZmlsbE9wYWNpdHkiOiAwLjIsCiAgImZpbGxSdWxlIjogImV2ZW5vZGQiLAogICJsaW5lQ2FwIjogInJvdW5kIiwKICAibGluZUpvaW4iOiAicm91bmQiLAogICJvcGFjaXR5IjogMS4wLAogICJyYWRpdXMiOiA0MTM1LAogICJzdHJva2UiOiB0cnVlLAogICJ3ZWlnaHQiOiAzCn0KICAgICAgICAgICAgICAgICkKICAgICAgICAgICAgICAgIC5hZGRUbyhtYXBfZGRiMDMxNmNhZDczNGY3NmE1MjBlNzY3NjFjZDRkNzgpOwogICAgICAgICAgICAKICAgIAogICAgICAgIGNpcmNsZV9hMmQzODkxMTVmMTY0YTg0ODg1NjIyMTRiYjA2OWIzYS5iaW5kVG9vbHRpcCgKICAgICAgICAgICAgYDxkaXY+YAogICAgICAgICAgICArIGA8bGk+PGJvbGQ+Q291bnRyeSA6IFV6YmVraXN0YW48bGk+PGJvbGQ+Q29uZmlybWVkIDogMjQxOC4wPGxpPjxib2xkPkRlYXRoX3JhdGUgOiAwLjQxMzU2NDkyOTY5Mzk2MTk3PGxpPjxib2xkPkRlYXRocyA6IDEwLjA8bGk+PGJvbGQ+bG9ja2Rvd24gZGF0ZSA6IDIwMjAtMDMtMjA8bGk+PGJvbGQ+Zmlyc3QgY2FzZSBkYXRlIDogMjAyMC0wMy0xNjxsaT48Ym9sZD5tZWFuIGFnZSA6IDI2LjNgICsgYDwvZGl2PmAsCiAgICAgICAgICAgIHsic3RpY2t5IjogdHJ1ZX0KICAgICAgICApOwogICAgICAgIAogICAgCgogICAgICAgICAgICB2YXIgY2lyY2xlX2EzMzU5M2E0NWFlNDRmNmRhMjJjYjcyNzljMWRlOGU5ID0gTC5jaXJjbGUoCiAgICAgICAgICAgICAgICBbNi40MjM3NSwgLTY2LjU4OTczXSwKICAgICAgICAgICAgICAgIHsKICAiYnViYmxpbmdNb3VzZUV2ZW50cyI6IHRydWUsCiAgImNvbG9yIjogImJsdWUiLAogICJkYXNoQXJyYXkiOiBudWxsLAogICJkYXNoT2Zmc2V0IjogbnVsbCwKICAiZmlsbCI6ICJibHVlIiwKICAiZmlsbENvbG9yIjogImJsdWUiLAogICJmaWxsT3BhY2l0eSI6IDAuMiwKICAiZmlsbFJ1bGUiOiAiZXZlbm9kZCIsCiAgImxpbmVDYXAiOiAicm91bmQiLAogICJsaW5lSm9pbiI6ICJyb3VuZCIsCiAgIm9wYWNpdHkiOiAxLjAsCiAgInJhZGl1cyI6IDI0MTU0LAogICJzdHJva2UiOiB0cnVlLAogICJ3ZWlnaHQiOiAzCn0KICAgICAgICAgICAgICAgICkKICAgICAgICAgICAgICAgIC5hZGRUbyhtYXBfZGRiMDMxNmNhZDczNGY3NmE1MjBlNzY3NjFjZDRkNzgpOwogICAgICAgICAgICAKICAgIAogICAgICAgIGNpcmNsZV9hMzM1OTNhNDVhZTQ0ZjZkYTIyY2I3Mjc5YzFkZThlOS5iaW5kVG9vbHRpcCgKICAgICAgICAgICAgYDxkaXY+YAogICAgICAgICAgICArIGA8bGk+PGJvbGQ+Q291bnRyeSA6IFZlbmV6dWVsYTxsaT48Ym9sZD5Db25maXJtZWQgOiA0MTQuMDxsaT48Ym9sZD5EZWF0aF9yYXRlIDogMi40MTU0NTg5MzcxOTgwNjc3PGxpPjxib2xkPkRlYXRocyA6IDEwLjA8bGk+PGJvbGQ+bG9ja2Rvd24gZGF0ZSA6IDIwMjAtMDMtMTY8bGk+PGJvbGQ+Zmlyc3QgY2FzZSBkYXRlIDogMjAyMC0wMy0xNTxsaT48Ym9sZD5tZWFuIGFnZSA6IDM3LjBgICsgYDwvZGl2PmAsCiAgICAgICAgICAgIHsic3RpY2t5IjogdHJ1ZX0KICAgICAgICApOwogICAgICAgIAogICAgCgogICAgICAgICAgICB2YXIgY2lyY2xlXzkyMzI0MGEzMjdmNjRiMDI4NjRiMTFlMjBlNzkyMmE4ID0gTC5jaXJjbGUoCiAgICAgICAgICAgICAgICBbMTQuMDU4MzIzOTk5OTk5OTk5LCAxMDguMjc3MTk5XSwKICAgICAgICAgICAgICAgIHsKICAiYnViYmxpbmdNb3VzZUV2ZW50cyI6IHRydWUsCiAgImNvbG9yIjogImJsdWUiLAogICJkYXNoQXJyYXkiOiBudWxsLAogICJkYXNoT2Zmc2V0IjogbnVsbCwKICAiZmlsbCI6ICJibHVlIiwKICAiZmlsbENvbG9yIjogImJsdWUiLAogICJmaWxsT3BhY2l0eSI6IDAuMiwKICAiZmlsbFJ1bGUiOiAiZXZlbm9kZCIsCiAgImxpbmVDYXAiOiAicm91bmQiLAogICJsaW5lSm9pbiI6ICJyb3VuZCIsCiAgIm9wYWNpdHkiOiAxLjAsCiAgInN0cm9rZSI6IHRydWUsCiAgIndlaWdodCI6IDMKfQogICAgICAgICAgICAgICAgKQogICAgICAgICAgICAgICAgLmFkZFRvKG1hcF9kZGIwMzE2Y2FkNzM0Zjc2YTUyMGU3Njc2MWNkNGQ3OCk7CiAgICAgICAgICAgIAogICAgCiAgICAgICAgY2lyY2xlXzkyMzI0MGEzMjdmNjRiMDI4NjRiMTFlMjBlNzkyMmE4LmJpbmRUb29sdGlwKAogICAgICAgICAgICBgPGRpdj5gCiAgICAgICAgICAgICsgYDxsaT48Ym9sZD5Db3VudHJ5IDogVmlldG5hbTxsaT48Ym9sZD5Db25maXJtZWQgOiAyODguMDxsaT48Ym9sZD5EZWF0aF9yYXRlIDogMC4wPGxpPjxib2xkPkRlYXRocyA6IDAuMDxsaT48Ym9sZD5sb2NrZG93biBkYXRlIDogMjAyMC0wMy0xOTxsaT48Ym9sZD5maXJzdCBjYXNlIGRhdGUgOiAyMDIwLTAxLTI0PGxpPjxib2xkPm1lYW4gYWdlIDogMzcuMGAgKyBgPC9kaXY+YCwKICAgICAgICAgICAgeyJzdGlja3kiOiB0cnVlfQogICAgICAgICk7CiAgICAgICAgCiAgICAKCiAgICAgICAgICAgIHZhciBjaXJjbGVfNWNiZDcwZGZlYzc5NDU1M2FlMDY0ODMxY2U1ODQwOWQgPSBMLmNpcmNsZSgKICAgICAgICAgICAgICAgIFszMS45NDY2LCAzNS4zMDI3XSwKICAgICAgICAgICAgICAgIHsKICAiYnViYmxpbmdNb3VzZUV2ZW50cyI6IHRydWUsCiAgImNvbG9yIjogImJsdWUiLAogICJkYXNoQXJyYXkiOiBudWxsLAogICJkYXNoT2Zmc2V0IjogbnVsbCwKICAiZmlsbCI6ICJibHVlIiwKICAiZmlsbENvbG9yIjogImJsdWUiLAogICJmaWxsT3BhY2l0eSI6IDAuMiwKICAiZmlsbFJ1bGUiOiAiZXZlbm9kZCIsCiAgImxpbmVDYXAiOiAicm91bmQiLAogICJsaW5lSm9pbiI6ICJyb3VuZCIsCiAgIm9wYWNpdHkiOiAxLjAsCiAgInJhZGl1cyI6IDUzMzMsCiAgInN0cm9rZSI6IHRydWUsCiAgIndlaWdodCI6IDMKfQogICAgICAgICAgICAgICAgKQogICAgICAgICAgICAgICAgLmFkZFRvKG1hcF9kZGIwMzE2Y2FkNzM0Zjc2YTUyMGU3Njc2MWNkNGQ3OCk7CiAgICAgICAgICAgIAogICAgCiAgICAgICAgY2lyY2xlXzVjYmQ3MGRmZWM3OTQ1NTNhZTA2NDgzMWNlNTg0MDlkLmJpbmRUb29sdGlwKAogICAgICAgICAgICBgPGRpdj5gCiAgICAgICAgICAgICsgYDxsaT48Ym9sZD5Db3VudHJ5IDogV2VzdCBCYW5rIGFuZCBHYXphPGxpPjxib2xkPkNvbmZpcm1lZCA6IDM3NS4wPGxpPjxib2xkPkRlYXRoX3JhdGUgOiAwLjUzMzMzMzMzMzMzMzMzMzM8bGk+PGJvbGQ+RGVhdGhzIDogMi4wPGxpPjxib2xkPmxvY2tkb3duIGRhdGUgOiAyMDIwLTA0LTA5PGxpPjxib2xkPmZpcnN0IGNhc2UgZGF0ZSA6IDIwMjAtMDMtMDY8bGk+PGJvbGQ+bWVhbiBhZ2UgOiAzNy4wYCArIGA8L2Rpdj5gLAogICAgICAgICAgICB7InN0aWNreSI6IHRydWV9CiAgICAgICAgKTsKICAgICAgICAKICAgIAoKICAgICAgICAgICAgdmFyIGNpcmNsZV9hYWU0MzQ1ZGI5MzU0MzAyYjFkMWJjZGMyNGJkOTZjYSA9IEwuY2lyY2xlKAogICAgICAgICAgICAgICAgWzI0LjIxNTUyNjk5OTk5OTk5OCwgLTEyLjg4NTgzNF0sCiAgICAgICAgICAgICAgICB7CiAgImJ1YmJsaW5nTW91c2VFdmVudHMiOiB0cnVlLAogICJjb2xvciI6ICJibHVlIiwKICAiZGFzaEFycmF5IjogbnVsbCwKICAiZGFzaE9mZnNldCI6IG51bGwsCiAgImZpbGwiOiAiYmx1ZSIsCiAgImZpbGxDb2xvciI6ICJibHVlIiwKICAiZmlsbE9wYWNpdHkiOiAwLjIsCiAgImZpbGxSdWxlIjogImV2ZW5vZGQiLAogICJsaW5lQ2FwIjogInJvdW5kIiwKICAibGluZUpvaW4iOiAicm91bmQiLAogICJvcGFjaXR5IjogMS4wLAogICJzdHJva2UiOiB0cnVlLAogICJ3ZWlnaHQiOiAzCn0KICAgICAgICAgICAgICAgICkKICAgICAgICAgICAgICAgIC5hZGRUbyhtYXBfZGRiMDMxNmNhZDczNGY3NmE1MjBlNzY3NjFjZDRkNzgpOwogICAgICAgICAgICAKICAgIAogICAgICAgIGNpcmNsZV9hYWU0MzQ1ZGI5MzU0MzAyYjFkMWJjZGMyNGJkOTZjYS5iaW5kVG9vbHRpcCgKICAgICAgICAgICAgYDxkaXY+YAogICAgICAgICAgICArIGA8bGk+PGJvbGQ+Q291bnRyeSA6IFdlc3Rlcm4gU2FoYXJhPGxpPjxib2xkPkNvbmZpcm1lZCA6IDYuMDxsaT48Ym9sZD5EZWF0aF9yYXRlIDogMC4wPGxpPjxib2xkPkRlYXRocyA6IDAuMDxsaT48Ym9sZD5sb2NrZG93biBkYXRlIDogMjAyMC0wMy0yMDxsaT48Ym9sZD5maXJzdCBjYXNlIGRhdGUgOiAyMDIwLTA0LTA2PGxpPjxib2xkPm1lYW4gYWdlIDogMjYuOGAgKyBgPC9kaXY+YCwKICAgICAgICAgICAgeyJzdGlja3kiOiB0cnVlfQogICAgICAgICk7CiAgICAgICAgCiAgICAKCiAgICAgICAgICAgIHZhciBjaXJjbGVfNDE1NmE0ODhlM2NmNGQ5Y2I1MWM2ZDRkMjQwZmE3NWYgPSBMLmNpcmNsZSgKICAgICAgICAgICAgICAgIFstMTMuMTMzODk3LCAyNy44NDkzMzJdLAogICAgICAgICAgICAgICAgewogICJidWJibGluZ01vdXNlRXZlbnRzIjogdHJ1ZSwKICAiY29sb3IiOiAiYmx1ZSIsCiAgImRhc2hBcnJheSI6IG51bGwsCiAgImRhc2hPZmZzZXQiOiBudWxsLAogICJmaWxsIjogImJsdWUiLAogICJmaWxsQ29sb3IiOiAiYmx1ZSIsCiAgImZpbGxPcGFjaXR5IjogMC4yLAogICJmaWxsUnVsZSI6ICJldmVub2RkIiwKICAibGluZUNhcCI6ICJyb3VuZCIsCiAgImxpbmVKb2luIjogInJvdW5kIiwKICAib3BhY2l0eSI6IDEuMCwKICAicmFkaXVzIjogMjYyMTcsCiAgInN0cm9rZSI6IHRydWUsCiAgIndlaWdodCI6IDMKfQogICAgICAgICAgICAgICAgKQogICAgICAgICAgICAgICAgLmFkZFRvKG1hcF9kZGIwMzE2Y2FkNzM0Zjc2YTUyMGU3Njc2MWNkNGQ3OCk7CiAgICAgICAgICAgIAogICAgCiAgICAgICAgY2lyY2xlXzQxNTZhNDg4ZTNjZjRkOWNiNTFjNmQ0ZDI0MGZhNzVmLmJpbmRUb29sdGlwKAogICAgICAgICAgICBgPGRpdj5gCiAgICAgICAgICAgICsgYDxsaT48Ym9sZD5Db3VudHJ5IDogWmFtYmlhPGxpPjxib2xkPkNvbmZpcm1lZCA6IDI2Ny4wPGxpPjxib2xkPkRlYXRoX3JhdGUgOiAyLjYyMTcyMjg0NjQ0MTk0Nzg8bGk+PGJvbGQ+RGVhdGhzIDogNy4wPGxpPjxib2xkPmxvY2tkb3duIGRhdGUgOiBuYW48bGk+PGJvbGQ+Zmlyc3QgY2FzZSBkYXRlIDogMjAyMC0wMy0xOTxsaT48Ym9sZD5tZWFuIGFnZSA6IDE3LjFgICsgYDwvZGl2PmAsCiAgICAgICAgICAgIHsic3RpY2t5IjogdHJ1ZX0KICAgICAgICApOwogICAgICAgIAogICAgCgogICAgICAgICAgICB2YXIgY2lyY2xlXzZiZDhjZThlZTJlNjQzOTM4NzQ4YjUxYWZmNjEwZGI5ID0gTC5jaXJjbGUoCiAgICAgICAgICAgICAgICBbLTE5LjAxNTQzOCwgMjkuMTU0ODU3XSwKICAgICAgICAgICAgICAgIHsKICAiYnViYmxpbmdNb3VzZUV2ZW50cyI6IHRydWUsCiAgImNvbG9yIjogImJsdWUiLAogICJkYXNoQXJyYXkiOiBudWxsLAogICJkYXNoT2Zmc2V0IjogbnVsbCwKICAiZmlsbCI6ICJibHVlIiwKICAiZmlsbENvbG9yIjogImJsdWUiLAogICJmaWxsT3BhY2l0eSI6IDAuMiwKICAiZmlsbFJ1bGUiOiAiZXZlbm9kZCIsCiAgImxpbmVDYXAiOiAicm91bmQiLAogICJsaW5lSm9pbiI6ICJyb3VuZCIsCiAgIm9wYWNpdHkiOiAxLjAsCiAgInJhZGl1cyI6IDExMTExMSwKICAic3Ryb2tlIjogdHJ1ZSwKICAid2VpZ2h0IjogMwp9CiAgICAgICAgICAgICAgICApCiAgICAgICAgICAgICAgICAuYWRkVG8obWFwX2RkYjAzMTZjYWQ3MzRmNzZhNTIwZTc2NzYxY2Q0ZDc4KTsKICAgICAgICAgICAgCiAgICAKICAgICAgICBjaXJjbGVfNmJkOGNlOGVlMmU2NDM5Mzg3NDhiNTFhZmY2MTBkYjkuYmluZFRvb2x0aXAoCiAgICAgICAgICAgIGA8ZGl2PmAKICAgICAgICAgICAgKyBgPGxpPjxib2xkPkNvdW50cnkgOiBaaW1iYWJ3ZTxsaT48Ym9sZD5Db25maXJtZWQgOiAzNi4wPGxpPjxib2xkPkRlYXRoX3JhdGUgOiAxMS4xMTExMTExMTExMTExMTxsaT48Ym9sZD5EZWF0aHMgOiA0LjA8bGk+PGJvbGQ+bG9ja2Rvd24gZGF0ZSA6IDIwMjAtMDMtMzA8bGk+PGJvbGQ+Zmlyc3QgY2FzZSBkYXRlIDogMjAyMC0wMy0yMTxsaT48Ym9sZD5tZWFuIGFnZSA6IDE5LjBgICsgYDwvZGl2PmAsCiAgICAgICAgICAgIHsic3RpY2t5IjogdHJ1ZX0KICAgICAgICApOwogICAgICAgIAo8L3NjcmlwdD4= onload=\"this.contentDocument.open();this.contentDocument.write(atob(this.getAttribute('data-html')));this.contentDocument.close();\" allowfullscreen webkitallowfullscreen mozallowfullscreen></iframe></div></div>"
            ],
            "text/plain": [
              "<folium.folium.Map at 0x7f7ad0fcd080>"
            ]
          },
          "metadata": {
            "tags": []
          },
          "execution_count": 17
        }
      ]
    },
    {
      "cell_type": "markdown",
      "metadata": {
        "id": "3tdzccEij49L"
      },
      "source": [
        "In Map below, with the help of folium, we are ploting to ConfirmedCases. Where for every country we would display a circle. Which would have all below parameters if we hower over it,\n",
        "* Country Name\n",
        "* Confirmed cases\n",
        "* Fatality rate\n",
        "* Fatalities\n",
        "* Lockdown date\n",
        "* Date of first confirmed case\n",
        "* Mean age\n",
        "\n",
        "The radius of circle would be dependant on ConfirmedCases.\n",
        "\n",
        "For example, US had max number of cases as compared to many contries and hence have a bigger circle."
      ]
    },
    {
      "cell_type": "code",
      "metadata": {
        "id": "tq--xiWmqpYM",
        "outputId": "95e296b3-bad0-473d-d9f8-49d7cea042d0",
        "colab": {
          "base_uri": "https://localhost:8080/",
          "height": 712
        }
      },
      "source": [
        "tempdf1.daily_tested = tempdf1.daily_tested.astype(\"float\")\n",
        "m = folium.Map(location=[0, 0], tiles='cartodbpositron',\n",
        "               min_zoom=1, max_zoom=8, zoom_start=1.5)\n",
        "\n",
        "for i in range(0, len(tempdf1)):\n",
        "    folium.Circle(\n",
        "        location=[tempdf1.iloc[i]['Latitude'], tempdf1.iloc[i]['Longtitude']],\n",
        "        color='green', fill='green',\n",
        "        tooltip =   '<li><bold>Country : '+str(tempdf1.iloc[i]['Country_Region'])+\n",
        "                    '<li><bold>Confirmed : '+str(tempdf1.iloc[i]['ConfirmedCases'])+\n",
        "                    '<li><bold>Death_rate : '+str(tempdf1.iloc[i]['Fatalities_rate'])+\n",
        "                    '<li><bold>Deaths : '+str(tempdf1.iloc[i]['Fatalities'])+\n",
        "                    '<li><bold>lockdown date : '+str(tempdf1.iloc[i]['Lockdown_Date'])+\n",
        "                    '<li><bold>first case date : '+str(tempdf1.iloc[i]['Date_FirstConfirmedCase'])+\n",
        "                    '<li><bold>mean age : '+str(tempdf1.iloc[i]['Mean_Age'])\n",
        "        ,\n",
        "        radius=int(tempdf1.iloc[i]['ConfirmedCases']*1.1)).add_to(m)\n",
        "\n",
        "m"
      ],
      "execution_count": null,
      "outputs": [
        {
          "output_type": "execute_result",
          "data": {
            "text/html": [
              "<div style=\"width:100%;\"><div style=\"position:relative;width:100%;height:0;padding-bottom:60%;\"><span style=\"color:#565656\">Make this Notebook Trusted to load map: File -> Trust Notebook</span><iframe src=\"about:blank\" style=\"position:absolute;width:100%;height:100%;left:0;top:0;border:none !important;\" data-html=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 onload=\"this.contentDocument.open();this.contentDocument.write(atob(this.getAttribute('data-html')));this.contentDocument.close();\" allowfullscreen webkitallowfullscreen mozallowfullscreen></iframe></div></div>"
            ],
            "text/plain": [
              "<folium.folium.Map at 0x7f7acbd776a0>"
            ]
          },
          "metadata": {
            "tags": []
          },
          "execution_count": 18
        }
      ]
    },
    {
      "cell_type": "markdown",
      "metadata": {
        "id": "d5D8n5vIqbwx"
      },
      "source": [
        "* In the cell below, all the NAN values of diff_FC_LD will be replaced by 62 and all the NAN values of diff_FF_LD will be replaced by 42.\n",
        "* Then, these two colums will be converted to integer after doing some operations on it."
      ]
    },
    {
      "cell_type": "code",
      "metadata": {
        "id": "i1fKKY6YqqLv"
      },
      "source": [
        "tempdf1.diff_FC_LD.replace({np.NAN:\"62\"},inplace=True)\n",
        "tempdf1.diff_FF_LD.replace({np.NAN:\"42\"},inplace=True)\n",
        "tempdf1.diff_FC_LD=tempdf1.diff_FC_LD.astype(str)\n",
        "tempdf1.diff_FF_LD=tempdf1.diff_FF_LD.astype(str)\n",
        "tempdf1.diff_FC_LD=tempdf1.diff_FC_LD.str[:2]\n",
        "tempdf1.diff_FF_LD=tempdf1.diff_FF_LD.str[:2]\n",
        "tempdf1.diff_FC_LD = tempdf1.diff_FC_LD.astype(int)\n",
        "tempdf1.diff_FF_LD = tempdf1.diff_FF_LD.astype(int)"
      ],
      "execution_count": null,
      "outputs": []
    },
    {
      "cell_type": "markdown",
      "metadata": {
        "id": "2RTV5VpovLmd"
      },
      "source": [
        "Calculate certain lists to be used for chatbots.\n",
        "* deathrate : To display country with highest death rate.\n",
        "* lockdown : To display country with highest lockdown.\n"
      ]
    },
    {
      "cell_type": "code",
      "metadata": {
        "id": "sCjkD-09OoAI"
      },
      "source": [
        "deathrate = []\n",
        "lockdown = []\n",
        "for x in tempdf1.sort_values('Fatalities_rate')['Country_Region']:\n",
        "    deathrate.append(x)\n",
        "temp_L = tempdf1.sort_values('ConfirmedCases').tail(10)\n",
        "for x in temp_L.sort_values('diff_FC_LD')['Country_Region']:\n",
        "  lockdown.append(x)\n",
        "  x.rstrip(\"\\n\");"
      ],
      "execution_count": null,
      "outputs": []
    },
    {
      "cell_type": "markdown",
      "metadata": {
        "id": "nVWoOGS3n8AN"
      },
      "source": [
        "* Sort train_w4 for countries\n",
        "* Create tmp_df using train_w4 for unique values of countries\n",
        "* Merge tmp_df with train_w4 to create tmp_df on column Date of train_w4 with two columns of \"ConfirmedCases\" & \"Country_Region\"."
      ]
    },
    {
      "cell_type": "code",
      "metadata": {
        "id": "xydhS_OSvSiQ"
      },
      "source": [
        ""
      ],
      "execution_count": null,
      "outputs": []
    },
    {
      "cell_type": "markdown",
      "metadata": {
        "id": "ifQZkU86pPfJ"
      },
      "source": [
        "In below cell, we are trying to find the list of top 5 contries with confimed cases."
      ]
    },
    {
      "cell_type": "code",
      "metadata": {
        "id": "qE2UYos4fZaL"
      },
      "source": [
        "train_w4.sort_values([\"Country_Region\"],inplace=True)\n",
        "tmp_df = pd.DataFrame([train_w4.Country_Region.unique()]).T\n",
        "tmp_df.columns =[\"Country_Region\"]\n",
        "tmp_df=pd.merge(tmp_df, train_w4.loc[(train_w4.Date == max(train_w4.Date)),[\"ConfirmedCases\",\"Country_Region\"]],how=\"left\",on=\"Country_Region\")\n",
        "tmp_df[tmp_df.Country_Region.isin([\"Morocco\",\"Egypt\",\"Algeria\",\"Tunisia\",\"France\",\"Spain\",\"Italy\",\"Korea, South\"])]\n",
        "tmp_df1 = tmp_df.sort_values(by=['ConfirmedCases'])\n",
        "positions = []\n",
        "for x in tmp_df1['Country_Region'].tail():\n",
        "    x.rstrip(\"\\n\");\n",
        "    positions.append(x)\n",
        "listToStr = ','.join([str(elem) for elem in positions]) "
      ],
      "execution_count": null,
      "outputs": []
    },
    {
      "cell_type": "markdown",
      "metadata": {
        "id": "YR0Ahypc8rQR"
      },
      "source": [
        "In below cell, we are trying to find the list of top 5 contries with daily tested cases."
      ]
    },
    {
      "cell_type": "code",
      "metadata": {
        "id": "wmNkcCumfZaO",
        "outputId": "e75d1b6d-bbae-463f-bf44-994381d5e750",
        "colab": {
          "base_uri": "https://localhost:8080/",
          "height": 35
        }
      },
      "source": [
        "temp1 = tempdf1.sort_values(by=['daily_tested'])\n",
        "most_test = []\n",
        "for x in temp1['Country_Region'].tail():\n",
        "    x.rstrip(\"\\n\");\n",
        "    most_test.append(x)\n",
        "listToStrC = ','.join([str(elem) for elem in most_test]) \n",
        "most_test[-1]\n",
        "listToStrC"
      ],
      "execution_count": null,
      "outputs": [
        {
          "output_type": "execute_result",
          "data": {
            "text/plain": [
              "'Germany,India,Spain,Russia,US'"
            ]
          },
          "metadata": {
            "tags": []
          },
          "execution_count": 22
        }
      ]
    },
    {
      "cell_type": "markdown",
      "metadata": {
        "id": "GhesUVlzpwUe"
      },
      "source": [
        "In below cell, we are trying to find the max and min deaths."
      ]
    },
    {
      "cell_type": "code",
      "metadata": {
        "id": "iQ-r_MrHfZaQ"
      },
      "source": [
        "fatalities = []\n",
        "for x in tempdf1.sort_values('Fatalities')['Country_Region'].tail():\n",
        "    x.rstrip(\"\\n\");\n",
        "    fatalities.append(x)\n",
        "listToStrD = ','.join([str(elem) for elem in fatalities]) "
      ],
      "execution_count": null,
      "outputs": []
    },
    {
      "cell_type": "markdown",
      "metadata": {
        "id": "6xmBhM970Q9q"
      },
      "source": [
        "## Covid-19 Chatbot "
      ]
    },
    {
      "cell_type": "markdown",
      "metadata": {
        "id": "OLn1VsYl3Cdr"
      },
      "source": [
        "## NLTK Tool kit:\n",
        "\n",
        "The Natural Language Toolkit, or more commonly NLTK, is a suite of libraries and programs for symbolic and statistical natural language processing for English written in the Python programming language."
      ]
    },
    {
      "cell_type": "markdown",
      "metadata": {
        "id": "TUOYLh6P0g3e"
      },
      "source": [
        "* **nltk** is a development library for the natural language processing as we are going to give the general questions and responses as the intents so that the chatbot can respond to the relevant questions."
      ]
    },
    {
      "cell_type": "code",
      "metadata": {
        "id": "18ud6o0IfZaR",
        "outputId": "13673414-8018-4235-c1b9-431db180566b",
        "colab": {
          "base_uri": "https://localhost:8080/",
          "height": 52
        }
      },
      "source": [
        "!pip install nltk\n",
        "import nltk"
      ],
      "execution_count": null,
      "outputs": [
        {
          "output_type": "stream",
          "text": [
            "Requirement already satisfied: nltk in /usr/local/lib/python3.6/dist-packages (3.2.5)\n",
            "Requirement already satisfied: six in /usr/local/lib/python3.6/dist-packages (from nltk) (1.12.0)\n"
          ],
          "name": "stdout"
        }
      ]
    },
    {
      "cell_type": "markdown",
      "metadata": {
        "id": "pm_IzS_J5hx7"
      },
      "source": [
        "## Installing h5py library:\n",
        "* As we have created the chatbot model and saved it into the .h5 file, lets see what type of data are present in the file."
      ]
    },
    {
      "cell_type": "code",
      "metadata": {
        "id": "8gkoVakZ1deK",
        "outputId": "4ddfa06f-57af-4b7c-81da-d36febb02a2c",
        "colab": {
          "base_uri": "https://localhost:8080/",
          "height": 69
        }
      },
      "source": [
        "!pip install h5py\n",
        "import h5py"
      ],
      "execution_count": null,
      "outputs": [
        {
          "output_type": "stream",
          "text": [
            "Requirement already satisfied: h5py in /usr/local/lib/python3.6/dist-packages (2.10.0)\n",
            "Requirement already satisfied: numpy>=1.7 in /usr/local/lib/python3.6/dist-packages (from h5py) (1.18.4)\n",
            "Requirement already satisfied: six in /usr/local/lib/python3.6/dist-packages (from h5py) (1.12.0)\n"
          ],
          "name": "stdout"
        }
      ]
    },
    {
      "cell_type": "code",
      "metadata": {
        "id": "5ZrucuRMfZaT",
        "outputId": "c3e2a188-2aea-49ad-a849-e2334801caa5",
        "colab": {
          "base_uri": "https://localhost:8080/",
          "height": 35
        }
      },
      "source": [
        "!python --version"
      ],
      "execution_count": null,
      "outputs": [
        {
          "output_type": "stream",
          "text": [
            "Python 3.6.9\n"
          ],
          "name": "stdout"
        }
      ]
    },
    {
      "cell_type": "markdown",
      "metadata": {
        "id": "C7Zrgs8E0rf5"
      },
      "source": [
        "## Installing \"punkt\" and \" wordnet\""
      ]
    },
    {
      "cell_type": "markdown",
      "metadata": {
        "id": "jsyNUBIL3grY"
      },
      "source": [
        "## PUNKT:\n",
        "Punkt  is a Sentence Tokenizer. This tokenizer divides a text into a list of sentences, by using an unsupervised algorithm to build a model for abbreviation words, collocations, and words that start sentences. It must be trained on a large collection of plaintext in the target language before it can be used.\n",
        "## WORDNET:\n",
        "\n",
        "WordNet is a lexical database of semantic relations between words in more than 200 languages. WordNet links words into semantic relations including synonyms, hyponyms, and meronyms. The synonyms are grouped into synsets with short definitions and usage examples."
      ]
    },
    {
      "cell_type": "code",
      "metadata": {
        "id": "CAEJRG2gfZaV",
        "outputId": "397fa0cd-842f-4fbf-c09a-2f6e740bfd03",
        "colab": {
          "base_uri": "https://localhost:8080/",
          "height": 104
        }
      },
      "source": [
        "nltk.download('punkt')\n",
        "nltk.download('wordnet')"
      ],
      "execution_count": null,
      "outputs": [
        {
          "output_type": "stream",
          "text": [
            "[nltk_data] Downloading package punkt to /root/nltk_data...\n",
            "[nltk_data]   Package punkt is already up-to-date!\n",
            "[nltk_data] Downloading package wordnet to /root/nltk_data...\n",
            "[nltk_data]   Package wordnet is already up-to-date!\n"
          ],
          "name": "stdout"
        },
        {
          "output_type": "execute_result",
          "data": {
            "text/plain": [
              "True"
            ]
          },
          "metadata": {
            "tags": []
          },
          "execution_count": 27
        }
      ]
    },
    {
      "cell_type": "code",
      "metadata": {
        "id": "h9RffvnKfZaW"
      },
      "source": [
        "from nltk.stem import WordNetLemmatizer\n",
        "lemmatizer = WordNetLemmatizer()\n",
        "import json\n",
        "import pickle\n",
        "import random"
      ],
      "execution_count": null,
      "outputs": []
    },
    {
      "cell_type": "markdown",
      "metadata": {
        "id": "9iRHarth3yQx"
      },
      "source": [
        "* We have a whole bunch of libraries like nltk (Natural Language Toolkit), which contains a whole bunch of tools for cleaning up text and preparing it for deep learning algorithms, json, which loads json files directly into Python, pickle, which loads pickle files, numpy, which can perform linear algebra operations very efficiently, and keras, which is the deep learning framework we’ll be using."
      ]
    },
    {
      "cell_type": "markdown",
      "metadata": {
        "id": "hIBXnVtL32Zt"
      },
      "source": [
        "## Installation of Kears and Tensorflow packages\n",
        "\n",
        "### Keras: \n",
        "Keras is an open-source neural-network library written in Python. It is capable of running on top of TensorFlow, Microsoft Cognitive Toolkit, R, Theano, or PlaidML. Designed to enable fast experimentation with deep neural networks, it focuses on being user-friendly, modular, and extensible.\n",
        "\n",
        "### Tensroflow:\n",
        "It is an open source artificial intelligence library, using data flow graphs to build models. It allows developers to create large-scale neural networks with many layers. TensorFlow is mainly used for: Classification, Perception, Understanding, Discovering, Prediction and Creation.\n",
        "\n",
        "For now install commands are commented as the libraries are already installed.\n"
      ]
    },
    {
      "cell_type": "code",
      "metadata": {
        "id": "IqxyRTBQfZaX",
        "outputId": "3836d959-2d8f-4b8e-a544-7bdf76298b18",
        "colab": {
          "base_uri": "https://localhost:8080/",
          "height": 35
        }
      },
      "source": [
        "#!pip install keras==2.3.0\n",
        "#!pip install tensorflow\n",
        "from keras.models import Sequential\n",
        "from keras.layers import Dense, Activation, Dropout\n",
        "from keras.optimizers import SGD"
      ],
      "execution_count": null,
      "outputs": [
        {
          "output_type": "stream",
          "text": [
            "Using TensorFlow backend.\n"
          ],
          "name": "stderr"
        }
      ]
    },
    {
      "cell_type": "code",
      "metadata": {
        "id": "lDtYGmUm4RIB",
        "outputId": "84599bd2-b2b0-4f6f-e09f-1b9f417bcd3d",
        "colab": {
          "base_uri": "https://localhost:8080/",
          "height": 35
        }
      },
      "source": [
        "from IPython.display import JSON\n",
        "JSON('intents.json')"
      ],
      "execution_count": null,
      "outputs": [
        {
          "output_type": "execute_result",
          "data": {
            "application/json": {
              "intents": [
                {
                  "patterns": [
                    "hi there",
                    "how are you",
                    "is anyone there?",
                    "hey",
                    "hola",
                    "hello",
                    "good day"
                  ],
                  "tag": "greeting",
                  "responses": [
                    "hello, thanks for asking",
                    "good to see you again",
                    "hi there, how can i help?"
                  ],
                  "context": [
                    ""
                  ]
                },
                {
                  "patterns": [
                    "bye",
                    "see you later",
                    "goodbye",
                    "nice chatting to you, bye",
                    "till next time"
                  ],
                  "tag": "goodbye",
                  "responses": [
                    "see you!",
                    "have a nice day",
                    "bye! come back again soon."
                  ],
                  "context": [
                    ""
                  ]
                },
                {
                  "patterns": [
                    "thanks",
                    "thank you",
                    "that's helpful",
                    "awesome, thanks",
                    "thanks for helping me"
                  ],
                  "tag": "thanks",
                  "responses": [
                    "happy to help!",
                    "any time!",
                    "my pleasure"
                  ],
                  "context": [
                    ""
                  ]
                },
                {
                  "patterns": [],
                  "tag": "noanswer",
                  "responses": [
                    "sorry, can't understand you",
                    "please give me more info",
                    "not sure i understand"
                  ],
                  "context": [
                    ""
                  ]
                },
                {
                  "patterns": [
                    "ok",
                    "okay",
                    "cool",
                    "fine",
                    "oh",
                    "oh ok",
                    "oh okay"
                  ],
                  "tag": "any_other_querie",
                  "responses": [
                    "do you have any question for me?"
                  ],
                  "context": [
                    "handle_answer"
                  ]
                },
                {
                  "patterns": [
                    "yes",
                    "yeah",
                    "yep",
                    "yes i do have",
                    "yeah i do have"
                  ],
                  "tag": "handle_answer",
                  "responses": [
                    "please ask me. happy to help!"
                  ],
                  "context": [
                    "options"
                  ]
                },
                {
                  "patterns": [
                    "no",
                    "nope",
                    "no i don't have",
                    "no i do not have",
                    "nope i do not have",
                    "nope i don't have"
                  ],
                  "tag": "handle_answer",
                  "responses": [
                    "okay. happy to help. bye! come back again soon."
                  ],
                  "context": [
                    ""
                  ]
                },
                {
                  "patterns": [
                    "yes",
                    "yeah",
                    "yep",
                    "how you could help me?",
                    "what you can do?",
                    "what help you provide?",
                    "how you can be helpful?",
                    "what support is offered"
                  ],
                  "tag": "options",
                  "responses": [
                    "i can guide you through adverse drug reaction list, blood pressure tracking, hospitals and pharmacies",
                    "offering support for adverse drug reaction, blood pressure, hospitals and pharmacies, corona definition, when it started, how it started, reason behind it, basic symptoms of covid-19"
                  ],
                  "context": [
                    ""
                  ]
                },
                {
                  "patterns": [
                    "how to check adverse drug reaction?",
                    "open adverse drugs module",
                    "give me a list of drugs causing adverse behavior",
                    "list all drugs suitable for patient with adverse reaction",
                    "which drugs don’t have adverse reaction?"
                  ],
                  "tag": "adverse_drug",
                  "responses": [
                    "navigating to adverse drug reaction module"
                  ],
                  "context": [
                    "any_other_querie"
                  ]
                },
                {
                  "patterns": [
                    "open blood pressure module",
                    "task related to blood pressure",
                    "blood pressure data entry",
                    "i want to log blood pressure results",
                    "blood pressure data management"
                  ],
                  "tag": "blood_pressure",
                  "responses": [
                    "navigating to blood pressure module"
                  ],
                  "context": [
                    "any_other_querie"
                  ]
                },
                {
                  "patterns": [
                    "i want to search for blood pressure result history",
                    "blood pressure for patient",
                    "load patient blood pressure result",
                    "show blood pressure results for patient",
                    "find blood pressure results by id"
                  ],
                  "tag": "blood_pressure_search",
                  "responses": [
                    "please provide patient id",
                    "patient id?"
                  ],
                  "context": [
                    "search_blood_pressure_by_patient_id"
                  ]
                },
                {
                  "patterns": [],
                  "tag": "search_blood_pressure_by_patient_id",
                  "responses": [
                    "loading blood pressure result for patient"
                  ],
                  "context": [
                    "any_other_querie"
                  ]
                },
                {
                  "patterns": [
                    "find me a pharmacy",
                    "find pharmacy",
                    "list of pharmacies nearby",
                    "locate pharmacy",
                    "search pharmacy"
                  ],
                  "tag": "pharmacy_search",
                  "responses": [
                    "please provide pharmacy name"
                  ],
                  "context": [
                    "search_pharmacy_by_name"
                  ]
                },
                {
                  "patterns": [],
                  "tag": "search_pharmacy_by_name",
                  "responses": [
                    "loading pharmacy details"
                  ],
                  "context": [
                    "any_other_querie"
                  ]
                },
                {
                  "patterns": [
                    "lookup for hospital",
                    "searching for hospital to transfer patient",
                    "i want to search hospital data",
                    "hospital lookup for patient",
                    "looking up hospital details"
                  ],
                  "tag": "hospital_search",
                  "responses": [
                    "please provide hospital name or location"
                  ],
                  "context": [
                    "search_hospital_by_params"
                  ]
                },
                {
                  "patterns": [],
                  "tag": "search_hospital_by_params",
                  "responses": [
                    "please provide hospital type"
                  ],
                  "context": [
                    "search_hospital_by_type"
                  ]
                },
                {
                  "patterns": [],
                  "tag": "search_hospital_by_type",
                  "responses": [
                    "loading hospital details"
                  ],
                  "context": [
                    "any_other_querie"
                  ]
                },
                {
                  "patterns": [
                    "coronavirus",
                    "covid",
                    "covid-19",
                    "covid19",
                    "covid 19",
                    "corona virus",
                    "corona",
                    "viral",
                    "pandemic",
                    "epidemic",
                    "outbreak",
                    "illness",
                    "disease",
                    "viruses",
                    "infection"
                  ],
                  "tag": "corona_synonym",
                  "responses": [
                    "coronaviruses are a large family of viruses which may cause illness in animals or humans. in humans, several coronaviruses are known to cause respiratory infections ranging from the common cold to more severe diseases. \n  covid-19 is the infectious disease caused by the most recently discovered coronavirus.\n  this new virus and disease were unknown before the outbreak began in wuhan, china, in december 2019."
                  ],
                  "context": [
                    "corona_infected_que"
                  ]
                },
                {
                  "patterns": [
                    "why is it called corona virus?",
                    "what kind of illness is corona virus?",
                    "what kind of disease is corona?",
                    "what is the structure of coronavirus",
                    "what is the structure of a virus?",
                    "what is the full name of the virus?",
                    "what is the full name of covid-19?",
                    "what is the full name of coronavirus?",
                    "what is the difference between and epidemic and a pandemic?",
                    "what is the corona virus?",
                    "what is pandemic",
                    "what is covid-19",
                    "what is corona?",
                    "what is an epidemic?",
                    "what is a virus?",
                    "what is a pandemic?",
                    "what does outbreak mean?",
                    "what does it mean if we have an outbreak?",
                    "what does it mean if we have a pandemic?",
                    "what does covid19 stand for?",
                    "what does covid mean?",
                    "what does covid-19 mean?",
                    "what does covid19 mean?",
                    "what does covid 19 mean?",
                    "what does covid stand for?",
                    "what does an outbreak mean?"
                  ],
                  "tag": "defination_corona",
                  "responses": [
                    "coronaviruses are a large family of viruses which may cause illness in animals or humans. in humans, several coronaviruses are known to cause respiratory infections ranging from the common cold to more severe diseases. \n  covid-19 is the infectious disease caused by the most recently discovered coronavirus.\n  this new virus and disease were unknown before the outbreak began in wuhan, china, in december 2019."
                  ],
                  "context": [
                    "corona_infected_que"
                  ]
                },
                {
                  "patterns": [
                    "ok",
                    "okay",
                    "okat thank you"
                  ],
                  "tag": "corona_infected_que",
                  "responses": [
                    "do you think you got infected due to covid-19?"
                  ],
                  "context": [
                    "corona_infected_ans"
                  ]
                },
                {
                  "patterns": [
                    "oh",
                    "okay",
                    "cool",
                    "fine",
                    "ok",
                    "oh ok",
                    "yes",
                    "yeah",
                    "yep",
                    "i think i got corona",
                    "i think i got infected"
                  ],
                  "tag": "corona_infected_ans",
                  "responses": [
                    "would you like to answer some questions to check if you got infected?"
                  ],
                  "context": [
                    "first_symptom_quetion"
                  ]
                },
                {
                  "patterns": [
                    "oh no",
                    "nope",
                    "nop",
                    "i dont think i got corona",
                    "i do not think i got infected"
                  ],
                  "tag": "corona_infected_ans",
                  "responses": [
                    "would you like to answer some questions to check if you got infected?"
                  ],
                  "context": [
                    "any_other_querie"
                  ]
                },
                {
                  "patterns": [
                    "where was the virus first detected?",
                    "where did the coronavirus come from?",
                    "where did it come from?",
                    "how did the first human sars-cov-2 infections occur?"
                  ],
                  "tag": "starting_place_corona",
                  "responses": [
                    "a 55-year-old individual from hubei province in china may have been the first person to have contracted covid-19, the disease caused by the new coronavirus spreading across the globe. that case dates to nov. 17, 2019, according to the south morning china post. but as per who, the first human cases of covid-19 were identified in wuhan city, china in december 2019. sars-cov, the virus which caused the sars outbreak in 2003, jumped from an animal reservoir (civet cats, a farmed wild animal) to humans and then spread between humans. until the source of this virus is identified and controlled, there is a risk of reintroduction of the virus in the human population and the risk of new outbreaks like the ones we are currently experiencing"
                  ],
                  "context": [
                    "corona_infected_que"
                  ]
                },
                {
                  "patterns": [
                    "when was corona virus detected?",
                    "when was it detected?",
                    "when was coronavirus identified?",
                    "when did the outbreak start?"
                  ],
                  "tag": "starting_time_corona",
                  "responses": [
                    "a 55-year-old individual from hubei province in china may have been the first person to have contracted covid-19, the disease caused by the new coronavirus spreading across the globe. that case dates back to nov. 17, 2019, according to the south morning china post."
                  ],
                  "context": [
                    "corona_infected_que"
                  ]
                },
                {
                  "patterns": [
                    "why did this happen?",
                    "is the source causing covid-19 known?",
                    "why did corona happen?",
                    "what caused the corona outbreak?",
                    "what caused covid-19 to happen?",
                    "what caused covid-19",
                    "what caused corona virus?",
                    "how did the outbreak start?",
                    "how did the covid outbreak start?",
                    "how did it start?"
                  ],
                  "tag": "reason_behind_corona",
                  "responses": [
                    "scientists now suspect this coronavirus, sars-cov-2, originated in a bat and somehow hopped to another animal, possibly the pangolin, which then passed it on to humans. the disease is now spreading between people without any animal intermediary. but as per who the source of sars-cov-2, the coronavirus (cov) causing covid-19 is unknown."
                  ],
                  "context": [
                    "corona_infected_que"
                  ]
                },
                {
                  "patterns": [
                    "how are covid-19 and influenza viruses different?",
                    "are the symptoms like influenza?",
                    "how does corona virus compare with a flu outbreak?",
                    "how does corona virus compare with a flu outbreak?",
                    "how does covid-19 compare with influenza?",
                    "how does it compare to a cold?",
                    "how is corona different from the flu?",
                    "how is covid-19 different from the flu",
                    "is corona a flu?",
                    "is corona the same as swine flu?",
                    "how are covid-19 and influenza viruses similar?"
                  ],
                  "tag": "corona_and_other_flu",
                  "responses": [
                    "the speed of transmission is an important point of difference between the two viruses. influenza has a shorter median incubation period (the time from infection to appearance of symptoms) and a shorter serial interval (the time between successive cases) than covid-19 virus. the serial interval for covid-19 virus is estimated to be 5-6 days, while for influenza virus, the serial interval is 3 days. this means that influenza can spread faster than covid-19. \n covid-19 and influenza viruses have a similar disease presentation. that is, they both cause respiratory disease, which presents as a wide range of illness from asymptomatic or mild through to severe disease and death. both viruses are transmitted by contact, droplets and fomites. \n. the speed of transmission is an important point of difference between the two viruses. influenza has a shorter median incubation period (the time from infection to appearance of symptoms) and a shorter serial interval (the time between successive cases) than covid-19 virus. \n those most at risk for severe influenza infection are children, pregnant women, elderly, those with underlying chronic medical conditions and those who are immunosuppressed. mortality for covid-19 appears higher than for influenza, especially seasonal influenza"
                  ],
                  "context": [
                    "corona_infected_que"
                  ]
                },
                {
                  "patterns": [
                    "how does covid-19 spread?",
                    "is covid-19 airborne?",
                    "can the virus that causes covid-19 be transmitted through the air?"
                  ],
                  "tag": "spread_corona",
                  "responses": [
                    "people can catch covid-19 from others who have the virus. the disease can spread from person to person through small droplets from the nose or mouth which are spread when a person with covid-19 coughs or exhales. \n people can also catch covid-19 if they breathe in droplets from a person with covid-19 who coughs out or exhales droplets. this is why it is important to stay more than 1 meter (3 feet) away from a person who is sick. \n studies to date suggest that the virus that causes covid-19 is mainly transmitted through contact with respiratory droplets rather than through the air. \n the virus that causes covid-19 is mainly transmitted through droplets generated when an infected person coughs, sneezes, or speaks. these droplets are too heavy to hang in the air. they quickly fall on floors or surfaces"
                  ],
                  "context": [
                    "corona_infected_que"
                  ]
                },
                {
                  "patterns": [
                    "what can i do to protect myself and prevent the spread of disease?",
                    "prevention from corona",
                    "how do i prevent corona",
                    "is there anything i should not do?"
                  ],
                  "tag": "prevention_corona",
                  "responses": [
                    "regularly and thoroughly clean your hands with an alcohol-based hand rub or wash them with soap and water. \nmaintain at least 1 metre (3 feet) distance between yourself and anyone who is coughing or sneezing. avoid touching eyes, nose and mouth. make sure you, and the people around you, follow good respiratory hygiene. this means covering your mouth and nose with your bent elbow or tissue when you cough or sneeze. then dispose of the used tissue immediately. \n stay home if you feel unwell. if you have a fever, cough and difficulty breathing, seek medical attention and call in advance. follow the directions of your local health authority. if possible, avoid traveling to places – especially if you are an older person or have diabetes, heart or lung disease. keep up to date on the latest covid-19 hotspots (cities or local areas where covid-19 is spreading widely). do not smoke, wear multiple masks or take any antibiotics which might cause more harm. and make you visit hospital."
                  ],
                  "context": [
                    "corona_infected_que"
                  ]
                },
                {
                  "patterns": [
                    "how likely am i to catch covid-19?",
                    "who is at risk of developing severe illness?"
                  ],
                  "tag": "risk_catching_corona",
                  "responses": [
                    "the risk depends on where you are - and more specifically, whether there is a covid-19 outbreak unfolding there. for most people in most locations the risk of catching covid-19 is still low. however, there are now places around the world (cities or areas) where the disease is spreading. for people living in, or visiting, these areas the risk of catching covid-19 is higher. \n covid-19 outbreaks can be contained, and transmission stopped, as has been shown in china and some other countries. unfortunately, new outbreaks can emerge rapidly. it’s important to be aware of the situation where you are or intend to go. \n while we are still learning about how covid-2019 affects people, older persons and persons with pre-existing medical conditions (such as high blood pressure, heart disease, lung disease, cancer or diabetes) appear to develop serious illness more often than others."
                  ],
                  "context": [
                    "corona_infected_que"
                  ]
                },
                {
                  "patterns": [
                    "are antibiotics effective in preventing or treating the covid-19?",
                    "antibiotics for corona",
                    "antibiotics for covid-19",
                    "are there any medicines or therapies that can prevent or cure covid-19?"
                  ],
                  "tag": "antibiotics_for_corona",
                  "responses": [
                    "no. antibiotics do not work against viruses, they only work on bacterial infections. covid-19 is caused by a virus, so antibiotics do not work. antibiotics should not be used as a means of prevention or treatment of covid-19. they should only be used as directed by a physician to treat a bacterial infection. \n while some western, traditional or home remedies may provide comfort and alleviate symptoms of covid-19, there is no evidence that current medicine can prevent or cure the disease. who does not recommend self-medication with any medicines, including antibiotics, as a prevention or cure for covid-19."
                  ],
                  "context": [
                    "corona_infected_que"
                  ]
                },
                {
                  "patterns": [
                    "is there a vaccine, drug or treatment for covid-19?",
                    "vaccine, drug or treatment for corona",
                    "vaccine for corona",
                    "drug for corona",
                    "treatment for corona"
                  ],
                  "tag": "vaccine_for_corona",
                  "responses": [
                    "not yet. to date, there is no vaccine and no specific antiviral medicine to prevent or treat covid-2019. those affected should receive care to relieve symptoms. people with serious illness should be hospitalized. most patients recover thanks to supportive care. possible vaccines and some specific drug treatments are under investigation. they are being tested through clinical trials. who is coordinating efforts to develop vaccines and medicines to prevent and treat covid-19. \n the most effective ways to protect yourself and others against covid-19 are to frequently clean your hands, cover your cough with the bend of elbow or tissue, and maintain a distance of at least 1 meter (3 feet) from people who are coughing or sneezing."
                  ],
                  "context": [
                    "corona_infected_que"
                  ]
                },
                {
                  "patterns": [
                    "is covid-19 the same as sars?"
                  ],
                  "tag": "sars_and_corona",
                  "responses": [
                    "no. the virus that causes covid-19 and the one that caused the outbreak of severe acute respiratory syndrome (sars) in 2003 are related to each other genetically, but the diseases they cause are quite different. \n sars was more deadly but much less infectious than covid-19. there have been no outbreaks of sars anywhere in the world since 2003."
                  ],
                  "context": [
                    "corona_infected_que"
                  ]
                },
                {
                  "patterns": [
                    "should i wear a mask to protect myself",
                    "is mask helpful in corona",
                    "prevention with mask",
                    "mask in corona",
                    "mask and corona",
                    "how to put on, use, take off and dispose of a mask?",
                    "disposal of used mask",
                    "corona and used mask",
                    "usage of mask"
                  ],
                  "tag": "mask_and_corona",
                  "responses": [
                    "only wear a mask if you are ill with covid-19 symptoms (especially coughing) or looking after someone who may have covid-19. disposable face mask can only be used once. if you are not ill or looking after someone who is ill then you are wasting a mask. there is a world-wide shortage of masks, so who urges people to use masks wisely. \n remember, a mask should only be used by health workers, care takers, and individuals with respiratory symptoms, such as fever and cough. before touching the mask, clean hands with an alcohol-based hand rub or soap and water"
                  ],
                  "context": [
                    "corona_infected_que"
                  ]
                },
                {
                  "patterns": [
                    "should i worry about covid-19?"
                  ],
                  "tag": "worry_about_corona",
                  "responses": [
                    "illness due to covid-19 infection is generally mild, especially for children and young adults. however, it can cause serious illness: about 1 in every 5 people who catch it need hospital care. \n we can channel our concerns into actions to protect ourselves, our loved ones and our communities."
                  ],
                  "context": [
                    "corona_infected_que"
                  ]
                },
                {
                  "patterns": [
                    "how long is the incubation period for covid-19?"
                  ],
                  "tag": "incubation_corona",
                  "responses": [
                    "the 'incubation period' means the time between catching the virus and beginning to have symptoms of the disease. most estimates of the incubation period for covid-19 range from 1-14 days, most commonly around five days. these estimates will be updated as more data become available."
                  ],
                  "context": [
                    "corona_infected_que"
                  ]
                },
                {
                  "patterns": [
                    "can humans be infected with the covid-19 from an animal source?",
                    "can i catch covid-19 from my pet?"
                  ],
                  "tag": "animals_corona",
                  "responses": [
                    "coronaviruses are a large family of viruses that are common in animals. occasionally, people get infected with these viruses which may then spread to other people. sars-cov was associated with civet cats and mers-cov is transmitted by dromedary camels. possible animal sources of covid-19 have not yet been confirmed. to protect yourself, such as when visiting live animal markets, avoid direct contact with animals and surfaces in contact with animals. handle raw meat, milk or animal organs with care to avoid contamination of uncooked foods and avoid consuming raw or undercooked animal products. \n while there has been one instance of a dog being infected in hong kong, to date, there is no evidence that a dog, cat or any pet can transmit covid-19. covid-19 is mainly spread through droplets produced when an infected person coughs, sneezes, or speaks."
                  ],
                  "context": [
                    "corona_infected_que"
                  ]
                },
                {
                  "patterns": [
                    "how long does the virus survive on surfaces?"
                  ],
                  "tag": "survival_corona",
                  "responses": [
                    "it is not certain how long the virus that causes covid-19 survives on surfaces, but it seems to behave like other coronaviruses. studies suggest that coronaviruses (including preliminary information on the covid-19 virus) may persist on surfaces for a few hours or up to several days. this may vary under different conditions (e.g. type of surface, temperature or humidity of the environment). if you think a surface may be infected, clean it with simple disinfectant to kill the virus and protect yourself and others"
                  ],
                  "context": [
                    "corona_infected_que"
                  ]
                },
                {
                  "patterns": [
                    "is it safe to receive a package from any area where covid-19 has been reported?"
                  ],
                  "tag": "cause_corona",
                  "responses": [
                    "yes. the likelihood of an infected person contaminating commercial goods is low and the risk of catching the virus that causes covid-19 from a package that has been moved, travelled, and exposed to different conditions and temperature is also low"
                  ],
                  "context": [
                    "corona_infected_que"
                  ]
                },
                {
                  "patterns": [
                    "do pregnant women with suspected or confirmed covid-19 need to give birth by ceasarean section?",
                    "what care should be available during pregnancy and childbirth?",
                    "can covid-19 be passed from a woman to her unborn baby?",
                    "are pregnant women at higher risk from covid-19?",
                    "i'm pregnant. how can i protect myself against covid-19?",
                    "should pregnant women be tested for covid-19?"
                  ],
                  "tag": "query_pregnancy",
                  "responses": [
                    "at present there is no evidence that they are at higher risk of severe illness than the general population. due to changes in their bodies and immune systems, we know that pregnant women can be badly affected by some respiratory infections. it is therefore important that they take precautions to protect themselves against covid-19, and report possible symptoms (including fever, cough or difficulty breathing) to their healthcare provider. \n pregnant women should take the same precautions to avoid covid-19 infection as other people. \n pregnant women and women who have recently delivered – including those affected by covid-19 - should attend their routine care appointments. \n testing protocols and eligibility vary depending on where you live. \n we still do not know if a pregnant woman with covid-19 can pass the virus to her foetus or baby during pregnancy or delivery. to date, the virus has not been found in samples of amniotic fluid or breastmilk. all pregnant women, including those with confirmed or suspected covid-19 infections, have the right to high quality care before, during and after childbirth. \n pregnant women with suspected or confirmed covid-19 need not to give birth by ceasarean section. who advice is that caesarean sections should only be performed when medically justified"
                  ],
                  "context": [
                    "corona_infected_que"
                  ]
                },
                {
                  "patterns": [
                    "can women with covid-19 breastfeed?",
                    "can i touch and hold my newborn baby if i have covid-19?"
                  ],
                  "tag": "query_newborn",
                  "responses": [
                    "women with covid-19 can breastfeed if they wish to do so. you can touch and hold your newborn baby if i have covid-19. close contact and early, exclusive breastfeeding helps a baby to thrive."
                  ],
                  "context": [
                    "corona_infected_que"
                  ]
                },
                {
                  "patterns": [
                    "what medical interventions are available for covid-19 and influenza viruses?"
                  ],
                  "tag": "query",
                  "responses": [
                    "while there are a number of therapeutics currently in clinical trials in china and more than 20 vaccines in development for covid-19, there are currently no licensed vaccines or therapeutics for covid-19"
                  ],
                  "context": [
                    "any_other_querie"
                  ]
                },
                {
                  "patterns": [
                    "are smokers and tobacco users at higher risk of covid-19 infection?"
                  ],
                  "tag": "query_smoking",
                  "responses": [
                    "smokers are likely to be more vulnerable to covid-19 as the act of smoking means that fingers (and possibly contaminated cigarettes) are in contact with lips which increases the possibility of transmission of virus from hand to mouth. smoking products such as water pipes often involve the sharing of mouth pieces and hoses, which could facilitate the transmission of covid-19 in communal and social settings"
                  ],
                  "context": [
                    "any_other_querie"
                  ]
                },
                {
                  "patterns": [
                    "how large does a meeting or event need to be in order to be a mass gathering?"
                  ],
                  "tag": "query_public",
                  "responses": [
                    "high profile international sporting events such as the olympics or world cups as well as international religious events such as the hajj count as mass gatherings. an event counts as a ‘mass gatherings’ if the number of people it brings together is so large that it has the potential to strain the planning and response resources of the health system in the community where it takes place"
                  ],
                  "context": [
                    "any_other_querie"
                  ]
                },
                {
                  "patterns": [
                    "does who recommend that all international mass gatherings be cancelled because of covid-19?"
                  ],
                  "tag": "query_public",
                  "responses": [
                    "no. as each international mass gathering is different, the factors to consider when determining if the event should be cancelled may also differ"
                  ],
                  "context": [
                    "any_other_querie"
                  ]
                },
                {
                  "patterns": [
                    "are aches a symptom?",
                    "am i going to need hospital treatment?",
                    "can people die from contacting covid-19?",
                    "can people die from contracting covid-19?",
                    "can people die from coronavirus?",
                    "can there be complications from covid-19 symptoms?",
                    "can you be infected and not show any symptoms?",
                    "can you tell me what the symptoms are?",
                    "could i be carrying coronavirus if i don't have symptoms?",
                    "does everyone have symptoms?",
                    "how badly should i be coughing?",
                    "how can i identify the symptoms of corona?",
                    "how can i tell if i have corona virus?",
                    "how do i know i have covid-19?",
                    "how do i know i might have it?",
                    "are the symptoms like influenza?"
                  ],
                  "tag": "faq_symptoms_question",
                  "responses": [
                    "the most common symptoms of covid-19 are fever, tiredness, and dry cough. some patients may have aches and pains, nasal congestion, runny nose, sore throat or diarrhea. these symptoms are usually mild and begin gradually. some people become infected but don’t develop any symptoms and don't feel unwell. most people (about 80%) recover from the disease without needing special treatment. around 1 out of every 6 people who gets covid-19 becomes seriously ill and develops difficulty breathing. older people, and those with underlying medical problems like high blood pressure, heart problems or diabetes, are more likely to develop serious illness. people with fever, cough and difficulty breathing should seek medical attention.\n \n do you think you have corona symptoms? please respond yes or no."
                  ],
                  "context": [
                    "first_symptom_quetion"
                  ]
                },
                {
                  "patterns": [
                    "no",
                    "nope",
                    "nah"
                  ],
                  "tag": "faq_symptoms_question",
                  "responses": [
                    "see you!",
                    "have a nice day",
                    "bye! come back again soon."
                  ],
                  "context": [
                    ""
                  ]
                },
                {
                  "patterns": [
                    "yes",
                    "yeah",
                    "yep"
                  ],
                  "tag": "first_symptom_quetion",
                  "responses": [
                    "have you been within 6 feet of a person with a lab-confirmed case of covid-19 for at least 5 minutes, or had direct contact with their mucus or saliva, in the past 14 days? please respond yes or no."
                  ],
                  "context": [
                    "send_the_correct_response"
                  ]
                },
                {
                  "patterns": [
                    "no",
                    "nope",
                    "no i dont think"
                  ],
                  "tag": "first_symptom_quetion",
                  "responses": [
                    "do you have any question for me?"
                  ],
                  "context": [
                    "handle_answer"
                  ]
                },
                {
                  "patterns": [
                    "yes"
                  ],
                  "tag": "send_the_correct_response",
                  "responses": [
                    "does the person with covid-19 live with you?"
                  ],
                  "context": [
                    "ask_and_get_info"
                  ]
                },
                {
                  "patterns": [
                    "no"
                  ],
                  "tag": "send_the_correct_response",
                  "responses": [
                    "do you think you have corona symptoms? please respond yes or no."
                  ],
                  "context": [
                    "ans_admitted"
                  ]
                },
                {
                  "patterns": [
                    "is this person already admitted?"
                  ],
                  "tag": "ask_and_get_info",
                  "responses": [
                    "please respond yes this person is admitted no this person isn't admitted"
                  ],
                  "context": [
                    "person_admitted_q"
                  ]
                },
                {
                  "patterns": [
                    "yes this person is admitted",
                    "yes he is admitted",
                    "yes she is admitted"
                  ],
                  "tag": "person_admitted_q",
                  "responses": [
                    "do you think you got infected? answer in yes or no."
                  ],
                  "context": [
                    "ans_admitted"
                  ]
                },
                {
                  "patterns": [
                    "no this person isn't admitted",
                    "no this person is not admitted",
                    "no he isn't admitted",
                    "no he is not admitted",
                    "no she isn't admitted",
                    "no she is not admitted"
                  ],
                  "tag": "person_admitted_q",
                  "responses": [
                    "do you think you got infected? answer in yes or no."
                  ],
                  "context": [
                    "ans_admitted"
                  ]
                },
                {
                  "patterns": [
                    "yes",
                    "no"
                  ],
                  "tag": "ans_admitted",
                  "responses": [
                    "do you have any of these symptoms:fever, cough, sore throat, shortness of breath, trouble breathing,chills, repeated shaking with chills, muscle aches,diarrhea, loss of smell or taste,change in taste, headache, none of these? type all that matches."
                  ],
                  "context": [
                    "matching_symptoms"
                  ]
                },
                {
                  "patterns": [
                    "fever",
                    "flu",
                    "cough",
                    "throat ache",
                    "throat pain",
                    "sore throat",
                    "shortness of breath",
                    "trouble breathing",
                    "chills",
                    "repeated shaking with chills",
                    "muscle aches",
                    "body pain",
                    "body ache",
                    "diarrhea",
                    "loss of smell or taste",
                    "change in taste",
                    "loss of smell",
                    "hheadache",
                    "loss of taste"
                  ],
                  "tag": "matching_symptoms",
                  "responses": [
                    "do you have any of the following possible emergency symptoms? 1) struggling to breathe 2) fighting for breath even while inactive 3) when resting feeling about to collapse every time you stand or sit up 4) floppiness or a lack of response in a child under age 5) none of the above"
                  ],
                  "context": [
                    "emergency_symptoms"
                  ]
                },
                {
                  "patterns": [
                    "none of these"
                  ],
                  "tag": "matching_symptoms",
                  "responses": [
                    "do you have any of the following possible emergency symptoms? 1) struggling to breathe 2) fighting for breath even while inactive 3) when resting feeling about to collapse every time you stand or sit up 4) floppiness or a lack of response in a child under age 5) none of the above"
                  ],
                  "context": [
                    "emergency_symptoms"
                  ]
                },
                {
                  "patterns": [
                    "struggling to breathe",
                    "fighting for breath even while inactive",
                    "fighting for breath",
                    "when resting feeling about to collapse every time you stand or sit up",
                    "floppiness or a lack of response in a child under age",
                    "none of the above"
                  ],
                  "tag": "emergency_symptoms",
                  "responses": [
                    "visit the covid-19 care hospital as soon as possible. and get tested."
                  ],
                  "context": [
                    "emergency_symptoms_resp"
                  ]
                },
                {
                  "patterns": [
                    "none of these"
                  ],
                  "tag": "emergency_symptoms",
                  "responses": [
                    "kindly stay in self qurantine. do not go out and maintain social distance."
                  ],
                  "context": [
                    ""
                  ]
                },
                {
                  "patterns": [
                    "yes or no"
                  ],
                  "tag": "patient_background",
                  "responses": [
                    "in the two weeks before they felt sick, did they : have contact with someone diagnosed with covid-19 or live in or visit a place where covid-19 is spreading"
                  ],
                  "context": [
                    "emergency_symptoms_resp"
                  ]
                },
                {
                  "patterns": [
                    "covid-19 prevention",
                    "covid-19 testing at va",
                    "my current symptoms",
                    "healthcare appointments and prescriptions",
                    "benefits and claims",
                    "anxiety and related concerns"
                  ],
                  "tag": "emergency_symptoms",
                  "responses": [
                    "what do you need help with today?"
                  ],
                  "context": [
                    ""
                  ]
                },
                {
                  "patterns": [
                    "united states or outside united states"
                  ],
                  "tag": "location_identifier",
                  "responses": [
                    "where are you located?"
                  ],
                  "context": [
                    "emergency_symptoms"
                  ]
                },
                {
                  "patterns": [
                    "yes or no"
                  ],
                  "tag": "patient_background",
                  "responses": [
                    "in the two weeks before they felt sick, did they : have contact with someone diagnosed with covid-19 or live in or visit a place where covid-19 is spreading"
                  ],
                  "context": [
                    "emergency_symptoms_resp"
                  ]
                },
                {
                  "patterns": [
                    "younger than 2 years old",
                    "2-10 years old",
                    "10-20 years old",
                    "20-35 years old",
                    "35-50 years old",
                    "50-65 years old",
                    "65-80 years old",
                    "80 years and above"
                  ],
                  "tag": "patient_age",
                  "responses": [
                    "what is their age?"
                  ],
                  "context": [
                    ""
                  ]
                },
                {
                  "patterns": [
                    "top 10 countries",
                    "most affected countries"
                  ],
                  "tag": "top_cases",
                  "responses": [
                    "Top 10 most affected countries are: top_affected_countries \n Among which highest cases in : highest_cases_country"
                  ],
                  "context": [
                    "any_other_querie"
                  ]
                },
                {
                  "patterns": [
                    "top testing countries",
                    "testing countries",
                    "most actively testing countries"
                  ],
                  "tag": "top_testing_countries",
                  "responses": [
                    "Top 10 most actively testing countries are: top_testing_countries \n Among which highest cases in : highest_testing_country"
                  ],
                  "context": [
                    "any_other_querie"
                  ]
                },
                {
                  "patterns": [
                    "countries with max death in a day",
                    "max death",
                    "most died recently",
                    "number of deaths"
                  ],
                  "tag": "top_deaths_countries",
                  "responses": [
                    "Top 10 countries with max death in a day: top_death_countries \n Among which highest deaths in : highest_death_country"
                  ],
                  "context": [
                    "any_other_querie"
                  ]
                },
                {
                  "patterns": [
                    "highest death count on",
                    "highest death number on",
                    "most died on",
                    "maximum number of deaths on",
                    "max number of deaths on"
                  ],
                  "tag": "highest_death_US",
                  "responses": [
                    "maximum number of deaths in United States on: max_death_us"
                  ],
                  "context": [
                    "any_other_querie"
                  ]
                },
                {
                  "patterns": [
                    "lowest death count on",
                    "lowest death number on",
                    "least died on",
                    "minimum number of deaths on",
                    "min number of deaths on"
                  ],
                  "tag": "lowest_death_US",
                  "responses": [
                    "minimum number of deaths in United States on: min_death_us"
                  ],
                  "context": [
                    "any_other_querie"
                  ]
                },
                {
                  "patterns": [
                    "country with highest deathrate",
                    "highest deathrate of the country",
                    "maximum deathrate",
                    "max number of deathrate"
                  ],
                  "tag": "highest_deathrate_US",
                  "responses": [
                    "Country with maximum deathrate currently: max_deathrate"
                  ],
                  "context": [
                    "any_other_querie"
                  ]
                },
                {
                  "patterns": [
                    "country with lowest deathrate",
                    "lowest deathrate of the country",
                    "minimum deathrate",
                    "min number of deathsrate"
                  ],
                  "tag": "lowest_deathrate_US",
                  "responses": [
                    "Country with minimum deathrate currently: min_deathrate"
                  ],
                  "context": [
                    "any_other_querie"
                  ]
                },
                {
                  "patterns": [
                    "country with good lockdown",
                    "country imposed earliest lockdown",
                    "good lockdown country"
                  ],
                  "tag": "good_lockdown",
                  "responses": [
                    "Country great at Lockdown (among top 10): good_lockdown_counrty"
                  ],
                  "context": [
                    "any_other_querie"
                  ]
                },
                {
                  "patterns": [
                    "country with poor lockdown",
                    "country imposed late lockdown",
                    "poor lockdown country"
                  ],
                  "tag": "poor_lockdown",
                  "responses": [
                    "Country worst at Lockdown (among top 10): poor_lockdown_counrty"
                  ],
                  "context": [
                    "any_other_querie"
                  ]
                },
                {
                  "patterns": [
                    "for me or for someone else"
                  ],
                  "tag": "patient_background",
                  "responses": [
                    "are you answering for you, or for someone who is ill?"
                  ],
                  "context": [
                    "emergency_symptoms"
                  ]
                }
              ]
            },
            "text/plain": [
              "<IPython.core.display.JSON object>"
            ]
          },
          "metadata": {
            "tags": []
          },
          "execution_count": 30
        }
      ]
    },
    {
      "cell_type": "code",
      "metadata": {
        "id": "I49Xn8kmfZaZ"
      },
      "source": [
        "words=[]\n",
        "classes = []\n",
        "documents = []\n",
        "ignore_words = ['?', '!']\n",
        "data_file = open('intents.json').read()"
      ],
      "execution_count": null,
      "outputs": []
    },
    {
      "cell_type": "markdown",
      "metadata": {
        "id": "SJaqM_g4qCYa"
      },
      "source": [
        "Replace keywords from JSON file by the values calculated above."
      ]
    },
    {
      "cell_type": "code",
      "metadata": {
        "id": "1N6n9MXkLkpi"
      },
      "source": [
        "data_file = data_file.replace('top_affected_countries', listToStr)\n",
        "data_file = data_file.replace('highest_cases_country', positions[-1])\n",
        "data_file = data_file.replace('top_testing_countries', listToStrC)\n",
        "data_file = data_file.replace('highest_testing_countries', most_test[-1])\n",
        "data_file = data_file.replace('top_death_countries', listToStrD)\n",
        "data_file = data_file.replace('highest_death_country', fatalities[-1])\n",
        "data_file = data_file.replace('max_death_us', fatalities_US[-1])\n",
        "data_file = data_file.replace('min_death_us', fatalities_US[1])\n",
        "data_file = data_file.replace('max_deathrate', deathrate[-1])\n",
        "data_file = data_file.replace('min_deathrate', deathrate[1])\n",
        "data_file = data_file.replace('good_lockdown_counrty', lockdown[1])\n",
        "data_file = data_file.replace('poor_lockdown_counrty', lockdown[-1])"
      ],
      "execution_count": null,
      "outputs": []
    },
    {
      "cell_type": "markdown",
      "metadata": {
        "id": "sVhBQAAQ4iz1"
      },
      "source": [
        "* We use the json module to load in the file and save it as the variable intents.\n",
        "* Here we are going to use the neted if loop as this intents file has the sub-objects within the objects. For expample, patterns is an attribute in the intents. So this nested if loop takes out all the words within the patterns and add them to word file.\n",
        "* And add the words available in the tag to classes."
      ]
    },
    {
      "cell_type": "code",
      "metadata": {
        "scrolled": false,
        "id": "MozwkFPffZaa"
      },
      "source": [
        "intents = json.loads(data_file)\n",
        "with open('intents_up.json', 'w') as json_file:\n",
        "    json.dump(intents, json_file)"
      ],
      "execution_count": null,
      "outputs": []
    },
    {
      "cell_type": "code",
      "metadata": {
        "id": "VAI-2ioJfZab"
      },
      "source": [
        "for intent in intents['intents']:\n",
        "    for pattern in intent['patterns']:\n",
        "\n",
        "        # take each word and tokenize it\n",
        "        w = nltk.word_tokenize(pattern)\n",
        "        words.extend(w)\n",
        "        # adding documents\n",
        "        documents.append((w, intent['tag']))\n",
        "\n",
        "        # adding classes to our class list\n",
        "        if intent['tag'] not in classes:\n",
        "            classes.append(intent['tag'])"
      ],
      "execution_count": null,
      "outputs": []
    },
    {
      "cell_type": "markdown",
      "metadata": {
        "id": "6Du1fgW24qkc"
      },
      "source": [
        "* Next, we will take the words list and lemmatize and lowercase all the words inside. In case you don’t already know, lemmatize means to turn a word into its base meaning, or its lemma. For example, the words “walking”, “walked”, “walks” all have the same lemma, which is just “walk”. The purpose of lemmatizing our words is to narrow everything down to the simplest level it can be. It will save us a lot of time and unnecessary error when we actually process these words for machine learning. This is very similar to stemming, which is to reduce an inflected word down to its base or root form."
      ]
    },
    {
      "cell_type": "code",
      "metadata": {
        "id": "X5q0VDJufZac",
        "outputId": "b53b19fe-0acb-4c56-ac10-eb98728e1a7d",
        "colab": {
          "base_uri": "https://localhost:8080/",
          "height": 89
        }
      },
      "source": [
        "words = [lemmatizer.lemmatize(w.lower()) for w in words if w not in ignore_words]\n",
        "words = sorted(list(set(words)))\n",
        "\n",
        "classes = sorted(list(set(classes)))\n",
        "\n",
        "print (len(documents), \"documents\")\n",
        "\n",
        "print (len(classes), \"classes\", classes)\n",
        "\n",
        "print (len(words), \"unique lemmatized words\", words)\n",
        "\n",
        "\n",
        "pickle.dump(words,open('words.pkl','wb'))\n",
        "pickle.dump(classes,open('classes.pkl','wb'))"
      ],
      "execution_count": null,
      "outputs": [
        {
          "output_type": "stream",
          "text": [
            "320 documents\n",
            "56 classes ['Germany,India,Spain,Russia,US', 'adverse_drug', 'animals_corona', 'ans_admitted', 'antibiotics_for_corona', 'any_other_querie', 'ask_and_get_info', 'blood_pressure', 'blood_pressure_search', 'cause_corona', 'corona_and_other_flu', 'corona_infected_ans', 'corona_infected_que', 'corona_synonym', 'defination_corona', 'emergency_symptoms', 'faq_symptoms_question', 'first_symptom_quetion', 'good_lockdown', 'goodbye', 'greeting', 'handle_answer', 'highest_death_US', 'highest_deathrate_US', 'hospital_search', 'incubation_corona', 'location_identifier', 'lowest_death_US', 'lowest_deathrate_US', 'mask_and_corona', 'matching_symptoms', 'options', 'patient_age', 'patient_background', 'person_admitted_q', 'pharmacy_search', 'poor_lockdown', 'prevention_corona', 'query', 'query_newborn', 'query_pregnancy', 'query_public', 'query_smoking', 'reason_behind_corona', 'risk_catching_corona', 'sars_and_corona', 'send_the_correct_response', 'spread_corona', 'starting_place_corona', 'starting_time_corona', 'survival_corona', 'thanks', 'top_cases', 'top_deaths_countries', 'vaccine_for_corona', 'worry_about_corona']\n",
            "382 unique lemmatized words [\"'m\", \"'s\", ',', '.', '10', '10-20', '19', '2', '2-10', '20-35', '35-50', '50-65', '65-80', '80', 'a', 'about', 'above', 'ache', 'actively', 'admitted', 'adverse', 'affected', 'against', 'age', 'air', 'airborne', 'all', 'already', 'am', 'an', 'and', 'animal', 'antibiotic', 'anxiety', 'any', 'anyone', 'anything', 'appointment', 'are', 'area', 'at', 'available', 'awesome', 'baby', 'badly', 'be', 'because', 'been', 'behavior', 'benefit', 'between', 'birth', 'blood', 'body', 'breastfeed', 'breath', 'breathe', 'breathing', 'by', 'bye', 'called', 'can', 'cancelled', 'care', 'carrying', 'catch', 'cause', 'caused', 'causing', 'ceasarean', 'change', 'chatting', 'check', 'child', 'childbirth', 'chill', 'claim', 'cold', 'collapse', 'come', 'compare', 'complication', 'concern', 'confirmed', 'contacting', 'contracting', 'cool', 'corona', 'coronavirus', 'cough', 'coughing', 'could', 'count', 'country', 'covid', 'covid-19', 'covid19', 'cure', 'current', 'data', 'day', 'death', 'deathrate', 'deathsrate', 'detail', 'detected', 'developing', 'diarrhea', 'did', 'die', 'died', 'difference', 'different', 'disease', 'disposal', 'dispose', 'do', 'doe', 'don', 'dont', 'drug', 'during', 'earliest', 'effective', 'else', 'entry', 'epidemic', 'even', 'event', 'every', 'everyone', 'feeling', 'fever', 'fighting', 'find', 'fine', 'first', 'floppiness', 'flu', 'for', 'from', 'full', 'gathering', 'give', 'going', 'good', 'goodbye', 'got', 'ha', 'happen', 'have', 'he', 'healthcare', 'hello', 'help', 'helpful', 'helping', 'her', 'hey', 'hheadache', 'hi', 'higher', 'highest', 'history', 'hola', 'hold', 'hospital', 'how', 'human', 'i', 'id', 'identified', 'identify', 'if', 'illness', 'imposed', 'in', 'inactive', 'incubation', 'infected', 'infection', 'influenza', 'international', 'intervention', 'is', 'it', 'kind', 'know', 'known', 'lack', 'large', 'late', 'later', 'least', 'like', 'likely', 'list', 'load', 'locate', 'lockdown', 'log', 'long', 'looking', 'lookup', 'loss', 'lowest', 'management', 'mask', 'mass', 'max', 'maximum', 'me', 'mean', 'medical', 'medicine', 'meeting', 'might', 'min', 'minimum', 'module', 'most', 'muscle', 'my', 'myself', \"n't\", 'nah', 'name', 'nearby', 'need', 'newborn', 'next', 'nice', 'no', 'none', 'nop', 'nope', 'not', 'number', 'occur', 'of', 'off', 'offered', 'oh', 'ok', 'okat', 'okay', 'old', 'on', 'open', 'or', 'order', 'outbreak', 'outside', 'package', 'pain', 'pandemic', 'passed', 'patient', 'people', 'period', 'person', 'pet', 'pharmacy', 'poor', 'pregnancy', 'pregnant', 'prescription', 'pressure', 'prevent', 'preventing', 'prevention', 'protect', 'provide', 'put', 'reaction', 'receive', 'recently', 'recommend', 'related', 'repeated', 'reported', 'response', 'resting', 'result', 'risk', 'safe', 'same', 'sars', 'sars-cov-2', 'search', 'searching', 'section', 'see', 'severe', 'shaking', 'she', 'shortness', 'should', 'show', 'similar', 'sit', 'smell', 'smoker', 'someone', 'sore', 'source', 'spread', 'stand', 'start', 'state', 'structure', 'struggling', 'suitable', 'support', 'surface', 'survive', 'suspected', 'swine', 'symptom', 't', 'take', 'task', 'taste', 'tell', 'tested', 'testing', 'than', 'thank', 'thanks', 'that', 'the', 'therapy', 'there', 'these', 'think', 'this', 'throat', 'through', 'till', 'time', 'to', 'tobacco', 'top', 'touch', 'transfer', 'transmitted', 'treating', 'treatment', 'trouble', 'unborn', 'under', 'united', 'up', 'usage', 'use', 'used', 'user', 'va', 'vaccine', 'viral', 'virus', 'wa', 'want', 'we', 'wear', 'what', 'when', 'where', 'which', 'while', 'who', 'why', 'with', 'woman', 'worry', 'yeah', 'year', 'yep', 'yes', 'you', 'younger', '’']\n"
          ],
          "name": "stdout"
        }
      ]
    },
    {
      "cell_type": "markdown",
      "metadata": {
        "id": "ehHY46m84yiJ"
      },
      "source": [
        "* Hence the three files - intents_up.json, words.pkl and classes.pkl got crerated and all the data is fed into them making it ready to build the deep learning model."
      ]
    },
    {
      "cell_type": "markdown",
      "metadata": {
        "id": "rCHFNJuI5M2J"
      },
      "source": [
        "# Creating the Deep Learning Model for Chatbot"
      ]
    },
    {
      "cell_type": "code",
      "metadata": {
        "id": "PLpPegkPfZae",
        "outputId": "9a3a3d8a-bd29-42cc-fdc6-ae1f757cfe69",
        "colab": {
          "base_uri": "https://localhost:8080/",
          "height": 35
        }
      },
      "source": [
        "# initializing training data\n",
        "training = []\n",
        "output_empty = [0] * len(classes)\n",
        "for doc in documents:\n",
        "    # initializing bag of words\n",
        "    bag = []\n",
        "    # list of tokenized words for the pattern\n",
        "    pattern_words = doc[0]\n",
        "    # lemmatize each word - create base word, in attempt to represent related words\n",
        "    pattern_words = [lemmatizer.lemmatize(word.lower()) for word in pattern_words]\n",
        "    # create our bag of words array with 1, if word match found in current pattern\n",
        "    for w in words:\n",
        "        bag.append(1) if w in pattern_words else bag.append(0)\n",
        "\n",
        "    # output is a '0' for each tag and '1' for current tag (for each pattern)\n",
        "    output_row = list(output_empty)\n",
        "    output_row[classes.index(doc[1])] = 1\n",
        "\n",
        "    training.append([bag, output_row])\n",
        "# shuffle our features and turn into np.array\n",
        "random.shuffle(training)\n",
        "training = np.array(training)\n",
        "# create train and test lists. X - patterns, Y - intents\n",
        "train_x = list(training[:,0])\n",
        "train_y = list(training[:,1])\n",
        "print(\"Training data created\")"
      ],
      "execution_count": null,
      "outputs": [
        {
          "output_type": "stream",
          "text": [
            "Training data created\n"
          ],
          "name": "stdout"
        }
      ]
    },
    {
      "cell_type": "code",
      "metadata": {
        "id": "0SxsrMSDfZaf",
        "outputId": "ca9f6628-d85f-41f9-85e8-7a136e60815a",
        "colab": {
          "base_uri": "https://localhost:8080/",
          "height": 1000
        }
      },
      "source": [
        "# Create model - 3 layers. First layer 128 neurons, second layer 64 neurons and 3rd output layer contains number of neurons\n",
        "# equal to number of intents to predict output intent with softmax\n",
        "model = Sequential()\n",
        "model.add(Dense(128, input_shape=(len(train_x[0]),), activation='relu'))\n",
        "model.add(Dropout(0.5))\n",
        "model.add(Dense(64, activation='relu'))\n",
        "model.add(Dropout(0.5))\n",
        "model.add(Dense(len(train_y[0]), activation='softmax'))\n",
        "\n",
        "# Compile model. Stochastic gradient descent with Nesterov accelerated gradient gives good results for this model\n",
        "sgd = SGD(lr=0.01, decay=1e-6, momentum=0.9, nesterov=True)\n",
        "model.compile(loss='categorical_crossentropy', optimizer=sgd, metrics=['accuracy'])\n",
        "\n",
        "#fitting and saving the model\n",
        "hist = model.fit(np.array(train_x), np.array(train_y), epochs=200, batch_size=5, verbose=1)\n",
        "model.save('chatbot_model.h5', hist)\n",
        "\n",
        "print(\"model created\")"
      ],
      "execution_count": null,
      "outputs": [
        {
          "output_type": "stream",
          "text": [
            "Epoch 1/200\n",
            "320/320 [==============================] - 0s 591us/step - loss: 3.9424 - accuracy: 0.0562\n",
            "Epoch 2/200\n",
            "320/320 [==============================] - 0s 277us/step - loss: 3.7221 - accuracy: 0.0875\n",
            "Epoch 3/200\n",
            "320/320 [==============================] - 0s 295us/step - loss: 3.5001 - accuracy: 0.1500\n",
            "Epoch 4/200\n",
            "320/320 [==============================] - 0s 279us/step - loss: 3.3518 - accuracy: 0.1656\n",
            "Epoch 5/200\n",
            "320/320 [==============================] - 0s 284us/step - loss: 3.1288 - accuracy: 0.2375\n",
            "Epoch 6/200\n",
            "320/320 [==============================] - 0s 286us/step - loss: 2.9726 - accuracy: 0.2781\n",
            "Epoch 7/200\n",
            "320/320 [==============================] - 0s 296us/step - loss: 2.7202 - accuracy: 0.3469\n",
            "Epoch 8/200\n",
            "320/320 [==============================] - 0s 292us/step - loss: 2.5566 - accuracy: 0.3812\n",
            "Epoch 9/200\n",
            "320/320 [==============================] - 0s 281us/step - loss: 2.3332 - accuracy: 0.4156\n",
            "Epoch 10/200\n",
            "320/320 [==============================] - 0s 279us/step - loss: 2.1851 - accuracy: 0.4250\n",
            "Epoch 11/200\n",
            "320/320 [==============================] - 0s 289us/step - loss: 2.1025 - accuracy: 0.4250\n",
            "Epoch 12/200\n",
            "320/320 [==============================] - 0s 284us/step - loss: 1.9293 - accuracy: 0.4750\n",
            "Epoch 13/200\n",
            "320/320 [==============================] - 0s 283us/step - loss: 1.6897 - accuracy: 0.5094\n",
            "Epoch 14/200\n",
            "320/320 [==============================] - 0s 307us/step - loss: 1.7774 - accuracy: 0.5063\n",
            "Epoch 15/200\n",
            "320/320 [==============================] - 0s 290us/step - loss: 1.6163 - accuracy: 0.5688\n",
            "Epoch 16/200\n",
            "320/320 [==============================] - 0s 287us/step - loss: 1.5088 - accuracy: 0.5875\n",
            "Epoch 17/200\n",
            "320/320 [==============================] - 0s 279us/step - loss: 1.5228 - accuracy: 0.5844\n",
            "Epoch 18/200\n",
            "320/320 [==============================] - 0s 279us/step - loss: 1.3665 - accuracy: 0.5969\n",
            "Epoch 19/200\n",
            "320/320 [==============================] - 0s 270us/step - loss: 1.2492 - accuracy: 0.6281\n",
            "Epoch 20/200\n",
            "320/320 [==============================] - 0s 283us/step - loss: 1.1907 - accuracy: 0.6531\n",
            "Epoch 21/200\n",
            "320/320 [==============================] - 0s 297us/step - loss: 1.2175 - accuracy: 0.6500\n",
            "Epoch 22/200\n",
            "320/320 [==============================] - 0s 294us/step - loss: 1.1601 - accuracy: 0.6594\n",
            "Epoch 23/200\n",
            "320/320 [==============================] - 0s 282us/step - loss: 1.2996 - accuracy: 0.6187\n",
            "Epoch 24/200\n",
            "320/320 [==============================] - 0s 276us/step - loss: 0.9985 - accuracy: 0.7156\n",
            "Epoch 25/200\n",
            "320/320 [==============================] - 0s 301us/step - loss: 1.0722 - accuracy: 0.6750\n",
            "Epoch 26/200\n",
            "320/320 [==============================] - 0s 310us/step - loss: 1.0174 - accuracy: 0.6906\n",
            "Epoch 27/200\n",
            "320/320 [==============================] - 0s 285us/step - loss: 0.9761 - accuracy: 0.6844\n",
            "Epoch 28/200\n",
            "320/320 [==============================] - 0s 288us/step - loss: 0.9467 - accuracy: 0.7125\n",
            "Epoch 29/200\n",
            "320/320 [==============================] - 0s 280us/step - loss: 0.9972 - accuracy: 0.7000\n",
            "Epoch 30/200\n",
            "320/320 [==============================] - 0s 279us/step - loss: 0.8621 - accuracy: 0.7125\n",
            "Epoch 31/200\n",
            "320/320 [==============================] - 0s 284us/step - loss: 0.9180 - accuracy: 0.7250\n",
            "Epoch 32/200\n",
            "320/320 [==============================] - 0s 280us/step - loss: 0.9633 - accuracy: 0.7000\n",
            "Epoch 33/200\n",
            "320/320 [==============================] - 0s 275us/step - loss: 0.8927 - accuracy: 0.7094\n",
            "Epoch 34/200\n",
            "320/320 [==============================] - 0s 276us/step - loss: 0.8212 - accuracy: 0.7344\n",
            "Epoch 35/200\n",
            "320/320 [==============================] - 0s 280us/step - loss: 0.7681 - accuracy: 0.7563\n",
            "Epoch 36/200\n",
            "320/320 [==============================] - 0s 294us/step - loss: 0.8087 - accuracy: 0.7281\n",
            "Epoch 37/200\n",
            "320/320 [==============================] - 0s 284us/step - loss: 0.7810 - accuracy: 0.7500\n",
            "Epoch 38/200\n",
            "320/320 [==============================] - 0s 284us/step - loss: 0.7690 - accuracy: 0.7625\n",
            "Epoch 39/200\n",
            "320/320 [==============================] - 0s 278us/step - loss: 0.6885 - accuracy: 0.7375\n",
            "Epoch 40/200\n",
            "320/320 [==============================] - 0s 289us/step - loss: 0.8328 - accuracy: 0.7219\n",
            "Epoch 41/200\n",
            "320/320 [==============================] - 0s 287us/step - loss: 0.7706 - accuracy: 0.7406\n",
            "Epoch 42/200\n",
            "320/320 [==============================] - 0s 283us/step - loss: 0.7413 - accuracy: 0.7500\n",
            "Epoch 43/200\n",
            "320/320 [==============================] - 0s 271us/step - loss: 0.6762 - accuracy: 0.7719\n",
            "Epoch 44/200\n",
            "320/320 [==============================] - 0s 276us/step - loss: 0.6949 - accuracy: 0.7656\n",
            "Epoch 45/200\n",
            "320/320 [==============================] - 0s 289us/step - loss: 0.6477 - accuracy: 0.7875\n",
            "Epoch 46/200\n",
            "320/320 [==============================] - 0s 290us/step - loss: 0.6996 - accuracy: 0.7594\n",
            "Epoch 47/200\n",
            "320/320 [==============================] - 0s 305us/step - loss: 0.6391 - accuracy: 0.7875\n",
            "Epoch 48/200\n",
            "320/320 [==============================] - 0s 279us/step - loss: 0.6407 - accuracy: 0.7750\n",
            "Epoch 49/200\n",
            "320/320 [==============================] - 0s 279us/step - loss: 0.7294 - accuracy: 0.7719\n",
            "Epoch 50/200\n",
            "320/320 [==============================] - 0s 283us/step - loss: 0.6151 - accuracy: 0.7750\n",
            "Epoch 51/200\n",
            "320/320 [==============================] - 0s 385us/step - loss: 0.5705 - accuracy: 0.7937\n",
            "Epoch 52/200\n",
            "320/320 [==============================] - 0s 287us/step - loss: 0.5640 - accuracy: 0.8094\n",
            "Epoch 53/200\n",
            "320/320 [==============================] - 0s 300us/step - loss: 0.5566 - accuracy: 0.8000\n",
            "Epoch 54/200\n",
            "320/320 [==============================] - 0s 292us/step - loss: 0.5600 - accuracy: 0.8188\n",
            "Epoch 55/200\n",
            "320/320 [==============================] - 0s 285us/step - loss: 0.6125 - accuracy: 0.7906\n",
            "Epoch 56/200\n",
            "320/320 [==============================] - 0s 286us/step - loss: 0.7466 - accuracy: 0.7625\n",
            "Epoch 57/200\n",
            "320/320 [==============================] - 0s 279us/step - loss: 0.6973 - accuracy: 0.7688\n",
            "Epoch 58/200\n",
            "320/320 [==============================] - 0s 304us/step - loss: 0.6643 - accuracy: 0.7844\n",
            "Epoch 59/200\n",
            "320/320 [==============================] - 0s 284us/step - loss: 0.5488 - accuracy: 0.8188\n",
            "Epoch 60/200\n",
            "320/320 [==============================] - 0s 300us/step - loss: 0.5310 - accuracy: 0.8094\n",
            "Epoch 61/200\n",
            "320/320 [==============================] - 0s 305us/step - loss: 0.5488 - accuracy: 0.8469\n",
            "Epoch 62/200\n",
            "320/320 [==============================] - 0s 297us/step - loss: 0.5539 - accuracy: 0.8188\n",
            "Epoch 63/200\n",
            "320/320 [==============================] - 0s 348us/step - loss: 0.5437 - accuracy: 0.8000\n",
            "Epoch 64/200\n",
            "320/320 [==============================] - 0s 295us/step - loss: 0.5447 - accuracy: 0.8156\n",
            "Epoch 65/200\n",
            "320/320 [==============================] - 0s 280us/step - loss: 0.5326 - accuracy: 0.8156\n",
            "Epoch 66/200\n",
            "320/320 [==============================] - 0s 284us/step - loss: 0.5577 - accuracy: 0.8125\n",
            "Epoch 67/200\n",
            "320/320 [==============================] - 0s 283us/step - loss: 0.5394 - accuracy: 0.7969\n",
            "Epoch 68/200\n",
            "320/320 [==============================] - 0s 313us/step - loss: 0.5161 - accuracy: 0.8188\n",
            "Epoch 69/200\n",
            "320/320 [==============================] - 0s 277us/step - loss: 0.5099 - accuracy: 0.8000\n",
            "Epoch 70/200\n",
            "320/320 [==============================] - 0s 352us/step - loss: 0.4902 - accuracy: 0.8188\n",
            "Epoch 71/200\n",
            "320/320 [==============================] - 0s 283us/step - loss: 0.5451 - accuracy: 0.8219\n",
            "Epoch 72/200\n",
            "320/320 [==============================] - 0s 285us/step - loss: 0.4699 - accuracy: 0.8375\n",
            "Epoch 73/200\n",
            "320/320 [==============================] - 0s 300us/step - loss: 0.5369 - accuracy: 0.8062\n",
            "Epoch 74/200\n",
            "320/320 [==============================] - 0s 272us/step - loss: 0.5686 - accuracy: 0.7937\n",
            "Epoch 75/200\n",
            "320/320 [==============================] - 0s 295us/step - loss: 0.4970 - accuracy: 0.8125\n",
            "Epoch 76/200\n",
            "320/320 [==============================] - 0s 286us/step - loss: 0.4988 - accuracy: 0.8250\n",
            "Epoch 77/200\n",
            "320/320 [==============================] - 0s 274us/step - loss: 0.5162 - accuracy: 0.8094\n",
            "Epoch 78/200\n",
            "320/320 [==============================] - 0s 293us/step - loss: 0.4286 - accuracy: 0.8500\n",
            "Epoch 79/200\n",
            "320/320 [==============================] - 0s 321us/step - loss: 0.4602 - accuracy: 0.8375\n",
            "Epoch 80/200\n",
            "320/320 [==============================] - 0s 291us/step - loss: 0.4695 - accuracy: 0.8375\n",
            "Epoch 81/200\n",
            "320/320 [==============================] - 0s 305us/step - loss: 0.4731 - accuracy: 0.8344\n",
            "Epoch 82/200\n",
            "320/320 [==============================] - 0s 326us/step - loss: 0.5180 - accuracy: 0.8125\n",
            "Epoch 83/200\n",
            "320/320 [==============================] - 0s 309us/step - loss: 0.4627 - accuracy: 0.8344\n",
            "Epoch 84/200\n",
            "320/320 [==============================] - 0s 299us/step - loss: 0.4230 - accuracy: 0.8406\n",
            "Epoch 85/200\n",
            "320/320 [==============================] - 0s 290us/step - loss: 0.4096 - accuracy: 0.8625\n",
            "Epoch 86/200\n",
            "320/320 [==============================] - 0s 281us/step - loss: 0.4443 - accuracy: 0.8562\n",
            "Epoch 87/200\n",
            "320/320 [==============================] - 0s 285us/step - loss: 0.5446 - accuracy: 0.8062\n",
            "Epoch 88/200\n",
            "320/320 [==============================] - 0s 295us/step - loss: 0.5292 - accuracy: 0.8281\n",
            "Epoch 89/200\n",
            "320/320 [==============================] - 0s 346us/step - loss: 0.4756 - accuracy: 0.8344\n",
            "Epoch 90/200\n",
            "320/320 [==============================] - 0s 289us/step - loss: 0.5190 - accuracy: 0.8188\n",
            "Epoch 91/200\n",
            "320/320 [==============================] - 0s 297us/step - loss: 0.4800 - accuracy: 0.8250\n",
            "Epoch 92/200\n",
            "320/320 [==============================] - 0s 308us/step - loss: 0.4333 - accuracy: 0.8469\n",
            "Epoch 93/200\n",
            "320/320 [==============================] - 0s 305us/step - loss: 0.5146 - accuracy: 0.8313\n",
            "Epoch 94/200\n",
            "320/320 [==============================] - 0s 283us/step - loss: 0.4665 - accuracy: 0.8406\n",
            "Epoch 95/200\n",
            "320/320 [==============================] - 0s 289us/step - loss: 0.4887 - accuracy: 0.8313\n",
            "Epoch 96/200\n",
            "320/320 [==============================] - 0s 275us/step - loss: 0.4782 - accuracy: 0.8375\n",
            "Epoch 97/200\n",
            "320/320 [==============================] - 0s 287us/step - loss: 0.4324 - accuracy: 0.8344\n",
            "Epoch 98/200\n",
            "320/320 [==============================] - 0s 290us/step - loss: 0.4439 - accuracy: 0.8375\n",
            "Epoch 99/200\n",
            "320/320 [==============================] - 0s 276us/step - loss: 0.5325 - accuracy: 0.8219\n",
            "Epoch 100/200\n",
            "320/320 [==============================] - 0s 338us/step - loss: 0.4771 - accuracy: 0.8406\n",
            "Epoch 101/200\n",
            "320/320 [==============================] - 0s 286us/step - loss: 0.4592 - accuracy: 0.8375\n",
            "Epoch 102/200\n",
            "320/320 [==============================] - 0s 288us/step - loss: 0.4634 - accuracy: 0.8250\n",
            "Epoch 103/200\n",
            "320/320 [==============================] - 0s 303us/step - loss: 0.3880 - accuracy: 0.8687\n",
            "Epoch 104/200\n",
            "320/320 [==============================] - 0s 306us/step - loss: 0.3991 - accuracy: 0.8438\n",
            "Epoch 105/200\n",
            "320/320 [==============================] - 0s 296us/step - loss: 0.5026 - accuracy: 0.8250\n",
            "Epoch 106/200\n",
            "320/320 [==============================] - 0s 288us/step - loss: 0.4237 - accuracy: 0.8438\n",
            "Epoch 107/200\n",
            "320/320 [==============================] - 0s 290us/step - loss: 0.3964 - accuracy: 0.8562\n",
            "Epoch 108/200\n",
            "320/320 [==============================] - 0s 321us/step - loss: 0.4589 - accuracy: 0.8219\n",
            "Epoch 109/200\n",
            "320/320 [==============================] - 0s 304us/step - loss: 0.4152 - accuracy: 0.8687\n",
            "Epoch 110/200\n",
            "320/320 [==============================] - 0s 315us/step - loss: 0.5448 - accuracy: 0.8062\n",
            "Epoch 111/200\n",
            "320/320 [==============================] - 0s 309us/step - loss: 0.4748 - accuracy: 0.8156\n",
            "Epoch 112/200\n",
            "320/320 [==============================] - 0s 291us/step - loss: 0.4842 - accuracy: 0.8344\n",
            "Epoch 113/200\n",
            "320/320 [==============================] - 0s 300us/step - loss: 0.3893 - accuracy: 0.8719\n",
            "Epoch 114/200\n",
            "320/320 [==============================] - 0s 280us/step - loss: 0.4031 - accuracy: 0.8531\n",
            "Epoch 115/200\n",
            "320/320 [==============================] - 0s 293us/step - loss: 0.4011 - accuracy: 0.8375\n",
            "Epoch 116/200\n",
            "320/320 [==============================] - 0s 310us/step - loss: 0.4076 - accuracy: 0.8469\n",
            "Epoch 117/200\n",
            "320/320 [==============================] - 0s 306us/step - loss: 0.4099 - accuracy: 0.8375\n",
            "Epoch 118/200\n",
            "320/320 [==============================] - 0s 295us/step - loss: 0.4579 - accuracy: 0.8344\n",
            "Epoch 119/200\n",
            "320/320 [==============================] - 0s 300us/step - loss: 0.4472 - accuracy: 0.8594\n",
            "Epoch 120/200\n",
            "320/320 [==============================] - 0s 297us/step - loss: 0.5049 - accuracy: 0.8375\n",
            "Epoch 121/200\n",
            "320/320 [==============================] - 0s 319us/step - loss: 0.4518 - accuracy: 0.8406\n",
            "Epoch 122/200\n",
            "320/320 [==============================] - 0s 303us/step - loss: 0.4196 - accuracy: 0.8438\n",
            "Epoch 123/200\n",
            "320/320 [==============================] - 0s 301us/step - loss: 0.3952 - accuracy: 0.8562\n",
            "Epoch 124/200\n",
            "320/320 [==============================] - 0s 319us/step - loss: 0.3887 - accuracy: 0.8438\n",
            "Epoch 125/200\n",
            "320/320 [==============================] - 0s 285us/step - loss: 0.3793 - accuracy: 0.8656\n",
            "Epoch 126/200\n",
            "320/320 [==============================] - 0s 296us/step - loss: 0.4024 - accuracy: 0.8469\n",
            "Epoch 127/200\n",
            "320/320 [==============================] - 0s 303us/step - loss: 0.4222 - accuracy: 0.8250\n",
            "Epoch 128/200\n",
            "320/320 [==============================] - 0s 285us/step - loss: 0.3938 - accuracy: 0.8625\n",
            "Epoch 129/200\n",
            "320/320 [==============================] - 0s 295us/step - loss: 0.4126 - accuracy: 0.8375\n",
            "Epoch 130/200\n",
            "320/320 [==============================] - 0s 323us/step - loss: 0.3945 - accuracy: 0.8656\n",
            "Epoch 131/200\n",
            "320/320 [==============================] - 0s 343us/step - loss: 0.5223 - accuracy: 0.8281\n",
            "Epoch 132/200\n",
            "320/320 [==============================] - 0s 285us/step - loss: 0.4254 - accuracy: 0.8344\n",
            "Epoch 133/200\n",
            "320/320 [==============================] - 0s 313us/step - loss: 0.4281 - accuracy: 0.8562\n",
            "Epoch 134/200\n",
            "320/320 [==============================] - 0s 306us/step - loss: 0.3437 - accuracy: 0.8813\n",
            "Epoch 135/200\n",
            "320/320 [==============================] - 0s 298us/step - loss: 0.3884 - accuracy: 0.8469\n",
            "Epoch 136/200\n",
            "320/320 [==============================] - 0s 300us/step - loss: 0.4035 - accuracy: 0.8531\n",
            "Epoch 137/200\n",
            "320/320 [==============================] - 0s 295us/step - loss: 0.3572 - accuracy: 0.8719\n",
            "Epoch 138/200\n",
            "320/320 [==============================] - 0s 288us/step - loss: 0.3792 - accuracy: 0.8656\n",
            "Epoch 139/200\n",
            "320/320 [==============================] - 0s 276us/step - loss: 0.4337 - accuracy: 0.8281\n",
            "Epoch 140/200\n",
            "320/320 [==============================] - 0s 298us/step - loss: 0.4402 - accuracy: 0.8281\n",
            "Epoch 141/200\n",
            "320/320 [==============================] - 0s 311us/step - loss: 0.4099 - accuracy: 0.8406\n",
            "Epoch 142/200\n",
            "320/320 [==============================] - 0s 306us/step - loss: 0.4098 - accuracy: 0.8313\n",
            "Epoch 143/200\n",
            "320/320 [==============================] - 0s 323us/step - loss: 0.4016 - accuracy: 0.8219\n",
            "Epoch 144/200\n",
            "320/320 [==============================] - 0s 290us/step - loss: 0.3877 - accuracy: 0.8562\n",
            "Epoch 145/200\n",
            "320/320 [==============================] - 0s 289us/step - loss: 0.3567 - accuracy: 0.8719\n",
            "Epoch 146/200\n",
            "320/320 [==============================] - 0s 293us/step - loss: 0.3769 - accuracy: 0.8531\n",
            "Epoch 147/200\n",
            "320/320 [==============================] - 0s 296us/step - loss: 0.2929 - accuracy: 0.8750\n",
            "Epoch 148/200\n",
            "320/320 [==============================] - 0s 289us/step - loss: 0.3689 - accuracy: 0.8562\n",
            "Epoch 149/200\n",
            "320/320 [==============================] - 0s 291us/step - loss: 0.4107 - accuracy: 0.8500\n",
            "Epoch 150/200\n",
            "320/320 [==============================] - 0s 322us/step - loss: 0.3895 - accuracy: 0.8500\n",
            "Epoch 151/200\n",
            "320/320 [==============================] - 0s 312us/step - loss: 0.3589 - accuracy: 0.8625\n",
            "Epoch 152/200\n",
            "320/320 [==============================] - 0s 306us/step - loss: 0.3843 - accuracy: 0.8531\n",
            "Epoch 153/200\n",
            "320/320 [==============================] - 0s 294us/step - loss: 0.4364 - accuracy: 0.8375\n",
            "Epoch 154/200\n",
            "320/320 [==============================] - 0s 300us/step - loss: 0.3943 - accuracy: 0.8719\n",
            "Epoch 155/200\n",
            "320/320 [==============================] - 0s 286us/step - loss: 0.3931 - accuracy: 0.8375\n",
            "Epoch 156/200\n",
            "320/320 [==============================] - 0s 306us/step - loss: 0.4180 - accuracy: 0.8313\n",
            "Epoch 157/200\n",
            "320/320 [==============================] - 0s 298us/step - loss: 0.3618 - accuracy: 0.8625\n",
            "Epoch 158/200\n",
            "320/320 [==============================] - 0s 308us/step - loss: 0.4409 - accuracy: 0.8438\n",
            "Epoch 159/200\n",
            "320/320 [==============================] - 0s 305us/step - loss: 0.3531 - accuracy: 0.8719\n",
            "Epoch 160/200\n",
            "320/320 [==============================] - 0s 290us/step - loss: 0.3894 - accuracy: 0.8562\n",
            "Epoch 161/200\n",
            "320/320 [==============================] - 0s 295us/step - loss: 0.4558 - accuracy: 0.8281\n",
            "Epoch 162/200\n",
            "320/320 [==============================] - 0s 313us/step - loss: 0.4081 - accuracy: 0.8562\n",
            "Epoch 163/200\n",
            "320/320 [==============================] - 0s 304us/step - loss: 0.4056 - accuracy: 0.8313\n",
            "Epoch 164/200\n",
            "320/320 [==============================] - 0s 385us/step - loss: 0.4168 - accuracy: 0.8531\n",
            "Epoch 165/200\n",
            "320/320 [==============================] - 0s 294us/step - loss: 0.3143 - accuracy: 0.8719\n",
            "Epoch 166/200\n",
            "320/320 [==============================] - 0s 304us/step - loss: 0.4573 - accuracy: 0.8313\n",
            "Epoch 167/200\n",
            "320/320 [==============================] - 0s 290us/step - loss: 0.4095 - accuracy: 0.8469\n",
            "Epoch 168/200\n",
            "320/320 [==============================] - 0s 287us/step - loss: 0.3430 - accuracy: 0.8531\n",
            "Epoch 169/200\n",
            "320/320 [==============================] - 0s 317us/step - loss: 0.3704 - accuracy: 0.8625\n",
            "Epoch 170/200\n",
            "320/320 [==============================] - 0s 317us/step - loss: 0.4399 - accuracy: 0.8344\n",
            "Epoch 171/200\n",
            "320/320 [==============================] - 0s 298us/step - loss: 0.3600 - accuracy: 0.8719\n",
            "Epoch 172/200\n",
            "320/320 [==============================] - 0s 413us/step - loss: 0.4000 - accuracy: 0.8469\n",
            "Epoch 173/200\n",
            "320/320 [==============================] - 0s 285us/step - loss: 0.4705 - accuracy: 0.8406\n",
            "Epoch 174/200\n",
            "320/320 [==============================] - 0s 280us/step - loss: 0.5015 - accuracy: 0.8344\n",
            "Epoch 175/200\n",
            "320/320 [==============================] - 0s 311us/step - loss: 0.4294 - accuracy: 0.8531\n",
            "Epoch 176/200\n",
            "320/320 [==============================] - 0s 294us/step - loss: 0.3974 - accuracy: 0.8375\n",
            "Epoch 177/200\n",
            "320/320 [==============================] - 0s 299us/step - loss: 0.4561 - accuracy: 0.8406\n",
            "Epoch 178/200\n",
            "320/320 [==============================] - 0s 315us/step - loss: 0.4068 - accuracy: 0.8500\n",
            "Epoch 179/200\n",
            "320/320 [==============================] - 0s 306us/step - loss: 0.3814 - accuracy: 0.8625\n",
            "Epoch 180/200\n",
            "320/320 [==============================] - 0s 285us/step - loss: 0.4307 - accuracy: 0.8281\n",
            "Epoch 181/200\n",
            "320/320 [==============================] - 0s 307us/step - loss: 0.3648 - accuracy: 0.8500\n",
            "Epoch 182/200\n",
            "320/320 [==============================] - 0s 307us/step - loss: 0.3778 - accuracy: 0.8656\n",
            "Epoch 183/200\n",
            "320/320 [==============================] - 0s 294us/step - loss: 0.3280 - accuracy: 0.8781\n",
            "Epoch 184/200\n",
            "320/320 [==============================] - 0s 291us/step - loss: 0.3520 - accuracy: 0.8687\n",
            "Epoch 185/200\n",
            "320/320 [==============================] - 0s 285us/step - loss: 0.3368 - accuracy: 0.8594\n",
            "Epoch 186/200\n",
            "320/320 [==============================] - 0s 322us/step - loss: 0.4078 - accuracy: 0.8594\n",
            "Epoch 187/200\n",
            "320/320 [==============================] - 0s 294us/step - loss: 0.3789 - accuracy: 0.8438\n",
            "Epoch 188/200\n",
            "320/320 [==============================] - 0s 287us/step - loss: 0.3237 - accuracy: 0.8687\n",
            "Epoch 189/200\n",
            "320/320 [==============================] - 0s 294us/step - loss: 0.4418 - accuracy: 0.8531\n",
            "Epoch 190/200\n",
            "320/320 [==============================] - 0s 294us/step - loss: 0.4309 - accuracy: 0.8531\n",
            "Epoch 191/200\n",
            "320/320 [==============================] - 0s 297us/step - loss: 0.4099 - accuracy: 0.8469\n",
            "Epoch 192/200\n",
            "320/320 [==============================] - 0s 344us/step - loss: 0.3910 - accuracy: 0.8531\n",
            "Epoch 193/200\n",
            "320/320 [==============================] - 0s 321us/step - loss: 0.3864 - accuracy: 0.8531\n",
            "Epoch 194/200\n",
            "320/320 [==============================] - 0s 305us/step - loss: 0.4448 - accuracy: 0.8406\n",
            "Epoch 195/200\n",
            "320/320 [==============================] - 0s 298us/step - loss: 0.4271 - accuracy: 0.8438\n",
            "Epoch 196/200\n",
            "320/320 [==============================] - 0s 324us/step - loss: 0.4062 - accuracy: 0.8469\n",
            "Epoch 197/200\n",
            "320/320 [==============================] - 0s 316us/step - loss: 0.4257 - accuracy: 0.8406\n",
            "Epoch 198/200\n",
            "320/320 [==============================] - 0s 285us/step - loss: 0.3895 - accuracy: 0.8656\n",
            "Epoch 199/200\n",
            "320/320 [==============================] - 0s 327us/step - loss: 0.4571 - accuracy: 0.8313\n",
            "Epoch 200/200\n",
            "320/320 [==============================] - 0s 344us/step - loss: 0.4154 - accuracy: 0.8375\n",
            "model created\n"
          ],
          "name": "stdout"
        }
      ]
    },
    {
      "cell_type": "code",
      "metadata": {
        "id": "-nHo4cP75pTZ",
        "outputId": "43e2451e-1175-4390-ea89-c58551d259d7",
        "colab": {
          "base_uri": "https://localhost:8080/",
          "height": 52
        }
      },
      "source": [
        "with h5py.File(\"chatbot_model.h5\", \"r\") as hdf:\n",
        "#with h5py.File(\"/Users/sasankkantana/Desktop/Applications_of_AI/Project/chatbot_model.h5\", \"r\") as hdf:\n",
        "    ls = list(hdf.keys())\n",
        "    print(\"The data present in the file: \\n\", ls)\n",
        "    data1=hdf.get(\"model_weights\")\n",
        "    data2=hdf.get(\"optimizer_weights\")\n",
        "    dataset1=np.array(data1)\n",
        "    dataset2=np.array(data2)"
      ],
      "execution_count": null,
      "outputs": [
        {
          "output_type": "stream",
          "text": [
            "The data present in the file: \n",
            " ['model_weights', 'optimizer_weights']\n"
          ],
          "name": "stdout"
        }
      ]
    },
    {
      "cell_type": "code",
      "metadata": {
        "id": "8NI-4aBE54fQ",
        "outputId": "316c167e-4524-4148-826a-37c61102295a",
        "colab": {
          "base_uri": "https://localhost:8080/",
          "height": 52
        }
      },
      "source": [
        "dataset1"
      ],
      "execution_count": null,
      "outputs": [
        {
          "output_type": "execute_result",
          "data": {
            "text/plain": [
              "array(['dense_1', 'dense_2', 'dense_3', 'dropout_1', 'dropout_2'],\n",
              "      dtype='<U9')"
            ]
          },
          "metadata": {
            "tags": []
          },
          "execution_count": 39
        }
      ]
    },
    {
      "cell_type": "code",
      "metadata": {
        "id": "OdiJulC-54sy",
        "outputId": "935cb8bc-024b-499a-c11e-52a83097abe5",
        "colab": {
          "base_uri": "https://localhost:8080/",
          "height": 52
        }
      },
      "source": [
        "dataset2"
      ],
      "execution_count": null,
      "outputs": [
        {
          "output_type": "execute_result",
          "data": {
            "text/plain": [
              "array(['SGD', 'moment_0:0', 'moment_1:0', 'moment_2:0', 'moment_3:0',\n",
              "       'moment_4:0', 'moment_5:0'], dtype='<U10')"
            ]
          },
          "metadata": {
            "tags": []
          },
          "execution_count": 40
        }
      ]
    },
    {
      "cell_type": "markdown",
      "metadata": {
        "id": "rdoQph6p6Ian"
      },
      "source": [
        "## Chatbot Graphic User Interface creation"
      ]
    },
    {
      "cell_type": "markdown",
      "metadata": {
        "id": "tmPxTxEm6KAk"
      },
      "source": [
        "* For the purpose of buildingt he GUI we need to again restore and load all the files, model that we have created and saved."
      ]
    },
    {
      "cell_type": "code",
      "metadata": {
        "id": "lljApYgLfZai"
      },
      "source": [
        "from keras.models import load_model\n",
        "model = load_model('chatbot_model.h5')\n",
        "intents = json.loads(open('intents_up.json').read())\n",
        "words = pickle.load(open('words.pkl','rb'))\n",
        "classes = pickle.load(open('classes.pkl','rb'))"
      ],
      "execution_count": null,
      "outputs": []
    },
    {
      "cell_type": "code",
      "metadata": {
        "id": "uFs7KiC1fZaj"
      },
      "source": [
        "def clean_up_sentence(sentence):\n",
        "    sentence_words = nltk.word_tokenize(sentence)\n",
        "    sentence_words = [lemmatizer.lemmatize(word.lower()) for word in sentence_words]\n",
        "    return sentence_words\n",
        "\n",
        "# return bag of words array: 0 or 1 for each word in the bag that exists in the sentence\n",
        "\n",
        "def bow(sentence, words, show_details=True):\n",
        "    # tokenize the pattern\n",
        "    sentence_words = clean_up_sentence(sentence)\n",
        "    # bag of words - matrix of N words, vocabulary matrix\n",
        "    bag = [0]*len(words)\n",
        "    for s in sentence_words:\n",
        "        for i,w in enumerate(words):\n",
        "            if w == s:\n",
        "                # assign 1 if current word is in the vocabulary position\n",
        "                bag[i] = 1\n",
        "                if show_details:\n",
        "                    print (\"found in bag: %s\" % w)\n",
        "    return(np.array(bag))\n",
        "\n",
        "def predict_class(sentence, model):\n",
        "    # filter out predictions below a threshold\n",
        "    p = bow(sentence, words,show_details=False)\n",
        "    res = model.predict(np.array([p]))[0]\n",
        "    ERROR_THRESHOLD = 0.25\n",
        "    results = [[i,r] for i,r in enumerate(res) if r>ERROR_THRESHOLD]\n",
        "    # sort by strength of probability\n",
        "    results.sort(key=lambda x: x[1], reverse=True)\n",
        "    return_list = []\n",
        "    for r in results:\n",
        "        return_list.append({\"intent\": classes[r[0]], \"probability\": str(r[1])})\n",
        "    return return_list\n",
        "\n",
        "def getResponse(ints, intents_json):\n",
        "    tag = ints[0]['intent']\n",
        "    list_of_intents = intents_json['intents']\n",
        "    for i in list_of_intents:\n",
        "        if(i['tag']== tag):\n",
        "            result = random.choice(i['responses'])\n",
        "            break\n",
        "    if result.startswith('http'):\n",
        "        root = tk.Tk()\n",
        "        result = tk.Label(root, text=result,fg=\"blue\", cursor=\"hand\")\n",
        "        result.bind(\"<Button-1>\",change_case)\n",
        "        result.bind(\"<Enter>\",red_text)\n",
        "        result.bind(\"<Leave>\",black_text)\n",
        "\n",
        "        result.grid()\n",
        "    return result\n",
        "\n",
        "def chatbot_response(msg):\n",
        "    ints = predict_class(msg, model)\n",
        "    res = getResponse(ints, intents)\n",
        "    return res\n"
      ],
      "execution_count": null,
      "outputs": []
    },
    {
      "cell_type": "markdown",
      "metadata": {
        "id": "qZZ40g3f60JG"
      },
      "source": [
        "* We have the clean_up_sentence() function which cleans up any sentences that are inputted. This function is used in the bow() function, which takes the sentences that are cleaned up and creates a bag of words that are used for predicting classes (which are based off the results we got from training our model earlier).\n",
        "* In our predict_class() function, we use an error threshold of 0.25 to avoid too much overfitting. This function will output a list of intents and the probabilities, their likelihood of matching the correct intent. The function getResponse() takes the list outputted and checks the json file and outputs the most response with the highest probability.\n",
        "* Finally our chatbot_response() takes in a message (which will be inputted through our chatbot GUI), predicts the class with our predict_class() function, puts the output list into getResponse(), then outputs the response. What we get is the foundation of our chatbot. We can now tell the bot something, and it will then respond back."
      ]
    },
    {
      "cell_type": "markdown",
      "metadata": {
        "id": "GiExtDEg64Eo"
      },
      "source": [
        "# Building Chatbot GUI using tkinter\n",
        "### What is a tkinter?\n",
        "\n",
        "* Tkinter is a Python binding to the Tk GUI toolkit. It is the standard Python interface to the Tk GUI toolkit, and is Python's de facto standard GUI. Tkinter is included with standard Linux, Microsoft Windows and Mac OS X installs of Python. The name Tkinter comes from Tk interface.\n",
        "* So we are going to use the tkinter to create the chatbot structure.\n",
        "* We will import the necessary libraries and functions required."
      ]
    },
    {
      "cell_type": "code",
      "metadata": {
        "id": "d0a66d5ofZal",
        "outputId": "d7e58ed3-e36e-4796-a4de-8fafb17a907b",
        "colab": {
          "base_uri": "https://localhost:8080/",
          "height": 357
        }
      },
      "source": [
        "#Creating GUI with tkinter\n",
        "import tkinter\n",
        "import tkinter as tk\n",
        "import webbrowser\n",
        "from tkinter import *\n",
        "\n",
        "\n",
        "def send():\n",
        "    msg = EntryBox.get(\"1.0\",'end-1c').strip()\n",
        "    EntryBox.delete(\"0.0\",END)\n",
        "\n",
        "    if msg != '':\n",
        "        ChatLog.config(state=NORMAL)\n",
        "        ChatLog.insert(END, \"You: \" + msg + '\\n\\n')\n",
        "        ChatLog.config(foreground=\"#442265\", font=(\"Verdana\", 12 ))\n",
        "\n",
        "        res = chatbot_response(msg)\n",
        "        ChatLog.insert(END, \"Assistant: \" + res + '\\n\\n')\n",
        "\n",
        "        ChatLog.config(state=DISABLED)\n",
        "        ChatLog.yview(END)\n",
        "\n",
        "\n",
        "base = Tk()\n",
        "base.title(\"Covid-19 Assistant\")\n",
        "base.geometry(\"400x500\")\n",
        "base.resizable(width=FALSE, height=FALSE)\n",
        "\n",
        "#Create Chat window for by providing the required dimensions\n",
        "ChatLog = Text(base, bd=0, bg=\"grey\", fg=\"white\", height=\"8\", width=\"50\", font=\"Arial\",)\n",
        "\n",
        "ChatLog.config(state=DISABLED)\n",
        "\n",
        "#Bind scrollbar to Chat window to check the previous and next responses\n",
        "scrollbar = Scrollbar(base, command=ChatLog.yview, cursor=\"heart\")\n",
        "ChatLog['yscrollcommand'] = scrollbar.set\n",
        "\n",
        "\n",
        "#Create the box to enter message for the user to give a query to the bot.\n",
        "EntryBox = Text(base, bd=0, bg=\"white\",width=\"50\", height=\"8\", font=\"Arial\")\n",
        "EntryBox.bind(\"<Return>\", send)\n",
        "\n",
        "#Create Button to send message to send the query given by user to bot in order to make it respond\n",
        "SendButton = Button(base, font=(\"Verdana\",12,'bold'), text=\"Send\", width=\"12\", height=5,\n",
        "                    bd=0, bg=\"#32de97\", activebackground=\"#3c9d9b\",fg='black',\n",
        "                    command= send )\n",
        "\n",
        "#Place all components on the screen\n",
        "scrollbar.place(x=376,y=6, height=386)\n",
        "ChatLog.place(x=6,y=6, height=386, width=370)\n",
        "EntryBox.place(x=128, y=401, height=90, width=300)\n",
        "SendButton.place(x=6, y=401, height=90)\n",
        "\n",
        "base.mainloop()"
      ],
      "execution_count": null,
      "outputs": [
        {
          "output_type": "error",
          "ename": "TclError",
          "evalue": "ignored",
          "traceback": [
            "\u001b[0;31m---------------------------------------------------------------------------\u001b[0m",
            "\u001b[0;31mTclError\u001b[0m                                  Traceback (most recent call last)",
            "\u001b[0;32m<ipython-input-43-d7b5c78308c7>\u001b[0m in \u001b[0;36m<module>\u001b[0;34m()\u001b[0m\n\u001b[1;32m     22\u001b[0m \u001b[0;34m\u001b[0m\u001b[0m\n\u001b[1;32m     23\u001b[0m \u001b[0;34m\u001b[0m\u001b[0m\n\u001b[0;32m---> 24\u001b[0;31m \u001b[0mbase\u001b[0m \u001b[0;34m=\u001b[0m \u001b[0mTk\u001b[0m\u001b[0;34m(\u001b[0m\u001b[0;34m)\u001b[0m\u001b[0;34m\u001b[0m\u001b[0;34m\u001b[0m\u001b[0m\n\u001b[0m\u001b[1;32m     25\u001b[0m \u001b[0mbase\u001b[0m\u001b[0;34m.\u001b[0m\u001b[0mtitle\u001b[0m\u001b[0;34m(\u001b[0m\u001b[0;34m\"Covid-19 Assistant\"\u001b[0m\u001b[0;34m)\u001b[0m\u001b[0;34m\u001b[0m\u001b[0;34m\u001b[0m\u001b[0m\n\u001b[1;32m     26\u001b[0m \u001b[0mbase\u001b[0m\u001b[0;34m.\u001b[0m\u001b[0mgeometry\u001b[0m\u001b[0;34m(\u001b[0m\u001b[0;34m\"400x500\"\u001b[0m\u001b[0;34m)\u001b[0m\u001b[0;34m\u001b[0m\u001b[0;34m\u001b[0m\u001b[0m\n",
            "\u001b[0;32m/usr/lib/python3.6/tkinter/__init__.py\u001b[0m in \u001b[0;36m__init__\u001b[0;34m(self, screenName, baseName, className, useTk, sync, use)\u001b[0m\n\u001b[1;32m   2021\u001b[0m                 \u001b[0mbaseName\u001b[0m \u001b[0;34m=\u001b[0m \u001b[0mbaseName\u001b[0m \u001b[0;34m+\u001b[0m \u001b[0mext\u001b[0m\u001b[0;34m\u001b[0m\u001b[0;34m\u001b[0m\u001b[0m\n\u001b[1;32m   2022\u001b[0m         \u001b[0minteractive\u001b[0m \u001b[0;34m=\u001b[0m \u001b[0;36m0\u001b[0m\u001b[0;34m\u001b[0m\u001b[0;34m\u001b[0m\u001b[0m\n\u001b[0;32m-> 2023\u001b[0;31m         \u001b[0mself\u001b[0m\u001b[0;34m.\u001b[0m\u001b[0mtk\u001b[0m \u001b[0;34m=\u001b[0m \u001b[0m_tkinter\u001b[0m\u001b[0;34m.\u001b[0m\u001b[0mcreate\u001b[0m\u001b[0;34m(\u001b[0m\u001b[0mscreenName\u001b[0m\u001b[0;34m,\u001b[0m \u001b[0mbaseName\u001b[0m\u001b[0;34m,\u001b[0m \u001b[0mclassName\u001b[0m\u001b[0;34m,\u001b[0m \u001b[0minteractive\u001b[0m\u001b[0;34m,\u001b[0m \u001b[0mwantobjects\u001b[0m\u001b[0;34m,\u001b[0m \u001b[0museTk\u001b[0m\u001b[0;34m,\u001b[0m \u001b[0msync\u001b[0m\u001b[0;34m,\u001b[0m \u001b[0muse\u001b[0m\u001b[0;34m)\u001b[0m\u001b[0;34m\u001b[0m\u001b[0;34m\u001b[0m\u001b[0m\n\u001b[0m\u001b[1;32m   2024\u001b[0m         \u001b[0;32mif\u001b[0m \u001b[0museTk\u001b[0m\u001b[0;34m:\u001b[0m\u001b[0;34m\u001b[0m\u001b[0;34m\u001b[0m\u001b[0m\n\u001b[1;32m   2025\u001b[0m             \u001b[0mself\u001b[0m\u001b[0;34m.\u001b[0m\u001b[0m_loadtk\u001b[0m\u001b[0;34m(\u001b[0m\u001b[0;34m)\u001b[0m\u001b[0;34m\u001b[0m\u001b[0;34m\u001b[0m\u001b[0m\n",
            "\u001b[0;31mTclError\u001b[0m: no display name and no $DISPLAY environment variable"
          ]
        }
      ]
    },
    {
      "cell_type": "code",
      "metadata": {
        "id": "pEuAGkF-fZaq"
      },
      "source": [
        ""
      ],
      "execution_count": null,
      "outputs": []
    }
  ]
}